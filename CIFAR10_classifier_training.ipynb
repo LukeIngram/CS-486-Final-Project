{
 "cells": [
  {
   "cell_type": "markdown",
   "metadata": {},
   "source": [
    "# **Part 1: Fitting VGG16, MobileNetV2, and ResNet18 to the CFAR-10 Dataset**\n",
    "\n",
    "* CS486: Robust Machine Learning \n",
    "* Drexel University - Spring 2023 \n",
    "* Luke Ingram"
   ]
  },
  {
   "cell_type": "code",
   "execution_count": 9,
   "metadata": {},
   "outputs": [],
   "source": [
    "import os\n",
    "import pickle\n",
    "import copy\n",
    "\n",
    "import torch\n",
    "import torch.nn as nn\n",
    "import torch.optim as optim\n",
    "from torch.utils.data.sampler import SubsetRandomSampler\n",
    "from torch.utils.data import DataLoader\n",
    "import torchvision.transforms as vt\n",
    "from torchvision import datasets\n",
    "from torchsummary import summary\n",
    "\n",
    "from sklearn.model_selection import train_test_split\n",
    "import numpy as np\n",
    "from tqdm import tqdm \n",
    "import matplotlib.pyplot as plt\n",
    "\n",
    "from pytorch_cifar.models import VGG, MobileNetV2, ResNet18"
   ]
  },
  {
   "cell_type": "markdown",
   "metadata": {},
   "source": [
    "We will use three popular image classification models as our test subjects: [VGG16](https://arxiv.org/abs/1409.1556), [MobileNetV2](https://arxiv.org/abs/1801.04381),and [ResNet18](https://arxiv.org/abs/1512.03385). \n",
    "\n",
    "Note: These architectures have been slightly modified to support images of shape (3, 32, 32). See this [repo](https://github.com/kuangliu/pytorch-cifar) for specifics."
   ]
  },
  {
   "cell_type": "markdown",
   "metadata": {},
   "source": [
    "## **Preparing Data**"
   ]
  },
  {
   "cell_type": "code",
   "execution_count": 10,
   "metadata": {},
   "outputs": [],
   "source": [
    "# Hyperparams\n",
    "NUM_CLASSES = 10\n",
    "BATCH_SIZE = 128\n",
    "EPOCHS = 200 \n",
    "DEVICE = torch.device('cuda')\n",
    "SAVES_PATH = os.path.join('models', 'checkpoints', 'classifiers')"
   ]
  },
  {
   "cell_type": "markdown",
   "metadata": {},
   "source": [
    "### Preparing Data"
   ]
  },
  {
   "cell_type": "code",
   "execution_count": 11,
   "metadata": {},
   "outputs": [
    {
     "name": "stderr",
     "output_type": "stream",
     "text": [
      "0.0%"
     ]
    },
    {
     "name": "stdout",
     "output_type": "stream",
     "text": [
      "Downloading https://www.cs.toronto.edu/~kriz/cifar-10-python.tar.gz to ./data/cifar-10-python.tar.gz\n"
     ]
    },
    {
     "name": "stderr",
     "output_type": "stream",
     "text": [
      "100.0%\n"
     ]
    },
    {
     "name": "stdout",
     "output_type": "stream",
     "text": [
      "Extracting ./data/cifar-10-python.tar.gz to ./data\n",
      "Files already downloaded and verified\n"
     ]
    }
   ],
   "source": [
    "# Define training & testing transforms\n",
    "\n",
    "mean = [0.4913997551666284, 0.48215855929893703, 0.4465309133731618]\n",
    "std = [0.24703225141799082, 0.24348516474564, 0.26158783926049628]\n",
    "\n",
    "transform_train = vt.Compose([\n",
    "    vt.RandomCrop(32, padding=4),\n",
    "    vt.RandomHorizontalFlip(),\n",
    "    vt.ToTensor(),\n",
    "    vt.Normalize(mean, std)\n",
    "])\n",
    "\n",
    "# Normalize the test set same as training set without augmentation\n",
    "transform_test = vt.Compose([\n",
    "    vt.ToTensor(),\n",
    "    vt.Normalize(mean, std)\n",
    "])\n",
    "\n",
    "# Fetch & Create train, validation, and testing datasets\n",
    "\n",
    "train_data = datasets.CIFAR10(root='./data', train=True, download=True, transform=transform_train)\n",
    "\n",
    "train_idx, val_idx = train_test_split(np.arange(len(train_data)), test_size=0.2)\n",
    "\n",
    "train_sampler = SubsetRandomSampler(train_idx)\n",
    "val_sampler = SubsetRandomSampler(val_idx)\n",
    "\n",
    "train_loader = DataLoader(\n",
    "    train_data, \n",
    "    batch_size=BATCH_SIZE,\n",
    "    num_workers=4,\n",
    "    sampler= train_sampler\n",
    ")\n",
    "\n",
    "val_loader = DataLoader(\n",
    "    train_data, \n",
    "    batch_size=BATCH_SIZE, \n",
    "    num_workers=4, \n",
    "    sampler=val_sampler\n",
    ")\n",
    "\n",
    "test_data = datasets.CIFAR10(root='./data', train=False, download=True, transform=transform_test)\n",
    "\n",
    "test_loader = DataLoader(test_data, batch_size=BATCH_SIZE, shuffle=False, num_workers=4)"
   ]
  },
  {
   "cell_type": "code",
   "execution_count": 30,
   "metadata": {},
   "outputs": [
    {
     "name": "stdout",
     "output_type": "stream",
     "text": [
      "==> Computing mean and std..\n"
     ]
    },
    {
     "data": {
      "text/plain": [
       "(tensor([-0.0541, -0.0127,  0.0265]), tensor([0.9868, 1.0000, 1.0029]))"
      ]
     },
     "execution_count": 30,
     "metadata": {},
     "output_type": "execute_result"
    }
   ],
   "source": [
    "def get_mean_and_std(dataset):\n",
    "    '''Compute the mean and std value of dataset.'''\n",
    "    dataloader = DataLoader(dataset, batch_size=1, shuffle=True, num_workers=2)\n",
    "    mean = torch.zeros(3)\n",
    "    std = torch.zeros(3)\n",
    "    print('==> Computing mean and std..')\n",
    "    for inputs, _ in dataloader:\n",
    "        for i in range(3):\n",
    "            mean[i] += inputs[:,i,:,:].mean()\n",
    "            std[i] += inputs[:,i,:,:].std()\n",
    "    mean.div_(len(dataset))\n",
    "    std.div_(len(dataset))\n",
    "    return mean, std\n",
    "\n",
    "#get_mean_and_std(train_data)"
   ]
  },
  {
   "cell_type": "code",
   "execution_count": 55,
   "metadata": {},
   "outputs": [
    {
     "name": "stdout",
     "output_type": "stream",
     "text": [
      "Training Dataset Size: 40000\n",
      "Validation Dataset Size: 10000\n",
      "Testing Dataset Size: 10000\n"
     ]
    }
   ],
   "source": [
    "# Validate Sizes\n",
    "print(f'Training Dataset Size: {len(train_sampler)}')\n",
    "print(f'Validation Dataset Size: {len(val_sampler)}')\n",
    "print(f'Testing Dataset Size: {len(test_data)}')"
   ]
  },
  {
   "cell_type": "code",
   "execution_count": 9,
   "metadata": {},
   "outputs": [
    {
     "name": "stdout",
     "output_type": "stream",
     "text": [
      "airplane, automobile, bird, cat, deer, dog, frog, horse, ship, truck, ...\n"
     ]
    }
   ],
   "source": [
    "# Fetch Class labels from metadata \n",
    "\n",
    "labelType = b'label_names'\n",
    "\n",
    "meta_file = os.path.join(\"data\", \"cifar-10-batches-py\", \"batches.meta\")\n",
    "\n",
    "with open(meta_file, 'rb') as f:\n",
    "    meta_data = pickle.load(f, encoding='bytes')\n",
    "    # Extract label names\n",
    "    label_names = [label.decode('utf-8') for label in meta_data[labelType]]\n",
    "    f.close()\n",
    "\n",
    "print(*label_names[:11], '...', sep=', ')"
   ]
  },
  {
   "cell_type": "code",
   "execution_count": 21,
   "metadata": {},
   "outputs": [
    {
     "data": {
      "image/png": "[encoded data removed]",
      "text/plain": [
       "<Figure size 900x300 with 3 Axes>"
      ]
     },
     "metadata": {},
     "output_type": "display_data"
    }
   ],
   "source": [
    "# Preview samples from dataset\n",
    "def imshow(imgs, labels):\n",
    "    num_images = 3\n",
    "    fig, axes = plt.subplots(1, num_images, figsize=(num_images * 3, 3))\n",
    "    \n",
    "    for i in range(num_images):\n",
    "        ax = axes[i]\n",
    "        img = imgs[i]\n",
    "        for j in range(3): # unnormalize\n",
    "            img[j] = img[j] * std[j] + mean[j] \n",
    "        npimg = img.numpy()\n",
    "        ax.imshow(np.transpose(npimg, (1, 2, 0)))\n",
    "        ax.set_title(train_data.classes[labels[i]])\n",
    "        ax.axis('off')\n",
    "    \n",
    "    plt.show()\n",
    "\n",
    "dataiter = iter(train_loader)\n",
    "images, labels = next(dataiter)\n",
    "\n",
    "# Display each image with its corresponding label\n",
    "imshow(images[:3], labels[:3])"
   ]
  },
  {
   "cell_type": "markdown",
   "metadata": {},
   "source": [
    "## **Training, Evaluation, and Plotting Routines**"
   ]
  },
  {
   "cell_type": "code",
   "execution_count": 46,
   "metadata": {},
   "outputs": [],
   "source": [
    "def train_model(model: nn.Module, device: torch.device, save_name: str, learning_rate: float): \n",
    "\n",
    "    criterion = nn.CrossEntropyLoss()\n",
    "    optimizer = optim.SGD(model.parameters(), lr=learning_rate, momentum=0.9, weight_decay=5e-4)\n",
    "    scaler = torch.cuda.amp.GradScaler()\n",
    "    scheduler = optim.lr_scheduler.CosineAnnealingLR(optimizer, T_max=200)\n",
    "\n",
    "    train_loss = []\n",
    "    train_acc = []\n",
    "    val_loss = []\n",
    "    val_acc = []\n",
    "\n",
    "    best_acc = 0.0 \n",
    "\n",
    "    for epoch in range(EPOCHS): \n",
    "\n",
    "        sample_cnt = 0\n",
    "        epoch_loss = 0.0\n",
    "        correct_cnt = 0\n",
    "\n",
    "        with tqdm(train_loader, desc=f\"Epoch {epoch+1}/{EPOCHS} : training Loss 0\") as pbar:\n",
    "            \n",
    "            model.train()\n",
    "            \n",
    "            for _, (inputs, labels) in enumerate(train_loader):\n",
    "\n",
    "                inputs, labels = inputs.to(device), labels.to(device)\n",
    "\n",
    "                optimizer.zero_grad()\n",
    "                with torch.autocast(device.type):\n",
    "                    outs = model(inputs)\n",
    "                    loss = criterion(outs, labels)\n",
    "\n",
    "                    _, preds = torch.max(outs, 1)\n",
    "\n",
    "                    optimizer.step()\n",
    "\n",
    "                    epoch_loss += loss.item()\n",
    "                    correct_cnt += torch.sum(preds == labels.data)\n",
    "                    sample_cnt += inputs.size(0)\n",
    "                \n",
    "                scaler.scale(loss).backward()\n",
    "\n",
    "                pbar.update(1)\n",
    "                pbar.set_description(f\"Epoch {epoch+1}/{EPOCHS} : training Loss {round(epoch_loss/sample_cnt, 6)}\")\n",
    "        \n",
    "        epoch_loss /= sample_cnt\n",
    "        epoch_acc = correct_cnt.double().cpu() / sample_cnt\n",
    "\n",
    "        train_loss.append(epoch_loss)\n",
    "        train_acc.append(epoch_acc)\n",
    "\n",
    "        epoch_val_loss, epoch_val_acc = evaluate(model, criterion, device, val_loader, epoch)\n",
    "        val_loss.append(epoch_val_loss)\n",
    "        val_acc.append(epoch_val_acc)\n",
    "\n",
    "        scheduler.step()\n",
    "\n",
    "        # Checkpointing (Deepcopy)\n",
    "        if epoch_val_acc > best_acc:\n",
    "            print(\"saving best model val_acc : {:.4f}\".format(epoch_val_acc))\n",
    "            best_acc = epoch_val_acc\n",
    "            \n",
    "            model_copy = copy.deepcopy(model)\n",
    "            model_copy = model_copy.cpu()\n",
    "            \n",
    "            model_state_dict = model_copy.state_dict()\n",
    "            torch.save(model_state_dict, os.path.join(SAVES_PATH, save_name+'.pth'))\n",
    "\n",
    "            del model_copy\n",
    "    \n",
    "    return [train_loss, train_acc, val_loss, val_acc]\n",
    "\n",
    "            \n",
    "\n",
    "\n",
    "def evaluate(model: nn.Module, criterion: nn.Module, device: torch.device, loader: DataLoader, epoch: int): \n",
    "\n",
    "    model.eval() \n",
    "\n",
    "    val_loss = 0.0\n",
    "    correct_cnt = 0\n",
    "    sample_cnt = 0\n",
    "\n",
    "    with tqdm(loader,desc=f'Epoch {epoch+1}/{EPOCHS} : val Loss 0') as pbar:\n",
    "\n",
    "        for _, (inputs, labels) in enumerate(loader): \n",
    "\n",
    "            inputs, labels = inputs.to(device), labels.to(device)\n",
    "\n",
    "            outputs = model(inputs)\n",
    "            loss = criterion(outputs, labels)\n",
    "\n",
    "            _, preds = torch.max(outputs, 1)\n",
    "            \n",
    "            val_loss += loss.item()\n",
    "            correct_cnt += torch.sum(preds == labels.data)\n",
    "            sample_cnt += inputs.size(0)\n",
    "\n",
    "            pbar.update(1) \n",
    "            pbar.set_description(f'Epoch {epoch+1}/{EPOCHS} : val Loss {round(val_loss/sample_cnt, 6)}')\n",
    "        \n",
    "        val_loss /= sample_cnt\n",
    "        val_acc = correct_cnt.double().cpu() / sample_cnt\n",
    "\n",
    "    return val_loss, val_acc\n",
    "\n",
    "            \n",
    "\n",
    "def training_summary(train_loss, train_acc, val_loss, val_acc): \n",
    "    fig, (ax1, ax2) = plt.subplots(1, 2, figsize=(12, 5))\n",
    "\n",
    "    # Plot training and validation losses\n",
    "    ax1.plot(train_loss, label='Training Loss')\n",
    "    ax1.plot(val_loss, label='Validation Loss')\n",
    "    ax1.set_title('Training and Validation Loss')\n",
    "    ax1.set_xlabel('Epochs')\n",
    "    ax1.set_ylabel('Loss')\n",
    "    ax1.legend()\n",
    "\n",
    "    # Plot training and validation accuracies\n",
    "    ax2.plot(train_acc, label='Training Accuracy')\n",
    "    ax2.plot(val_acc, label='Validation Accuracy')\n",
    "    ax2.set_title('Training and Validation Accuracy')\n",
    "    ax2.set_xlabel('Epochs')\n",
    "    ax2.set_ylabel('Accuracy')\n",
    "    ax2.legend()\n",
    "\n",
    "    # Show the plots\n",
    "    plt.show()\n",
    "    "
   ]
  },
  {
   "cell_type": "markdown",
   "metadata": {},
   "source": [
    "## **VGG16**"
   ]
  },
  {
   "cell_type": "code",
   "execution_count": 47,
   "metadata": {},
   "outputs": [
    {
     "name": "stdout",
     "output_type": "stream",
     "text": [
      "----------------------------------------------------------------\n",
      "        Layer (type)               Output Shape         Param #\n",
      "================================================================\n",
      "            Conv2d-1           [-1, 64, 32, 32]           1,792\n",
      "       BatchNorm2d-2           [-1, 64, 32, 32]             128\n",
      "              ReLU-3           [-1, 64, 32, 32]               0\n",
      "            Conv2d-4           [-1, 64, 32, 32]          36,928\n",
      "       BatchNorm2d-5           [-1, 64, 32, 32]             128\n",
      "              ReLU-6           [-1, 64, 32, 32]               0\n",
      "         MaxPool2d-7           [-1, 64, 16, 16]               0\n",
      "            Conv2d-8          [-1, 128, 16, 16]          73,856\n",
      "       BatchNorm2d-9          [-1, 128, 16, 16]             256\n",
      "             ReLU-10          [-1, 128, 16, 16]               0\n",
      "           Conv2d-11          [-1, 128, 16, 16]         147,584\n",
      "      BatchNorm2d-12          [-1, 128, 16, 16]             256\n",
      "             ReLU-13          [-1, 128, 16, 16]               0\n",
      "        MaxPool2d-14            [-1, 128, 8, 8]               0\n",
      "           Conv2d-15            [-1, 256, 8, 8]         295,168\n",
      "      BatchNorm2d-16            [-1, 256, 8, 8]             512\n",
      "             ReLU-17            [-1, 256, 8, 8]               0\n",
      "           Conv2d-18            [-1, 256, 8, 8]         590,080\n",
      "      BatchNorm2d-19            [-1, 256, 8, 8]             512\n",
      "             ReLU-20            [-1, 256, 8, 8]               0\n",
      "           Conv2d-21            [-1, 256, 8, 8]         590,080\n",
      "      BatchNorm2d-22            [-1, 256, 8, 8]             512\n",
      "             ReLU-23            [-1, 256, 8, 8]               0\n",
      "        MaxPool2d-24            [-1, 256, 4, 4]               0\n",
      "           Conv2d-25            [-1, 512, 4, 4]       1,180,160\n",
      "      BatchNorm2d-26            [-1, 512, 4, 4]           1,024\n",
      "             ReLU-27            [-1, 512, 4, 4]               0\n",
      "           Conv2d-28            [-1, 512, 4, 4]       2,359,808\n",
      "      BatchNorm2d-29            [-1, 512, 4, 4]           1,024\n",
      "             ReLU-30            [-1, 512, 4, 4]               0\n",
      "           Conv2d-31            [-1, 512, 4, 4]       2,359,808\n",
      "      BatchNorm2d-32            [-1, 512, 4, 4]           1,024\n",
      "             ReLU-33            [-1, 512, 4, 4]               0\n",
      "        MaxPool2d-34            [-1, 512, 2, 2]               0\n",
      "           Conv2d-35            [-1, 512, 2, 2]       2,359,808\n",
      "      BatchNorm2d-36            [-1, 512, 2, 2]           1,024\n",
      "             ReLU-37            [-1, 512, 2, 2]               0\n",
      "           Conv2d-38            [-1, 512, 2, 2]       2,359,808\n",
      "      BatchNorm2d-39            [-1, 512, 2, 2]           1,024\n",
      "             ReLU-40            [-1, 512, 2, 2]               0\n",
      "           Conv2d-41            [-1, 512, 2, 2]       2,359,808\n",
      "      BatchNorm2d-42            [-1, 512, 2, 2]           1,024\n",
      "             ReLU-43            [-1, 512, 2, 2]               0\n",
      "        MaxPool2d-44            [-1, 512, 1, 1]               0\n",
      "        AvgPool2d-45            [-1, 512, 1, 1]               0\n",
      "           Linear-46                   [-1, 10]           5,130\n",
      "================================================================\n",
      "Total params: 14,728,266\n",
      "Trainable params: 14,728,266\n",
      "Non-trainable params: 0\n",
      "----------------------------------------------------------------\n",
      "Input size (MB): 0.01\n",
      "Forward/backward pass size (MB): 6.57\n",
      "Params size (MB): 56.18\n",
      "Estimated Total Size (MB): 62.77\n",
      "----------------------------------------------------------------\n"
     ]
    },
    {
     "name": "stderr",
     "output_type": "stream",
     "text": [
      "Epoch 1/200 : training Loss 0.020781: 100%|██████████| 313/313 [00:15<00:00, 20.20it/s]\n",
      "Epoch 1/200 : val Loss 0.017954: 100%|██████████| 79/79 [00:09<00:00,  7.94it/s]\n"
     ]
    },
    {
     "name": "stdout",
     "output_type": "stream",
     "text": [
      "saving best model val_acc : 0.1257\n"
     ]
    },
    {
     "name": "stderr",
     "output_type": "stream",
     "text": [
      "Epoch 2/200 : training Loss 0.017713: 100%|██████████| 313/313 [00:15<00:00, 20.42it/s]\n",
      "Epoch 2/200 : val Loss 0.017715: 100%|██████████| 79/79 [00:09<00:00,  7.99it/s]\n"
     ]
    },
    {
     "name": "stdout",
     "output_type": "stream",
     "text": [
      "saving best model val_acc : 0.1497\n"
     ]
    },
    {
     "name": "stderr",
     "output_type": "stream",
     "text": [
      "Epoch 3/200 : training Loss 0.016966: 100%|██████████| 313/313 [00:15<00:00, 20.29it/s]\n",
      "Epoch 3/200 : val Loss 0.016205: 100%|██████████| 79/79 [00:09<00:00,  7.98it/s]\n"
     ]
    },
    {
     "name": "stdout",
     "output_type": "stream",
     "text": [
      "saving best model val_acc : 0.1980\n"
     ]
    },
    {
     "name": "stderr",
     "output_type": "stream",
     "text": [
      "Epoch 4/200 : training Loss 0.015188: 100%|██████████| 313/313 [00:15<00:00, 20.31it/s]\n",
      "Epoch 4/200 : val Loss 0.01563: 100%|██████████| 79/79 [00:09<00:00,  7.97it/s] \n"
     ]
    },
    {
     "name": "stdout",
     "output_type": "stream",
     "text": [
      "saving best model val_acc : 0.2477\n"
     ]
    },
    {
     "name": "stderr",
     "output_type": "stream",
     "text": [
      "Epoch 5/200 : training Loss 0.014282: 100%|██████████| 313/313 [00:15<00:00, 20.02it/s]\n",
      "Epoch 5/200 : val Loss 0.014495: 100%|██████████| 79/79 [00:10<00:00,  7.84it/s]\n"
     ]
    },
    {
     "name": "stdout",
     "output_type": "stream",
     "text": [
      "saving best model val_acc : 0.2781\n"
     ]
    },
    {
     "name": "stderr",
     "output_type": "stream",
     "text": [
      "Epoch 6/200 : training Loss 0.013618: 100%|██████████| 313/313 [00:15<00:00, 20.20it/s]\n",
      "Epoch 6/200 : val Loss 0.01579: 100%|██████████| 79/79 [00:09<00:00,  7.97it/s] \n",
      "Epoch 7/200 : training Loss 0.012316: 100%|██████████| 313/313 [00:15<00:00, 20.16it/s]\n",
      "Epoch 7/200 : val Loss 0.021723: 100%|██████████| 79/79 [00:10<00:00,  7.88it/s]\n",
      "Epoch 8/200 : training Loss 0.010954: 100%|██████████| 313/313 [00:15<00:00, 19.66it/s]\n",
      "Epoch 8/200 : val Loss 0.013681: 100%|██████████| 79/79 [00:09<00:00,  8.01it/s]\n"
     ]
    },
    {
     "name": "stdout",
     "output_type": "stream",
     "text": [
      "saving best model val_acc : 0.3840\n"
     ]
    },
    {
     "name": "stderr",
     "output_type": "stream",
     "text": [
      "Epoch 9/200 : training Loss 0.009511: 100%|██████████| 313/313 [00:15<00:00, 20.29it/s]\n",
      "Epoch 9/200 : val Loss 0.011217: 100%|██████████| 79/79 [00:10<00:00,  7.67it/s]\n"
     ]
    },
    {
     "name": "stdout",
     "output_type": "stream",
     "text": [
      "saving best model val_acc : 0.5018\n"
     ]
    },
    {
     "name": "stderr",
     "output_type": "stream",
     "text": [
      "Epoch 10/200 : training Loss 0.008287: 100%|██████████| 313/313 [00:15<00:00, 20.07it/s]\n",
      "Epoch 10/200 : val Loss 0.010776: 100%|██████████| 79/79 [00:09<00:00,  7.95it/s]\n"
     ]
    },
    {
     "name": "stdout",
     "output_type": "stream",
     "text": [
      "saving best model val_acc : 0.5147\n"
     ]
    },
    {
     "name": "stderr",
     "output_type": "stream",
     "text": [
      "Epoch 11/200 : training Loss 0.007339: 100%|██████████| 313/313 [00:15<00:00, 20.28it/s]\n",
      "Epoch 11/200 : val Loss 0.010192: 100%|██████████| 79/79 [00:09<00:00,  7.97it/s]\n"
     ]
    },
    {
     "name": "stdout",
     "output_type": "stream",
     "text": [
      "saving best model val_acc : 0.5666\n"
     ]
    },
    {
     "name": "stderr",
     "output_type": "stream",
     "text": [
      "Epoch 12/200 : training Loss 0.006833: 100%|██████████| 313/313 [00:15<00:00, 20.31it/s]\n",
      "Epoch 12/200 : val Loss 0.009126: 100%|██████████| 79/79 [00:09<00:00,  7.97it/s]\n"
     ]
    },
    {
     "name": "stdout",
     "output_type": "stream",
     "text": [
      "saving best model val_acc : 0.6050\n"
     ]
    },
    {
     "name": "stderr",
     "output_type": "stream",
     "text": [
      "Epoch 13/200 : training Loss 0.006261: 100%|██████████| 313/313 [00:15<00:00, 20.32it/s]\n",
      "Epoch 13/200 : val Loss 0.008823: 100%|██████████| 79/79 [00:09<00:00,  7.96it/s]\n"
     ]
    },
    {
     "name": "stdout",
     "output_type": "stream",
     "text": [
      "saving best model val_acc : 0.6441\n"
     ]
    },
    {
     "name": "stderr",
     "output_type": "stream",
     "text": [
      "Epoch 14/200 : training Loss 0.005802: 100%|██████████| 313/313 [00:15<00:00, 20.31it/s]\n",
      "Epoch 14/200 : val Loss 0.010164: 100%|██████████| 79/79 [00:09<00:00,  7.96it/s]\n",
      "Epoch 15/200 : training Loss 0.005591: 100%|██████████| 313/313 [00:15<00:00, 20.49it/s]\n",
      "Epoch 15/200 : val Loss 0.007637: 100%|██████████| 79/79 [00:09<00:00,  7.98it/s]\n"
     ]
    },
    {
     "name": "stdout",
     "output_type": "stream",
     "text": [
      "saving best model val_acc : 0.6688\n"
     ]
    },
    {
     "name": "stderr",
     "output_type": "stream",
     "text": [
      "Epoch 16/200 : training Loss 0.005326: 100%|██████████| 313/313 [00:15<00:00, 20.31it/s]\n",
      "Epoch 16/200 : val Loss 0.00573: 100%|██████████| 79/79 [00:09<00:00,  7.96it/s] \n"
     ]
    },
    {
     "name": "stdout",
     "output_type": "stream",
     "text": [
      "saving best model val_acc : 0.7646\n"
     ]
    },
    {
     "name": "stderr",
     "output_type": "stream",
     "text": [
      "Epoch 17/200 : training Loss 0.005089: 100%|██████████| 313/313 [00:15<00:00, 20.30it/s]\n",
      "Epoch 17/200 : val Loss 0.007424: 100%|██████████| 79/79 [00:09<00:00,  7.94it/s]\n",
      "Epoch 18/200 : training Loss 0.004955: 100%|██████████| 313/313 [00:15<00:00, 20.30it/s]\n",
      "Epoch 18/200 : val Loss 0.007533: 100%|██████████| 79/79 [00:09<00:00,  7.92it/s]\n",
      "Epoch 19/200 : training Loss 0.004855: 100%|██████████| 313/313 [00:15<00:00, 20.26it/s]\n",
      "Epoch 19/200 : val Loss 0.006911: 100%|██████████| 79/79 [00:09<00:00,  7.96it/s]\n",
      "Epoch 20/200 : training Loss 0.004682: 100%|██████████| 313/313 [00:15<00:00, 20.26it/s]\n",
      "Epoch 20/200 : val Loss 0.008065: 100%|██████████| 79/79 [00:09<00:00,  7.95it/s]\n",
      "Epoch 21/200 : training Loss 0.0046: 100%|██████████| 313/313 [00:15<00:00, 20.47it/s]  \n",
      "Epoch 21/200 : val Loss 0.007741: 100%|██████████| 79/79 [00:09<00:00,  7.99it/s]\n",
      "Epoch 22/200 : training Loss 0.004494: 100%|██████████| 313/313 [00:15<00:00, 20.49it/s]\n",
      "Epoch 22/200 : val Loss 0.005813: 100%|██████████| 79/79 [00:09<00:00,  7.98it/s]\n",
      "Epoch 23/200 : training Loss 0.004361: 100%|██████████| 313/313 [00:15<00:00, 20.21it/s]\n",
      "Epoch 23/200 : val Loss 0.005885: 100%|██████████| 79/79 [00:09<00:00,  7.98it/s]\n",
      "Epoch 24/200 : training Loss 0.004206: 100%|██████████| 313/313 [00:15<00:00, 20.11it/s]\n",
      "Epoch 24/200 : val Loss 0.008552: 100%|██████████| 79/79 [00:10<00:00,  7.89it/s]\n",
      "Epoch 25/200 : training Loss 0.004184: 100%|██████████| 313/313 [00:15<00:00, 20.20it/s]\n",
      "Epoch 25/200 : val Loss 0.006923: 100%|██████████| 79/79 [00:09<00:00,  7.98it/s]\n",
      "Epoch 26/200 : training Loss 0.004138: 100%|██████████| 313/313 [00:15<00:00, 20.22it/s]\n",
      "Epoch 26/200 : val Loss 0.00653: 100%|██████████| 79/79 [00:09<00:00,  7.98it/s] \n",
      "Epoch 27/200 : training Loss 0.004036: 100%|██████████| 313/313 [00:15<00:00, 20.09it/s]\n",
      "Epoch 27/200 : val Loss 0.006965: 100%|██████████| 79/79 [00:10<00:00,  7.87it/s]\n",
      "Epoch 28/200 : training Loss 0.004023: 100%|██████████| 313/313 [00:15<00:00, 20.15it/s]\n",
      "Epoch 28/200 : val Loss 0.005914: 100%|██████████| 79/79 [00:09<00:00,  8.02it/s]\n"
     ]
    },
    {
     "name": "stdout",
     "output_type": "stream",
     "text": [
      "saving best model val_acc : 0.7677\n"
     ]
    },
    {
     "name": "stderr",
     "output_type": "stream",
     "text": [
      "Epoch 29/200 : training Loss 0.003905: 100%|██████████| 313/313 [00:15<00:00, 20.30it/s]\n",
      "Epoch 29/200 : val Loss 0.005317: 100%|██████████| 79/79 [00:09<00:00,  7.95it/s]\n"
     ]
    },
    {
     "name": "stdout",
     "output_type": "stream",
     "text": [
      "saving best model val_acc : 0.7760\n"
     ]
    },
    {
     "name": "stderr",
     "output_type": "stream",
     "text": [
      "Epoch 30/200 : training Loss 0.003821: 100%|██████████| 313/313 [00:15<00:00, 20.04it/s]\n",
      "Epoch 30/200 : val Loss 0.005045: 100%|██████████| 79/79 [00:09<00:00,  7.98it/s]\n"
     ]
    },
    {
     "name": "stdout",
     "output_type": "stream",
     "text": [
      "saving best model val_acc : 0.7854\n"
     ]
    },
    {
     "name": "stderr",
     "output_type": "stream",
     "text": [
      "Epoch 31/200 : training Loss 0.003741: 100%|██████████| 313/313 [00:15<00:00, 20.24it/s]\n",
      "Epoch 31/200 : val Loss 0.005371: 100%|██████████| 79/79 [00:09<00:00,  7.99it/s]\n",
      "Epoch 32/200 : training Loss 0.003706: 100%|██████████| 313/313 [00:15<00:00, 20.24it/s]\n",
      "Epoch 32/200 : val Loss 0.004747: 100%|██████████| 79/79 [00:09<00:00,  7.99it/s]\n"
     ]
    },
    {
     "name": "stdout",
     "output_type": "stream",
     "text": [
      "saving best model val_acc : 0.7967\n"
     ]
    },
    {
     "name": "stderr",
     "output_type": "stream",
     "text": [
      "Epoch 33/200 : training Loss 0.003687: 100%|██████████| 313/313 [00:15<00:00, 20.13it/s]\n",
      "Epoch 33/200 : val Loss 0.006751: 100%|██████████| 79/79 [00:09<00:00,  7.91it/s]\n",
      "Epoch 34/200 : training Loss 0.003637: 100%|██████████| 313/313 [00:15<00:00, 20.16it/s]\n",
      "Epoch 34/200 : val Loss 0.008285: 100%|██████████| 79/79 [00:09<00:00,  8.01it/s]\n",
      "Epoch 35/200 : training Loss 0.003603: 100%|██████████| 313/313 [00:15<00:00, 20.15it/s]\n",
      "Epoch 35/200 : val Loss 0.007981: 100%|██████████| 79/79 [00:10<00:00,  7.86it/s]\n",
      "Epoch 36/200 : training Loss 0.003566: 100%|██████████| 313/313 [00:15<00:00, 20.19it/s]\n",
      "Epoch 36/200 : val Loss 0.005962: 100%|██████████| 79/79 [00:09<00:00,  8.00it/s]\n",
      "Epoch 37/200 : training Loss 0.003536: 100%|██████████| 313/313 [00:15<00:00, 20.19it/s]\n",
      "Epoch 37/200 : val Loss 0.006221: 100%|██████████| 79/79 [00:09<00:00,  7.99it/s]\n",
      "Epoch 38/200 : training Loss 0.003476: 100%|██████████| 313/313 [00:15<00:00, 20.08it/s]\n",
      "Epoch 38/200 : val Loss 0.00809: 100%|██████████| 79/79 [00:10<00:00,  7.86it/s] \n",
      "Epoch 39/200 : training Loss 0.003453: 100%|██████████| 313/313 [00:15<00:00, 20.25it/s]\n",
      "Epoch 39/200 : val Loss 0.005529: 100%|██████████| 79/79 [00:09<00:00,  7.98it/s]\n",
      "Epoch 40/200 : training Loss 0.003451: 100%|██████████| 313/313 [00:15<00:00, 20.10it/s]\n",
      "Epoch 40/200 : val Loss 0.007323: 100%|██████████| 79/79 [00:09<00:00,  8.05it/s]\n",
      "Epoch 41/200 : training Loss 0.003384: 100%|██████████| 313/313 [00:15<00:00, 20.13it/s]\n",
      "Epoch 41/200 : val Loss 0.010461: 100%|██████████| 79/79 [00:10<00:00,  7.87it/s]\n",
      "Epoch 42/200 : training Loss 0.003279: 100%|██████████| 313/313 [00:15<00:00, 20.13it/s]\n",
      "Epoch 42/200 : val Loss 0.00658: 100%|██████████| 79/79 [00:09<00:00,  8.03it/s] \n",
      "Epoch 43/200 : training Loss 0.003311: 100%|██████████| 313/313 [00:15<00:00, 20.13it/s]\n",
      "Epoch 43/200 : val Loss 0.006345: 100%|██████████| 79/79 [00:09<00:00,  8.03it/s]\n",
      "Epoch 44/200 : training Loss 0.003257: 100%|██████████| 313/313 [00:15<00:00, 20.19it/s]\n",
      "Epoch 44/200 : val Loss 0.006293: 100%|██████████| 79/79 [00:09<00:00,  7.98it/s]\n",
      "Epoch 45/200 : training Loss 0.003273: 100%|██████████| 313/313 [00:15<00:00, 20.17it/s]\n",
      "Epoch 45/200 : val Loss 0.00793: 100%|██████████| 79/79 [00:10<00:00,  7.83it/s] \n",
      "Epoch 46/200 : training Loss 0.003187: 100%|██████████| 313/313 [00:15<00:00, 19.96it/s]\n",
      "Epoch 46/200 : val Loss 0.00534: 100%|██████████| 79/79 [00:10<00:00,  7.82it/s] \n",
      "Epoch 47/200 : training Loss 0.003169: 100%|██████████| 313/313 [00:15<00:00, 19.98it/s]\n",
      "Epoch 47/200 : val Loss 0.005245: 100%|██████████| 79/79 [00:09<00:00,  8.18it/s]\n",
      "Epoch 48/200 : training Loss 0.003118: 100%|██████████| 313/313 [00:15<00:00, 20.46it/s]\n",
      "Epoch 48/200 : val Loss 0.007638: 100%|██████████| 79/79 [00:09<00:00,  8.14it/s]\n",
      "Epoch 49/200 : training Loss 0.003116: 100%|██████████| 313/313 [00:15<00:00, 20.75it/s]\n",
      "Epoch 49/200 : val Loss 0.008427: 100%|██████████| 79/79 [00:09<00:00,  8.15it/s]\n",
      "Epoch 50/200 : training Loss 0.003077: 100%|██████████| 313/313 [00:15<00:00, 20.48it/s]\n",
      "Epoch 50/200 : val Loss 0.005968: 100%|██████████| 79/79 [00:09<00:00,  8.13it/s]\n",
      "Epoch 51/200 : training Loss 0.003047: 100%|██████████| 313/313 [00:15<00:00, 20.49it/s]\n",
      "Epoch 51/200 : val Loss 0.005685: 100%|██████████| 79/79 [00:09<00:00,  8.11it/s]\n",
      "Epoch 52/200 : training Loss 0.00303: 100%|██████████| 313/313 [00:15<00:00, 20.00it/s] \n",
      "Epoch 52/200 : val Loss 0.007245: 100%|██████████| 79/79 [00:09<00:00,  8.15it/s]\n",
      "Epoch 53/200 : training Loss 0.003043: 100%|██████████| 313/313 [00:15<00:00, 20.46it/s]\n",
      "Epoch 53/200 : val Loss 0.005149: 100%|██████████| 79/79 [00:09<00:00,  8.16it/s]\n",
      "Epoch 54/200 : training Loss 0.003037: 100%|██████████| 313/313 [00:15<00:00, 20.43it/s]\n",
      "Epoch 54/200 : val Loss 0.006882: 100%|██████████| 79/79 [00:09<00:00,  8.16it/s]\n",
      "Epoch 55/200 : training Loss 0.002916: 100%|██████████| 313/313 [00:15<00:00, 20.46it/s]\n",
      "Epoch 55/200 : val Loss 0.00602: 100%|██████████| 79/79 [00:10<00:00,  7.83it/s] \n",
      "Epoch 56/200 : training Loss 0.003003: 100%|██████████| 313/313 [00:15<00:00, 20.09it/s]\n",
      "Epoch 56/200 : val Loss 0.004892: 100%|██████████| 79/79 [00:10<00:00,  7.89it/s]\n",
      "Epoch 57/200 : training Loss 0.002902: 100%|██████████| 313/313 [00:15<00:00, 20.32it/s]\n",
      "Epoch 57/200 : val Loss 0.004427: 100%|██████████| 79/79 [00:09<00:00,  8.09it/s]\n"
     ]
    },
    {
     "name": "stdout",
     "output_type": "stream",
     "text": [
      "saving best model val_acc : 0.8130\n"
     ]
    },
    {
     "name": "stderr",
     "output_type": "stream",
     "text": [
      "Epoch 58/200 : training Loss 0.002945: 100%|██████████| 313/313 [00:15<00:00, 20.28it/s]\n",
      "Epoch 58/200 : val Loss 0.00601: 100%|██████████| 79/79 [00:09<00:00,  8.15it/s] \n",
      "Epoch 59/200 : training Loss 0.002849: 100%|██████████| 313/313 [00:15<00:00, 20.51it/s]\n",
      "Epoch 59/200 : val Loss 0.007057: 100%|██████████| 79/79 [00:09<00:00,  8.12it/s]\n",
      "Epoch 60/200 : training Loss 0.002849: 100%|██████████| 313/313 [00:15<00:00, 20.82it/s]\n",
      "Epoch 60/200 : val Loss 0.004751: 100%|██████████| 79/79 [00:09<00:00,  8.12it/s]\n",
      "Epoch 61/200 : training Loss 0.002848: 100%|██████████| 313/313 [00:15<00:00, 19.81it/s]\n",
      "Epoch 61/200 : val Loss 0.006895: 100%|██████████| 79/79 [00:10<00:00,  7.83it/s]\n",
      "Epoch 62/200 : training Loss 0.002867: 100%|██████████| 313/313 [00:15<00:00, 20.52it/s]\n",
      "Epoch 62/200 : val Loss 0.006548: 100%|██████████| 79/79 [00:09<00:00,  8.14it/s]\n",
      "Epoch 63/200 : training Loss 0.002766: 100%|██████████| 313/313 [00:15<00:00, 20.49it/s]\n",
      "Epoch 63/200 : val Loss 0.003967: 100%|██████████| 79/79 [00:09<00:00,  8.14it/s]\n"
     ]
    },
    {
     "name": "stdout",
     "output_type": "stream",
     "text": [
      "saving best model val_acc : 0.8359\n"
     ]
    },
    {
     "name": "stderr",
     "output_type": "stream",
     "text": [
      "Epoch 64/200 : training Loss 0.002737: 100%|██████████| 313/313 [00:15<00:00, 20.25it/s]\n",
      "Epoch 64/200 : val Loss 0.005066: 100%|██████████| 79/79 [00:09<00:00,  8.19it/s]\n",
      "Epoch 65/200 : training Loss 0.002711: 100%|██████████| 313/313 [00:15<00:00, 20.49it/s]\n",
      "Epoch 65/200 : val Loss 0.004904: 100%|██████████| 79/79 [00:09<00:00,  8.27it/s]\n",
      "Epoch 66/200 : training Loss 0.002664: 100%|██████████| 313/313 [00:15<00:00, 20.56it/s]\n",
      "Epoch 66/200 : val Loss 0.005714: 100%|██████████| 79/79 [00:09<00:00,  8.13it/s]\n",
      "Epoch 67/200 : training Loss 0.002708: 100%|██████████| 313/313 [00:15<00:00, 20.78it/s]\n",
      "Epoch 67/200 : val Loss 0.005632: 100%|██████████| 79/79 [00:09<00:00,  8.11it/s]\n",
      "Epoch 68/200 : training Loss 0.002634: 100%|██████████| 313/313 [00:15<00:00, 20.51it/s]\n",
      "Epoch 68/200 : val Loss 0.005997: 100%|██████████| 79/79 [00:09<00:00,  8.13it/s]\n",
      "Epoch 69/200 : training Loss 0.002675: 100%|██████████| 313/313 [00:15<00:00, 20.76it/s]\n",
      "Epoch 69/200 : val Loss 0.004674: 100%|██████████| 79/79 [00:09<00:00,  8.13it/s]\n",
      "Epoch 70/200 : training Loss 0.002584: 100%|██████████| 313/313 [00:15<00:00, 20.47it/s]\n",
      "Epoch 70/200 : val Loss 0.004731: 100%|██████████| 79/79 [00:09<00:00,  8.16it/s]\n",
      "Epoch 71/200 : training Loss 0.002612: 100%|██████████| 313/313 [00:15<00:00, 20.45it/s]\n",
      "Epoch 71/200 : val Loss 0.004283: 100%|██████████| 79/79 [00:09<00:00,  8.14it/s]\n",
      "Epoch 72/200 : training Loss 0.002622: 100%|██████████| 313/313 [00:15<00:00, 20.56it/s]\n",
      "Epoch 72/200 : val Loss 0.006267: 100%|██████████| 79/79 [00:09<00:00,  8.09it/s]\n",
      "Epoch 73/200 : training Loss 0.002498: 100%|██████████| 313/313 [00:15<00:00, 20.53it/s]\n",
      "Epoch 73/200 : val Loss 0.005748: 100%|██████████| 79/79 [00:09<00:00,  8.29it/s]\n",
      "Epoch 74/200 : training Loss 0.00251: 100%|██████████| 313/313 [00:15<00:00, 20.22it/s] \n",
      "Epoch 74/200 : val Loss 0.006403: 100%|██████████| 79/79 [00:09<00:00,  8.13it/s]\n",
      "Epoch 75/200 : training Loss 0.002443: 100%|██████████| 313/313 [00:15<00:00, 20.75it/s]\n",
      "Epoch 75/200 : val Loss 0.004188: 100%|██████████| 79/79 [00:09<00:00,  8.14it/s]\n",
      "Epoch 76/200 : training Loss 0.002389: 100%|██████████| 313/313 [00:15<00:00, 20.68it/s]\n",
      "Epoch 76/200 : val Loss 0.004274: 100%|██████████| 79/79 [00:10<00:00,  7.67it/s]\n",
      "Epoch 77/200 : training Loss 0.002422: 100%|██████████| 313/313 [00:16<00:00, 19.32it/s]\n",
      "Epoch 77/200 : val Loss 0.004384: 100%|██████████| 79/79 [00:10<00:00,  7.47it/s]\n",
      "Epoch 78/200 : training Loss 0.002432: 100%|██████████| 313/313 [00:16<00:00, 19.37it/s]\n",
      "Epoch 78/200 : val Loss 0.006251: 100%|██████████| 79/79 [00:09<00:00,  7.94it/s]\n",
      "Epoch 79/200 : training Loss 0.002432: 100%|██████████| 313/313 [00:15<00:00, 20.04it/s]\n",
      "Epoch 79/200 : val Loss 0.003682: 100%|██████████| 79/79 [00:10<00:00,  7.56it/s]\n"
     ]
    },
    {
     "name": "stdout",
     "output_type": "stream",
     "text": [
      "saving best model val_acc : 0.8507\n"
     ]
    },
    {
     "name": "stderr",
     "output_type": "stream",
     "text": [
      "Epoch 80/200 : training Loss 0.002351: 100%|██████████| 313/313 [00:15<00:00, 19.90it/s]\n",
      "Epoch 80/200 : val Loss 0.00602: 100%|██████████| 79/79 [00:09<00:00,  7.97it/s] \n",
      "Epoch 81/200 : training Loss 0.002336: 100%|██████████| 313/313 [00:16<00:00, 19.56it/s]\n",
      "Epoch 81/200 : val Loss 0.004638: 100%|██████████| 79/79 [00:10<00:00,  7.33it/s]\n",
      "Epoch 82/200 : training Loss 0.00233: 100%|██████████| 313/313 [00:16<00:00, 19.36it/s] \n",
      "Epoch 82/200 : val Loss 0.003885: 100%|██████████| 79/79 [00:10<00:00,  7.60it/s]\n",
      "Epoch 83/200 : training Loss 0.002238: 100%|██████████| 313/313 [00:16<00:00, 19.51it/s]\n",
      "Epoch 83/200 : val Loss 0.004964: 100%|██████████| 79/79 [00:10<00:00,  7.89it/s]\n",
      "Epoch 84/200 : training Loss 0.002267: 100%|██████████| 313/313 [00:15<00:00, 20.49it/s]\n",
      "Epoch 84/200 : val Loss 0.004694: 100%|██████████| 79/79 [00:09<00:00,  8.13it/s]\n",
      "Epoch 85/200 : training Loss 0.002218: 100%|██████████| 313/313 [00:15<00:00, 20.51it/s]\n",
      "Epoch 85/200 : val Loss 0.004575: 100%|██████████| 79/79 [00:09<00:00,  8.11it/s]\n",
      "Epoch 86/200 : training Loss 0.002183: 100%|██████████| 313/313 [00:15<00:00, 20.45it/s]\n",
      "Epoch 86/200 : val Loss 0.005385: 100%|██████████| 79/79 [00:09<00:00,  8.00it/s]\n",
      "Epoch 87/200 : training Loss 0.002161: 100%|██████████| 313/313 [00:15<00:00, 20.48it/s]\n",
      "Epoch 87/200 : val Loss 0.004186: 100%|██████████| 79/79 [00:09<00:00,  8.12it/s]\n",
      "Epoch 88/200 : training Loss 0.002139: 100%|██████████| 313/313 [00:15<00:00, 20.21it/s]\n",
      "Epoch 88/200 : val Loss 0.003956: 100%|██████████| 79/79 [00:09<00:00,  8.15it/s]\n",
      "Epoch 89/200 : training Loss 0.002124: 100%|██████████| 313/313 [00:15<00:00, 20.48it/s]\n",
      "Epoch 89/200 : val Loss 0.004864: 100%|██████████| 79/79 [00:09<00:00,  8.15it/s]\n",
      "Epoch 90/200 : training Loss 0.002163: 100%|██████████| 313/313 [00:15<00:00, 20.42it/s]\n",
      "Epoch 90/200 : val Loss 0.00361: 100%|██████████| 79/79 [00:09<00:00,  8.19it/s] \n",
      "Epoch 91/200 : training Loss 0.002099: 100%|██████████| 313/313 [00:15<00:00, 20.42it/s]\n",
      "Epoch 91/200 : val Loss 0.004514: 100%|██████████| 79/79 [00:09<00:00,  8.00it/s]\n",
      "Epoch 92/200 : training Loss 0.002053: 100%|██████████| 313/313 [00:15<00:00, 20.47it/s]\n",
      "Epoch 92/200 : val Loss 0.00643: 100%|██████████| 79/79 [00:09<00:00,  8.14it/s] \n",
      "Epoch 93/200 : training Loss 0.00202: 100%|██████████| 313/313 [00:15<00:00, 20.45it/s] \n",
      "Epoch 93/200 : val Loss 0.003984: 100%|██████████| 79/79 [00:09<00:00,  8.16it/s]\n",
      "Epoch 94/200 : training Loss 0.002005: 100%|██████████| 313/313 [00:15<00:00, 20.49it/s]\n",
      "Epoch 94/200 : val Loss 0.004162: 100%|██████████| 79/79 [00:09<00:00,  8.12it/s]\n",
      "Epoch 95/200 : training Loss 0.001991: 100%|██████████| 313/313 [00:15<00:00, 19.65it/s]\n",
      "Epoch 95/200 : val Loss 0.00457: 100%|██████████| 79/79 [00:10<00:00,  7.58it/s] \n",
      "Epoch 96/200 : training Loss 0.002033: 100%|██████████| 313/313 [00:15<00:00, 20.43it/s]\n",
      "Epoch 96/200 : val Loss 0.004386: 100%|██████████| 79/79 [00:09<00:00,  8.18it/s]\n",
      "Epoch 97/200 : training Loss 0.001966: 100%|██████████| 313/313 [00:15<00:00, 20.44it/s]\n",
      "Epoch 97/200 : val Loss 0.003894: 100%|██████████| 79/79 [00:09<00:00,  8.16it/s]\n",
      "Epoch 98/200 : training Loss 0.001926: 100%|██████████| 313/313 [00:15<00:00, 20.71it/s]\n",
      "Epoch 98/200 : val Loss 0.003547: 100%|██████████| 79/79 [00:09<00:00,  8.17it/s]\n",
      "Epoch 99/200 : training Loss 0.00187: 100%|██████████| 313/313 [00:15<00:00, 20.47it/s] \n",
      "Epoch 99/200 : val Loss 0.004441: 100%|██████████| 79/79 [00:09<00:00,  8.15it/s]\n",
      "Epoch 100/200 : training Loss 0.001814: 100%|██████████| 313/313 [00:15<00:00, 20.74it/s]\n",
      "Epoch 100/200 : val Loss 0.004452: 100%|██████████| 79/79 [00:09<00:00,  7.98it/s]\n",
      "Epoch 101/200 : training Loss 0.001844: 100%|██████████| 313/313 [00:15<00:00, 20.31it/s]\n",
      "Epoch 101/200 : val Loss 0.004139: 100%|██████████| 79/79 [00:09<00:00,  8.04it/s]\n",
      "Epoch 102/200 : training Loss 0.001816: 100%|██████████| 313/313 [00:15<00:00, 20.33it/s]\n",
      "Epoch 102/200 : val Loss 0.003972: 100%|██████████| 79/79 [00:10<00:00,  7.76it/s]\n",
      "Epoch 103/200 : training Loss 0.001728: 100%|██████████| 313/313 [00:15<00:00, 20.42it/s]\n",
      "Epoch 103/200 : val Loss 0.005185: 100%|██████████| 79/79 [00:09<00:00,  8.18it/s]\n",
      "Epoch 104/200 : training Loss 0.001812: 100%|██████████| 313/313 [00:15<00:00, 20.41it/s]\n",
      "Epoch 104/200 : val Loss 0.004908: 100%|██████████| 79/79 [00:09<00:00,  8.01it/s]\n",
      "Epoch 105/200 : training Loss 0.001714: 100%|██████████| 313/313 [00:15<00:00, 20.42it/s]\n",
      "Epoch 105/200 : val Loss 0.003541: 100%|██████████| 79/79 [00:10<00:00,  7.79it/s]\n"
     ]
    },
    {
     "name": "stdout",
     "output_type": "stream",
     "text": [
      "saving best model val_acc : 0.8566\n"
     ]
    },
    {
     "name": "stderr",
     "output_type": "stream",
     "text": [
      "Epoch 106/200 : training Loss 0.001704: 100%|██████████| 313/313 [00:15<00:00, 20.07it/s]\n",
      "Epoch 106/200 : val Loss 0.00666: 100%|██████████| 79/79 [00:09<00:00,  8.04it/s] \n",
      "Epoch 107/200 : training Loss 0.001631: 100%|██████████| 313/313 [00:15<00:00, 20.45it/s]\n",
      "Epoch 107/200 : val Loss 0.004205: 100%|██████████| 79/79 [00:09<00:00,  8.16it/s]\n",
      "Epoch 108/200 : training Loss 0.001639: 100%|██████████| 313/313 [00:15<00:00, 20.48it/s]\n",
      "Epoch 108/200 : val Loss 0.006818: 100%|██████████| 79/79 [00:09<00:00,  8.14it/s]\n",
      "Epoch 109/200 : training Loss 0.001647: 100%|██████████| 313/313 [00:15<00:00, 20.42it/s]\n",
      "Epoch 109/200 : val Loss 0.003879: 100%|██████████| 79/79 [00:09<00:00,  8.17it/s]\n",
      "Epoch 110/200 : training Loss 0.001566: 100%|██████████| 313/313 [00:15<00:00, 20.48it/s]\n",
      "Epoch 110/200 : val Loss 0.004499: 100%|██████████| 79/79 [00:09<00:00,  8.14it/s]\n",
      "Epoch 111/200 : training Loss 0.001573: 100%|██████████| 313/313 [00:15<00:00, 20.43it/s]\n",
      "Epoch 111/200 : val Loss 0.004854: 100%|██████████| 79/79 [00:09<00:00,  8.17it/s]\n",
      "Epoch 112/200 : training Loss 0.001538: 100%|██████████| 313/313 [00:15<00:00, 20.21it/s]\n",
      "Epoch 112/200 : val Loss 0.004424: 100%|██████████| 79/79 [00:09<00:00,  8.04it/s]\n",
      "Epoch 113/200 : training Loss 0.001538: 100%|██████████| 313/313 [00:15<00:00, 20.26it/s]\n",
      "Epoch 113/200 : val Loss 0.003704: 100%|██████████| 79/79 [00:10<00:00,  7.79it/s]\n",
      "Epoch 114/200 : training Loss 0.001457: 100%|██████████| 313/313 [00:15<00:00, 20.62it/s]\n",
      "Epoch 114/200 : val Loss 0.003761: 100%|██████████| 79/79 [00:10<00:00,  7.44it/s]\n",
      "Epoch 115/200 : training Loss 0.00148: 100%|██████████| 313/313 [00:15<00:00, 20.50it/s] \n",
      "Epoch 115/200 : val Loss 0.003886: 100%|██████████| 79/79 [00:10<00:00,  7.76it/s]\n",
      "Epoch 116/200 : training Loss 0.001358: 100%|██████████| 313/313 [00:15<00:00, 20.40it/s]\n",
      "Epoch 116/200 : val Loss 0.00366: 100%|██████████| 79/79 [00:09<00:00,  8.05it/s] \n"
     ]
    },
    {
     "name": "stdout",
     "output_type": "stream",
     "text": [
      "saving best model val_acc : 0.8599\n"
     ]
    },
    {
     "name": "stderr",
     "output_type": "stream",
     "text": [
      "Epoch 117/200 : training Loss 0.001407: 100%|██████████| 313/313 [00:15<00:00, 20.24it/s]\n",
      "Epoch 117/200 : val Loss 0.003432: 100%|██████████| 79/79 [00:09<00:00,  8.19it/s]\n"
     ]
    },
    {
     "name": "stdout",
     "output_type": "stream",
     "text": [
      "saving best model val_acc : 0.8608\n"
     ]
    },
    {
     "name": "stderr",
     "output_type": "stream",
     "text": [
      "Epoch 118/200 : training Loss 0.001342: 100%|██████████| 313/313 [00:15<00:00, 20.24it/s]\n",
      "Epoch 118/200 : val Loss 0.003994: 100%|██████████| 79/79 [00:09<00:00,  8.17it/s]\n",
      "Epoch 119/200 : training Loss 0.001364: 100%|██████████| 313/313 [00:15<00:00, 20.47it/s]\n",
      "Epoch 119/200 : val Loss 0.004046: 100%|██████████| 79/79 [00:09<00:00,  8.13it/s]\n",
      "Epoch 120/200 : training Loss 0.001329: 100%|██████████| 313/313 [00:15<00:00, 20.46it/s]\n",
      "Epoch 120/200 : val Loss 0.003433: 100%|██████████| 79/79 [00:09<00:00,  8.15it/s]\n"
     ]
    },
    {
     "name": "stdout",
     "output_type": "stream",
     "text": [
      "saving best model val_acc : 0.8626\n"
     ]
    },
    {
     "name": "stderr",
     "output_type": "stream",
     "text": [
      "Epoch 121/200 : training Loss 0.001275: 100%|██████████| 313/313 [00:15<00:00, 20.29it/s]\n",
      "Epoch 121/200 : val Loss 0.003363: 100%|██████████| 79/79 [00:09<00:00,  7.97it/s]\n"
     ]
    },
    {
     "name": "stdout",
     "output_type": "stream",
     "text": [
      "saving best model val_acc : 0.8753\n"
     ]
    },
    {
     "name": "stderr",
     "output_type": "stream",
     "text": [
      "Epoch 122/200 : training Loss 0.001237: 100%|██████████| 313/313 [00:15<00:00, 20.09it/s]\n",
      "Epoch 122/200 : val Loss 0.003834: 100%|██████████| 79/79 [00:09<00:00,  8.14it/s]\n",
      "Epoch 123/200 : training Loss 0.001224: 100%|██████████| 313/313 [00:15<00:00, 20.79it/s]\n",
      "Epoch 123/200 : val Loss 0.003452: 100%|██████████| 79/79 [00:09<00:00,  8.07it/s]\n",
      "Epoch 124/200 : training Loss 0.001217: 100%|██████████| 313/313 [00:15<00:00, 20.55it/s]\n",
      "Epoch 124/200 : val Loss 0.003454: 100%|██████████| 79/79 [00:09<00:00,  8.14it/s]\n",
      "Epoch 125/200 : training Loss 0.001163: 100%|██████████| 313/313 [00:15<00:00, 20.45it/s]\n",
      "Epoch 125/200 : val Loss 0.003902: 100%|██████████| 79/79 [00:09<00:00,  8.15it/s]\n",
      "Epoch 126/200 : training Loss 0.001148: 100%|██████████| 313/313 [00:15<00:00, 20.52it/s]\n",
      "Epoch 126/200 : val Loss 0.004083: 100%|██████████| 79/79 [00:09<00:00,  8.14it/s]\n",
      "Epoch 127/200 : training Loss 0.001129: 100%|██████████| 313/313 [00:15<00:00, 20.46it/s]\n",
      "Epoch 127/200 : val Loss 0.003119: 100%|██████████| 79/79 [00:09<00:00,  8.12it/s]\n"
     ]
    },
    {
     "name": "stdout",
     "output_type": "stream",
     "text": [
      "saving best model val_acc : 0.8798\n"
     ]
    },
    {
     "name": "stderr",
     "output_type": "stream",
     "text": [
      "Epoch 128/200 : training Loss 0.001079: 100%|██████████| 313/313 [00:15<00:00, 20.33it/s]\n",
      "Epoch 128/200 : val Loss 0.00518: 100%|██████████| 79/79 [00:09<00:00,  8.12it/s] \n",
      "Epoch 129/200 : training Loss 0.001078: 100%|██████████| 313/313 [00:15<00:00, 20.47it/s]\n",
      "Epoch 129/200 : val Loss 0.004088: 100%|██████████| 79/79 [00:09<00:00,  8.15it/s]\n",
      "Epoch 130/200 : training Loss 0.001049: 100%|██████████| 313/313 [00:15<00:00, 20.52it/s]\n",
      "Epoch 130/200 : val Loss 0.003188: 100%|██████████| 79/79 [00:09<00:00,  8.07it/s]\n",
      "Epoch 131/200 : training Loss 0.00099: 100%|██████████| 313/313 [00:16<00:00, 19.29it/s] \n",
      "Epoch 131/200 : val Loss 0.003555: 100%|██████████| 79/79 [00:10<00:00,  7.59it/s]\n",
      "Epoch 132/200 : training Loss 0.000957: 100%|██████████| 313/313 [00:16<00:00, 19.39it/s]\n",
      "Epoch 132/200 : val Loss 0.003476: 100%|██████████| 79/79 [00:10<00:00,  7.43it/s]\n",
      "Epoch 133/200 : training Loss 0.00097: 100%|██████████| 313/313 [00:16<00:00, 19.37it/s] \n",
      "Epoch 133/200 : val Loss 0.003308: 100%|██████████| 79/79 [00:09<00:00,  8.08it/s]\n",
      "Epoch 134/200 : training Loss 0.000869: 100%|██████████| 313/313 [00:15<00:00, 20.50it/s]\n",
      "Epoch 134/200 : val Loss 0.003477: 100%|██████████| 79/79 [00:09<00:00,  8.15it/s]\n",
      "Epoch 135/200 : training Loss 0.000899: 100%|██████████| 313/313 [00:15<00:00, 20.51it/s]\n",
      "Epoch 135/200 : val Loss 0.003757: 100%|██████████| 79/79 [00:09<00:00,  8.11it/s]\n",
      "Epoch 136/200 : training Loss 0.000828: 100%|██████████| 313/313 [00:15<00:00, 20.43it/s]\n",
      "Epoch 136/200 : val Loss 0.003331: 100%|██████████| 79/79 [00:09<00:00,  8.18it/s]\n",
      "Epoch 137/200 : training Loss 0.000829: 100%|██████████| 313/313 [00:15<00:00, 20.34it/s]\n",
      "Epoch 137/200 : val Loss 0.003884: 100%|██████████| 79/79 [00:09<00:00,  8.06it/s]\n",
      "Epoch 138/200 : training Loss 0.000784: 100%|██████████| 313/313 [00:15<00:00, 20.42it/s]\n",
      "Epoch 138/200 : val Loss 0.004339: 100%|██████████| 79/79 [00:09<00:00,  8.01it/s]\n",
      "Epoch 139/200 : training Loss 0.000835: 100%|██████████| 313/313 [00:15<00:00, 20.43it/s]\n",
      "Epoch 139/200 : val Loss 0.003642: 100%|██████████| 79/79 [00:09<00:00,  7.99it/s]\n",
      "Epoch 140/200 : training Loss 0.000757: 100%|██████████| 313/313 [00:15<00:00, 20.46it/s]\n",
      "Epoch 140/200 : val Loss 0.0035: 100%|██████████| 79/79 [00:09<00:00,  8.16it/s]  \n",
      "Epoch 141/200 : training Loss 0.000704: 100%|██████████| 313/313 [00:15<00:00, 20.39it/s]\n",
      "Epoch 141/200 : val Loss 0.003552: 100%|██████████| 79/79 [00:09<00:00,  8.03it/s]\n",
      "Epoch 142/200 : training Loss 0.000729: 100%|██████████| 313/313 [00:15<00:00, 20.49it/s]\n",
      "Epoch 142/200 : val Loss 0.003466: 100%|██████████| 79/79 [00:09<00:00,  8.13it/s]\n",
      "Epoch 143/200 : training Loss 0.000652: 100%|██████████| 313/313 [00:15<00:00, 20.27it/s]\n",
      "Epoch 143/200 : val Loss 0.00335: 100%|██████████| 79/79 [00:09<00:00,  8.10it/s] \n",
      "Epoch 144/200 : training Loss 0.000639: 100%|██████████| 313/313 [00:15<00:00, 20.11it/s]\n",
      "Epoch 144/200 : val Loss 0.003851: 100%|██████████| 79/79 [00:09<00:00,  8.10it/s]\n",
      "Epoch 145/200 : training Loss 0.000615: 100%|██████████| 313/313 [00:15<00:00, 20.66it/s]\n",
      "Epoch 145/200 : val Loss 0.003499: 100%|██████████| 79/79 [00:09<00:00,  7.98it/s]\n"
     ]
    },
    {
     "name": "stdout",
     "output_type": "stream",
     "text": [
      "saving best model val_acc : 0.8802\n"
     ]
    },
    {
     "name": "stderr",
     "output_type": "stream",
     "text": [
      "Epoch 146/200 : training Loss 0.000581: 100%|██████████| 313/313 [00:15<00:00, 20.21it/s]\n",
      "Epoch 146/200 : val Loss 0.003191: 100%|██████████| 79/79 [00:09<00:00,  8.18it/s]\n"
     ]
    },
    {
     "name": "stdout",
     "output_type": "stream",
     "text": [
      "saving best model val_acc : 0.8886\n"
     ]
    },
    {
     "name": "stderr",
     "output_type": "stream",
     "text": [
      "Epoch 147/200 : training Loss 0.000552: 100%|██████████| 313/313 [00:15<00:00, 20.19it/s]\n",
      "Epoch 147/200 : val Loss 0.003343: 100%|██████████| 79/79 [00:09<00:00,  8.04it/s]\n",
      "Epoch 148/200 : training Loss 0.000515: 100%|██████████| 313/313 [00:15<00:00, 20.49it/s]\n",
      "Epoch 148/200 : val Loss 0.003206: 100%|██████████| 79/79 [00:09<00:00,  7.99it/s]\n",
      "Epoch 149/200 : training Loss 0.00054: 100%|██████████| 313/313 [00:16<00:00, 19.20it/s] \n",
      "Epoch 149/200 : val Loss 0.003051: 100%|██████████| 79/79 [00:10<00:00,  7.62it/s]\n"
     ]
    },
    {
     "name": "stdout",
     "output_type": "stream",
     "text": [
      "saving best model val_acc : 0.8962\n"
     ]
    },
    {
     "name": "stderr",
     "output_type": "stream",
     "text": [
      "Epoch 150/200 : training Loss 0.000492: 100%|██████████| 313/313 [00:16<00:00, 18.84it/s]\n",
      "Epoch 150/200 : val Loss 0.003254: 100%|██████████| 79/79 [00:10<00:00,  7.52it/s]\n",
      "Epoch 151/200 : training Loss 0.000484: 100%|██████████| 313/313 [00:16<00:00, 19.07it/s]\n",
      "Epoch 151/200 : val Loss 0.003288: 100%|██████████| 79/79 [00:10<00:00,  7.22it/s]\n",
      "Epoch 152/200 : training Loss 0.000433: 100%|██████████| 313/313 [00:16<00:00, 19.00it/s]\n",
      "Epoch 152/200 : val Loss 0.003281: 100%|██████████| 79/79 [00:10<00:00,  7.54it/s]\n",
      "Epoch 153/200 : training Loss 0.000397: 100%|██████████| 313/313 [00:15<00:00, 20.50it/s]\n",
      "Epoch 153/200 : val Loss 0.003291: 100%|██████████| 79/79 [00:09<00:00,  8.15it/s]\n",
      "Epoch 154/200 : training Loss 0.000422: 100%|██████████| 313/313 [00:15<00:00, 20.50it/s]\n",
      "Epoch 154/200 : val Loss 0.00336: 100%|██████████| 79/79 [00:09<00:00,  7.99it/s] \n",
      "Epoch 155/200 : training Loss 0.000383: 100%|██████████| 313/313 [00:15<00:00, 20.72it/s]\n",
      "Epoch 155/200 : val Loss 0.003024: 100%|██████████| 79/79 [00:09<00:00,  8.13it/s]\n"
     ]
    },
    {
     "name": "stdout",
     "output_type": "stream",
     "text": [
      "saving best model val_acc : 0.8980\n"
     ]
    },
    {
     "name": "stderr",
     "output_type": "stream",
     "text": [
      "Epoch 156/200 : training Loss 0.000353: 100%|██████████| 313/313 [00:15<00:00, 20.24it/s]\n",
      "Epoch 156/200 : val Loss 0.003055: 100%|██████████| 79/79 [00:09<00:00,  8.19it/s]\n",
      "Epoch 157/200 : training Loss 0.000338: 100%|██████████| 313/313 [00:15<00:00, 20.41it/s]\n",
      "Epoch 157/200 : val Loss 0.003249: 100%|██████████| 79/79 [00:09<00:00,  8.17it/s]\n",
      "Epoch 158/200 : training Loss 0.000289: 100%|██████████| 313/313 [00:15<00:00, 20.36it/s]\n",
      "Epoch 158/200 : val Loss 0.003292: 100%|██████████| 79/79 [00:10<00:00,  7.59it/s]\n",
      "Epoch 159/200 : training Loss 0.000256: 100%|██████████| 313/313 [00:16<00:00, 19.12it/s]\n",
      "Epoch 159/200 : val Loss 0.003147: 100%|██████████| 79/79 [00:10<00:00,  7.36it/s]\n"
     ]
    },
    {
     "name": "stdout",
     "output_type": "stream",
     "text": [
      "saving best model val_acc : 0.8994\n"
     ]
    },
    {
     "name": "stderr",
     "output_type": "stream",
     "text": [
      "Epoch 160/200 : training Loss 0.000258: 100%|██████████| 313/313 [00:16<00:00, 18.99it/s]\n",
      "Epoch 160/200 : val Loss 0.00312: 100%|██████████| 79/79 [00:10<00:00,  7.63it/s] \n"
     ]
    },
    {
     "name": "stdout",
     "output_type": "stream",
     "text": [
      "saving best model val_acc : 0.9022\n"
     ]
    },
    {
     "name": "stderr",
     "output_type": "stream",
     "text": [
      "Epoch 161/200 : training Loss 0.000196: 100%|██████████| 313/313 [00:15<00:00, 20.32it/s]\n",
      "Epoch 161/200 : val Loss 0.002994: 100%|██████████| 79/79 [00:10<00:00,  7.80it/s]\n"
     ]
    },
    {
     "name": "stdout",
     "output_type": "stream",
     "text": [
      "saving best model val_acc : 0.9079\n"
     ]
    },
    {
     "name": "stderr",
     "output_type": "stream",
     "text": [
      "Epoch 162/200 : training Loss 0.000243: 100%|██████████| 313/313 [00:15<00:00, 19.84it/s]\n",
      "Epoch 162/200 : val Loss 0.003593: 100%|██████████| 79/79 [00:09<00:00,  7.93it/s]\n",
      "Epoch 163/200 : training Loss 0.000219: 100%|██████████| 313/313 [00:15<00:00, 20.28it/s]\n",
      "Epoch 163/200 : val Loss 0.002996: 100%|██████████| 79/79 [00:09<00:00,  8.15it/s]\n",
      "Epoch 164/200 : training Loss 0.000181: 100%|██████████| 313/313 [00:15<00:00, 20.49it/s]\n",
      "Epoch 164/200 : val Loss 0.002952: 100%|██████████| 79/79 [00:09<00:00,  8.15it/s]\n"
     ]
    },
    {
     "name": "stdout",
     "output_type": "stream",
     "text": [
      "saving best model val_acc : 0.9114\n"
     ]
    },
    {
     "name": "stderr",
     "output_type": "stream",
     "text": [
      "Epoch 165/200 : training Loss 0.000164: 100%|██████████| 313/313 [00:15<00:00, 20.31it/s]\n",
      "Epoch 165/200 : val Loss 0.003427: 100%|██████████| 79/79 [00:09<00:00,  8.13it/s]\n",
      "Epoch 166/200 : training Loss 0.000154: 100%|██████████| 313/313 [00:15<00:00, 20.51it/s]\n",
      "Epoch 166/200 : val Loss 0.003183: 100%|██████████| 79/79 [00:09<00:00,  8.12it/s]\n",
      "Epoch 167/200 : training Loss 0.000135: 100%|██████████| 313/313 [00:15<00:00, 20.48it/s]\n",
      "Epoch 167/200 : val Loss 0.003114: 100%|██████████| 79/79 [00:09<00:00,  8.15it/s]\n",
      "Epoch 168/200 : training Loss 0.000116: 100%|██████████| 313/313 [00:15<00:00, 20.76it/s]\n",
      "Epoch 168/200 : val Loss 0.003072: 100%|██████████| 79/79 [00:09<00:00,  8.12it/s]\n",
      "Epoch 169/200 : training Loss 0.000108: 100%|██████████| 313/313 [00:15<00:00, 20.51it/s]\n",
      "Epoch 169/200 : val Loss 0.003061: 100%|██████████| 79/79 [00:09<00:00,  8.12it/s]\n"
     ]
    },
    {
     "name": "stdout",
     "output_type": "stream",
     "text": [
      "saving best model val_acc : 0.9130\n"
     ]
    },
    {
     "name": "stderr",
     "output_type": "stream",
     "text": [
      "Epoch 170/200 : training Loss 0.000107: 100%|██████████| 313/313 [00:15<00:00, 20.27it/s]\n",
      "Epoch 170/200 : val Loss 0.003008: 100%|██████████| 79/79 [00:09<00:00,  8.14it/s]\n",
      "Epoch 171/200 : training Loss 7.9e-05: 100%|██████████| 313/313 [00:15<00:00, 20.48it/s]\n",
      "Epoch 171/200 : val Loss 0.003115: 100%|██████████| 79/79 [00:09<00:00,  8.13it/s]\n",
      "Epoch 172/200 : training Loss 8.2e-05: 100%|██████████| 313/313 [00:15<00:00, 20.50it/s]\n",
      "Epoch 172/200 : val Loss 0.003021: 100%|██████████| 79/79 [00:09<00:00,  8.16it/s]\n"
     ]
    },
    {
     "name": "stdout",
     "output_type": "stream",
     "text": [
      "saving best model val_acc : 0.9155\n"
     ]
    },
    {
     "name": "stderr",
     "output_type": "stream",
     "text": [
      "Epoch 173/200 : training Loss 7.8e-05: 100%|██████████| 313/313 [00:15<00:00, 19.80it/s]\n",
      "Epoch 173/200 : val Loss 0.002934: 100%|██████████| 79/79 [00:09<00:00,  8.04it/s]\n"
     ]
    },
    {
     "name": "stdout",
     "output_type": "stream",
     "text": [
      "saving best model val_acc : 0.9159\n"
     ]
    },
    {
     "name": "stderr",
     "output_type": "stream",
     "text": [
      "Epoch 174/200 : training Loss 5.8e-05: 100%|██████████| 313/313 [00:16<00:00, 19.54it/s]\n",
      "Epoch 174/200 : val Loss 0.002916: 100%|██████████| 79/79 [00:09<00:00,  8.18it/s]\n"
     ]
    },
    {
     "name": "stdout",
     "output_type": "stream",
     "text": [
      "saving best model val_acc : 0.9179\n"
     ]
    },
    {
     "name": "stderr",
     "output_type": "stream",
     "text": [
      "Epoch 175/200 : training Loss 5e-05: 100%|██████████| 313/313 [00:15<00:00, 20.20it/s]  \n",
      "Epoch 175/200 : val Loss 0.002964: 100%|██████████| 79/79 [00:09<00:00,  8.02it/s]\n",
      "Epoch 176/200 : training Loss 4.2e-05: 100%|██████████| 313/313 [00:15<00:00, 20.36it/s]\n",
      "Epoch 176/200 : val Loss 0.002819: 100%|██████████| 79/79 [00:09<00:00,  8.07it/s]\n"
     ]
    },
    {
     "name": "stdout",
     "output_type": "stream",
     "text": [
      "saving best model val_acc : 0.9211\n"
     ]
    },
    {
     "name": "stderr",
     "output_type": "stream",
     "text": [
      "Epoch 177/200 : training Loss 4.4e-05: 100%|██████████| 313/313 [00:15<00:00, 20.20it/s]\n",
      "Epoch 177/200 : val Loss 0.003107: 100%|██████████| 79/79 [00:09<00:00,  8.20it/s]\n",
      "Epoch 178/200 : training Loss 3.2e-05: 100%|██████████| 313/313 [00:15<00:00, 20.07it/s]\n",
      "Epoch 178/200 : val Loss 0.003093: 100%|██████████| 79/79 [00:09<00:00,  8.07it/s]\n",
      "Epoch 179/200 : training Loss 3.2e-05: 100%|██████████| 313/313 [00:15<00:00, 20.48it/s]\n",
      "Epoch 179/200 : val Loss 0.002838: 100%|██████████| 79/79 [00:09<00:00,  8.14it/s]\n"
     ]
    },
    {
     "name": "stdout",
     "output_type": "stream",
     "text": [
      "saving best model val_acc : 0.9229\n"
     ]
    },
    {
     "name": "stderr",
     "output_type": "stream",
     "text": [
      "Epoch 180/200 : training Loss 3.1e-05: 100%|██████████| 313/313 [00:15<00:00, 20.23it/s]\n",
      "Epoch 180/200 : val Loss 0.0029: 100%|██████████| 79/79 [00:09<00:00,  8.00it/s]  \n",
      "Epoch 181/200 : training Loss 2.5e-05: 100%|██████████| 313/313 [00:15<00:00, 20.09it/s]\n",
      "Epoch 181/200 : val Loss 0.002986: 100%|██████████| 79/79 [00:10<00:00,  7.75it/s]\n",
      "Epoch 182/200 : training Loss 2.1e-05: 100%|██████████| 313/313 [00:15<00:00, 20.01it/s]\n",
      "Epoch 182/200 : val Loss 0.002857: 100%|██████████| 79/79 [00:09<00:00,  7.91it/s]\n"
     ]
    },
    {
     "name": "stdout",
     "output_type": "stream",
     "text": [
      "saving best model val_acc : 0.9257\n"
     ]
    },
    {
     "name": "stderr",
     "output_type": "stream",
     "text": [
      "Epoch 183/200 : training Loss 1.9e-05: 100%|██████████| 313/313 [00:15<00:00, 20.17it/s]\n",
      "Epoch 183/200 : val Loss 0.002872: 100%|██████████| 79/79 [00:10<00:00,  7.75it/s]\n",
      "Epoch 184/200 : training Loss 1.6e-05: 100%|██████████| 313/313 [00:15<00:00, 20.40it/s]\n",
      "Epoch 184/200 : val Loss 0.002779: 100%|██████████| 79/79 [00:09<00:00,  8.06it/s]\n",
      "Epoch 185/200 : training Loss 1.8e-05: 100%|██████████| 313/313 [00:15<00:00, 19.99it/s]\n",
      "Epoch 185/200 : val Loss 0.00292: 100%|██████████| 79/79 [00:09<00:00,  7.97it/s] \n",
      "Epoch 186/200 : training Loss 1.3e-05: 100%|██████████| 313/313 [00:15<00:00, 19.93it/s]\n",
      "Epoch 186/200 : val Loss 0.00296: 100%|██████████| 79/79 [00:10<00:00,  7.81it/s] \n",
      "Epoch 187/200 : training Loss 1.4e-05: 100%|██████████| 313/313 [00:15<00:00, 20.05it/s]\n",
      "Epoch 187/200 : val Loss 0.002881: 100%|██████████| 79/79 [00:09<00:00,  7.97it/s]\n",
      "Epoch 188/200 : training Loss 1.3e-05: 100%|██████████| 313/313 [00:14<00:00, 20.88it/s]\n",
      "Epoch 188/200 : val Loss 0.002942: 100%|██████████| 79/79 [00:10<00:00,  7.86it/s]\n",
      "Epoch 189/200 : training Loss 1.4e-05: 100%|██████████| 313/313 [00:15<00:00, 19.91it/s]\n",
      "Epoch 189/200 : val Loss 0.002837: 100%|██████████| 79/79 [00:09<00:00,  8.16it/s]\n"
     ]
    },
    {
     "name": "stdout",
     "output_type": "stream",
     "text": [
      "saving best model val_acc : 0.9266\n"
     ]
    },
    {
     "name": "stderr",
     "output_type": "stream",
     "text": [
      "Epoch 190/200 : training Loss 1.3e-05: 100%|██████████| 313/313 [00:15<00:00, 20.16it/s]\n",
      "Epoch 190/200 : val Loss 0.002966: 100%|██████████| 79/79 [00:09<00:00,  8.03it/s]\n",
      "Epoch 191/200 : training Loss 1.5e-05: 100%|██████████| 313/313 [00:15<00:00, 20.44it/s]\n",
      "Epoch 191/200 : val Loss 0.002894: 100%|██████████| 79/79 [00:09<00:00,  8.16it/s]\n",
      "Epoch 192/200 : training Loss 1.4e-05: 100%|██████████| 313/313 [00:15<00:00, 20.44it/s]\n",
      "Epoch 192/200 : val Loss 0.002798: 100%|██████████| 79/79 [00:09<00:00,  8.15it/s]\n",
      "Epoch 193/200 : training Loss 1.3e-05: 100%|██████████| 313/313 [00:15<00:00, 20.52it/s]\n",
      "Epoch 193/200 : val Loss 0.002833: 100%|██████████| 79/79 [00:10<00:00,  7.75it/s]\n",
      "Epoch 194/200 : training Loss 1.2e-05: 100%|██████████| 313/313 [00:16<00:00, 19.31it/s]\n",
      "Epoch 194/200 : val Loss 0.002821: 100%|██████████| 79/79 [00:10<00:00,  7.66it/s]\n",
      "Epoch 195/200 : training Loss 1.2e-05: 100%|██████████| 313/313 [00:15<00:00, 20.11it/s]\n",
      "Epoch 195/200 : val Loss 0.002771: 100%|██████████| 79/79 [00:10<00:00,  7.78it/s]\n"
     ]
    },
    {
     "name": "stdout",
     "output_type": "stream",
     "text": [
      "saving best model val_acc : 0.9274\n"
     ]
    },
    {
     "name": "stderr",
     "output_type": "stream",
     "text": [
      "Epoch 196/200 : training Loss 1.1e-05: 100%|██████████| 313/313 [00:15<00:00, 20.12it/s]\n",
      "Epoch 196/200 : val Loss 0.002965: 100%|██████████| 79/79 [00:09<00:00,  8.02it/s]\n",
      "Epoch 197/200 : training Loss 1e-05: 100%|██████████| 313/313 [00:15<00:00, 20.42it/s] \n",
      "Epoch 197/200 : val Loss 0.002826: 100%|██████████| 79/79 [00:09<00:00,  7.98it/s]\n"
     ]
    },
    {
     "name": "stdout",
     "output_type": "stream",
     "text": [
      "saving best model val_acc : 0.9284\n"
     ]
    },
    {
     "name": "stderr",
     "output_type": "stream",
     "text": [
      "Epoch 198/200 : training Loss 1.1e-05: 100%|██████████| 313/313 [00:15<00:00, 20.10it/s]\n",
      "Epoch 198/200 : val Loss 0.002757: 100%|██████████| 79/79 [00:10<00:00,  7.84it/s]\n",
      "Epoch 199/200 : training Loss 1e-05: 100%|██████████| 313/313 [00:15<00:00, 20.45it/s]  \n",
      "Epoch 199/200 : val Loss 0.002793: 100%|██████████| 79/79 [00:09<00:00,  8.18it/s]\n",
      "Epoch 200/200 : training Loss 9e-06: 100%|██████████| 313/313 [00:15<00:00, 20.26it/s]  \n",
      "Epoch 200/200 : val Loss 0.002878: 100%|██████████| 79/79 [00:10<00:00,  7.76it/s]\n"
     ]
    },
    {
     "data": {
      "image/png": "[encoded data removed]",
      "text/plain": [
       "<Figure size 1200x500 with 2 Axes>"
      ]
     },
     "metadata": {},
     "output_type": "display_data"
    }
   ],
   "source": [
    "# Initialize VGG16 & Train\n",
    "vgg16 = VGG('VGG16', num_classes=NUM_CLASSES)\n",
    "\n",
    "vgg16 = vgg16.to(DEVICE)\n",
    "\n",
    "summary(vgg16, (3, 32, 32))\n",
    "\n",
    "train_data = train_model(vgg16, DEVICE, 'vgg16', learning_rate=0.1)\n",
    "\n",
    "training_summary(*train_data)\n"
   ]
  },
  {
   "cell_type": "markdown",
   "metadata": {},
   "source": [
    "## **MobileNetV2**"
   ]
  },
  {
   "cell_type": "code",
   "execution_count": 49,
   "metadata": {},
   "outputs": [
    {
     "name": "stdout",
     "output_type": "stream",
     "text": [
      "----------------------------------------------------------------\n",
      "        Layer (type)               Output Shape         Param #\n",
      "================================================================\n",
      "            Conv2d-1           [-1, 32, 32, 32]             864\n",
      "       BatchNorm2d-2           [-1, 32, 32, 32]              64\n",
      "            Conv2d-3           [-1, 32, 32, 32]           1,024\n",
      "       BatchNorm2d-4           [-1, 32, 32, 32]              64\n",
      "            Conv2d-5           [-1, 32, 32, 32]             288\n",
      "       BatchNorm2d-6           [-1, 32, 32, 32]              64\n",
      "            Conv2d-7           [-1, 16, 32, 32]             512\n",
      "       BatchNorm2d-8           [-1, 16, 32, 32]              32\n",
      "            Conv2d-9           [-1, 16, 32, 32]             512\n",
      "      BatchNorm2d-10           [-1, 16, 32, 32]              32\n",
      "            Block-11           [-1, 16, 32, 32]               0\n",
      "           Conv2d-12           [-1, 96, 32, 32]           1,536\n",
      "      BatchNorm2d-13           [-1, 96, 32, 32]             192\n",
      "           Conv2d-14           [-1, 96, 32, 32]             864\n",
      "      BatchNorm2d-15           [-1, 96, 32, 32]             192\n",
      "           Conv2d-16           [-1, 24, 32, 32]           2,304\n",
      "      BatchNorm2d-17           [-1, 24, 32, 32]              48\n",
      "           Conv2d-18           [-1, 24, 32, 32]             384\n",
      "      BatchNorm2d-19           [-1, 24, 32, 32]              48\n",
      "            Block-20           [-1, 24, 32, 32]               0\n",
      "           Conv2d-21          [-1, 144, 32, 32]           3,456\n",
      "      BatchNorm2d-22          [-1, 144, 32, 32]             288\n",
      "           Conv2d-23          [-1, 144, 32, 32]           1,296\n",
      "      BatchNorm2d-24          [-1, 144, 32, 32]             288\n",
      "           Conv2d-25           [-1, 24, 32, 32]           3,456\n",
      "      BatchNorm2d-26           [-1, 24, 32, 32]              48\n",
      "            Block-27           [-1, 24, 32, 32]               0\n",
      "           Conv2d-28          [-1, 144, 32, 32]           3,456\n",
      "      BatchNorm2d-29          [-1, 144, 32, 32]             288\n",
      "           Conv2d-30          [-1, 144, 16, 16]           1,296\n",
      "      BatchNorm2d-31          [-1, 144, 16, 16]             288\n",
      "           Conv2d-32           [-1, 32, 16, 16]           4,608\n",
      "      BatchNorm2d-33           [-1, 32, 16, 16]              64\n",
      "            Block-34           [-1, 32, 16, 16]               0\n",
      "           Conv2d-35          [-1, 192, 16, 16]           6,144\n",
      "      BatchNorm2d-36          [-1, 192, 16, 16]             384\n",
      "           Conv2d-37          [-1, 192, 16, 16]           1,728\n",
      "      BatchNorm2d-38          [-1, 192, 16, 16]             384\n",
      "           Conv2d-39           [-1, 32, 16, 16]           6,144\n",
      "      BatchNorm2d-40           [-1, 32, 16, 16]              64\n",
      "            Block-41           [-1, 32, 16, 16]               0\n",
      "           Conv2d-42          [-1, 192, 16, 16]           6,144\n",
      "      BatchNorm2d-43          [-1, 192, 16, 16]             384\n",
      "           Conv2d-44          [-1, 192, 16, 16]           1,728\n",
      "      BatchNorm2d-45          [-1, 192, 16, 16]             384\n",
      "           Conv2d-46           [-1, 32, 16, 16]           6,144\n",
      "      BatchNorm2d-47           [-1, 32, 16, 16]              64\n",
      "            Block-48           [-1, 32, 16, 16]               0\n",
      "           Conv2d-49          [-1, 192, 16, 16]           6,144\n",
      "      BatchNorm2d-50          [-1, 192, 16, 16]             384\n",
      "           Conv2d-51            [-1, 192, 8, 8]           1,728\n",
      "      BatchNorm2d-52            [-1, 192, 8, 8]             384\n",
      "           Conv2d-53             [-1, 64, 8, 8]          12,288\n",
      "      BatchNorm2d-54             [-1, 64, 8, 8]             128\n",
      "            Block-55             [-1, 64, 8, 8]               0\n",
      "           Conv2d-56            [-1, 384, 8, 8]          24,576\n",
      "      BatchNorm2d-57            [-1, 384, 8, 8]             768\n",
      "           Conv2d-58            [-1, 384, 8, 8]           3,456\n",
      "      BatchNorm2d-59            [-1, 384, 8, 8]             768\n",
      "           Conv2d-60             [-1, 64, 8, 8]          24,576\n",
      "      BatchNorm2d-61             [-1, 64, 8, 8]             128\n",
      "            Block-62             [-1, 64, 8, 8]               0\n",
      "           Conv2d-63            [-1, 384, 8, 8]          24,576\n",
      "      BatchNorm2d-64            [-1, 384, 8, 8]             768\n",
      "           Conv2d-65            [-1, 384, 8, 8]           3,456\n",
      "      BatchNorm2d-66            [-1, 384, 8, 8]             768\n",
      "           Conv2d-67             [-1, 64, 8, 8]          24,576\n",
      "      BatchNorm2d-68             [-1, 64, 8, 8]             128\n",
      "            Block-69             [-1, 64, 8, 8]               0\n",
      "           Conv2d-70            [-1, 384, 8, 8]          24,576\n",
      "      BatchNorm2d-71            [-1, 384, 8, 8]             768\n",
      "           Conv2d-72            [-1, 384, 8, 8]           3,456\n",
      "      BatchNorm2d-73            [-1, 384, 8, 8]             768\n",
      "           Conv2d-74             [-1, 64, 8, 8]          24,576\n",
      "      BatchNorm2d-75             [-1, 64, 8, 8]             128\n",
      "            Block-76             [-1, 64, 8, 8]               0\n",
      "           Conv2d-77            [-1, 384, 8, 8]          24,576\n",
      "      BatchNorm2d-78            [-1, 384, 8, 8]             768\n",
      "           Conv2d-79            [-1, 384, 8, 8]           3,456\n",
      "      BatchNorm2d-80            [-1, 384, 8, 8]             768\n",
      "           Conv2d-81             [-1, 96, 8, 8]          36,864\n",
      "      BatchNorm2d-82             [-1, 96, 8, 8]             192\n",
      "           Conv2d-83             [-1, 96, 8, 8]           6,144\n",
      "      BatchNorm2d-84             [-1, 96, 8, 8]             192\n",
      "            Block-85             [-1, 96, 8, 8]               0\n",
      "           Conv2d-86            [-1, 576, 8, 8]          55,296\n",
      "      BatchNorm2d-87            [-1, 576, 8, 8]           1,152\n",
      "           Conv2d-88            [-1, 576, 8, 8]           5,184\n",
      "      BatchNorm2d-89            [-1, 576, 8, 8]           1,152\n",
      "           Conv2d-90             [-1, 96, 8, 8]          55,296\n",
      "      BatchNorm2d-91             [-1, 96, 8, 8]             192\n",
      "            Block-92             [-1, 96, 8, 8]               0\n",
      "           Conv2d-93            [-1, 576, 8, 8]          55,296\n",
      "      BatchNorm2d-94            [-1, 576, 8, 8]           1,152\n",
      "           Conv2d-95            [-1, 576, 8, 8]           5,184\n",
      "      BatchNorm2d-96            [-1, 576, 8, 8]           1,152\n",
      "           Conv2d-97             [-1, 96, 8, 8]          55,296\n",
      "      BatchNorm2d-98             [-1, 96, 8, 8]             192\n",
      "            Block-99             [-1, 96, 8, 8]               0\n",
      "          Conv2d-100            [-1, 576, 8, 8]          55,296\n",
      "     BatchNorm2d-101            [-1, 576, 8, 8]           1,152\n",
      "          Conv2d-102            [-1, 576, 4, 4]           5,184\n",
      "     BatchNorm2d-103            [-1, 576, 4, 4]           1,152\n",
      "          Conv2d-104            [-1, 160, 4, 4]          92,160\n",
      "     BatchNorm2d-105            [-1, 160, 4, 4]             320\n",
      "           Block-106            [-1, 160, 4, 4]               0\n",
      "          Conv2d-107            [-1, 960, 4, 4]         153,600\n",
      "     BatchNorm2d-108            [-1, 960, 4, 4]           1,920\n",
      "          Conv2d-109            [-1, 960, 4, 4]           8,640\n",
      "     BatchNorm2d-110            [-1, 960, 4, 4]           1,920\n",
      "          Conv2d-111            [-1, 160, 4, 4]         153,600\n",
      "     BatchNorm2d-112            [-1, 160, 4, 4]             320\n",
      "           Block-113            [-1, 160, 4, 4]               0\n",
      "          Conv2d-114            [-1, 960, 4, 4]         153,600\n",
      "     BatchNorm2d-115            [-1, 960, 4, 4]           1,920\n",
      "          Conv2d-116            [-1, 960, 4, 4]           8,640\n",
      "     BatchNorm2d-117            [-1, 960, 4, 4]           1,920\n",
      "          Conv2d-118            [-1, 160, 4, 4]         153,600\n",
      "     BatchNorm2d-119            [-1, 160, 4, 4]             320\n",
      "           Block-120            [-1, 160, 4, 4]               0\n",
      "          Conv2d-121            [-1, 960, 4, 4]         153,600\n",
      "     BatchNorm2d-122            [-1, 960, 4, 4]           1,920\n",
      "          Conv2d-123            [-1, 960, 4, 4]           8,640\n",
      "     BatchNorm2d-124            [-1, 960, 4, 4]           1,920\n",
      "          Conv2d-125            [-1, 320, 4, 4]         307,200\n",
      "     BatchNorm2d-126            [-1, 320, 4, 4]             640\n",
      "          Conv2d-127            [-1, 320, 4, 4]          51,200\n",
      "     BatchNorm2d-128            [-1, 320, 4, 4]             640\n",
      "           Block-129            [-1, 320, 4, 4]               0\n",
      "          Conv2d-130           [-1, 1280, 4, 4]         409,600\n",
      "     BatchNorm2d-131           [-1, 1280, 4, 4]           2,560\n",
      "          Linear-132                   [-1, 10]          12,810\n",
      "================================================================\n",
      "Total params: 2,296,922\n",
      "Trainable params: 2,296,922\n",
      "Non-trainable params: 0\n",
      "----------------------------------------------------------------\n",
      "Input size (MB): 0.01\n",
      "Forward/backward pass size (MB): 27.37\n",
      "Params size (MB): 8.76\n",
      "Estimated Total Size (MB): 36.14\n",
      "----------------------------------------------------------------\n"
     ]
    },
    {
     "name": "stderr",
     "output_type": "stream",
     "text": [
      "Epoch 1/200 : training Loss 0.014338: 100%|██████████| 313/313 [00:18<00:00, 16.57it/s]\n",
      "Epoch 1/200 : val Loss 0.011542: 100%|██████████| 79/79 [00:10<00:00,  7.65it/s]\n"
     ]
    },
    {
     "name": "stdout",
     "output_type": "stream",
     "text": [
      "saving best model val_acc : 0.4607\n"
     ]
    },
    {
     "name": "stderr",
     "output_type": "stream",
     "text": [
      "Epoch 2/200 : training Loss 0:   0%|          | 0/313 [00:00<?, ?it/s]Exception ignored in: <function _MultiProcessingDataLoaderIter.__del__ at 0x000001ED6DD37F40>\n",
      "Traceback (most recent call last):\n",
      "  File \"e:\\GitHub\\DefenseGAN-Pytorch\\venv\\lib\\site-packages\\torch\\utils\\data\\dataloader.py\", line 1478, in __del__\n",
      "    self._shutdown_workers()\n",
      "  File \"e:\\GitHub\\DefenseGAN-Pytorch\\venv\\lib\\site-packages\\torch\\utils\\data\\dataloader.py\", line 1436, in _shutdown_workers\n",
      "    if self._persistent_workers or self._workers_status[worker_id]:\n",
      "AttributeError: '_MultiProcessingDataLoaderIter' object has no attribute '_workers_status'\n",
      "Epoch 2/200 : training Loss 0.010081: 100%|██████████| 313/313 [00:18<00:00, 16.55it/s]\n",
      "Epoch 2/200 : val Loss 0.010383: 100%|██████████| 79/79 [00:10<00:00,  7.55it/s]\n"
     ]
    },
    {
     "name": "stdout",
     "output_type": "stream",
     "text": [
      "saving best model val_acc : 0.5258\n"
     ]
    },
    {
     "name": "stderr",
     "output_type": "stream",
     "text": [
      "Epoch 3/200 : training Loss 0.008211: 100%|██████████| 313/313 [00:18<00:00, 16.56it/s]\n",
      "Epoch 3/200 : val Loss 0.008034: 100%|██████████| 79/79 [00:10<00:00,  7.37it/s]\n"
     ]
    },
    {
     "name": "stdout",
     "output_type": "stream",
     "text": [
      "saving best model val_acc : 0.6250\n"
     ]
    },
    {
     "name": "stderr",
     "output_type": "stream",
     "text": [
      "Epoch 4/200 : training Loss 0.007073: 100%|██████████| 313/313 [00:19<00:00, 16.31it/s]\n",
      "Epoch 4/200 : val Loss 0.007468: 100%|██████████| 79/79 [00:10<00:00,  7.49it/s]\n"
     ]
    },
    {
     "name": "stdout",
     "output_type": "stream",
     "text": [
      "saving best model val_acc : 0.6588\n"
     ]
    },
    {
     "name": "stderr",
     "output_type": "stream",
     "text": [
      "Epoch 5/200 : training Loss 0.006253: 100%|██████████| 313/313 [00:18<00:00, 16.54it/s]\n",
      "Epoch 5/200 : val Loss 0.007242: 100%|██████████| 79/79 [00:10<00:00,  7.30it/s]\n"
     ]
    },
    {
     "name": "stdout",
     "output_type": "stream",
     "text": [
      "saving best model val_acc : 0.6679\n"
     ]
    },
    {
     "name": "stderr",
     "output_type": "stream",
     "text": [
      "Epoch 6/200 : training Loss 0.005661: 100%|██████████| 313/313 [00:19<00:00, 15.75it/s]\n",
      "Epoch 6/200 : val Loss 0.006948: 100%|██████████| 79/79 [00:11<00:00,  7.11it/s]\n"
     ]
    },
    {
     "name": "stdout",
     "output_type": "stream",
     "text": [
      "saving best model val_acc : 0.6864\n"
     ]
    },
    {
     "name": "stderr",
     "output_type": "stream",
     "text": [
      "Epoch 7/200 : training Loss 0.00538: 100%|██████████| 313/313 [00:19<00:00, 15.66it/s] \n",
      "Epoch 7/200 : val Loss 0.006469: 100%|██████████| 79/79 [00:11<00:00,  7.10it/s]\n"
     ]
    },
    {
     "name": "stdout",
     "output_type": "stream",
     "text": [
      "saving best model val_acc : 0.7121\n"
     ]
    },
    {
     "name": "stderr",
     "output_type": "stream",
     "text": [
      "Epoch 8/200 : training Loss 0.005127: 100%|██████████| 313/313 [00:19<00:00, 16.26it/s]\n",
      "Epoch 8/200 : val Loss 0.008163: 100%|██████████| 79/79 [00:10<00:00,  7.57it/s]\n",
      "Epoch 9/200 : training Loss 0.005018: 100%|██████████| 313/313 [00:19<00:00, 16.30it/s]\n",
      "Epoch 9/200 : val Loss 0.006742: 100%|██████████| 79/79 [00:10<00:00,  7.47it/s]\n",
      "Epoch 10/200 : training Loss 0.004886: 100%|██████████| 313/313 [00:18<00:00, 16.56it/s]\n",
      "Epoch 10/200 : val Loss 0.006075: 100%|██████████| 79/79 [00:10<00:00,  7.40it/s]\n"
     ]
    },
    {
     "name": "stdout",
     "output_type": "stream",
     "text": [
      "saving best model val_acc : 0.7326\n"
     ]
    },
    {
     "name": "stderr",
     "output_type": "stream",
     "text": [
      "Epoch 11/200 : training Loss 0.004762: 100%|██████████| 313/313 [00:18<00:00, 16.52it/s]\n",
      "Epoch 11/200 : val Loss 0.005857: 100%|██████████| 79/79 [00:10<00:00,  7.45it/s]\n"
     ]
    },
    {
     "name": "stdout",
     "output_type": "stream",
     "text": [
      "saving best model val_acc : 0.7461\n"
     ]
    },
    {
     "name": "stderr",
     "output_type": "stream",
     "text": [
      "Epoch 12/200 : training Loss 0.004659: 100%|██████████| 313/313 [00:18<00:00, 16.59it/s]\n",
      "Epoch 12/200 : val Loss 0.006148: 100%|██████████| 79/79 [00:10<00:00,  7.41it/s]\n",
      "Epoch 13/200 : training Loss 0.004656: 100%|██████████| 313/313 [00:18<00:00, 16.58it/s]\n",
      "Epoch 13/200 : val Loss 0.005521: 100%|██████████| 79/79 [00:10<00:00,  7.66it/s]\n"
     ]
    },
    {
     "name": "stdout",
     "output_type": "stream",
     "text": [
      "saving best model val_acc : 0.7601\n"
     ]
    },
    {
     "name": "stderr",
     "output_type": "stream",
     "text": [
      "Epoch 14/200 : training Loss 0.004652: 100%|██████████| 313/313 [00:19<00:00, 16.36it/s]\n",
      "Epoch 14/200 : val Loss 0.007129: 100%|██████████| 79/79 [00:10<00:00,  7.58it/s]\n",
      "Epoch 15/200 : training Loss 0.004587: 100%|██████████| 313/313 [00:18<00:00, 16.74it/s]\n",
      "Epoch 15/200 : val Loss 0.006376: 100%|██████████| 79/79 [00:10<00:00,  7.47it/s]\n",
      "Epoch 16/200 : training Loss 0.004671: 100%|██████████| 313/313 [00:19<00:00, 16.42it/s]\n",
      "Epoch 16/200 : val Loss 0.005824: 100%|██████████| 79/79 [00:10<00:00,  7.43it/s]\n",
      "Epoch 17/200 : training Loss 0.004558: 100%|██████████| 313/313 [00:19<00:00, 16.33it/s]\n",
      "Epoch 17/200 : val Loss 0.00498: 100%|██████████| 79/79 [00:10<00:00,  7.41it/s] \n"
     ]
    },
    {
     "name": "stdout",
     "output_type": "stream",
     "text": [
      "saving best model val_acc : 0.7808\n"
     ]
    },
    {
     "name": "stderr",
     "output_type": "stream",
     "text": [
      "Epoch 18/200 : training Loss 0.004522: 100%|██████████| 313/313 [00:19<00:00, 16.27it/s]\n",
      "Epoch 18/200 : val Loss 0.005248: 100%|██████████| 79/79 [00:10<00:00,  7.55it/s]\n",
      "Epoch 19/200 : training Loss 0.004456: 100%|██████████| 313/313 [00:19<00:00, 16.35it/s]\n",
      "Epoch 19/200 : val Loss 0.00648: 100%|██████████| 79/79 [00:10<00:00,  7.27it/s] \n",
      "Epoch 20/200 : training Loss 0.004505: 100%|██████████| 313/313 [00:19<00:00, 16.33it/s]\n",
      "Epoch 20/200 : val Loss 0.006745: 100%|██████████| 79/79 [00:10<00:00,  7.60it/s]\n",
      "Epoch 21/200 : training Loss 0.004511: 100%|██████████| 313/313 [00:18<00:00, 16.58it/s]\n",
      "Epoch 21/200 : val Loss 0.005375: 100%|██████████| 79/79 [00:10<00:00,  7.65it/s]\n",
      "Epoch 22/200 : training Loss 0.004458: 100%|██████████| 313/313 [00:18<00:00, 16.66it/s]\n",
      "Epoch 22/200 : val Loss 0.005338: 100%|██████████| 79/79 [00:10<00:00,  7.27it/s]\n",
      "Epoch 23/200 : training Loss 0.004477: 100%|██████████| 313/313 [00:19<00:00, 16.38it/s]\n",
      "Epoch 23/200 : val Loss 0.005968: 100%|██████████| 79/79 [00:10<00:00,  7.47it/s]\n",
      "Epoch 24/200 : training Loss 0.004438: 100%|██████████| 313/313 [00:18<00:00, 16.72it/s]\n",
      "Epoch 24/200 : val Loss 0.005493: 100%|██████████| 79/79 [00:10<00:00,  7.51it/s]\n",
      "Epoch 25/200 : training Loss 0.004375: 100%|██████████| 313/313 [00:19<00:00, 15.98it/s]\n",
      "Epoch 25/200 : val Loss 0.006048: 100%|██████████| 79/79 [00:10<00:00,  7.49it/s]\n",
      "Epoch 26/200 : training Loss 0.004437: 100%|██████████| 313/313 [00:18<00:00, 16.51it/s]\n",
      "Epoch 26/200 : val Loss 0.005871: 100%|██████████| 79/79 [00:10<00:00,  7.43it/s]\n",
      "Epoch 27/200 : training Loss 0.004345: 100%|██████████| 313/313 [00:18<00:00, 16.48it/s]\n",
      "Epoch 27/200 : val Loss 0.005808: 100%|██████████| 79/79 [00:10<00:00,  7.58it/s]\n",
      "Epoch 28/200 : training Loss 0.00434: 100%|██████████| 313/313 [00:19<00:00, 16.44it/s] \n",
      "Epoch 28/200 : val Loss 0.007667: 100%|██████████| 79/79 [00:10<00:00,  7.51it/s]\n",
      "Epoch 29/200 : training Loss 0.00434: 100%|██████████| 313/313 [00:18<00:00, 16.49it/s] \n",
      "Epoch 29/200 : val Loss 0.005745: 100%|██████████| 79/79 [00:10<00:00,  7.45it/s]\n",
      "Epoch 30/200 : training Loss 0.004301: 100%|██████████| 313/313 [00:18<00:00, 16.51it/s]\n",
      "Epoch 30/200 : val Loss 0.005135: 100%|██████████| 79/79 [00:10<00:00,  7.57it/s]\n",
      "Epoch 31/200 : training Loss 0.004319: 100%|██████████| 313/313 [00:19<00:00, 16.46it/s]\n",
      "Epoch 31/200 : val Loss 0.006395: 100%|██████████| 79/79 [00:10<00:00,  7.49it/s]\n",
      "Epoch 32/200 : training Loss 0.004292: 100%|██████████| 313/313 [00:18<00:00, 16.49it/s]\n",
      "Epoch 32/200 : val Loss 0.005123: 100%|██████████| 79/79 [00:10<00:00,  7.46it/s]\n",
      "Epoch 33/200 : training Loss 0.004315: 100%|██████████| 313/313 [00:19<00:00, 16.46it/s]\n",
      "Epoch 33/200 : val Loss 0.005698: 100%|██████████| 79/79 [00:10<00:00,  7.47it/s]\n",
      "Epoch 34/200 : training Loss 0.004274: 100%|██████████| 313/313 [00:18<00:00, 16.67it/s]\n",
      "Epoch 34/200 : val Loss 0.005635: 100%|██████████| 79/79 [00:10<00:00,  7.45it/s]\n",
      "Epoch 35/200 : training Loss 0.00429: 100%|██████████| 313/313 [00:18<00:00, 16.52it/s] \n",
      "Epoch 35/200 : val Loss 0.006738: 100%|██████████| 79/79 [00:10<00:00,  7.55it/s]\n",
      "Epoch 36/200 : training Loss 0.004237: 100%|██████████| 313/313 [00:18<00:00, 16.50it/s]\n",
      "Epoch 36/200 : val Loss 0.00472: 100%|██████████| 79/79 [00:10<00:00,  7.60it/s] \n"
     ]
    },
    {
     "name": "stdout",
     "output_type": "stream",
     "text": [
      "saving best model val_acc : 0.7921\n"
     ]
    },
    {
     "name": "stderr",
     "output_type": "stream",
     "text": [
      "Epoch 37/200 : training Loss 0.004239: 100%|██████████| 313/313 [00:19<00:00, 16.38it/s]\n",
      "Epoch 37/200 : val Loss 0.005703: 100%|██████████| 79/79 [00:10<00:00,  7.57it/s]\n",
      "Epoch 38/200 : training Loss 0.004284: 100%|██████████| 313/313 [00:18<00:00, 16.53it/s]\n",
      "Epoch 38/200 : val Loss 0.005897: 100%|██████████| 79/79 [00:10<00:00,  7.57it/s]\n",
      "Epoch 39/200 : training Loss 0.004245: 100%|██████████| 313/313 [00:18<00:00, 16.65it/s]\n",
      "Epoch 39/200 : val Loss 0.005541: 100%|██████████| 79/79 [00:10<00:00,  7.47it/s]\n",
      "Epoch 40/200 : training Loss 0.004256: 100%|██████████| 313/313 [00:18<00:00, 16.68it/s]\n",
      "Epoch 40/200 : val Loss 0.00682: 100%|██████████| 79/79 [00:10<00:00,  7.52it/s] \n",
      "Epoch 41/200 : training Loss 0.004188: 100%|██████████| 313/313 [00:18<00:00, 16.55it/s]\n",
      "Epoch 41/200 : val Loss 0.005342: 100%|██████████| 79/79 [00:10<00:00,  7.59it/s]\n",
      "Epoch 42/200 : training Loss 0.004204: 100%|██████████| 313/313 [00:18<00:00, 16.65it/s]\n",
      "Epoch 42/200 : val Loss 0.005697: 100%|██████████| 79/79 [00:10<00:00,  7.59it/s]\n",
      "Epoch 43/200 : training Loss 0.004129: 100%|██████████| 313/313 [00:18<00:00, 16.52it/s]\n",
      "Epoch 43/200 : val Loss 0.005332: 100%|██████████| 79/79 [00:10<00:00,  7.57it/s]\n",
      "Epoch 44/200 : training Loss 0.004158: 100%|██████████| 313/313 [00:18<00:00, 16.49it/s]\n",
      "Epoch 44/200 : val Loss 0.005729: 100%|██████████| 79/79 [00:10<00:00,  7.45it/s]\n",
      "Epoch 45/200 : training Loss 0.004173: 100%|██████████| 313/313 [00:18<00:00, 16.67it/s]\n",
      "Epoch 45/200 : val Loss 0.005279: 100%|██████████| 79/79 [00:10<00:00,  7.50it/s]\n",
      "Epoch 46/200 : training Loss 0.004185: 100%|██████████| 313/313 [00:18<00:00, 17.21it/s]\n",
      "Epoch 46/200 : val Loss 0.005143: 100%|██████████| 79/79 [00:10<00:00,  7.83it/s]\n",
      "Epoch 47/200 : training Loss 0.004139: 100%|██████████| 313/313 [00:17<00:00, 17.67it/s]\n",
      "Epoch 47/200 : val Loss 0.005472: 100%|██████████| 79/79 [00:09<00:00,  7.93it/s]\n",
      "Epoch 48/200 : training Loss 0.004182: 100%|██████████| 313/313 [00:17<00:00, 17.52it/s]\n",
      "Epoch 48/200 : val Loss 0.005359: 100%|██████████| 79/79 [00:09<00:00,  7.96it/s]\n",
      "Epoch 49/200 : training Loss 0.00418: 100%|██████████| 313/313 [00:17<00:00, 17.47it/s] \n",
      "Epoch 49/200 : val Loss 0.005823: 100%|██████████| 79/79 [00:10<00:00,  7.86it/s]\n",
      "Epoch 50/200 : training Loss 0.004131: 100%|██████████| 313/313 [00:17<00:00, 17.43it/s]\n",
      "Epoch 50/200 : val Loss 0.00481: 100%|██████████| 79/79 [00:10<00:00,  7.87it/s] \n"
     ]
    },
    {
     "name": "stdout",
     "output_type": "stream",
     "text": [
      "saving best model val_acc : 0.7965\n"
     ]
    },
    {
     "name": "stderr",
     "output_type": "stream",
     "text": [
      "Epoch 51/200 : training Loss 0.004116: 100%|██████████| 313/313 [00:17<00:00, 17.61it/s]\n",
      "Epoch 51/200 : val Loss 0.005909: 100%|██████████| 79/79 [00:09<00:00,  7.92it/s]\n",
      "Epoch 52/200 : training Loss 0.00412: 100%|██████████| 313/313 [00:17<00:00, 17.49it/s] \n",
      "Epoch 52/200 : val Loss 0.005791: 100%|██████████| 79/79 [00:10<00:00,  7.84it/s]\n",
      "Epoch 53/200 : training Loss 0.004122: 100%|██████████| 313/313 [00:17<00:00, 17.58it/s]\n",
      "Epoch 53/200 : val Loss 0.005096: 100%|██████████| 79/79 [00:09<00:00,  7.92it/s]\n",
      "Epoch 54/200 : training Loss 0.004086: 100%|██████████| 313/313 [00:17<00:00, 17.51it/s]\n",
      "Epoch 54/200 : val Loss 0.006428: 100%|██████████| 79/79 [00:10<00:00,  7.82it/s]\n",
      "Epoch 55/200 : training Loss 0.004097: 100%|██████████| 313/313 [00:17<00:00, 17.49it/s]\n",
      "Epoch 55/200 : val Loss 0.005645: 100%|██████████| 79/79 [00:10<00:00,  7.82it/s]\n",
      "Epoch 56/200 : training Loss 0.004112: 100%|██████████| 313/313 [00:17<00:00, 17.55it/s]\n",
      "Epoch 56/200 : val Loss 0.005345: 100%|██████████| 79/79 [00:09<00:00,  7.92it/s]\n",
      "Epoch 57/200 : training Loss 0.004056: 100%|██████████| 313/313 [00:17<00:00, 17.43it/s]\n",
      "Epoch 57/200 : val Loss 0.008106: 100%|██████████| 79/79 [00:10<00:00,  7.74it/s]\n",
      "Epoch 58/200 : training Loss 0.004088: 100%|██████████| 313/313 [00:17<00:00, 17.56it/s]\n",
      "Epoch 58/200 : val Loss 0.004707: 100%|██████████| 79/79 [00:09<00:00,  7.92it/s]\n"
     ]
    },
    {
     "name": "stdout",
     "output_type": "stream",
     "text": [
      "saving best model val_acc : 0.7979\n"
     ]
    },
    {
     "name": "stderr",
     "output_type": "stream",
     "text": [
      "Epoch 59/200 : training Loss 0.004098: 100%|██████████| 313/313 [00:17<00:00, 17.47it/s]\n",
      "Epoch 59/200 : val Loss 0.004971: 100%|██████████| 79/79 [00:10<00:00,  7.89it/s]\n",
      "Epoch 60/200 : training Loss 0.003991: 100%|██████████| 313/313 [00:18<00:00, 17.33it/s]\n",
      "Epoch 60/200 : val Loss 0.005367: 100%|██████████| 79/79 [00:09<00:00,  7.94it/s]\n",
      "Epoch 61/200 : training Loss 0.003996: 100%|██████████| 313/313 [00:17<00:00, 17.45it/s]\n",
      "Epoch 61/200 : val Loss 0.004818: 100%|██████████| 79/79 [00:10<00:00,  7.88it/s]\n",
      "Epoch 62/200 : training Loss 0.003986: 100%|██████████| 313/313 [00:17<00:00, 17.45it/s]\n",
      "Epoch 62/200 : val Loss 0.005629: 100%|██████████| 79/79 [00:10<00:00,  7.81it/s]\n",
      "Epoch 63/200 : training Loss 0.003948: 100%|██████████| 313/313 [00:17<00:00, 17.49it/s]\n",
      "Epoch 63/200 : val Loss 0.005615: 100%|██████████| 79/79 [00:10<00:00,  7.86it/s]\n",
      "Epoch 64/200 : training Loss 0.003963: 100%|██████████| 313/313 [00:17<00:00, 17.50it/s]\n",
      "Epoch 64/200 : val Loss 0.005228: 100%|██████████| 79/79 [00:10<00:00,  7.83it/s]\n",
      "Epoch 65/200 : training Loss 0.003962: 100%|██████████| 313/313 [00:18<00:00, 17.22it/s]\n",
      "Epoch 65/200 : val Loss 0.004726: 100%|██████████| 79/79 [00:10<00:00,  7.90it/s]\n",
      "Epoch 66/200 : training Loss 0.003952: 100%|██████████| 313/313 [00:17<00:00, 17.55it/s]\n",
      "Epoch 66/200 : val Loss 0.005207: 100%|██████████| 79/79 [00:09<00:00,  7.94it/s]\n",
      "Epoch 67/200 : training Loss 0.003951: 100%|██████████| 313/313 [00:18<00:00, 17.28it/s]\n",
      "Epoch 67/200 : val Loss 0.00493: 100%|██████████| 79/79 [00:10<00:00,  7.77it/s] \n",
      "Epoch 68/200 : training Loss 0.003951: 100%|██████████| 313/313 [00:17<00:00, 17.44it/s]\n",
      "Epoch 68/200 : val Loss 0.005362: 100%|██████████| 79/79 [00:10<00:00,  7.78it/s]\n",
      "Epoch 69/200 : training Loss 0.003943: 100%|██████████| 313/313 [00:18<00:00, 17.36it/s]\n",
      "Epoch 69/200 : val Loss 0.005945: 100%|██████████| 79/79 [00:09<00:00,  7.93it/s]\n",
      "Epoch 70/200 : training Loss 0.003952: 100%|██████████| 313/313 [00:18<00:00, 17.31it/s]\n",
      "Epoch 70/200 : val Loss 0.005338: 100%|██████████| 79/79 [00:10<00:00,  7.82it/s]\n",
      "Epoch 71/200 : training Loss 0.003856: 100%|██████████| 313/313 [00:17<00:00, 17.42it/s]\n",
      "Epoch 71/200 : val Loss 0.004768: 100%|██████████| 79/79 [00:10<00:00,  7.89it/s]\n",
      "Epoch 72/200 : training Loss 0.003871: 100%|██████████| 313/313 [00:17<00:00, 17.43it/s]\n",
      "Epoch 72/200 : val Loss 0.005667: 100%|██████████| 79/79 [00:10<00:00,  7.89it/s]\n",
      "Epoch 73/200 : training Loss 0.003828: 100%|██████████| 313/313 [00:18<00:00, 17.27it/s]\n",
      "Epoch 73/200 : val Loss 0.005078: 100%|██████████| 79/79 [00:10<00:00,  7.86it/s]\n",
      "Epoch 74/200 : training Loss 0.003804: 100%|██████████| 313/313 [00:17<00:00, 17.48it/s]\n",
      "Epoch 74/200 : val Loss 0.006311: 100%|██████████| 79/79 [00:10<00:00,  7.83it/s]\n",
      "Epoch 75/200 : training Loss 0.003828: 100%|██████████| 313/313 [00:18<00:00, 17.22it/s]\n",
      "Epoch 75/200 : val Loss 0.004854: 100%|██████████| 79/79 [00:10<00:00,  7.88it/s]\n",
      "Epoch 76/200 : training Loss 0.003807: 100%|██████████| 313/313 [00:17<00:00, 17.52it/s]\n",
      "Epoch 76/200 : val Loss 0.004805: 100%|██████████| 79/79 [00:10<00:00,  7.82it/s]\n",
      "Epoch 77/200 : training Loss 0.003817: 100%|██████████| 313/313 [00:18<00:00, 17.30it/s]\n",
      "Epoch 77/200 : val Loss 0.005316: 100%|██████████| 79/79 [00:09<00:00,  7.97it/s]\n",
      "Epoch 78/200 : training Loss 0.00377: 100%|██████████| 313/313 [00:17<00:00, 17.52it/s] \n",
      "Epoch 78/200 : val Loss 0.004349: 100%|██████████| 79/79 [00:09<00:00,  7.95it/s]\n"
     ]
    },
    {
     "name": "stdout",
     "output_type": "stream",
     "text": [
      "saving best model val_acc : 0.8081\n"
     ]
    },
    {
     "name": "stderr",
     "output_type": "stream",
     "text": [
      "Epoch 79/200 : training Loss 0.003712: 100%|██████████| 313/313 [00:17<00:00, 17.43it/s]\n",
      "Epoch 79/200 : val Loss 0.005447: 100%|██████████| 79/79 [00:09<00:00,  7.93it/s]\n",
      "Epoch 80/200 : training Loss 0.003786: 100%|██████████| 313/313 [00:17<00:00, 17.46it/s]\n",
      "Epoch 80/200 : val Loss 0.004875: 100%|██████████| 79/79 [00:10<00:00,  7.86it/s]\n",
      "Epoch 81/200 : training Loss 0.003722: 100%|██████████| 313/313 [00:17<00:00, 17.50it/s]\n",
      "Epoch 81/200 : val Loss 0.004456: 100%|██████████| 79/79 [00:09<00:00,  7.96it/s]\n",
      "Epoch 82/200 : training Loss 0.003699: 100%|██████████| 313/313 [00:17<00:00, 17.47it/s]\n",
      "Epoch 82/200 : val Loss 0.004601: 100%|██████████| 79/79 [00:10<00:00,  7.84it/s]\n",
      "Epoch 83/200 : training Loss 0.003662: 100%|██████████| 313/313 [00:17<00:00, 17.59it/s]\n",
      "Epoch 83/200 : val Loss 0.004077: 100%|██████████| 79/79 [00:10<00:00,  7.90it/s]\n"
     ]
    },
    {
     "name": "stdout",
     "output_type": "stream",
     "text": [
      "saving best model val_acc : 0.8194\n"
     ]
    },
    {
     "name": "stderr",
     "output_type": "stream",
     "text": [
      "Epoch 84/200 : training Loss 0.003654: 100%|██████████| 313/313 [00:18<00:00, 17.32it/s]\n",
      "Epoch 84/200 : val Loss 0.005213: 100%|██████████| 79/79 [00:10<00:00,  7.81it/s]\n",
      "Epoch 85/200 : training Loss 0.003717: 100%|██████████| 313/313 [00:17<00:00, 17.59it/s]\n",
      "Epoch 85/200 : val Loss 0.005086: 100%|██████████| 79/79 [00:09<00:00,  7.97it/s]\n",
      "Epoch 86/200 : training Loss 0.003599: 100%|██████████| 313/313 [00:17<00:00, 17.52it/s]\n",
      "Epoch 86/200 : val Loss 0.004533: 100%|██████████| 79/79 [00:09<00:00,  7.96it/s]\n",
      "Epoch 87/200 : training Loss 0.003602: 100%|██████████| 313/313 [00:18<00:00, 17.31it/s]\n",
      "Epoch 87/200 : val Loss 0.005339: 100%|██████████| 79/79 [00:09<00:00,  7.97it/s]\n",
      "Epoch 88/200 : training Loss 0.003594: 100%|██████████| 313/313 [00:17<00:00, 17.54it/s]\n",
      "Epoch 88/200 : val Loss 0.004043: 100%|██████████| 79/79 [00:09<00:00,  7.96it/s]\n"
     ]
    },
    {
     "name": "stdout",
     "output_type": "stream",
     "text": [
      "saving best model val_acc : 0.8238\n"
     ]
    },
    {
     "name": "stderr",
     "output_type": "stream",
     "text": [
      "Epoch 89/200 : training Loss 0.003566: 100%|██████████| 313/313 [00:17<00:00, 17.64it/s]\n",
      "Epoch 89/200 : val Loss 0.006245: 100%|██████████| 79/79 [00:10<00:00,  7.77it/s]\n",
      "Epoch 90/200 : training Loss 0.003606: 100%|██████████| 313/313 [00:17<00:00, 17.44it/s]\n",
      "Epoch 90/200 : val Loss 0.004413: 100%|██████████| 79/79 [00:10<00:00,  7.85it/s]\n",
      "Epoch 91/200 : training Loss 0.003513: 100%|██████████| 313/313 [00:17<00:00, 17.51it/s]\n",
      "Epoch 91/200 : val Loss 0.004312: 100%|██████████| 79/79 [00:09<00:00,  7.97it/s]\n",
      "Epoch 92/200 : training Loss 0.003525: 100%|██████████| 313/313 [00:18<00:00, 17.38it/s]\n",
      "Epoch 92/200 : val Loss 0.004707: 100%|██████████| 79/79 [00:09<00:00,  7.93it/s]\n",
      "Epoch 93/200 : training Loss 0.003491: 100%|██████████| 313/313 [00:17<00:00, 17.57it/s]\n",
      "Epoch 93/200 : val Loss 0.004501: 100%|██████████| 79/79 [00:09<00:00,  7.91it/s]\n",
      "Epoch 94/200 : training Loss 0.003468: 100%|██████████| 313/313 [00:17<00:00, 17.43it/s]\n",
      "Epoch 94/200 : val Loss 0.004577: 100%|██████████| 79/79 [00:10<00:00,  7.88it/s]\n",
      "Epoch 95/200 : training Loss 0.003421: 100%|██████████| 313/313 [00:18<00:00, 17.32it/s]\n",
      "Epoch 95/200 : val Loss 0.004949: 100%|██████████| 79/79 [00:10<00:00,  7.81it/s]\n",
      "Epoch 96/200 : training Loss 0.00344: 100%|██████████| 313/313 [00:17<00:00, 17.41it/s] \n",
      "Epoch 96/200 : val Loss 0.004633: 100%|██████████| 79/79 [00:10<00:00,  7.88it/s]\n",
      "Epoch 97/200 : training Loss 0.00346: 100%|██████████| 313/313 [00:17<00:00, 17.48it/s] \n",
      "Epoch 97/200 : val Loss 0.004433: 100%|██████████| 79/79 [00:10<00:00,  7.86it/s]\n",
      "Epoch 98/200 : training Loss 0.003443: 100%|██████████| 313/313 [00:17<00:00, 17.47it/s]\n",
      "Epoch 98/200 : val Loss 0.004411: 100%|██████████| 79/79 [00:10<00:00,  7.83it/s]\n",
      "Epoch 99/200 : training Loss 0.00342: 100%|██████████| 313/313 [00:17<00:00, 17.57it/s] \n",
      "Epoch 99/200 : val Loss 0.004443: 100%|██████████| 79/79 [00:09<00:00,  7.94it/s]\n",
      "Epoch 100/200 : training Loss 0.003387: 100%|██████████| 313/313 [00:18<00:00, 17.33it/s]\n",
      "Epoch 100/200 : val Loss 0.005961: 100%|██████████| 79/79 [00:09<00:00,  7.94it/s]\n",
      "Epoch 101/200 : training Loss 0.003317: 100%|██████████| 313/313 [00:18<00:00, 17.33it/s]\n",
      "Epoch 101/200 : val Loss 0.004372: 100%|██████████| 79/79 [00:09<00:00,  7.96it/s]\n",
      "Epoch 102/200 : training Loss 0.003268: 100%|██████████| 313/313 [00:17<00:00, 17.42it/s]\n",
      "Epoch 102/200 : val Loss 0.004185: 100%|██████████| 79/79 [00:10<00:00,  7.88it/s]\n",
      "Epoch 103/200 : training Loss 0.003286: 100%|██████████| 313/313 [00:17<00:00, 17.50it/s]\n",
      "Epoch 103/200 : val Loss 0.004103: 100%|██████████| 79/79 [00:09<00:00,  7.95it/s]\n",
      "Epoch 104/200 : training Loss 0.00322: 100%|██████████| 313/313 [00:18<00:00, 17.37it/s] \n",
      "Epoch 104/200 : val Loss 0.00438: 100%|██████████| 79/79 [00:10<00:00,  7.80it/s] \n",
      "Epoch 105/200 : training Loss 0.003219: 100%|██████████| 313/313 [00:17<00:00, 17.46it/s]\n",
      "Epoch 105/200 : val Loss 0.004061: 100%|██████████| 79/79 [00:10<00:00,  7.86it/s]\n",
      "Epoch 106/200 : training Loss 0.00321: 100%|██████████| 313/313 [00:17<00:00, 17.51it/s] \n",
      "Epoch 106/200 : val Loss 0.005465: 100%|██████████| 79/79 [00:09<00:00,  7.96it/s]\n",
      "Epoch 107/200 : training Loss 0.0032: 100%|██████████| 313/313 [00:17<00:00, 17.49it/s]  \n",
      "Epoch 107/200 : val Loss 0.004442: 100%|██████████| 79/79 [00:10<00:00,  7.85it/s]\n",
      "Epoch 108/200 : training Loss 0.003141: 100%|██████████| 313/313 [00:17<00:00, 17.45it/s]\n",
      "Epoch 108/200 : val Loss 0.004245: 100%|██████████| 79/79 [00:10<00:00,  7.84it/s]\n",
      "Epoch 109/200 : training Loss 0.003111: 100%|██████████| 313/313 [00:17<00:00, 17.53it/s]\n",
      "Epoch 109/200 : val Loss 0.004457: 100%|██████████| 79/79 [00:10<00:00,  7.80it/s]\n",
      "Epoch 110/200 : training Loss 0.003077: 100%|██████████| 313/313 [00:21<00:00, 14.74it/s]\n",
      "Epoch 110/200 : val Loss 0.004705: 100%|██████████| 79/79 [00:10<00:00,  7.27it/s]\n",
      "Epoch 111/200 : training Loss 0.003073: 100%|██████████| 313/313 [00:19<00:00, 16.06it/s]\n",
      "Epoch 111/200 : val Loss 0.004347: 100%|██████████| 79/79 [00:10<00:00,  7.38it/s]\n",
      "Epoch 112/200 : training Loss 0.003038: 100%|██████████| 313/313 [00:18<00:00, 16.62it/s]\n",
      "Epoch 112/200 : val Loss 0.004672: 100%|██████████| 79/79 [00:10<00:00,  7.51it/s]\n",
      "Epoch 113/200 : training Loss 0.003031: 100%|██████████| 313/313 [00:19<00:00, 16.46it/s]\n",
      "Epoch 113/200 : val Loss 0.004669: 100%|██████████| 79/79 [00:10<00:00,  7.47it/s]\n",
      "Epoch 114/200 : training Loss 0.003093: 100%|██████████| 313/313 [00:19<00:00, 16.46it/s]\n",
      "Epoch 114/200 : val Loss 0.003773: 100%|██████████| 79/79 [00:10<00:00,  7.49it/s]\n"
     ]
    },
    {
     "name": "stdout",
     "output_type": "stream",
     "text": [
      "saving best model val_acc : 0.8378\n"
     ]
    },
    {
     "name": "stderr",
     "output_type": "stream",
     "text": [
      "Epoch 115/200 : training Loss 0.003004: 100%|██████████| 313/313 [00:19<00:00, 16.31it/s]\n",
      "Epoch 115/200 : val Loss 0.004384: 100%|██████████| 79/79 [00:10<00:00,  7.47it/s]\n",
      "Epoch 116/200 : training Loss 0.002941: 100%|██████████| 313/313 [00:18<00:00, 16.48it/s]\n",
      "Epoch 116/200 : val Loss 0.003907: 100%|██████████| 79/79 [00:10<00:00,  7.47it/s]\n",
      "Epoch 117/200 : training Loss 0.002907: 100%|██████████| 313/313 [00:18<00:00, 16.51it/s]\n",
      "Epoch 117/200 : val Loss 0.004268: 100%|██████████| 79/79 [00:10<00:00,  7.44it/s]\n",
      "Epoch 118/200 : training Loss 0.002914: 100%|██████████| 313/313 [00:19<00:00, 16.41it/s]\n",
      "Epoch 118/200 : val Loss 0.003825: 100%|██████████| 79/79 [00:10<00:00,  7.51it/s]\n",
      "Epoch 119/200 : training Loss 0.002931: 100%|██████████| 313/313 [00:19<00:00, 16.46it/s]\n",
      "Epoch 119/200 : val Loss 0.00384: 100%|██████████| 79/79 [00:10<00:00,  7.47it/s] \n",
      "Epoch 120/200 : training Loss 0.002845: 100%|██████████| 313/313 [00:19<00:00, 16.26it/s]\n",
      "Epoch 120/200 : val Loss 0.003458: 100%|██████████| 79/79 [00:10<00:00,  7.50it/s]\n"
     ]
    },
    {
     "name": "stdout",
     "output_type": "stream",
     "text": [
      "saving best model val_acc : 0.8533\n"
     ]
    },
    {
     "name": "stderr",
     "output_type": "stream",
     "text": [
      "Epoch 121/200 : training Loss 0.002839: 100%|██████████| 313/313 [00:19<00:00, 16.33it/s]\n",
      "Epoch 121/200 : val Loss 0.003399: 100%|██████████| 79/79 [00:10<00:00,  7.46it/s]\n"
     ]
    },
    {
     "name": "stdout",
     "output_type": "stream",
     "text": [
      "saving best model val_acc : 0.8547\n"
     ]
    },
    {
     "name": "stderr",
     "output_type": "stream",
     "text": [
      "Epoch 122/200 : training Loss 0.002784: 100%|██████████| 313/313 [00:19<00:00, 16.35it/s]\n",
      "Epoch 122/200 : val Loss 0.003663: 100%|██████████| 79/79 [00:10<00:00,  7.47it/s]\n",
      "Epoch 123/200 : training Loss 0.002755: 100%|██████████| 313/313 [00:19<00:00, 16.47it/s]\n",
      "Epoch 123/200 : val Loss 0.003337: 100%|██████████| 79/79 [00:10<00:00,  7.47it/s]\n",
      "Epoch 124/200 : training Loss 0.002684: 100%|██████████| 313/313 [00:19<00:00, 16.42it/s]\n",
      "Epoch 124/200 : val Loss 0.003536: 100%|██████████| 79/79 [00:10<00:00,  7.49it/s]\n",
      "Epoch 125/200 : training Loss 0.002729: 100%|██████████| 313/313 [00:18<00:00, 16.49it/s]\n",
      "Epoch 125/200 : val Loss 0.004238: 100%|██████████| 79/79 [00:10<00:00,  7.45it/s]\n",
      "Epoch 126/200 : training Loss 0.002621: 100%|██████████| 313/313 [00:19<00:00, 16.46it/s]\n",
      "Epoch 126/200 : val Loss 0.004399: 100%|██████████| 79/79 [00:10<00:00,  7.47it/s]\n",
      "Epoch 127/200 : training Loss 0.002634: 100%|██████████| 313/313 [00:19<00:00, 16.46it/s]\n",
      "Epoch 127/200 : val Loss 0.003792: 100%|██████████| 79/79 [00:10<00:00,  7.47it/s]\n",
      "Epoch 128/200 : training Loss 0.002582: 100%|██████████| 313/313 [00:19<00:00, 16.43it/s]\n",
      "Epoch 128/200 : val Loss 0.003426: 100%|██████████| 79/79 [00:10<00:00,  7.49it/s]\n",
      "Epoch 129/200 : training Loss 0.002483: 100%|██████████| 313/313 [00:18<00:00, 16.48it/s]\n",
      "Epoch 129/200 : val Loss 0.003454: 100%|██████████| 79/79 [00:10<00:00,  7.46it/s]\n",
      "Epoch 130/200 : training Loss 0.002537: 100%|██████████| 313/313 [00:19<00:00, 16.45it/s]\n",
      "Epoch 130/200 : val Loss 0.003648: 100%|██████████| 79/79 [00:10<00:00,  7.49it/s]\n",
      "Epoch 131/200 : training Loss 0.002476: 100%|██████████| 313/313 [00:18<00:00, 16.49it/s]\n",
      "Epoch 131/200 : val Loss 0.003372: 100%|██████████| 79/79 [00:10<00:00,  7.45it/s]\n",
      "Epoch 132/200 : training Loss 0.002509: 100%|██████████| 313/313 [00:18<00:00, 16.51it/s]\n",
      "Epoch 132/200 : val Loss 0.00353: 100%|██████████| 79/79 [00:10<00:00,  7.63it/s] \n",
      "Epoch 133/200 : training Loss 0.002409: 100%|██████████| 313/313 [00:18<00:00, 17.36it/s]\n",
      "Epoch 133/200 : val Loss 0.003788: 100%|██████████| 79/79 [00:09<00:00,  7.94it/s]\n",
      "Epoch 134/200 : training Loss 0.002376: 100%|██████████| 313/313 [00:17<00:00, 17.42it/s]\n",
      "Epoch 134/200 : val Loss 0.003352: 100%|██████████| 79/79 [00:10<00:00,  7.88it/s]\n"
     ]
    },
    {
     "name": "stdout",
     "output_type": "stream",
     "text": [
      "saving best model val_acc : 0.8608\n"
     ]
    },
    {
     "name": "stderr",
     "output_type": "stream",
     "text": [
      "Epoch 135/200 : training Loss 0.002354: 100%|██████████| 313/313 [00:17<00:00, 17.59it/s]\n",
      "Epoch 135/200 : val Loss 0.003306: 100%|██████████| 79/79 [00:09<00:00,  7.94it/s]\n"
     ]
    },
    {
     "name": "stdout",
     "output_type": "stream",
     "text": [
      "saving best model val_acc : 0.8632\n"
     ]
    },
    {
     "name": "stderr",
     "output_type": "stream",
     "text": [
      "Epoch 136/200 : training Loss 0.002317: 100%|██████████| 313/313 [00:18<00:00, 17.33it/s]\n",
      "Epoch 136/200 : val Loss 0.003101: 100%|██████████| 79/79 [00:10<00:00,  7.86it/s]\n"
     ]
    },
    {
     "name": "stdout",
     "output_type": "stream",
     "text": [
      "saving best model val_acc : 0.8673\n"
     ]
    },
    {
     "name": "stderr",
     "output_type": "stream",
     "text": [
      "Epoch 137/200 : training Loss 0.002299: 100%|██████████| 313/313 [00:17<00:00, 17.48it/s]\n",
      "Epoch 137/200 : val Loss 0.002837: 100%|██████████| 79/79 [00:09<00:00,  8.01it/s]\n"
     ]
    },
    {
     "name": "stdout",
     "output_type": "stream",
     "text": [
      "saving best model val_acc : 0.8776\n"
     ]
    },
    {
     "name": "stderr",
     "output_type": "stream",
     "text": [
      "Epoch 138/200 : training Loss 0.002199: 100%|██████████| 313/313 [00:17<00:00, 17.47it/s]\n",
      "Epoch 138/200 : val Loss 0.003117: 100%|██████████| 79/79 [00:10<00:00,  7.88it/s]\n",
      "Epoch 139/200 : training Loss 0.00227: 100%|██████████| 313/313 [00:18<00:00, 17.36it/s] \n",
      "Epoch 139/200 : val Loss 0.003263: 100%|██████████| 79/79 [00:09<00:00,  7.93it/s]\n",
      "Epoch 140/200 : training Loss 0.002218: 100%|██████████| 313/313 [00:17<00:00, 17.40it/s]\n",
      "Epoch 140/200 : val Loss 0.003151: 100%|██████████| 79/79 [00:10<00:00,  7.90it/s]\n",
      "Epoch 141/200 : training Loss 0.002166: 100%|██████████| 313/313 [00:17<00:00, 17.58it/s]\n",
      "Epoch 141/200 : val Loss 0.002972: 100%|██████████| 79/79 [00:09<00:00,  7.92it/s]\n",
      "Epoch 142/200 : training Loss 0.002074: 100%|██████████| 313/313 [00:17<00:00, 17.41it/s]\n",
      "Epoch 142/200 : val Loss 0.003165: 100%|██████████| 79/79 [00:10<00:00,  7.90it/s]\n",
      "Epoch 143/200 : training Loss 0.002092: 100%|██████████| 313/313 [00:17<00:00, 17.56it/s]\n",
      "Epoch 143/200 : val Loss 0.003203: 100%|██████████| 79/79 [00:09<00:00,  7.93it/s]\n",
      "Epoch 144/200 : training Loss 0.002063: 100%|██████████| 313/313 [00:17<00:00, 17.49it/s]\n",
      "Epoch 144/200 : val Loss 0.003203: 100%|██████████| 79/79 [00:10<00:00,  7.84it/s]\n",
      "Epoch 145/200 : training Loss 0.001969: 100%|██████████| 313/313 [00:17<00:00, 17.53it/s]\n",
      "Epoch 145/200 : val Loss 0.003442: 100%|██████████| 79/79 [00:09<00:00,  7.94it/s]\n",
      "Epoch 146/200 : training Loss 0.001969: 100%|██████████| 313/313 [00:18<00:00, 17.38it/s]\n",
      "Epoch 146/200 : val Loss 0.002902: 100%|██████████| 79/79 [00:09<00:00,  7.92it/s]\n",
      "Epoch 147/200 : training Loss 0.001942: 100%|██████████| 313/313 [00:17<00:00, 17.47it/s]\n",
      "Epoch 147/200 : val Loss 0.003038: 100%|██████████| 79/79 [00:09<00:00,  8.00it/s]\n",
      "Epoch 148/200 : training Loss 0.001896: 100%|██████████| 313/313 [00:17<00:00, 17.53it/s]\n",
      "Epoch 148/200 : val Loss 0.003468: 100%|██████████| 79/79 [00:10<00:00,  7.82it/s]\n",
      "Epoch 149/200 : training Loss 0.001813: 100%|██████████| 313/313 [00:17<00:00, 17.54it/s]\n",
      "Epoch 149/200 : val Loss 0.002817: 100%|██████████| 79/79 [00:10<00:00,  7.79it/s]\n"
     ]
    },
    {
     "name": "stdout",
     "output_type": "stream",
     "text": [
      "saving best model val_acc : 0.8828\n"
     ]
    },
    {
     "name": "stderr",
     "output_type": "stream",
     "text": [
      "Epoch 150/200 : training Loss 0.001778: 100%|██████████| 313/313 [00:18<00:00, 17.32it/s]\n",
      "Epoch 150/200 : val Loss 0.002758: 100%|██████████| 79/79 [00:10<00:00,  7.83it/s]\n",
      "Epoch 151/200 : training Loss 0.001744: 100%|██████████| 313/313 [00:17<00:00, 17.52it/s]\n",
      "Epoch 151/200 : val Loss 0.002791: 100%|██████████| 79/79 [00:09<00:00,  7.95it/s]\n"
     ]
    },
    {
     "name": "stdout",
     "output_type": "stream",
     "text": [
      "saving best model val_acc : 0.8833\n"
     ]
    },
    {
     "name": "stderr",
     "output_type": "stream",
     "text": [
      "Epoch 152/200 : training Loss 0.001723: 100%|██████████| 313/313 [00:17<00:00, 17.57it/s]\n",
      "Epoch 152/200 : val Loss 0.002986: 100%|██████████| 79/79 [00:10<00:00,  7.80it/s]\n",
      "Epoch 153/200 : training Loss 0.001672: 100%|██████████| 313/313 [00:18<00:00, 17.37it/s]\n",
      "Epoch 153/200 : val Loss 0.00285: 100%|██████████| 79/79 [00:09<00:00,  7.91it/s] \n",
      "Epoch 154/200 : training Loss 0.001613: 100%|██████████| 313/313 [00:17<00:00, 17.59it/s]\n",
      "Epoch 154/200 : val Loss 0.002781: 100%|██████████| 79/79 [00:09<00:00,  7.92it/s]\n",
      "Epoch 155/200 : training Loss 0.001597: 100%|██████████| 313/313 [00:17<00:00, 17.44it/s]\n",
      "Epoch 155/200 : val Loss 0.002711: 100%|██████████| 79/79 [00:10<00:00,  7.88it/s]\n"
     ]
    },
    {
     "name": "stdout",
     "output_type": "stream",
     "text": [
      "saving best model val_acc : 0.8859\n"
     ]
    },
    {
     "name": "stderr",
     "output_type": "stream",
     "text": [
      "Epoch 156/200 : training Loss 0.00152: 100%|██████████| 313/313 [00:17<00:00, 17.63it/s] \n",
      "Epoch 156/200 : val Loss 0.002616: 100%|██████████| 79/79 [00:09<00:00,  7.90it/s]\n"
     ]
    },
    {
     "name": "stdout",
     "output_type": "stream",
     "text": [
      "saving best model val_acc : 0.8897\n"
     ]
    },
    {
     "name": "stderr",
     "output_type": "stream",
     "text": [
      "Epoch 157/200 : training Loss 0.001469: 100%|██████████| 313/313 [00:17<00:00, 17.44it/s]\n",
      "Epoch 157/200 : val Loss 0.002795: 100%|██████████| 79/79 [00:10<00:00,  7.89it/s]\n",
      "Epoch 158/200 : training Loss 0.001456: 100%|██████████| 313/313 [00:18<00:00, 17.32it/s]\n",
      "Epoch 158/200 : val Loss 0.002692: 100%|██████████| 79/79 [00:10<00:00,  7.83it/s]\n",
      "Epoch 159/200 : training Loss 0.001447: 100%|██████████| 313/313 [00:17<00:00, 17.41it/s]\n",
      "Epoch 159/200 : val Loss 0.002519: 100%|██████████| 79/79 [00:10<00:00,  7.88it/s]\n"
     ]
    },
    {
     "name": "stdout",
     "output_type": "stream",
     "text": [
      "saving best model val_acc : 0.8936\n"
     ]
    },
    {
     "name": "stderr",
     "output_type": "stream",
     "text": [
      "Epoch 160/200 : training Loss 0.001375: 100%|██████████| 313/313 [00:18<00:00, 17.32it/s]\n",
      "Epoch 160/200 : val Loss 0.002824: 100%|██████████| 79/79 [00:10<00:00,  7.84it/s]\n",
      "Epoch 161/200 : training Loss 0.001329: 100%|██████████| 313/313 [00:17<00:00, 17.44it/s]\n",
      "Epoch 161/200 : val Loss 0.002571: 100%|██████████| 79/79 [00:10<00:00,  7.86it/s]\n",
      "Epoch 162/200 : training Loss 0.001285: 100%|██████████| 313/313 [00:18<00:00, 17.35it/s]\n",
      "Epoch 162/200 : val Loss 0.002608: 100%|██████████| 79/79 [00:09<00:00,  8.00it/s]\n",
      "Epoch 163/200 : training Loss 0.001228: 100%|██████████| 313/313 [00:18<00:00, 17.30it/s]\n",
      "Epoch 163/200 : val Loss 0.002554: 100%|██████████| 79/79 [00:09<00:00,  7.92it/s]\n"
     ]
    },
    {
     "name": "stdout",
     "output_type": "stream",
     "text": [
      "saving best model val_acc : 0.8944\n"
     ]
    },
    {
     "name": "stderr",
     "output_type": "stream",
     "text": [
      "Epoch 164/200 : training Loss 0.001172: 100%|██████████| 313/313 [00:17<00:00, 17.60it/s]\n",
      "Epoch 164/200 : val Loss 0.002736: 100%|██████████| 79/79 [00:09<00:00,  7.93it/s]\n",
      "Epoch 165/200 : training Loss 0.00117: 100%|██████████| 313/313 [00:18<00:00, 17.32it/s] \n",
      "Epoch 165/200 : val Loss 0.002581: 100%|██████████| 79/79 [00:10<00:00,  7.82it/s]\n"
     ]
    },
    {
     "name": "stdout",
     "output_type": "stream",
     "text": [
      "saving best model val_acc : 0.8951\n"
     ]
    },
    {
     "name": "stderr",
     "output_type": "stream",
     "text": [
      "Epoch 166/200 : training Loss 0.001103: 100%|██████████| 313/313 [00:17<00:00, 17.45it/s]\n",
      "Epoch 166/200 : val Loss 0.002575: 100%|██████████| 79/79 [00:09<00:00,  7.94it/s]\n"
     ]
    },
    {
     "name": "stdout",
     "output_type": "stream",
     "text": [
      "saving best model val_acc : 0.8958\n"
     ]
    },
    {
     "name": "stderr",
     "output_type": "stream",
     "text": [
      "Epoch 167/200 : training Loss 0.00106: 100%|██████████| 313/313 [00:17<00:00, 17.49it/s] \n",
      "Epoch 167/200 : val Loss 0.002649: 100%|██████████| 79/79 [00:10<00:00,  7.86it/s]\n",
      "Epoch 168/200 : training Loss 0.001025: 100%|██████████| 313/313 [00:18<00:00, 17.34it/s]\n",
      "Epoch 168/200 : val Loss 0.002719: 100%|██████████| 79/79 [00:09<00:00,  7.96it/s]\n",
      "Epoch 169/200 : training Loss 0.000963: 100%|██████████| 313/313 [00:17<00:00, 17.42it/s]\n",
      "Epoch 169/200 : val Loss 0.002253: 100%|██████████| 79/79 [00:10<00:00,  7.88it/s]\n"
     ]
    },
    {
     "name": "stdout",
     "output_type": "stream",
     "text": [
      "saving best model val_acc : 0.9077\n"
     ]
    },
    {
     "name": "stderr",
     "output_type": "stream",
     "text": [
      "Epoch 170/200 : training Loss 0.000908: 100%|██████████| 313/313 [00:18<00:00, 17.29it/s]\n",
      "Epoch 170/200 : val Loss 0.002352: 100%|██████████| 79/79 [00:10<00:00,  7.87it/s]\n",
      "Epoch 171/200 : training Loss 0.00086: 100%|██████████| 313/313 [00:17<00:00, 17.45it/s] \n",
      "Epoch 171/200 : val Loss 0.002339: 100%|██████████| 79/79 [00:10<00:00,  7.85it/s]\n",
      "Epoch 172/200 : training Loss 0.0008: 100%|██████████| 313/313 [00:17<00:00, 17.52it/s]  \n",
      "Epoch 172/200 : val Loss 0.002473: 100%|██████████| 79/79 [00:09<00:00,  7.96it/s]\n",
      "Epoch 173/200 : training Loss 0.000782: 100%|██████████| 313/313 [00:18<00:00, 17.33it/s]\n",
      "Epoch 173/200 : val Loss 0.0024: 100%|██████████| 79/79 [00:09<00:00,  7.96it/s]  \n",
      "Epoch 174/200 : training Loss 0.000737: 100%|██████████| 313/313 [00:17<00:00, 17.54it/s]\n",
      "Epoch 174/200 : val Loss 0.002342: 100%|██████████| 79/79 [00:09<00:00,  7.96it/s]\n",
      "Epoch 175/200 : training Loss 0.000715: 100%|██████████| 313/313 [00:17<00:00, 17.49it/s]\n",
      "Epoch 175/200 : val Loss 0.002295: 100%|██████████| 79/79 [00:10<00:00,  7.83it/s]\n",
      "Epoch 176/200 : training Loss 0.000669: 100%|██████████| 313/313 [00:17<00:00, 17.57it/s]\n",
      "Epoch 176/200 : val Loss 0.002353: 100%|██████████| 79/79 [00:09<00:00,  7.91it/s]\n",
      "Epoch 177/200 : training Loss 0.000604: 100%|██████████| 313/313 [00:17<00:00, 17.52it/s]\n",
      "Epoch 177/200 : val Loss 0.002249: 100%|██████████| 79/79 [00:10<00:00,  7.82it/s]\n"
     ]
    },
    {
     "name": "stdout",
     "output_type": "stream",
     "text": [
      "saving best model val_acc : 0.9099\n"
     ]
    },
    {
     "name": "stderr",
     "output_type": "stream",
     "text": [
      "Epoch 178/200 : training Loss 0.000595: 100%|██████████| 313/313 [00:17<00:00, 17.54it/s]\n",
      "Epoch 178/200 : val Loss 0.002346: 100%|██████████| 79/79 [00:10<00:00,  7.83it/s]\n",
      "Epoch 179/200 : training Loss 0.000535: 100%|██████████| 313/313 [00:17<00:00, 17.54it/s]\n",
      "Epoch 179/200 : val Loss 0.002329: 100%|██████████| 79/79 [00:09<00:00,  7.94it/s]\n",
      "Epoch 180/200 : training Loss 0.000507: 100%|██████████| 313/313 [00:17<00:00, 17.45it/s]\n",
      "Epoch 180/200 : val Loss 0.002307: 100%|██████████| 79/79 [00:10<00:00,  7.85it/s]\n"
     ]
    },
    {
     "name": "stdout",
     "output_type": "stream",
     "text": [
      "saving best model val_acc : 0.9111\n"
     ]
    },
    {
     "name": "stderr",
     "output_type": "stream",
     "text": [
      "Epoch 181/200 : training Loss 0.000467: 100%|██████████| 313/313 [00:17<00:00, 17.48it/s]\n",
      "Epoch 181/200 : val Loss 0.002394: 100%|██████████| 79/79 [00:10<00:00,  7.89it/s]\n",
      "Epoch 182/200 : training Loss 0.000443: 100%|██████████| 313/313 [00:17<00:00, 17.57it/s]\n",
      "Epoch 182/200 : val Loss 0.002284: 100%|██████████| 79/79 [00:09<00:00,  7.91it/s]\n"
     ]
    },
    {
     "name": "stdout",
     "output_type": "stream",
     "text": [
      "saving best model val_acc : 0.9112\n"
     ]
    },
    {
     "name": "stderr",
     "output_type": "stream",
     "text": [
      "Epoch 183/200 : training Loss 0.000415: 100%|██████████| 313/313 [00:18<00:00, 17.38it/s]\n",
      "Epoch 183/200 : val Loss 0.002294: 100%|██████████| 79/79 [00:09<00:00,  7.96it/s]\n",
      "Epoch 184/200 : training Loss 0.000401: 100%|██████████| 313/313 [00:17<00:00, 17.52it/s]\n",
      "Epoch 184/200 : val Loss 0.002256: 100%|██████████| 79/79 [00:10<00:00,  7.81it/s]\n"
     ]
    },
    {
     "name": "stdout",
     "output_type": "stream",
     "text": [
      "saving best model val_acc : 0.9137\n"
     ]
    },
    {
     "name": "stderr",
     "output_type": "stream",
     "text": [
      "Epoch 185/200 : training Loss 0.000378: 100%|██████████| 313/313 [00:17<00:00, 17.53it/s]\n",
      "Epoch 185/200 : val Loss 0.002287: 100%|██████████| 79/79 [00:10<00:00,  7.83it/s]\n"
     ]
    },
    {
     "name": "stdout",
     "output_type": "stream",
     "text": [
      "saving best model val_acc : 0.9159\n"
     ]
    },
    {
     "name": "stderr",
     "output_type": "stream",
     "text": [
      "Epoch 186/200 : training Loss 0.000361: 100%|██████████| 313/313 [00:18<00:00, 17.36it/s]\n",
      "Epoch 186/200 : val Loss 0.002334: 100%|██████████| 79/79 [00:09<00:00,  7.95it/s]\n",
      "Epoch 187/200 : training Loss 0.000338: 100%|██████████| 313/313 [00:17<00:00, 17.57it/s]\n",
      "Epoch 187/200 : val Loss 0.002306: 100%|██████████| 79/79 [00:09<00:00,  7.92it/s]\n"
     ]
    },
    {
     "name": "stdout",
     "output_type": "stream",
     "text": [
      "saving best model val_acc : 0.9161\n"
     ]
    },
    {
     "name": "stderr",
     "output_type": "stream",
     "text": [
      "Epoch 188/200 : training Loss 0.000337: 100%|██████████| 313/313 [00:18<00:00, 17.31it/s]\n",
      "Epoch 188/200 : val Loss 0.002267: 100%|██████████| 79/79 [00:10<00:00,  7.88it/s]\n",
      "Epoch 189/200 : training Loss 0.000305: 100%|██████████| 313/313 [00:17<00:00, 17.54it/s]\n",
      "Epoch 189/200 : val Loss 0.002233: 100%|██████████| 79/79 [00:09<00:00,  7.94it/s]\n"
     ]
    },
    {
     "name": "stdout",
     "output_type": "stream",
     "text": [
      "saving best model val_acc : 0.9176\n"
     ]
    },
    {
     "name": "stderr",
     "output_type": "stream",
     "text": [
      "Epoch 190/200 : training Loss 0.000279: 100%|██████████| 313/313 [00:18<00:00, 17.24it/s]\n",
      "Epoch 190/200 : val Loss 0.002375: 100%|██████████| 79/79 [00:10<00:00,  7.90it/s]\n",
      "Epoch 191/200 : training Loss 0.000288: 100%|██████████| 313/313 [00:17<00:00, 17.41it/s]\n",
      "Epoch 191/200 : val Loss 0.002251: 100%|██████████| 79/79 [00:10<00:00,  7.89it/s]\n",
      "Epoch 192/200 : training Loss 0.000276: 100%|██████████| 313/313 [00:18<00:00, 17.29it/s]\n",
      "Epoch 192/200 : val Loss 0.002374: 100%|██████████| 79/79 [00:10<00:00,  7.84it/s]\n",
      "Epoch 193/200 : training Loss 0.000278: 100%|██████████| 313/313 [00:17<00:00, 17.46it/s]\n",
      "Epoch 193/200 : val Loss 0.002406: 100%|██████████| 79/79 [00:10<00:00,  7.86it/s]\n",
      "Epoch 194/200 : training Loss 0.000276: 100%|██████████| 313/313 [00:17<00:00, 17.40it/s]\n",
      "Epoch 194/200 : val Loss 0.002393: 100%|██████████| 79/79 [00:09<00:00,  7.90it/s]\n",
      "Epoch 195/200 : training Loss 0.000264: 100%|██████████| 313/313 [00:17<00:00, 17.51it/s]\n",
      "Epoch 195/200 : val Loss 0.002282: 100%|██████████| 79/79 [00:09<00:00,  7.97it/s]\n",
      "Epoch 196/200 : training Loss 0.000251: 100%|██████████| 313/313 [00:18<00:00, 17.24it/s]\n",
      "Epoch 196/200 : val Loss 0.002255: 100%|██████████| 79/79 [00:10<00:00,  7.89it/s]\n"
     ]
    },
    {
     "name": "stdout",
     "output_type": "stream",
     "text": [
      "saving best model val_acc : 0.9181\n"
     ]
    },
    {
     "name": "stderr",
     "output_type": "stream",
     "text": [
      "Epoch 197/200 : training Loss 0.000244: 100%|██████████| 313/313 [00:17<00:00, 17.60it/s]\n",
      "Epoch 197/200 : val Loss 0.002353: 100%|██████████| 79/79 [00:09<00:00,  7.92it/s]\n",
      "Epoch 198/200 : training Loss 0.000252: 100%|██████████| 313/313 [00:18<00:00, 17.25it/s]\n",
      "Epoch 198/200 : val Loss 0.002239: 100%|██████████| 79/79 [00:10<00:00,  7.86it/s]\n",
      "Epoch 199/200 : training Loss 0.000243: 100%|██████████| 313/313 [00:17<00:00, 17.59it/s]\n",
      "Epoch 199/200 : val Loss 0.002277: 100%|██████████| 79/79 [00:09<00:00,  7.92it/s]\n",
      "Epoch 200/200 : training Loss 0.000249: 100%|██████████| 313/313 [00:17<00:00, 17.43it/s]\n",
      "Epoch 200/200 : val Loss 0.002286: 100%|██████████| 79/79 [00:10<00:00,  7.87it/s]\n"
     ]
    },
    {
     "data": {
      "image/png": "[encoded data removed]",
      "text/plain": [
       "<Figure size 1200x500 with 2 Axes>"
      ]
     },
     "metadata": {},
     "output_type": "display_data"
    }
   ],
   "source": [
    "# Initialize MobileNetV2 & Train\n",
    "mobilenet = MobileNetV2(num_classes=NUM_CLASSES)\n",
    "\n",
    "mobilenet = mobilenet.to(DEVICE)\n",
    "\n",
    "summary(mobilenet, (3, 32, 32))\n",
    "\n",
    "train_data = train_model(mobilenet, DEVICE, 'mobilenetv2', learning_rate=0.1)\n",
    "\n",
    "training_summary(*train_data)\n"
   ]
  },
  {
   "cell_type": "markdown",
   "metadata": {},
   "source": [
    "## **ResNet18**"
   ]
  },
  {
   "cell_type": "code",
   "execution_count": 50,
   "metadata": {},
   "outputs": [
    {
     "name": "stdout",
     "output_type": "stream",
     "text": [
      "----------------------------------------------------------------\n",
      "        Layer (type)               Output Shape         Param #\n",
      "================================================================\n",
      "            Conv2d-1           [-1, 64, 32, 32]           1,728\n",
      "       BatchNorm2d-2           [-1, 64, 32, 32]             128\n",
      "            Conv2d-3           [-1, 64, 32, 32]          36,864\n",
      "       BatchNorm2d-4           [-1, 64, 32, 32]             128\n",
      "            Conv2d-5           [-1, 64, 32, 32]          36,864\n",
      "       BatchNorm2d-6           [-1, 64, 32, 32]             128\n",
      "        BasicBlock-7           [-1, 64, 32, 32]               0\n",
      "            Conv2d-8           [-1, 64, 32, 32]          36,864\n",
      "       BatchNorm2d-9           [-1, 64, 32, 32]             128\n",
      "           Conv2d-10           [-1, 64, 32, 32]          36,864\n",
      "      BatchNorm2d-11           [-1, 64, 32, 32]             128\n",
      "       BasicBlock-12           [-1, 64, 32, 32]               0\n",
      "           Conv2d-13          [-1, 128, 16, 16]          73,728\n",
      "      BatchNorm2d-14          [-1, 128, 16, 16]             256\n",
      "           Conv2d-15          [-1, 128, 16, 16]         147,456\n",
      "      BatchNorm2d-16          [-1, 128, 16, 16]             256\n",
      "           Conv2d-17          [-1, 128, 16, 16]           8,192\n",
      "      BatchNorm2d-18          [-1, 128, 16, 16]             256\n",
      "       BasicBlock-19          [-1, 128, 16, 16]               0\n",
      "           Conv2d-20          [-1, 128, 16, 16]         147,456\n",
      "      BatchNorm2d-21          [-1, 128, 16, 16]             256\n",
      "           Conv2d-22          [-1, 128, 16, 16]         147,456\n",
      "      BatchNorm2d-23          [-1, 128, 16, 16]             256\n",
      "       BasicBlock-24          [-1, 128, 16, 16]               0\n",
      "           Conv2d-25            [-1, 256, 8, 8]         294,912\n",
      "      BatchNorm2d-26            [-1, 256, 8, 8]             512\n",
      "           Conv2d-27            [-1, 256, 8, 8]         589,824\n",
      "      BatchNorm2d-28            [-1, 256, 8, 8]             512\n",
      "           Conv2d-29            [-1, 256, 8, 8]          32,768\n",
      "      BatchNorm2d-30            [-1, 256, 8, 8]             512\n",
      "       BasicBlock-31            [-1, 256, 8, 8]               0\n",
      "           Conv2d-32            [-1, 256, 8, 8]         589,824\n",
      "      BatchNorm2d-33            [-1, 256, 8, 8]             512\n",
      "           Conv2d-34            [-1, 256, 8, 8]         589,824\n",
      "      BatchNorm2d-35            [-1, 256, 8, 8]             512\n",
      "       BasicBlock-36            [-1, 256, 8, 8]               0\n",
      "           Conv2d-37            [-1, 512, 4, 4]       1,179,648\n",
      "      BatchNorm2d-38            [-1, 512, 4, 4]           1,024\n",
      "           Conv2d-39            [-1, 512, 4, 4]       2,359,296\n",
      "      BatchNorm2d-40            [-1, 512, 4, 4]           1,024\n",
      "           Conv2d-41            [-1, 512, 4, 4]         131,072\n",
      "      BatchNorm2d-42            [-1, 512, 4, 4]           1,024\n",
      "       BasicBlock-43            [-1, 512, 4, 4]               0\n",
      "           Conv2d-44            [-1, 512, 4, 4]       2,359,296\n",
      "      BatchNorm2d-45            [-1, 512, 4, 4]           1,024\n",
      "           Conv2d-46            [-1, 512, 4, 4]       2,359,296\n",
      "      BatchNorm2d-47            [-1, 512, 4, 4]           1,024\n",
      "       BasicBlock-48            [-1, 512, 4, 4]               0\n",
      "           Linear-49                   [-1, 10]           5,130\n",
      "================================================================\n",
      "Total params: 11,173,962\n",
      "Trainable params: 11,173,962\n",
      "Non-trainable params: 0\n",
      "----------------------------------------------------------------\n",
      "Input size (MB): 0.01\n",
      "Forward/backward pass size (MB): 11.25\n",
      "Params size (MB): 42.63\n",
      "Estimated Total Size (MB): 53.89\n",
      "----------------------------------------------------------------\n"
     ]
    },
    {
     "name": "stderr",
     "output_type": "stream",
     "text": [
      "Epoch 1/200 : training Loss 0:   0%|          | 0/313 [00:00<?, ?it/s]"
     ]
    },
    {
     "name": "stderr",
     "output_type": "stream",
     "text": [
      "Epoch 1/200 : training Loss 0.015694: 100%|██████████| 313/313 [00:17<00:00, 18.02it/s]\n",
      "Epoch 1/200 : val Loss 0.014424: 100%|██████████| 79/79 [00:09<00:00,  8.06it/s]\n"
     ]
    },
    {
     "name": "stdout",
     "output_type": "stream",
     "text": [
      "saving best model val_acc : 0.3456\n"
     ]
    },
    {
     "name": "stderr",
     "output_type": "stream",
     "text": [
      "Epoch 2/200 : training Loss 0.012138: 100%|██████████| 313/313 [00:17<00:00, 18.34it/s]\n",
      "Epoch 2/200 : val Loss 0.014121: 100%|██████████| 79/79 [00:09<00:00,  8.02it/s]\n"
     ]
    },
    {
     "name": "stdout",
     "output_type": "stream",
     "text": [
      "saving best model val_acc : 0.3708\n"
     ]
    },
    {
     "name": "stderr",
     "output_type": "stream",
     "text": [
      "Epoch 3/200 : training Loss 0.01039: 100%|██████████| 313/313 [00:17<00:00, 18.09it/s] \n",
      "Epoch 3/200 : val Loss 0.01296: 100%|██████████| 79/79 [00:09<00:00,  8.04it/s] \n"
     ]
    },
    {
     "name": "stdout",
     "output_type": "stream",
     "text": [
      "saving best model val_acc : 0.4548\n"
     ]
    },
    {
     "name": "stderr",
     "output_type": "stream",
     "text": [
      "Epoch 4/200 : training Loss 0.008837: 100%|██████████| 313/313 [00:17<00:00, 18.10it/s]\n",
      "Epoch 4/200 : val Loss 0.011364: 100%|██████████| 79/79 [00:09<00:00,  8.01it/s]\n"
     ]
    },
    {
     "name": "stdout",
     "output_type": "stream",
     "text": [
      "saving best model val_acc : 0.4981\n"
     ]
    },
    {
     "name": "stderr",
     "output_type": "stream",
     "text": [
      "Epoch 5/200 : training Loss 0.007786: 100%|██████████| 313/313 [00:17<00:00, 18.13it/s]\n",
      "Epoch 5/200 : val Loss 0.010312: 100%|██████████| 79/79 [00:09<00:00,  8.00it/s]\n"
     ]
    },
    {
     "name": "stdout",
     "output_type": "stream",
     "text": [
      "saving best model val_acc : 0.5425\n"
     ]
    },
    {
     "name": "stderr",
     "output_type": "stream",
     "text": [
      "Epoch 6/200 : training Loss 0.006964: 100%|██████████| 313/313 [00:17<00:00, 18.11it/s]\n",
      "Epoch 6/200 : val Loss 0.009263: 100%|██████████| 79/79 [00:09<00:00,  8.01it/s]\n"
     ]
    },
    {
     "name": "stdout",
     "output_type": "stream",
     "text": [
      "saving best model val_acc : 0.5802\n"
     ]
    },
    {
     "name": "stderr",
     "output_type": "stream",
     "text": [
      "Epoch 7/200 : training Loss 0.006291: 100%|██████████| 313/313 [00:17<00:00, 18.15it/s]\n",
      "Epoch 7/200 : val Loss 0.006556: 100%|██████████| 79/79 [00:09<00:00,  8.00it/s]\n"
     ]
    },
    {
     "name": "stdout",
     "output_type": "stream",
     "text": [
      "saving best model val_acc : 0.7095\n"
     ]
    },
    {
     "name": "stderr",
     "output_type": "stream",
     "text": [
      "Epoch 8/200 : training Loss 0.005561: 100%|██████████| 313/313 [00:17<00:00, 18.12it/s]\n",
      "Epoch 8/200 : val Loss 0.008563: 100%|██████████| 79/79 [00:09<00:00,  8.00it/s]\n",
      "Epoch 9/200 : training Loss 0.005065: 100%|██████████| 313/313 [00:17<00:00, 18.25it/s]\n",
      "Epoch 9/200 : val Loss 0.006044: 100%|██████████| 79/79 [00:09<00:00,  8.03it/s]\n"
     ]
    },
    {
     "name": "stdout",
     "output_type": "stream",
     "text": [
      "saving best model val_acc : 0.7341\n"
     ]
    },
    {
     "name": "stderr",
     "output_type": "stream",
     "text": [
      "Epoch 10/200 : training Loss 0.004696: 100%|██████████| 313/313 [00:17<00:00, 18.10it/s]\n",
      "Epoch 10/200 : val Loss 0.006315: 100%|██████████| 79/79 [00:09<00:00,  8.02it/s]\n",
      "Epoch 11/200 : training Loss 0.004431: 100%|██████████| 313/313 [00:17<00:00, 18.29it/s]\n",
      "Epoch 11/200 : val Loss 0.008639: 100%|██████████| 79/79 [00:09<00:00,  8.01it/s]\n",
      "Epoch 12/200 : training Loss 0.004269: 100%|██████████| 313/313 [00:17<00:00, 18.29it/s]\n",
      "Epoch 12/200 : val Loss 0.01085: 100%|██████████| 79/79 [00:09<00:00,  8.00it/s] \n",
      "Epoch 13/200 : training Loss 0.004052: 100%|██████████| 313/313 [00:17<00:00, 18.07it/s]\n",
      "Epoch 13/200 : val Loss 0.008122: 100%|██████████| 79/79 [00:09<00:00,  8.00it/s]\n",
      "Epoch 14/200 : training Loss 0.003954: 100%|██████████| 313/313 [00:17<00:00, 18.06it/s]\n",
      "Epoch 14/200 : val Loss 0.005131: 100%|██████████| 79/79 [00:09<00:00,  8.02it/s]\n"
     ]
    },
    {
     "name": "stdout",
     "output_type": "stream",
     "text": [
      "saving best model val_acc : 0.7722\n"
     ]
    },
    {
     "name": "stderr",
     "output_type": "stream",
     "text": [
      "Epoch 15/200 : training Loss 0.003774: 100%|██████████| 313/313 [00:17<00:00, 18.12it/s]\n",
      "Epoch 15/200 : val Loss 0.004729: 100%|██████████| 79/79 [00:09<00:00,  8.02it/s]\n"
     ]
    },
    {
     "name": "stdout",
     "output_type": "stream",
     "text": [
      "saving best model val_acc : 0.8001\n"
     ]
    },
    {
     "name": "stderr",
     "output_type": "stream",
     "text": [
      "Epoch 16/200 : training Loss 0.003658: 100%|██████████| 313/313 [00:17<00:00, 18.29it/s]\n",
      "Epoch 16/200 : val Loss 0.004647: 100%|██████████| 79/79 [00:09<00:00,  8.03it/s]\n"
     ]
    },
    {
     "name": "stdout",
     "output_type": "stream",
     "text": [
      "saving best model val_acc : 0.8051\n"
     ]
    },
    {
     "name": "stderr",
     "output_type": "stream",
     "text": [
      "Epoch 17/200 : training Loss 0.00362: 100%|██████████| 313/313 [00:17<00:00, 18.33it/s] \n",
      "Epoch 17/200 : val Loss 0.004944: 100%|██████████| 79/79 [00:09<00:00,  8.00it/s]\n",
      "Epoch 18/200 : training Loss 0.003468: 100%|██████████| 313/313 [00:17<00:00, 18.06it/s]\n",
      "Epoch 18/200 : val Loss 0.005461: 100%|██████████| 79/79 [00:09<00:00,  8.02it/s]\n",
      "Epoch 19/200 : training Loss 0.003451: 100%|██████████| 313/313 [00:17<00:00, 18.08it/s]\n",
      "Epoch 19/200 : val Loss 0.005858: 100%|██████████| 79/79 [00:09<00:00,  8.01it/s]\n",
      "Epoch 20/200 : training Loss 0.003368: 100%|██████████| 313/313 [00:17<00:00, 18.28it/s]\n",
      "Epoch 20/200 : val Loss 0.004374: 100%|██████████| 79/79 [00:10<00:00,  7.86it/s]\n"
     ]
    },
    {
     "name": "stdout",
     "output_type": "stream",
     "text": [
      "saving best model val_acc : 0.8111\n"
     ]
    },
    {
     "name": "stderr",
     "output_type": "stream",
     "text": [
      "Epoch 21/200 : training Loss 0.003293: 100%|██████████| 313/313 [00:17<00:00, 18.31it/s]\n",
      "Epoch 21/200 : val Loss 0.004391: 100%|██████████| 79/79 [00:09<00:00,  8.00it/s]\n",
      "Epoch 22/200 : training Loss 0.003239: 100%|██████████| 313/313 [00:17<00:00, 18.29it/s]\n",
      "Epoch 22/200 : val Loss 0.005166: 100%|██████████| 79/79 [00:09<00:00,  8.02it/s]\n",
      "Epoch 23/200 : training Loss 0.003176: 100%|██████████| 313/313 [00:17<00:00, 18.05it/s]\n",
      "Epoch 23/200 : val Loss 0.004381: 100%|██████████| 79/79 [00:09<00:00,  8.02it/s]\n"
     ]
    },
    {
     "name": "stdout",
     "output_type": "stream",
     "text": [
      "saving best model val_acc : 0.8180\n"
     ]
    },
    {
     "name": "stderr",
     "output_type": "stream",
     "text": [
      "Epoch 24/200 : training Loss 0.003145: 100%|██████████| 313/313 [00:17<00:00, 18.13it/s]\n",
      "Epoch 24/200 : val Loss 0.004875: 100%|██████████| 79/79 [00:09<00:00,  7.99it/s]\n",
      "Epoch 25/200 : training Loss 0.003124: 100%|██████████| 313/313 [00:17<00:00, 18.31it/s]\n",
      "Epoch 25/200 : val Loss 0.007866: 100%|██████████| 79/79 [00:09<00:00,  8.00it/s]\n",
      "Epoch 26/200 : training Loss 0.00311: 100%|██████████| 313/313 [00:17<00:00, 18.28it/s] \n",
      "Epoch 26/200 : val Loss 0.004774: 100%|██████████| 79/79 [00:09<00:00,  8.01it/s]\n",
      "Epoch 27/200 : training Loss 0.002981: 100%|██████████| 313/313 [00:17<00:00, 18.26it/s]\n",
      "Epoch 27/200 : val Loss 0.003923: 100%|██████████| 79/79 [00:09<00:00,  8.02it/s]\n"
     ]
    },
    {
     "name": "stdout",
     "output_type": "stream",
     "text": [
      "saving best model val_acc : 0.8327\n"
     ]
    },
    {
     "name": "stderr",
     "output_type": "stream",
     "text": [
      "Epoch 28/200 : training Loss 0.002971: 100%|██████████| 313/313 [00:17<00:00, 18.12it/s]\n",
      "Epoch 28/200 : val Loss 0.005628: 100%|██████████| 79/79 [00:09<00:00,  8.01it/s]\n",
      "Epoch 29/200 : training Loss 0.002985: 100%|██████████| 313/313 [00:17<00:00, 18.24it/s]\n",
      "Epoch 29/200 : val Loss 0.005607: 100%|██████████| 79/79 [00:09<00:00,  8.03it/s]\n",
      "Epoch 30/200 : training Loss 0.002909: 100%|██████████| 313/313 [00:17<00:00, 18.27it/s]\n",
      "Epoch 30/200 : val Loss 0.004067: 100%|██████████| 79/79 [00:09<00:00,  8.03it/s]\n",
      "Epoch 31/200 : training Loss 0.002865: 100%|██████████| 313/313 [00:17<00:00, 18.02it/s]\n",
      "Epoch 31/200 : val Loss 0.006687: 100%|██████████| 79/79 [00:09<00:00,  8.20it/s]\n",
      "Epoch 32/200 : training Loss 0.00283: 100%|██████████| 313/313 [00:17<00:00, 18.07it/s] \n",
      "Epoch 32/200 : val Loss 0.004182: 100%|██████████| 79/79 [00:09<00:00,  8.01it/s]\n",
      "Epoch 33/200 : training Loss 0.002807: 100%|██████████| 313/313 [00:17<00:00, 18.07it/s]\n",
      "Epoch 33/200 : val Loss 0.005879: 100%|██████████| 79/79 [00:09<00:00,  8.02it/s]\n",
      "Epoch 34/200 : training Loss 0.00277: 100%|██████████| 313/313 [00:17<00:00, 18.28it/s] \n",
      "Epoch 34/200 : val Loss 0.007151: 100%|██████████| 79/79 [00:09<00:00,  8.00it/s]\n",
      "Epoch 35/200 : training Loss 0.002702: 100%|██████████| 313/313 [00:17<00:00, 18.28it/s]\n",
      "Epoch 35/200 : val Loss 0.004874: 100%|██████████| 79/79 [00:09<00:00,  8.01it/s]\n",
      "Epoch 36/200 : training Loss 0.002733: 100%|██████████| 313/313 [00:17<00:00, 18.07it/s]\n",
      "Epoch 36/200 : val Loss 0.004569: 100%|██████████| 79/79 [00:09<00:00,  8.01it/s]\n",
      "Epoch 37/200 : training Loss 0.002666: 100%|██████████| 313/313 [00:17<00:00, 18.25it/s]\n",
      "Epoch 37/200 : val Loss 0.005738: 100%|██████████| 79/79 [00:09<00:00,  8.03it/s]\n",
      "Epoch 38/200 : training Loss 0.00263: 100%|██████████| 313/313 [00:17<00:00, 18.29it/s] \n",
      "Epoch 38/200 : val Loss 0.007988: 100%|██████████| 79/79 [00:09<00:00,  8.01it/s]\n",
      "Epoch 39/200 : training Loss 0.002597: 100%|██████████| 313/313 [00:17<00:00, 18.22it/s]\n",
      "Epoch 39/200 : val Loss 0.003924: 100%|██████████| 79/79 [00:09<00:00,  8.03it/s]\n",
      "Epoch 40/200 : training Loss 0.002611: 100%|██████████| 313/313 [00:17<00:00, 18.07it/s]\n",
      "Epoch 40/200 : val Loss 0.005041: 100%|██████████| 79/79 [00:09<00:00,  8.02it/s]\n",
      "Epoch 41/200 : training Loss 0.00261: 100%|██████████| 313/313 [00:17<00:00, 18.04it/s] \n",
      "Epoch 41/200 : val Loss 0.004777: 100%|██████████| 79/79 [00:09<00:00,  8.03it/s]\n",
      "Epoch 42/200 : training Loss 0.002541: 100%|██████████| 313/313 [00:17<00:00, 18.27it/s]\n",
      "Epoch 42/200 : val Loss 0.003654: 100%|██████████| 79/79 [00:09<00:00,  8.02it/s]\n"
     ]
    },
    {
     "name": "stdout",
     "output_type": "stream",
     "text": [
      "saving best model val_acc : 0.8462\n"
     ]
    },
    {
     "name": "stderr",
     "output_type": "stream",
     "text": [
      "Epoch 43/200 : training Loss 0.002551: 100%|██████████| 313/313 [00:17<00:00, 18.10it/s]\n",
      "Epoch 43/200 : val Loss 0.005396: 100%|██████████| 79/79 [00:09<00:00,  8.02it/s]\n",
      "Epoch 44/200 : training Loss 0.002521: 100%|██████████| 313/313 [00:17<00:00, 18.05it/s]\n",
      "Epoch 44/200 : val Loss 0.00564: 100%|██████████| 79/79 [00:09<00:00,  8.02it/s] \n",
      "Epoch 45/200 : training Loss 0.002447: 100%|██████████| 313/313 [00:17<00:00, 18.26it/s]\n",
      "Epoch 45/200 : val Loss 0.004388: 100%|██████████| 79/79 [00:09<00:00,  8.00it/s]\n",
      "Epoch 46/200 : training Loss 0.002453: 100%|██████████| 313/313 [00:17<00:00, 18.08it/s]\n",
      "Epoch 46/200 : val Loss 0.004561: 100%|██████████| 79/79 [00:09<00:00,  8.02it/s]\n",
      "Epoch 47/200 : training Loss 0.00242: 100%|██████████| 313/313 [00:17<00:00, 18.26it/s] \n",
      "Epoch 47/200 : val Loss 0.003699: 100%|██████████| 79/79 [00:09<00:00,  8.02it/s]\n",
      "Epoch 48/200 : training Loss 0.002442: 100%|██████████| 313/313 [00:17<00:00, 18.26it/s]\n",
      "Epoch 48/200 : val Loss 0.004516: 100%|██████████| 79/79 [00:09<00:00,  8.04it/s]\n",
      "Epoch 49/200 : training Loss 0.002378: 100%|██████████| 313/313 [00:17<00:00, 18.23it/s]\n",
      "Epoch 49/200 : val Loss 0.005662: 100%|██████████| 79/79 [00:09<00:00,  8.03it/s]\n",
      "Epoch 50/200 : training Loss 0.002373: 100%|██████████| 313/313 [00:17<00:00, 18.27it/s]\n",
      "Epoch 50/200 : val Loss 0.005701: 100%|██████████| 79/79 [00:09<00:00,  8.01it/s]\n",
      "Epoch 51/200 : training Loss 0.002361: 100%|██████████| 313/313 [00:17<00:00, 18.28it/s]\n",
      "Epoch 51/200 : val Loss 0.004491: 100%|██████████| 79/79 [00:09<00:00,  8.00it/s]\n",
      "Epoch 52/200 : training Loss 0.002322: 100%|██████████| 313/313 [00:17<00:00, 18.07it/s]\n",
      "Epoch 52/200 : val Loss 0.005076: 100%|██████████| 79/79 [00:09<00:00,  8.02it/s]\n",
      "Epoch 53/200 : training Loss 0.00229: 100%|██████████| 313/313 [00:17<00:00, 18.25it/s] \n",
      "Epoch 53/200 : val Loss 0.003452: 100%|██████████| 79/79 [00:09<00:00,  8.02it/s]\n"
     ]
    },
    {
     "name": "stdout",
     "output_type": "stream",
     "text": [
      "saving best model val_acc : 0.8524\n"
     ]
    },
    {
     "name": "stderr",
     "output_type": "stream",
     "text": [
      "Epoch 54/200 : training Loss 0.002323: 100%|██████████| 313/313 [00:17<00:00, 18.12it/s]\n",
      "Epoch 54/200 : val Loss 0.004951: 100%|██████████| 79/79 [00:09<00:00,  8.02it/s]\n",
      "Epoch 55/200 : training Loss 0.002248: 100%|██████████| 313/313 [00:17<00:00, 18.06it/s]\n",
      "Epoch 55/200 : val Loss 0.003351: 100%|██████████| 79/79 [00:09<00:00,  8.01it/s]\n"
     ]
    },
    {
     "name": "stdout",
     "output_type": "stream",
     "text": [
      "saving best model val_acc : 0.8553\n"
     ]
    },
    {
     "name": "stderr",
     "output_type": "stream",
     "text": [
      "Epoch 56/200 : training Loss 0.002183: 100%|██████████| 313/313 [00:17<00:00, 18.14it/s]\n",
      "Epoch 56/200 : val Loss 0.003956: 100%|██████████| 79/79 [00:09<00:00,  7.99it/s]\n",
      "Epoch 57/200 : training Loss 0.002262: 100%|██████████| 313/313 [00:17<00:00, 18.04it/s]\n",
      "Epoch 57/200 : val Loss 0.005434: 100%|██████████| 79/79 [00:09<00:00,  8.04it/s]\n",
      "Epoch 58/200 : training Loss 0.002218: 100%|██████████| 313/313 [00:17<00:00, 18.05it/s]\n",
      "Epoch 58/200 : val Loss 0.004145: 100%|██████████| 79/79 [00:09<00:00,  8.02it/s]\n",
      "Epoch 59/200 : training Loss 0.002204: 100%|██████████| 313/313 [00:17<00:00, 18.25it/s]\n",
      "Epoch 59/200 : val Loss 0.003972: 100%|██████████| 79/79 [00:10<00:00,  7.87it/s]\n",
      "Epoch 60/200 : training Loss 0.002139: 100%|██████████| 313/313 [00:17<00:00, 18.25it/s]\n",
      "Epoch 60/200 : val Loss 0.004663: 100%|██████████| 79/79 [00:09<00:00,  8.03it/s]\n",
      "Epoch 61/200 : training Loss 0.002143: 100%|██████████| 313/313 [00:17<00:00, 18.27it/s]\n",
      "Epoch 61/200 : val Loss 0.004483: 100%|██████████| 79/79 [00:09<00:00,  8.01it/s]\n",
      "Epoch 62/200 : training Loss 0.002206: 100%|██████████| 313/313 [00:17<00:00, 18.08it/s]\n",
      "Epoch 62/200 : val Loss 0.00405: 100%|██████████| 79/79 [00:09<00:00,  7.99it/s] \n",
      "Epoch 63/200 : training Loss 0.00214: 100%|██████████| 313/313 [00:17<00:00, 18.30it/s] \n",
      "Epoch 63/200 : val Loss 0.003311: 100%|██████████| 79/79 [00:09<00:00,  8.00it/s]\n"
     ]
    },
    {
     "name": "stdout",
     "output_type": "stream",
     "text": [
      "saving best model val_acc : 0.8563\n"
     ]
    },
    {
     "name": "stderr",
     "output_type": "stream",
     "text": [
      "Epoch 64/200 : training Loss 0.002093: 100%|██████████| 313/313 [00:17<00:00, 18.10it/s]\n",
      "Epoch 64/200 : val Loss 0.004969: 100%|██████████| 79/79 [00:09<00:00,  8.01it/s]\n",
      "Epoch 65/200 : training Loss 0.002056: 100%|██████████| 313/313 [00:17<00:00, 18.28it/s]\n",
      "Epoch 65/200 : val Loss 0.003625: 100%|██████████| 79/79 [00:09<00:00,  8.02it/s]\n",
      "Epoch 66/200 : training Loss 0.002058: 100%|██████████| 313/313 [00:17<00:00, 18.26it/s]\n",
      "Epoch 66/200 : val Loss 0.003874: 100%|██████████| 79/79 [00:09<00:00,  8.02it/s]\n",
      "Epoch 67/200 : training Loss 0.002069: 100%|██████████| 313/313 [00:17<00:00, 18.07it/s]\n",
      "Epoch 67/200 : val Loss 0.004654: 100%|██████████| 79/79 [00:09<00:00,  8.00it/s]\n",
      "Epoch 68/200 : training Loss 0.00199: 100%|██████████| 313/313 [00:17<00:00, 18.27it/s] \n",
      "Epoch 68/200 : val Loss 0.003951: 100%|██████████| 79/79 [00:09<00:00,  8.02it/s]\n",
      "Epoch 69/200 : training Loss 0.002018: 100%|██████████| 313/313 [00:17<00:00, 18.29it/s]\n",
      "Epoch 69/200 : val Loss 0.004096: 100%|██████████| 79/79 [00:09<00:00,  8.01it/s]\n",
      "Epoch 70/200 : training Loss 0.001962: 100%|██████████| 313/313 [00:17<00:00, 18.05it/s]\n",
      "Epoch 70/200 : val Loss 0.004676: 100%|██████████| 79/79 [00:09<00:00,  8.01it/s]\n",
      "Epoch 71/200 : training Loss 0.001985: 100%|██████████| 313/313 [00:17<00:00, 18.30it/s]\n",
      "Epoch 71/200 : val Loss 0.003233: 100%|██████████| 79/79 [00:09<00:00,  8.00it/s]\n"
     ]
    },
    {
     "name": "stdout",
     "output_type": "stream",
     "text": [
      "saving best model val_acc : 0.8601\n"
     ]
    },
    {
     "name": "stderr",
     "output_type": "stream",
     "text": [
      "Epoch 72/200 : training Loss 0.001958: 100%|██████████| 313/313 [00:17<00:00, 18.12it/s]\n",
      "Epoch 72/200 : val Loss 0.003651: 100%|██████████| 79/79 [00:09<00:00,  8.00it/s]\n",
      "Epoch 73/200 : training Loss 0.001911: 100%|██████████| 313/313 [00:17<00:00, 18.29it/s]\n",
      "Epoch 73/200 : val Loss 0.003779: 100%|██████████| 79/79 [00:09<00:00,  8.01it/s]\n",
      "Epoch 74/200 : training Loss 0.001918: 100%|██████████| 313/313 [00:17<00:00, 18.27it/s]\n",
      "Epoch 74/200 : val Loss 0.003885: 100%|██████████| 79/79 [00:09<00:00,  8.01it/s]\n",
      "Epoch 75/200 : training Loss 0.001959: 100%|██████████| 313/313 [00:17<00:00, 18.26it/s]\n",
      "Epoch 75/200 : val Loss 0.00394: 100%|██████████| 79/79 [00:09<00:00,  8.00it/s] \n",
      "Epoch 76/200 : training Loss 0.001862: 100%|██████████| 313/313 [00:17<00:00, 18.09it/s]\n",
      "Epoch 76/200 : val Loss 0.003881: 100%|██████████| 79/79 [00:09<00:00,  8.01it/s]\n",
      "Epoch 77/200 : training Loss 0.001851: 100%|██████████| 313/313 [00:17<00:00, 18.06it/s]\n",
      "Epoch 77/200 : val Loss 0.002994: 100%|██████████| 79/79 [00:09<00:00,  8.02it/s]\n"
     ]
    },
    {
     "name": "stdout",
     "output_type": "stream",
     "text": [
      "saving best model val_acc : 0.8719\n"
     ]
    },
    {
     "name": "stderr",
     "output_type": "stream",
     "text": [
      "Epoch 78/200 : training Loss 0.001823: 100%|██████████| 313/313 [00:17<00:00, 18.11it/s]\n",
      "Epoch 78/200 : val Loss 0.003734: 100%|██████████| 79/79 [00:09<00:00,  7.99it/s]\n",
      "Epoch 79/200 : training Loss 0.001839: 100%|██████████| 313/313 [00:17<00:00, 18.13it/s]\n",
      "Epoch 79/200 : val Loss 0.00379: 100%|██████████| 79/79 [00:09<00:00,  7.99it/s] \n",
      "Epoch 80/200 : training Loss 0.001817: 100%|██████████| 313/313 [00:17<00:00, 18.06it/s]\n",
      "Epoch 80/200 : val Loss 0.004337: 100%|██████████| 79/79 [00:09<00:00,  8.00it/s]\n",
      "Epoch 81/200 : training Loss 0.001737: 100%|██████████| 313/313 [00:17<00:00, 18.31it/s]\n",
      "Epoch 81/200 : val Loss 0.003521: 100%|██████████| 79/79 [00:09<00:00,  8.01it/s]\n",
      "Epoch 82/200 : training Loss 0.001733: 100%|██████████| 313/313 [00:17<00:00, 18.28it/s]\n",
      "Epoch 82/200 : val Loss 0.00334: 100%|██████████| 79/79 [00:09<00:00,  8.01it/s] \n",
      "Epoch 83/200 : training Loss 0.001763: 100%|██████████| 313/313 [00:17<00:00, 18.27it/s]\n",
      "Epoch 83/200 : val Loss 0.004145: 100%|██████████| 79/79 [00:09<00:00,  8.00it/s]\n",
      "Epoch 84/200 : training Loss 0.001708: 100%|██████████| 313/313 [00:17<00:00, 18.30it/s]\n",
      "Epoch 84/200 : val Loss 0.004542: 100%|██████████| 79/79 [00:09<00:00,  8.01it/s]\n",
      "Epoch 85/200 : training Loss 0.001657: 100%|██████████| 313/313 [00:17<00:00, 18.06it/s]\n",
      "Epoch 85/200 : val Loss 0.003728: 100%|██████████| 79/79 [00:09<00:00,  8.03it/s]\n",
      "Epoch 86/200 : training Loss 0.001706: 100%|██████████| 313/313 [00:17<00:00, 18.24it/s]\n",
      "Epoch 86/200 : val Loss 0.003335: 100%|██████████| 79/79 [00:09<00:00,  8.03it/s]\n",
      "Epoch 87/200 : training Loss 0.001689: 100%|██████████| 313/313 [00:17<00:00, 18.35it/s]\n",
      "Epoch 87/200 : val Loss 0.003423: 100%|██████████| 79/79 [00:09<00:00,  8.10it/s]\n",
      "Epoch 88/200 : training Loss 0.001645: 100%|██████████| 313/313 [00:17<00:00, 18.06it/s]\n",
      "Epoch 88/200 : val Loss 0.003483: 100%|██████████| 79/79 [00:09<00:00,  8.02it/s]\n",
      "Epoch 89/200 : training Loss 0.001562: 100%|██████████| 313/313 [00:17<00:00, 18.27it/s]\n",
      "Epoch 89/200 : val Loss 0.003286: 100%|██████████| 79/79 [00:09<00:00,  8.01it/s]\n",
      "Epoch 90/200 : training Loss 0.00157: 100%|██████████| 313/313 [00:17<00:00, 18.08it/s] \n",
      "Epoch 90/200 : val Loss 0.004059: 100%|██████████| 79/79 [00:09<00:00,  8.01it/s]\n",
      "Epoch 91/200 : training Loss 0.001618: 100%|██████████| 313/313 [00:17<00:00, 18.28it/s]\n",
      "Epoch 91/200 : val Loss 0.003797: 100%|██████████| 79/79 [00:09<00:00,  8.02it/s]\n",
      "Epoch 92/200 : training Loss 0.001576: 100%|██████████| 313/313 [00:17<00:00, 18.28it/s]\n",
      "Epoch 92/200 : val Loss 0.003153: 100%|██████████| 79/79 [00:09<00:00,  8.01it/s]\n",
      "Epoch 93/200 : training Loss 0.001545: 100%|██████████| 313/313 [00:17<00:00, 18.06it/s]\n",
      "Epoch 93/200 : val Loss 0.003299: 100%|██████████| 79/79 [00:09<00:00,  8.01it/s]\n",
      "Epoch 94/200 : training Loss 0.001518: 100%|██████████| 313/313 [00:17<00:00, 18.29it/s]\n",
      "Epoch 94/200 : val Loss 0.003161: 100%|██████████| 79/79 [00:09<00:00,  8.01it/s]\n"
     ]
    },
    {
     "name": "stdout",
     "output_type": "stream",
     "text": [
      "saving best model val_acc : 0.8727\n"
     ]
    },
    {
     "name": "stderr",
     "output_type": "stream",
     "text": [
      "Epoch 95/200 : training Loss 0.001508: 100%|██████████| 313/313 [00:17<00:00, 18.14it/s]\n",
      "Epoch 95/200 : val Loss 0.003455: 100%|██████████| 79/79 [00:09<00:00,  7.99it/s]\n",
      "Epoch 96/200 : training Loss 0.001407: 100%|██████████| 313/313 [00:17<00:00, 18.25it/s]\n",
      "Epoch 96/200 : val Loss 0.00321: 100%|██████████| 79/79 [00:09<00:00,  8.04it/s] \n",
      "Epoch 97/200 : training Loss 0.001471: 100%|██████████| 313/313 [00:17<00:00, 18.26it/s]\n",
      "Epoch 97/200 : val Loss 0.00357: 100%|██████████| 79/79 [00:09<00:00,  8.01it/s] \n",
      "Epoch 98/200 : training Loss 0.00142: 100%|██████████| 313/313 [00:17<00:00, 18.06it/s] \n",
      "Epoch 98/200 : val Loss 0.003799: 100%|██████████| 79/79 [00:09<00:00,  8.03it/s]\n",
      "Epoch 99/200 : training Loss 0.001466: 100%|██████████| 313/313 [00:17<00:00, 18.28it/s]\n",
      "Epoch 99/200 : val Loss 0.003557: 100%|██████████| 79/79 [00:09<00:00,  8.00it/s]\n",
      "Epoch 100/200 : training Loss 0.001408: 100%|██████████| 313/313 [00:17<00:00, 18.05it/s]\n",
      "Epoch 100/200 : val Loss 0.00316: 100%|██████████| 79/79 [00:09<00:00,  8.02it/s] \n",
      "Epoch 101/200 : training Loss 0.001385: 100%|██████████| 313/313 [00:17<00:00, 18.27it/s]\n",
      "Epoch 101/200 : val Loss 0.003226: 100%|██████████| 79/79 [00:09<00:00,  8.02it/s]\n",
      "Epoch 102/200 : training Loss 0.001305: 100%|██████████| 313/313 [00:17<00:00, 18.26it/s]\n",
      "Epoch 102/200 : val Loss 0.003315: 100%|██████████| 79/79 [00:09<00:00,  8.02it/s]\n",
      "Epoch 103/200 : training Loss 0.00133: 100%|██████████| 313/313 [00:17<00:00, 18.07it/s] \n",
      "Epoch 103/200 : val Loss 0.003205: 100%|██████████| 79/79 [00:09<00:00,  8.02it/s]\n",
      "Epoch 104/200 : training Loss 0.00132: 100%|██████████| 313/313 [00:17<00:00, 18.28it/s] \n",
      "Epoch 104/200 : val Loss 0.003082: 100%|██████████| 79/79 [00:09<00:00,  8.01it/s]\n"
     ]
    },
    {
     "name": "stdout",
     "output_type": "stream",
     "text": [
      "saving best model val_acc : 0.8737\n"
     ]
    },
    {
     "name": "stderr",
     "output_type": "stream",
     "text": [
      "Epoch 105/200 : training Loss 0.001257: 100%|██████████| 313/313 [00:17<00:00, 18.34it/s]\n",
      "Epoch 105/200 : val Loss 0.002747: 100%|██████████| 79/79 [00:09<00:00,  8.01it/s]\n"
     ]
    },
    {
     "name": "stdout",
     "output_type": "stream",
     "text": [
      "saving best model val_acc : 0.8846\n"
     ]
    },
    {
     "name": "stderr",
     "output_type": "stream",
     "text": [
      "Epoch 106/200 : training Loss 0.001271: 100%|██████████| 313/313 [00:17<00:00, 18.11it/s]\n",
      "Epoch 106/200 : val Loss 0.003106: 100%|██████████| 79/79 [00:09<00:00,  8.00it/s]\n",
      "Epoch 107/200 : training Loss 0.001235: 100%|██████████| 313/313 [00:17<00:00, 18.28it/s]\n",
      "Epoch 107/200 : val Loss 0.003258: 100%|██████████| 79/79 [00:09<00:00,  8.01it/s]\n",
      "Epoch 108/200 : training Loss 0.001218: 100%|██████████| 313/313 [00:17<00:00, 18.07it/s]\n",
      "Epoch 108/200 : val Loss 0.003392: 100%|██████████| 79/79 [00:09<00:00,  7.93it/s]\n",
      "Epoch 109/200 : training Loss 0.001148: 100%|██████████| 313/313 [00:17<00:00, 18.15it/s]\n",
      "Epoch 109/200 : val Loss 0.00323: 100%|██████████| 79/79 [00:09<00:00,  8.01it/s] \n",
      "Epoch 110/200 : training Loss 0.001188: 100%|██████████| 313/313 [00:17<00:00, 18.28it/s]\n",
      "Epoch 110/200 : val Loss 0.002803: 100%|██████████| 79/79 [00:09<00:00,  8.01it/s]\n"
     ]
    },
    {
     "name": "stdout",
     "output_type": "stream",
     "text": [
      "saving best model val_acc : 0.8856\n"
     ]
    },
    {
     "name": "stderr",
     "output_type": "stream",
     "text": [
      "Epoch 111/200 : training Loss 0.001122: 100%|██████████| 313/313 [00:17<00:00, 18.12it/s]\n",
      "Epoch 111/200 : val Loss 0.002827: 100%|██████████| 79/79 [00:09<00:00,  8.00it/s]\n"
     ]
    },
    {
     "name": "stdout",
     "output_type": "stream",
     "text": [
      "saving best model val_acc : 0.8890\n"
     ]
    },
    {
     "name": "stderr",
     "output_type": "stream",
     "text": [
      "Epoch 112/200 : training Loss 0.001111: 100%|██████████| 313/313 [00:17<00:00, 18.15it/s]\n",
      "Epoch 112/200 : val Loss 0.002962: 100%|██████████| 79/79 [00:09<00:00,  8.00it/s]\n",
      "Epoch 113/200 : training Loss 0.001142: 100%|██████████| 313/313 [00:17<00:00, 18.27it/s]\n",
      "Epoch 113/200 : val Loss 0.003073: 100%|██████████| 79/79 [00:09<00:00,  8.03it/s]\n",
      "Epoch 114/200 : training Loss 0.00112: 100%|██████████| 313/313 [00:17<00:00, 18.24it/s] \n",
      "Epoch 114/200 : val Loss 0.003851: 100%|██████████| 79/79 [00:09<00:00,  8.03it/s]\n",
      "Epoch 115/200 : training Loss 0.001001: 100%|██████████| 313/313 [00:17<00:00, 18.28it/s]\n",
      "Epoch 115/200 : val Loss 0.002702: 100%|██████████| 79/79 [00:09<00:00,  8.01it/s]\n"
     ]
    },
    {
     "name": "stdout",
     "output_type": "stream",
     "text": [
      "saving best model val_acc : 0.8954\n"
     ]
    },
    {
     "name": "stderr",
     "output_type": "stream",
     "text": [
      "Epoch 116/200 : training Loss 0.001049: 100%|██████████| 313/313 [00:17<00:00, 18.12it/s]\n",
      "Epoch 116/200 : val Loss 0.005959: 100%|██████████| 79/79 [00:10<00:00,  7.86it/s]\n",
      "Epoch 117/200 : training Loss 0.000995: 100%|██████████| 313/313 [00:17<00:00, 18.25it/s]\n",
      "Epoch 117/200 : val Loss 0.003413: 100%|██████████| 79/79 [00:09<00:00,  8.03it/s]\n",
      "Epoch 118/200 : training Loss 0.000951: 100%|██████████| 313/313 [00:17<00:00, 18.10it/s]\n",
      "Epoch 118/200 : val Loss 0.002761: 100%|██████████| 79/79 [00:09<00:00,  8.00it/s]\n",
      "Epoch 119/200 : training Loss 0.000936: 100%|██████████| 313/313 [00:17<00:00, 18.27it/s]\n",
      "Epoch 119/200 : val Loss 0.00352: 100%|██████████| 79/79 [00:09<00:00,  8.01it/s] \n",
      "Epoch 120/200 : training Loss 0.000934: 100%|██████████| 313/313 [00:17<00:00, 18.28it/s]\n",
      "Epoch 120/200 : val Loss 0.002968: 100%|██████████| 79/79 [00:09<00:00,  8.01it/s]\n",
      "Epoch 121/200 : training Loss 0.00095: 100%|██████████| 313/313 [00:17<00:00, 18.07it/s] \n",
      "Epoch 121/200 : val Loss 0.002808: 100%|██████████| 79/79 [00:09<00:00,  8.02it/s]\n",
      "Epoch 122/200 : training Loss 0.000927: 100%|██████████| 313/313 [00:17<00:00, 18.27it/s]\n",
      "Epoch 122/200 : val Loss 0.002954: 100%|██████████| 79/79 [00:09<00:00,  8.01it/s]\n",
      "Epoch 123/200 : training Loss 0.000852: 100%|██████████| 313/313 [00:17<00:00, 18.25it/s]\n",
      "Epoch 123/200 : val Loss 0.003218: 100%|██████████| 79/79 [00:09<00:00,  8.03it/s]\n",
      "Epoch 124/200 : training Loss 0.000859: 100%|██████████| 313/313 [00:17<00:00, 18.24it/s]\n",
      "Epoch 124/200 : val Loss 0.002911: 100%|██████████| 79/79 [00:09<00:00,  8.03it/s]\n",
      "Epoch 125/200 : training Loss 0.000826: 100%|██████████| 313/313 [00:17<00:00, 18.28it/s]\n",
      "Epoch 125/200 : val Loss 0.003088: 100%|██████████| 79/79 [00:09<00:00,  8.01it/s]\n",
      "Epoch 126/200 : training Loss 0.000785: 100%|██████████| 313/313 [00:17<00:00, 18.29it/s]\n",
      "Epoch 126/200 : val Loss 0.002698: 100%|██████████| 79/79 [00:09<00:00,  8.02it/s]\n"
     ]
    },
    {
     "name": "stdout",
     "output_type": "stream",
     "text": [
      "saving best model val_acc : 0.8972\n"
     ]
    },
    {
     "name": "stderr",
     "output_type": "stream",
     "text": [
      "Epoch 127/200 : training Loss 0.000771: 100%|██████████| 313/313 [00:17<00:00, 18.30it/s]\n",
      "Epoch 127/200 : val Loss 0.003214: 100%|██████████| 79/79 [00:09<00:00,  8.01it/s]\n",
      "Epoch 128/200 : training Loss 0.000777: 100%|██████████| 313/313 [00:17<00:00, 18.25it/s]\n",
      "Epoch 128/200 : val Loss 0.002672: 100%|██████████| 79/79 [00:10<00:00,  7.88it/s]\n"
     ]
    },
    {
     "name": "stdout",
     "output_type": "stream",
     "text": [
      "saving best model val_acc : 0.8986\n"
     ]
    },
    {
     "name": "stderr",
     "output_type": "stream",
     "text": [
      "Epoch 129/200 : training Loss 0.000701: 100%|██████████| 313/313 [00:17<00:00, 18.09it/s]\n",
      "Epoch 129/200 : val Loss 0.002998: 100%|██████████| 79/79 [00:09<00:00,  8.01it/s]\n",
      "Epoch 130/200 : training Loss 0.000712: 100%|██████████| 313/313 [00:17<00:00, 18.27it/s]\n",
      "Epoch 130/200 : val Loss 0.002931: 100%|██████████| 79/79 [00:09<00:00,  8.03it/s]\n",
      "Epoch 131/200 : training Loss 0.000684: 100%|██████████| 313/313 [00:17<00:00, 18.06it/s]\n",
      "Epoch 131/200 : val Loss 0.002569: 100%|██████████| 79/79 [00:09<00:00,  8.01it/s]\n"
     ]
    },
    {
     "name": "stdout",
     "output_type": "stream",
     "text": [
      "saving best model val_acc : 0.9004\n"
     ]
    },
    {
     "name": "stderr",
     "output_type": "stream",
     "text": [
      "Epoch 132/200 : training Loss 0.000606: 100%|██████████| 313/313 [00:17<00:00, 18.14it/s]\n",
      "Epoch 132/200 : val Loss 0.002746: 100%|██████████| 79/79 [00:09<00:00,  8.00it/s]\n",
      "Epoch 133/200 : training Loss 0.000671: 100%|██████████| 313/313 [00:17<00:00, 18.29it/s]\n",
      "Epoch 133/200 : val Loss 0.003132: 100%|██████████| 79/79 [00:09<00:00,  8.01it/s]\n",
      "Epoch 134/200 : training Loss 0.000617: 100%|██████████| 313/313 [00:17<00:00, 18.24it/s]\n",
      "Epoch 134/200 : val Loss 0.00266: 100%|██████████| 79/79 [00:09<00:00,  8.03it/s] \n",
      "Epoch 135/200 : training Loss 0.000592: 100%|██████████| 313/313 [00:17<00:00, 18.26it/s]\n",
      "Epoch 135/200 : val Loss 0.00259: 100%|██████████| 79/79 [00:09<00:00,  8.02it/s] \n"
     ]
    },
    {
     "name": "stdout",
     "output_type": "stream",
     "text": [
      "saving best model val_acc : 0.9035\n"
     ]
    },
    {
     "name": "stderr",
     "output_type": "stream",
     "text": [
      "Epoch 136/200 : training Loss 0.000563: 100%|██████████| 313/313 [00:17<00:00, 18.13it/s]\n",
      "Epoch 136/200 : val Loss 0.002935: 100%|██████████| 79/79 [00:09<00:00,  8.00it/s]\n",
      "Epoch 137/200 : training Loss 0.000558: 100%|██████████| 313/313 [00:17<00:00, 18.24it/s]\n",
      "Epoch 137/200 : val Loss 0.002926: 100%|██████████| 79/79 [00:09<00:00,  8.02it/s]\n",
      "Epoch 138/200 : training Loss 0.000545: 100%|██████████| 313/313 [00:17<00:00, 18.09it/s]\n",
      "Epoch 138/200 : val Loss 0.003058: 100%|██████████| 79/79 [00:09<00:00,  8.00it/s]\n",
      "Epoch 139/200 : training Loss 0.000488: 100%|██████████| 313/313 [00:17<00:00, 18.04it/s]\n",
      "Epoch 139/200 : val Loss 0.002641: 100%|██████████| 79/79 [00:09<00:00,  8.02it/s]\n",
      "Epoch 140/200 : training Loss 0.000553: 100%|██████████| 313/313 [00:17<00:00, 18.28it/s]\n",
      "Epoch 140/200 : val Loss 0.002576: 100%|██████████| 79/79 [00:09<00:00,  8.01it/s]\n"
     ]
    },
    {
     "name": "stdout",
     "output_type": "stream",
     "text": [
      "saving best model val_acc : 0.9037\n"
     ]
    },
    {
     "name": "stderr",
     "output_type": "stream",
     "text": [
      "Epoch 141/200 : training Loss 0.000459: 100%|██████████| 313/313 [00:17<00:00, 18.09it/s]\n",
      "Epoch 141/200 : val Loss 0.002664: 100%|██████████| 79/79 [00:09<00:00,  8.04it/s]\n"
     ]
    },
    {
     "name": "stdout",
     "output_type": "stream",
     "text": [
      "saving best model val_acc : 0.9041\n"
     ]
    },
    {
     "name": "stderr",
     "output_type": "stream",
     "text": [
      "Epoch 142/200 : training Loss 0.000449: 100%|██████████| 313/313 [00:17<00:00, 18.06it/s]\n",
      "Epoch 142/200 : val Loss 0.002999: 100%|██████████| 79/79 [00:09<00:00,  8.05it/s]\n",
      "Epoch 143/200 : training Loss 0.000388: 100%|██████████| 313/313 [00:17<00:00, 18.26it/s]\n",
      "Epoch 143/200 : val Loss 0.002986: 100%|██████████| 79/79 [00:09<00:00,  8.02it/s]\n",
      "Epoch 144/200 : training Loss 0.000381: 100%|██████████| 313/313 [00:17<00:00, 18.05it/s]\n",
      "Epoch 144/200 : val Loss 0.002477: 100%|██████████| 79/79 [00:09<00:00,  8.03it/s]\n"
     ]
    },
    {
     "name": "stdout",
     "output_type": "stream",
     "text": [
      "saving best model val_acc : 0.9099\n"
     ]
    },
    {
     "name": "stderr",
     "output_type": "stream",
     "text": [
      "Epoch 145/200 : training Loss 0.000371: 100%|██████████| 313/313 [00:17<00:00, 18.10it/s]\n",
      "Epoch 145/200 : val Loss 0.002874: 100%|██████████| 79/79 [00:09<00:00,  8.00it/s]\n",
      "Epoch 146/200 : training Loss 0.000364: 100%|██████████| 313/313 [00:17<00:00, 18.30it/s]\n",
      "Epoch 146/200 : val Loss 0.002432: 100%|██████████| 79/79 [00:09<00:00,  8.01it/s]\n"
     ]
    },
    {
     "name": "stdout",
     "output_type": "stream",
     "text": [
      "saving best model val_acc : 0.9119\n"
     ]
    },
    {
     "name": "stderr",
     "output_type": "stream",
     "text": [
      "Epoch 147/200 : training Loss 0.000355: 100%|██████████| 313/313 [00:17<00:00, 18.08it/s]\n",
      "Epoch 147/200 : val Loss 0.002615: 100%|██████████| 79/79 [00:09<00:00,  8.03it/s]\n",
      "Epoch 148/200 : training Loss 0.000286: 100%|██████████| 313/313 [00:17<00:00, 18.29it/s]\n",
      "Epoch 148/200 : val Loss 0.002808: 100%|██████████| 79/79 [00:09<00:00,  7.99it/s]\n",
      "Epoch 149/200 : training Loss 0.000314: 100%|██████████| 313/313 [00:17<00:00, 18.29it/s]\n",
      "Epoch 149/200 : val Loss 0.002648: 100%|██████████| 79/79 [00:09<00:00,  8.00it/s]\n",
      "Epoch 150/200 : training Loss 0.000278: 100%|██████████| 313/313 [00:17<00:00, 18.08it/s]\n",
      "Epoch 150/200 : val Loss 0.002553: 100%|██████████| 79/79 [00:10<00:00,  7.85it/s]\n"
     ]
    },
    {
     "name": "stdout",
     "output_type": "stream",
     "text": [
      "saving best model val_acc : 0.9122\n"
     ]
    },
    {
     "name": "stderr",
     "output_type": "stream",
     "text": [
      "Epoch 151/200 : training Loss 0.000285: 100%|██████████| 313/313 [00:17<00:00, 18.12it/s]\n",
      "Epoch 151/200 : val Loss 0.002217: 100%|██████████| 79/79 [00:09<00:00,  8.02it/s]\n"
     ]
    },
    {
     "name": "stdout",
     "output_type": "stream",
     "text": [
      "saving best model val_acc : 0.9190\n"
     ]
    },
    {
     "name": "stderr",
     "output_type": "stream",
     "text": [
      "Epoch 152/200 : training Loss 0.000244: 100%|██████████| 313/313 [00:17<00:00, 18.10it/s]\n",
      "Epoch 152/200 : val Loss 0.002412: 100%|██████████| 79/79 [00:09<00:00,  8.00it/s]\n",
      "Epoch 153/200 : training Loss 0.000253: 100%|██████████| 313/313 [00:17<00:00, 18.30it/s]\n",
      "Epoch 153/200 : val Loss 0.002378: 100%|██████████| 79/79 [00:09<00:00,  8.00it/s]\n",
      "Epoch 154/200 : training Loss 0.000184: 100%|██████████| 313/313 [00:17<00:00, 18.29it/s]\n",
      "Epoch 154/200 : val Loss 0.00238: 100%|██████████| 79/79 [00:09<00:00,  8.00it/s] \n",
      "Epoch 155/200 : training Loss 0.000176: 100%|██████████| 313/313 [00:17<00:00, 18.24it/s]\n",
      "Epoch 155/200 : val Loss 0.002467: 100%|██████████| 79/79 [00:09<00:00,  8.04it/s]\n",
      "Epoch 156/200 : training Loss 0.000196: 100%|██████████| 313/313 [00:17<00:00, 18.27it/s]\n",
      "Epoch 156/200 : val Loss 0.002411: 100%|██████████| 79/79 [00:09<00:00,  8.01it/s]\n"
     ]
    },
    {
     "name": "stdout",
     "output_type": "stream",
     "text": [
      "saving best model val_acc : 0.9198\n"
     ]
    },
    {
     "name": "stderr",
     "output_type": "stream",
     "text": [
      "Epoch 157/200 : training Loss 0.000172: 100%|██████████| 313/313 [00:17<00:00, 18.10it/s]\n",
      "Epoch 157/200 : val Loss 0.002283: 100%|██████████| 79/79 [00:09<00:00,  8.00it/s]\n"
     ]
    },
    {
     "name": "stdout",
     "output_type": "stream",
     "text": [
      "saving best model val_acc : 0.9239\n"
     ]
    },
    {
     "name": "stderr",
     "output_type": "stream",
     "text": [
      "Epoch 158/200 : training Loss 0.000119: 100%|██████████| 313/313 [00:17<00:00, 18.16it/s]\n",
      "Epoch 158/200 : val Loss 0.002056: 100%|██████████| 79/79 [00:09<00:00,  8.01it/s]\n"
     ]
    },
    {
     "name": "stdout",
     "output_type": "stream",
     "text": [
      "saving best model val_acc : 0.9287\n"
     ]
    },
    {
     "name": "stderr",
     "output_type": "stream",
     "text": [
      "Epoch 159/200 : training Loss 9.8e-05: 100%|██████████| 313/313 [00:17<00:00, 18.34it/s]\n",
      "Epoch 159/200 : val Loss 0.002176: 100%|██████████| 79/79 [00:09<00:00,  8.02it/s]\n",
      "Epoch 160/200 : training Loss 0.000116: 100%|██████████| 313/313 [00:17<00:00, 18.02it/s]\n",
      "Epoch 160/200 : val Loss 0.002372: 100%|██████████| 79/79 [00:09<00:00,  8.03it/s]\n",
      "Epoch 161/200 : training Loss 0.000114: 100%|██████████| 313/313 [00:17<00:00, 18.26it/s]\n",
      "Epoch 161/200 : val Loss 0.002221: 100%|██████████| 79/79 [00:09<00:00,  8.02it/s]\n",
      "Epoch 162/200 : training Loss 7.8e-05: 100%|██████████| 313/313 [00:17<00:00, 18.25it/s]\n",
      "Epoch 162/200 : val Loss 0.002183: 100%|██████████| 79/79 [00:09<00:00,  8.03it/s]\n"
     ]
    },
    {
     "name": "stdout",
     "output_type": "stream",
     "text": [
      "saving best model val_acc : 0.9295\n"
     ]
    },
    {
     "name": "stderr",
     "output_type": "stream",
     "text": [
      "Epoch 163/200 : training Loss 5.9e-05: 100%|██████████| 313/313 [00:17<00:00, 18.10it/s]\n",
      "Epoch 163/200 : val Loss 0.002075: 100%|██████████| 79/79 [00:09<00:00,  8.02it/s]\n"
     ]
    },
    {
     "name": "stdout",
     "output_type": "stream",
     "text": [
      "saving best model val_acc : 0.9338\n"
     ]
    },
    {
     "name": "stderr",
     "output_type": "stream",
     "text": [
      "Epoch 164/200 : training Loss 3.8e-05: 100%|██████████| 313/313 [00:17<00:00, 18.10it/s]\n",
      "Epoch 164/200 : val Loss 0.001941: 100%|██████████| 79/79 [00:09<00:00,  8.02it/s]\n"
     ]
    },
    {
     "name": "stdout",
     "output_type": "stream",
     "text": [
      "saving best model val_acc : 0.9376\n"
     ]
    },
    {
     "name": "stderr",
     "output_type": "stream",
     "text": [
      "Epoch 165/200 : training Loss 5.2e-05: 100%|██████████| 313/313 [00:17<00:00, 18.12it/s]\n",
      "Epoch 165/200 : val Loss 0.002062: 100%|██████████| 79/79 [00:09<00:00,  8.02it/s]\n",
      "Epoch 166/200 : training Loss 4.2e-05: 100%|██████████| 313/313 [00:17<00:00, 18.27it/s]\n",
      "Epoch 166/200 : val Loss 0.00194: 100%|██████████| 79/79 [00:09<00:00,  8.01it/s] \n",
      "Epoch 167/200 : training Loss 3.4e-05: 100%|██████████| 313/313 [00:17<00:00, 18.26it/s]\n",
      "Epoch 167/200 : val Loss 0.001879: 100%|██████████| 79/79 [00:09<00:00,  8.01it/s]\n"
     ]
    },
    {
     "name": "stdout",
     "output_type": "stream",
     "text": [
      "saving best model val_acc : 0.9378\n"
     ]
    },
    {
     "name": "stderr",
     "output_type": "stream",
     "text": [
      "Epoch 168/200 : training Loss 2.4e-05: 100%|██████████| 313/313 [00:17<00:00, 18.11it/s]\n",
      "Epoch 168/200 : val Loss 0.001838: 100%|██████████| 79/79 [00:09<00:00,  8.01it/s]\n"
     ]
    },
    {
     "name": "stdout",
     "output_type": "stream",
     "text": [
      "saving best model val_acc : 0.9400\n"
     ]
    },
    {
     "name": "stderr",
     "output_type": "stream",
     "text": [
      "Epoch 169/200 : training Loss 2e-05: 100%|██████████| 313/313 [00:17<00:00, 18.14it/s]  \n",
      "Epoch 169/200 : val Loss 0.001883: 100%|██████████| 79/79 [00:09<00:00,  8.02it/s]\n",
      "Epoch 170/200 : training Loss 2.6e-05: 100%|██████████| 313/313 [00:17<00:00, 18.24it/s]\n",
      "Epoch 170/200 : val Loss 0.001893: 100%|██████████| 79/79 [00:09<00:00,  8.04it/s]\n",
      "Epoch 171/200 : training Loss 2e-05: 100%|██████████| 313/313 [00:17<00:00, 18.07it/s]  \n",
      "Epoch 171/200 : val Loss 0.001852: 100%|██████████| 79/79 [00:09<00:00,  8.00it/s]\n",
      "Epoch 172/200 : training Loss 1.9e-05: 100%|██████████| 313/313 [00:17<00:00, 18.26it/s]\n",
      "Epoch 172/200 : val Loss 0.001813: 100%|██████████| 79/79 [00:09<00:00,  8.02it/s]\n"
     ]
    },
    {
     "name": "stdout",
     "output_type": "stream",
     "text": [
      "saving best model val_acc : 0.9401\n"
     ]
    },
    {
     "name": "stderr",
     "output_type": "stream",
     "text": [
      "Epoch 173/200 : training Loss 1.9e-05: 100%|██████████| 313/313 [00:17<00:00, 18.11it/s]\n",
      "Epoch 173/200 : val Loss 0.001769: 100%|██████████| 79/79 [00:09<00:00,  8.03it/s]\n"
     ]
    },
    {
     "name": "stdout",
     "output_type": "stream",
     "text": [
      "saving best model val_acc : 0.9438\n"
     ]
    },
    {
     "name": "stderr",
     "output_type": "stream",
     "text": [
      "Epoch 174/200 : training Loss 1.8e-05: 100%|██████████| 313/313 [00:17<00:00, 18.19it/s]\n",
      "Epoch 174/200 : val Loss 0.001767: 100%|██████████| 79/79 [00:09<00:00,  8.01it/s]\n",
      "Epoch 175/200 : training Loss 1.9e-05: 100%|██████████| 313/313 [00:17<00:00, 18.27it/s]\n",
      "Epoch 175/200 : val Loss 0.001762: 100%|██████████| 79/79 [00:09<00:00,  8.02it/s]\n",
      "Epoch 176/200 : training Loss 1.6e-05: 100%|██████████| 313/313 [00:17<00:00, 18.27it/s]\n",
      "Epoch 176/200 : val Loss 0.001721: 100%|██████████| 79/79 [00:09<00:00,  8.00it/s]\n",
      "Epoch 177/200 : training Loss 1.5e-05: 100%|██████████| 313/313 [00:17<00:00, 18.07it/s]\n",
      "Epoch 177/200 : val Loss 0.001817: 100%|██████████| 79/79 [00:09<00:00,  8.01it/s]\n",
      "Epoch 178/200 : training Loss 1.6e-05: 100%|██████████| 313/313 [00:17<00:00, 18.08it/s]\n",
      "Epoch 178/200 : val Loss 0.001765: 100%|██████████| 79/79 [00:10<00:00,  7.89it/s]\n",
      "Epoch 179/200 : training Loss 1.5e-05: 100%|██████████| 313/313 [00:17<00:00, 18.20it/s]\n",
      "Epoch 179/200 : val Loss 0.001801: 100%|██████████| 79/79 [00:09<00:00,  8.03it/s]\n",
      "Epoch 180/200 : training Loss 1.6e-05: 100%|██████████| 313/313 [00:17<00:00, 18.05it/s]\n",
      "Epoch 180/200 : val Loss 0.001793: 100%|██████████| 79/79 [00:09<00:00,  8.00it/s]\n",
      "Epoch 181/200 : training Loss 1.5e-05: 100%|██████████| 313/313 [00:17<00:00, 18.26it/s]\n",
      "Epoch 181/200 : val Loss 0.00176: 100%|██████████| 79/79 [00:09<00:00,  8.03it/s] \n",
      "Epoch 182/200 : training Loss 1.4e-05: 100%|██████████| 313/313 [00:17<00:00, 18.27it/s]\n",
      "Epoch 182/200 : val Loss 0.001714: 100%|██████████| 79/79 [00:10<00:00,  7.85it/s]\n",
      "Epoch 183/200 : training Loss 1.4e-05: 100%|██████████| 313/313 [00:17<00:00, 18.27it/s]\n",
      "Epoch 183/200 : val Loss 0.001798: 100%|██████████| 79/79 [00:09<00:00,  8.01it/s]\n",
      "Epoch 184/200 : training Loss 1.4e-05: 100%|██████████| 313/313 [00:17<00:00, 18.07it/s]\n",
      "Epoch 184/200 : val Loss 0.001731: 100%|██████████| 79/79 [00:09<00:00,  8.01it/s]\n",
      "Epoch 185/200 : training Loss 1.4e-05: 100%|██████████| 313/313 [00:17<00:00, 18.06it/s]\n",
      "Epoch 185/200 : val Loss 0.001741: 100%|██████████| 79/79 [00:09<00:00,  8.01it/s]\n",
      "Epoch 186/200 : training Loss 1.3e-05: 100%|██████████| 313/313 [00:17<00:00, 18.25it/s]\n",
      "Epoch 186/200 : val Loss 0.001705: 100%|██████████| 79/79 [00:09<00:00,  8.03it/s]\n",
      "Epoch 187/200 : training Loss 1.3e-05: 100%|██████████| 313/313 [00:17<00:00, 18.08it/s]\n",
      "Epoch 187/200 : val Loss 0.001759: 100%|██████████| 79/79 [00:09<00:00,  8.00it/s]\n",
      "Epoch 188/200 : training Loss 1.4e-05: 100%|██████████| 313/313 [00:17<00:00, 18.27it/s]\n",
      "Epoch 188/200 : val Loss 0.001746: 100%|██████████| 79/79 [00:09<00:00,  8.02it/s]\n"
     ]
    },
    {
     "name": "stdout",
     "output_type": "stream",
     "text": [
      "saving best model val_acc : 0.9447\n"
     ]
    },
    {
     "name": "stderr",
     "output_type": "stream",
     "text": [
      "Epoch 189/200 : training Loss 1.4e-05: 100%|██████████| 313/313 [00:17<00:00, 18.12it/s]\n",
      "Epoch 189/200 : val Loss 0.001721: 100%|██████████| 79/79 [00:09<00:00,  8.01it/s]\n",
      "Epoch 190/200 : training Loss 1.3e-05: 100%|██████████| 313/313 [00:17<00:00, 18.05it/s]\n",
      "Epoch 190/200 : val Loss 0.001696: 100%|██████████| 79/79 [00:09<00:00,  8.02it/s]\n",
      "Epoch 191/200 : training Loss 1.4e-05: 100%|██████████| 313/313 [00:17<00:00, 18.04it/s]\n",
      "Epoch 191/200 : val Loss 0.001717: 100%|██████████| 79/79 [00:10<00:00,  7.87it/s]\n",
      "Epoch 192/200 : training Loss 1.3e-05: 100%|██████████| 313/313 [00:17<00:00, 18.07it/s]\n",
      "Epoch 192/200 : val Loss 0.001724: 100%|██████████| 79/79 [00:09<00:00,  8.01it/s]\n",
      "Epoch 193/200 : training Loss 1.4e-05: 100%|██████████| 313/313 [00:17<00:00, 18.28it/s]\n",
      "Epoch 193/200 : val Loss 0.001684: 100%|██████████| 79/79 [00:09<00:00,  8.00it/s]\n",
      "Epoch 194/200 : training Loss 1.3e-05: 100%|██████████| 313/313 [00:17<00:00, 18.06it/s]\n",
      "Epoch 194/200 : val Loss 0.001717: 100%|██████████| 79/79 [00:09<00:00,  8.03it/s]\n",
      "Epoch 195/200 : training Loss 1.4e-05: 100%|██████████| 313/313 [00:17<00:00, 18.25it/s]\n",
      "Epoch 195/200 : val Loss 0.001751: 100%|██████████| 79/79 [00:09<00:00,  8.00it/s]\n",
      "Epoch 196/200 : training Loss 1.2e-05: 100%|██████████| 313/313 [00:17<00:00, 18.07it/s]\n",
      "Epoch 196/200 : val Loss 0.001651: 100%|██████████| 79/79 [00:09<00:00,  8.03it/s]\n",
      "Epoch 197/200 : training Loss 1.3e-05: 100%|██████████| 313/313 [00:17<00:00, 18.03it/s]\n",
      "Epoch 197/200 : val Loss 0.00171: 100%|██████████| 79/79 [00:09<00:00,  8.01it/s] \n",
      "Epoch 198/200 : training Loss 1.3e-05: 100%|██████████| 313/313 [00:17<00:00, 18.07it/s]\n",
      "Epoch 198/200 : val Loss 0.001712: 100%|██████████| 79/79 [00:09<00:00,  8.03it/s]\n",
      "Epoch 199/200 : training Loss 1.3e-05: 100%|██████████| 313/313 [00:17<00:00, 18.05it/s]\n",
      "Epoch 199/200 : val Loss 0.001683: 100%|██████████| 79/79 [00:09<00:00,  8.02it/s]\n",
      "Epoch 200/200 : training Loss 1.4e-05: 100%|██████████| 313/313 [00:17<00:00, 18.24it/s]\n",
      "Epoch 200/200 : val Loss 0.001753: 100%|██████████| 79/79 [00:09<00:00,  8.04it/s]\n"
     ]
    },
    {
     "data": {
      "image/png": "[encoded data removed]",
      "text/plain": [
       "<Figure size 1200x500 with 2 Axes>"
      ]
     },
     "metadata": {},
     "output_type": "display_data"
    }
   ],
   "source": [
    "# Initialize ResNet18 & Train\n",
    "resnet = ResNet18(num_classes=NUM_CLASSES)\n",
    "\n",
    "resnet = resnet.to(DEVICE)\n",
    "\n",
    "summary(resnet, (3, 32, 32))\n",
    "\n",
    "train_data = train_model(resnet, DEVICE, 'resnet18', learning_rate=0.1)\n",
    "\n",
    "training_summary(*train_data)\n"
   ]
  },
  {
   "cell_type": "markdown",
   "metadata": {},
   "source": [
    "## **Results**"
   ]
  },
  {
   "cell_type": "code",
   "execution_count": 56,
   "metadata": {},
   "outputs": [
    {
     "name": "stdout",
     "output_type": "stream",
     "text": [
      "VGG16 Test Accuracy: 92.97\n",
      "MobileNetV2 Test Accuracy: 92.25\n",
      "ResNet18 Testing Accuracy: 94.71\n"
     ]
    }
   ],
   "source": [
    "# Compare Models on testing dataset\n",
    "def test(model, loader, device):\n",
    "    model.eval()\n",
    "\n",
    "    correct = 0\n",
    "    total = 0 \n",
    "\n",
    "    with torch.no_grad(): \n",
    "         for data in loader:\n",
    "            inputs, labels = data\n",
    "            inputs, labels = inputs.to(device), labels.to(device)\n",
    "\n",
    "            # Forward pass\n",
    "            outputs = model(inputs)\n",
    "\n",
    "            # Get predictions and update counts\n",
    "            _, predicted = torch.max(outputs.data, 1)\n",
    "            total += labels.size(0)\n",
    "            correct += (predicted == labels).sum().item()\n",
    "\n",
    "    # Compute accuracy\n",
    "    accuracy = 100 * correct / total\n",
    "    return accuracy\n",
    "\n",
    "print(f\"VGG16 Test Accuracy: {test(vgg16, test_loader, DEVICE)}\")\n",
    "print(f'MobileNetV2 Test Accuracy: {test(mobilenet, test_loader, DEVICE)}')\n",
    "print(f'ResNet18 Testing Accuracy: {test(resnet, test_loader, DEVICE)}')"
   ]
  },
  {
   "cell_type": "markdown",
   "metadata": {},
   "source": [
    "While further hyperparameter tuning may improve our testing accuracies, this is good enough for our purposes.  "
   ]
  }
 ],
 "metadata": {
  "kernelspec": {
   "display_name": "venv",
   "language": "python",
   "name": "python3"
  },
  "language_info": {
   "codemirror_mode": {
    "name": "ipython",
    "version": 3
   },
   "file_extension": ".py",
   "mimetype": "text/x-python",
   "name": "python",
   "nbconvert_exporter": "python",
   "pygments_lexer": "ipython3",
   "version": "3.11.4"
  }
 },
 "nbformat": 4,
 "nbformat_minor": 2
}
