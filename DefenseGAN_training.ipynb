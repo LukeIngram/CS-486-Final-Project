{
 "cells": [
  {
   "cell_type": "markdown",
   "metadata": {},
   "source": [
    "# **Training DefenseGAN on the CIFAR-10 Dataset**\n",
    "\n",
    "* CS486: Robust Machine Learning \n",
    "* Drexel University - Spring 2023 \n",
    "* Luke Ingram"
   ]
  },
  {
   "cell_type": "code",
   "execution_count": 3,
   "metadata": {},
   "outputs": [],
   "source": [
    "import os \n",
    "import copy\n",
    "\n",
    "from tqdm import tqdm\n",
    "import matplotlib.pyplot as plt\n",
    "\n",
    "\n",
    "import torch\n",
    "import torch.nn as nn\n",
    "import torch.optim as optim\n",
    "from torch.utils.data import DataLoader\n",
    "from torch.utils.data.sampler import SubsetRandomSampler\n",
    "import torchvision.transforms as vt\n",
    "from torchvision import datasets\n",
    "from torchvision.utils import save_image\n",
    "import torch.autograd as autograd\n",
    "\n",
    "\n",
    "from models import Generator, Discriminator \n"
   ]
  },
  {
   "cell_type": "markdown",
   "metadata": {},
   "source": [
    "## **Loss Functions**\n",
    "\n",
    "As the GAN referenced in the [paper](https://arxiv.org/abs/1805.06605) is a WGAN, or Wasserstien-GAN, but we will will be using a WGAN-GP, or *with gradient penalty*, so need to first implement the gradient penalty."
   ]
  },
  {
   "cell_type": "code",
   "execution_count": 4,
   "metadata": {},
   "outputs": [],
   "source": [
    "def calc_gradient_penalty(\n",
    "        discriminator: nn.Module, \n",
    "        real_samples: torch.Tensor, \n",
    "        fake_samples: torch.Tensor, \n",
    "        device: torch.device, \n",
    "        lambda_gp: int = 10,\n",
    "    ) -> torch.Tensor:\n",
    "\n",
    "    \"\"\"\n",
    "    TODO DOCSTRING\n",
    "    \"\"\"\n",
    "\n",
    "    batch_size = real_samples.size(0)\n",
    "\n",
    "    # Random weight term for interpolation between real and fake samples\n",
    "    alpha = torch.rand(batch_size, 1, 1, 1, device=device)\n",
    "\n",
    "    # Get random interpolation between real and fake samples\n",
    "    interpolates = alpha * real_samples + (1 - alpha) * fake_samples\n",
    "    interpolates = interpolates.to(device).requires_grad_(True)\n",
    "\n",
    "    d_interpolates = discriminator(interpolates)\n",
    "\n",
    "    # Create the 'fake' tensor required for autograd.grad\n",
    "    fake = torch.ones(d_interpolates.size(), requires_grad=False, device=device)\n",
    "\n",
    "    # Get gradient w.r.t. interpolates\n",
    "    gradients = autograd.grad(\n",
    "        outputs=d_interpolates,\n",
    "        inputs=interpolates,\n",
    "        grad_outputs=fake,\n",
    "        create_graph=True,\n",
    "        retain_graph=True,\n",
    "        only_inputs=True,\n",
    "    )[0]\n",
    "\n",
    "    # Flatten the gradients to compute the norm per sample\n",
    "    gradients = gradients.view(batch_size, -1)\n",
    "    gradient_penalty = lambda_gp * ((gradients.norm(2, dim=1) - 1) ** 2).mean()\n",
    "\n",
    "    return gradient_penalty\n"
   ]
  },
  {
   "cell_type": "markdown",
   "metadata": {},
   "source": [
    "## **Load & Preprocess Data** "
   ]
  },
  {
   "cell_type": "code",
   "execution_count": 5,
   "metadata": {},
   "outputs": [],
   "source": [
    "# Hyperparams\n",
    "BATCH_SIZE = 128\n",
    "NUM_CLASSES = 10\n",
    "DEVICE = torch.device('mps')\n",
    "SAVES_PATH = os.path.join('models', 'checkpoints', 'gans')\n",
    "DEBUG_PATH = os.path.join('debug_imgs')"
   ]
  },
  {
   "cell_type": "code",
   "execution_count": 6,
   "metadata": {},
   "outputs": [
    {
     "name": "stdout",
     "output_type": "stream",
     "text": [
      "Files already downloaded and verified\n",
      "Files already downloaded and verified\n"
     ]
    }
   ],
   "source": [
    "mean = [0.4913997551666284, 0.48215855929893703, 0.4465309133731618]\n",
    "std = [0.24703225141799082, 0.24348516474564, 0.26158783926049628]\n",
    "\n",
    "transforms = vt.Compose([\n",
    "    vt.ToTensor(),\n",
    "    vt.Normalize(mean, std)\n",
    "])\n",
    "\n",
    "# Fetch & Create train, validation, and testing datasets\n",
    "\n",
    "trainset = datasets.CIFAR10(root='./data', train=True, download=True, transform=transforms)\n",
    "\n",
    "train_loader = DataLoader(\n",
    "    trainset, \n",
    "    batch_size=BATCH_SIZE,\n",
    "    num_workers=4,\n",
    "    shuffle=True\n",
    ")\n",
    "\n",
    "\n",
    "test_data = datasets.CIFAR10(root='./data', train=False, download=True, transform=transforms)\n",
    "\n",
    "test_loader = DataLoader(test_data, batch_size=BATCH_SIZE, shuffle=False, num_workers=4)"
   ]
  },
  {
   "cell_type": "markdown",
   "metadata": {},
   "source": [
    "## **Training & Evaluation Routines**"
   ]
  },
  {
   "cell_type": "code",
   "execution_count": 7,
   "metadata": {},
   "outputs": [],
   "source": [
    "# Hyperparams \n",
    "EPOCHS = 500\n",
    "LAMBDA_GP = 10 \n",
    "CRITIC_ITERS = 5 \n",
    "DISPLAY_STEP = 10 # determines how many epochs to wait before saving output for visual inspection\n",
    "SAVE_STEP = 100\n",
    "LATENT_LEN = 100 # Length of latent code for generator \n",
    "LEARNING_RATE = 1e-4\n",
    "DEBUG_VECTOR = torch.randn(BATCH_SIZE, LATENT_LEN).to(DEVICE) # constant input for visual debugging of the generator"
   ]
  },
  {
   "cell_type": "code",
   "execution_count": 8,
   "metadata": {},
   "outputs": [],
   "source": [
    "def adjust_lr(optimizer, epoch, init_lr = 1e-4, epochs = 200000):\n",
    "    ''' Linear Learning rate Scheduler '''\n",
    "\n",
    "    gradient = (float(-init_lr) / epochs)\n",
    "    \n",
    "    lr = gradient * epoch + init_lr \n",
    "\n",
    "    for param_group in optimizer.param_groups:\n",
    "        param_group['lr'] = lr\n",
    "\n",
    "def train_gan(generator: nn.Module, discriminator: nn.Module, save_name:str, start_epoch: int): \n",
    "    \n",
    "    optim_G = optim.Adam(generator.parameters(), lr=LEARNING_RATE, betas=(0.5, 0.9))\n",
    "    optim_D = optim.Adam(discriminator.parameters(), lr=LEARNING_RATE, betas=(0.5, 0.9))\n",
    "\n",
    "    grad_direction_real = torch.FloatTensor([-1])\n",
    "    grad_direction_fake = torch.FloatTensor([1])\n",
    "\n",
    "    grad_direction_real = grad_direction_real.to(DEVICE)\n",
    "    grad_direction_fake = grad_direction_fake.to(DEVICE)\n",
    "\n",
    "    d_losses = []\n",
    "    g_losses = []\n",
    "\n",
    "    for epoch in range(start_epoch, EPOCHS): \n",
    "\n",
    "        adjust_lr(optim_D, epoch, LEARNING_RATE, EPOCHS)\n",
    "        adjust_lr(optim_G, epoch, LEARNING_RATE, EPOCHS)\n",
    "\n",
    "\n",
    "        with tqdm(train_loader, desc=f\"Epoch {epoch+1}/{EPOCHS} : D_Loss 0, G_loss 0\") as pbar:\n",
    "\n",
    "            generator.train()\n",
    "            discriminator.train()\n",
    "\n",
    "            d_loss_real = 0\n",
    "            d_loss_fake = 0\n",
    "\n",
    "\n",
    "            for idx, (real_imgs, _) in enumerate(train_loader): \n",
    "\n",
    "                # ---------------------\n",
    "                # Critic goes first\n",
    "                # ---------------------\n",
    "\n",
    "                for param in discriminator.parameters(): \n",
    "                    param.requires_grad = True\n",
    "\n",
    "                optim_D.zero_grad()\n",
    "                \n",
    "                real_imgs = autograd.Variable(real_imgs.to(DEVICE))\n",
    "                \n",
    "                # sample noise vector for generator input \n",
    "                z = autograd.Variable(torch.randn(real_imgs.size(0), LATENT_LEN))\n",
    "                z = z.to(DEVICE)\n",
    "\n",
    "                # Pass through Generator \n",
    "                fake_imgs = generator(z)\n",
    "\n",
    "                # Real validity score\n",
    "                real_validity = discriminator(real_imgs)\n",
    "                d_loss_real = real_validity.mean(dim=0, keepdim=True)\n",
    "                d_loss_real.backward(grad_direction_real)\n",
    "                \n",
    "                # Fake validity score\n",
    "                fake_validity = discriminator(fake_imgs) \n",
    "                d_loss_fake = fake_validity.mean(dim=0, keepdim=True)\n",
    "                d_loss_fake.backward(grad_direction_fake)\n",
    "\n",
    "                # Gradient penalty\n",
    "                grad_penalty = calc_gradient_penalty(discriminator, real_imgs.data, fake_imgs.data, DEVICE, LAMBDA_GP)\n",
    "                grad_penalty.backward()\n",
    "\n",
    "                d_loss = d_loss_fake - d_loss_real + grad_penalty \n",
    "\n",
    "                optim_D.step()\n",
    "\n",
    "                del real_imgs\n",
    "\n",
    "                if (idx + 1) % CRITIC_ITERS == 0 or len(train_loader): \n",
    "\n",
    "                    # ---------------------\n",
    "                    # Update generator\n",
    "                    # ---------------------\n",
    "\n",
    "                    for param in discriminator.parameters(): \n",
    "                        param.requires_grad = False\n",
    "\n",
    "                    # Generate fake images using sampled noise from before\n",
    "                    fake_imgs = generator(z)\n",
    "                    \n",
    "                    optim_G.zero_grad()\n",
    "\n",
    "                    # Calculate and pass back generator loss\n",
    "                    validity_score = discriminator(fake_imgs)\n",
    "                    g_loss = validity_score.mean(dim=0, keepdim=True)\n",
    "                    g_loss.backward(grad_direction_real)\n",
    "\n",
    "                    optim_G.step()\n",
    "\n",
    "                pbar.update(1)\n",
    "                pbar.set_description(f\"Epoch {epoch+1}/{EPOCHS} : D_Loss {round(d_loss.item(), 6)}, G_loss {round(g_loss.item(), 6)}\")\n",
    "        \n",
    "        g_losses.append(g_loss.item())\n",
    "        d_losses.append(d_loss.item())\n",
    "\n",
    "        if (epoch + 1) % DISPLAY_STEP == 0: \n",
    "            # Save debug image \n",
    "            debug_output = generator(DEBUG_VECTOR)\n",
    "            save_image(debug_output.data, os.path.join(DEBUG_PATH, f'debug_{epoch+1}.png'), normalize=True)\n",
    "            \n",
    "\n",
    "        if (epoch + 1) % SAVE_STEP == 0: \n",
    "            spath = os.path.join(SAVES_PATH, save_name+'.pth')\n",
    "\n",
    "            print(f\"Saving Generator at epoch {epoch+1} to {spath}\")\n",
    "            \n",
    "            generator_copy = copy.deepcopy(generator).cpu()\n",
    "            generator_state_dict = generator_copy.state_dict()\n",
    "\n",
    "            discriminator_copy = copy.deepcopy(discriminator).cpu()\n",
    "            discriminator_state_dict = discriminator_copy.state_dict()\n",
    "            torch.save({\n",
    "                'generator': generator_state_dict,\n",
    "                'discriminator': discriminator_state_dict,\n",
    "                'epoch' : epoch \n",
    "                }, spath)\n",
    "\n",
    "            del generator_copy\n",
    "            \n",
    "    return [g_losses, d_losses]\n",
    "\n",
    "\n",
    "        \n",
    "    "
   ]
  },
  {
   "cell_type": "markdown",
   "metadata": {},
   "source": [
    "## **DefenseGAN**"
   ]
  },
  {
   "cell_type": "markdown",
   "metadata": {},
   "source": [
    "It's time to train our WGAN-GP, first we define our custom weight initialization scheme. "
   ]
  },
  {
   "cell_type": "code",
   "execution_count": 9,
   "metadata": {},
   "outputs": [
    {
     "name": "stdout",
     "output_type": "stream",
     "text": [
      "----------------------------------------------------------------\n",
      "        Layer (type)               Output Shape         Param #\n",
      "================================================================\n",
      "            Linear-1                 [-1, 4096]         413,696\n",
      "         LeakyReLU-2            [-1, 256, 4, 4]               0\n",
      "   ConvTranspose2d-3            [-1, 128, 8, 8]         524,416\n",
      "         LeakyReLU-4            [-1, 128, 8, 8]               0\n",
      "   ConvTranspose2d-5          [-1, 128, 16, 16]         262,272\n",
      "         LeakyReLU-6          [-1, 128, 16, 16]               0\n",
      "   ConvTranspose2d-7          [-1, 128, 32, 32]         262,272\n",
      "         LeakyReLU-8          [-1, 128, 32, 32]               0\n",
      "            Conv2d-9            [-1, 3, 32, 32]           3,459\n",
      "             Tanh-10            [-1, 3, 32, 32]               0\n",
      "================================================================\n",
      "Total params: 1,466,115\n",
      "Trainable params: 1,466,115\n",
      "Non-trainable params: 0\n",
      "----------------------------------------------------------------\n",
      "Input size (MB): 0.00\n",
      "Forward/backward pass size (MB): 2.73\n",
      "Params size (MB): 5.59\n",
      "Estimated Total Size (MB): 8.33\n",
      "----------------------------------------------------------------\n"
     ]
    },
    {
     "name": "stderr",
     "output_type": "stream",
     "text": [
      "Epoch 1/500 : D_Loss 9.320199, G_loss 0.643037:   9%|▉         | 35/391 [00:14<01:16,  4.66it/s]"
     ]
    }
   ],
   "source": [
    "#state_dict = torch.load(os.path.join('models', 'checkpoints', 'gans', 'defensegan_128.pth'))\n",
    "\n",
    "from torchsummary import summary\n",
    "\n",
    "\n",
    "generator = Generator(LATENT_LEN)\n",
    "#generator.load_state_dict(state_dict.get('generator'))\n",
    "\n",
    "discriminator = Discriminator(in_shape=(3, 32, 32))\n",
    "#discriminator.load_state_dict(state_dict.get('discriminator'))\n",
    "\n",
    "summary(generator, (100,))\n",
    "\n",
    "\n",
    "generator = generator.to(DEVICE)\n",
    "discriminator = discriminator.to(DEVICE)\n",
    "\n",
    "train_data = train_gan(generator, discriminator, 'defensegan_128_v2', 0)#state_dict.get('epoch'))\n"
   ]
  },
  {
   "cell_type": "code",
   "execution_count": null,
   "metadata": {},
   "outputs": [
    {
     "ename": "AttributeError",
     "evalue": "module 'matplotlib.pyplot' has no attribute 'set_title'",
     "output_type": "error",
     "traceback": [
      "\u001b[1;31m---------------------------------------------------------------------------\u001b[0m",
      "\u001b[1;31mAttributeError\u001b[0m                            Traceback (most recent call last)",
      "\u001b[1;32me:\\GitHub\\DefenseGAN-Pytorch\\DefenseGAN_training.ipynb Cell 15\u001b[0m line \u001b[0;36m5\n\u001b[0;32m      <a href='vscode-notebook-cell:/e%3A/GitHub/DefenseGAN-Pytorch/DefenseGAN_training.ipynb#X21sZmlsZQ%3D%3D?line=2'>3</a>\u001b[0m plt\u001b[39m.\u001b[39mplot(train_data[\u001b[39m0\u001b[39m], label\u001b[39m=\u001b[39m\u001b[39m'\u001b[39m\u001b[39mGenerator Loss\u001b[39m\u001b[39m'\u001b[39m)\n\u001b[0;32m      <a href='vscode-notebook-cell:/e%3A/GitHub/DefenseGAN-Pytorch/DefenseGAN_training.ipynb#X21sZmlsZQ%3D%3D?line=3'>4</a>\u001b[0m plt\u001b[39m.\u001b[39mplot(train_data[\u001b[39m1\u001b[39m], label\u001b[39m=\u001b[39m\u001b[39m\"\u001b[39m\u001b[39mDiscriminator Loss\u001b[39m\u001b[39m\"\u001b[39m)\n\u001b[1;32m----> <a href='vscode-notebook-cell:/e%3A/GitHub/DefenseGAN-Pytorch/DefenseGAN_training.ipynb#X21sZmlsZQ%3D%3D?line=4'>5</a>\u001b[0m plt\u001b[39m.\u001b[39;49mset_title(\u001b[39m\"\u001b[39m\u001b[39mGenerator vs Discriminator Loss\u001b[39m\u001b[39m\"\u001b[39m)\n\u001b[0;32m      <a href='vscode-notebook-cell:/e%3A/GitHub/DefenseGAN-Pytorch/DefenseGAN_training.ipynb#X21sZmlsZQ%3D%3D?line=5'>6</a>\u001b[0m plt\u001b[39m.\u001b[39mset_xlabel(\u001b[39m'\u001b[39m\u001b[39mEpochs\u001b[39m\u001b[39m'\u001b[39m)\n\u001b[0;32m      <a href='vscode-notebook-cell:/e%3A/GitHub/DefenseGAN-Pytorch/DefenseGAN_training.ipynb#X21sZmlsZQ%3D%3D?line=6'>7</a>\u001b[0m plt\u001b[39m.\u001b[39mset_ylabel(\u001b[39m'\u001b[39m\u001b[39mLoss\u001b[39m\u001b[39m'\u001b[39m)\n",
      "\u001b[1;31mAttributeError\u001b[0m: module 'matplotlib.pyplot' has no attribute 'set_title'"
     ]
    },
    {
     "data": {
      "image/png": "[encoded data removed]",
      "text/plain": [
       "<Figure size 640x480 with 1 Axes>"
      ]
     },
     "metadata": {},
     "output_type": "display_data"
    }
   ],
   "source": [
    "# Plot Losses\n",
    "\n",
    "plt.plot(train_data[0], label='Generator Loss')\n",
    "plt.plot(train_data[1], label=\"Discriminator Loss\")\n",
    "plt.set_title(\"Generator vs Discriminator Loss\")\n",
    "plt.set_xlabel('Epochs')\n",
    "plt.set_ylabel('Loss')\n",
    "plt.legend()\n",
    "plt.show()"
   ]
  }
 ],
 "metadata": {
  "kernelspec": {
   "display_name": "venv",
   "language": "python",
   "name": "python3"
  },
  "language_info": {
   "codemirror_mode": {
    "name": "ipython",
    "version": 3
   },
   "file_extension": ".py",
   "mimetype": "text/x-python",
   "name": "python",
   "nbconvert_exporter": "python",
   "pygments_lexer": "ipython3",
   "version": "3.11.4"
  }
 },
 "nbformat": 4,
 "nbformat_minor": 2
}
