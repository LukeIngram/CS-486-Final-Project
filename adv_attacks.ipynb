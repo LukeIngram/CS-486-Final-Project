{
 "cells": [
  {
   "cell_type": "markdown",
   "metadata": {},
   "source": [
    "# **Attacking Image Classifiers with FoolBox**\n",
    "\n",
    "* CS486: Robust Machine Learning \n",
    "* Drexel University - Spring 2023 \n",
    "* Luke Ingram\n"
   ]
  },
  {
   "cell_type": "code",
   "execution_count": 3,
   "metadata": {},
   "outputs": [],
   "source": [
    "import os \n",
    "import pickle\n",
    "from typing import Dict, Any\n",
    "\n",
    "from tqdm import tqdm\n",
    "import matplotlib.pyplot as plt\n",
    "import numpy as np\n",
    "\n",
    "import torch\n",
    "import torch.nn as nn\n",
    "from torchvision import transforms as vt\n",
    "from torchvision.utils import make_grid\n",
    "from torchvision.datasets import CIFAR10\n",
    "from torch.utils.data import DataLoader\n",
    "\n",
    "import foolbox \n",
    "\n",
    "from pytorch_cifar.models import VGG, MobileNetV2, ResNet18\n",
    "\n",
    "from AdversarialDataset import AdversarialDataset\n"
   ]
  },
  {
   "cell_type": "markdown",
   "metadata": {},
   "source": [
    "## **Loading Trained Models & Data**"
   ]
  },
  {
   "cell_type": "code",
   "execution_count": 4,
   "metadata": {},
   "outputs": [],
   "source": [
    "MODEL_SAVES_DIR = os.path.join('models', 'checkpoints', 'classifiers')\n",
    "DEVICE = torch.device('cuda')\n",
    "BATCH_SIZE = 1"
   ]
  },
  {
   "cell_type": "code",
   "execution_count": 5,
   "metadata": {},
   "outputs": [
    {
     "data": {
      "text/plain": [
       "ResNet(\n",
       "  (conv1): Conv2d(3, 64, kernel_size=(3, 3), stride=(1, 1), padding=(1, 1), bias=False)\n",
       "  (bn1): BatchNorm2d(64, eps=1e-05, momentum=0.1, affine=True, track_running_stats=True)\n",
       "  (layer1): Sequential(\n",
       "    (0): BasicBlock(\n",
       "      (conv1): Conv2d(64, 64, kernel_size=(3, 3), stride=(1, 1), padding=(1, 1), bias=False)\n",
       "      (bn1): BatchNorm2d(64, eps=1e-05, momentum=0.1, affine=True, track_running_stats=True)\n",
       "      (conv2): Conv2d(64, 64, kernel_size=(3, 3), stride=(1, 1), padding=(1, 1), bias=False)\n",
       "      (bn2): BatchNorm2d(64, eps=1e-05, momentum=0.1, affine=True, track_running_stats=True)\n",
       "      (shortcut): Sequential()\n",
       "    )\n",
       "    (1): BasicBlock(\n",
       "      (conv1): Conv2d(64, 64, kernel_size=(3, 3), stride=(1, 1), padding=(1, 1), bias=False)\n",
       "      (bn1): BatchNorm2d(64, eps=1e-05, momentum=0.1, affine=True, track_running_stats=True)\n",
       "      (conv2): Conv2d(64, 64, kernel_size=(3, 3), stride=(1, 1), padding=(1, 1), bias=False)\n",
       "      (bn2): BatchNorm2d(64, eps=1e-05, momentum=0.1, affine=True, track_running_stats=True)\n",
       "      (shortcut): Sequential()\n",
       "    )\n",
       "  )\n",
       "  (layer2): Sequential(\n",
       "    (0): BasicBlock(\n",
       "      (conv1): Conv2d(64, 128, kernel_size=(3, 3), stride=(2, 2), padding=(1, 1), bias=False)\n",
       "      (bn1): BatchNorm2d(128, eps=1e-05, momentum=0.1, affine=True, track_running_stats=True)\n",
       "      (conv2): Conv2d(128, 128, kernel_size=(3, 3), stride=(1, 1), padding=(1, 1), bias=False)\n",
       "      (bn2): BatchNorm2d(128, eps=1e-05, momentum=0.1, affine=True, track_running_stats=True)\n",
       "      (shortcut): Sequential(\n",
       "        (0): Conv2d(64, 128, kernel_size=(1, 1), stride=(2, 2), bias=False)\n",
       "        (1): BatchNorm2d(128, eps=1e-05, momentum=0.1, affine=True, track_running_stats=True)\n",
       "      )\n",
       "    )\n",
       "    (1): BasicBlock(\n",
       "      (conv1): Conv2d(128, 128, kernel_size=(3, 3), stride=(1, 1), padding=(1, 1), bias=False)\n",
       "      (bn1): BatchNorm2d(128, eps=1e-05, momentum=0.1, affine=True, track_running_stats=True)\n",
       "      (conv2): Conv2d(128, 128, kernel_size=(3, 3), stride=(1, 1), padding=(1, 1), bias=False)\n",
       "      (bn2): BatchNorm2d(128, eps=1e-05, momentum=0.1, affine=True, track_running_stats=True)\n",
       "      (shortcut): Sequential()\n",
       "    )\n",
       "  )\n",
       "  (layer3): Sequential(\n",
       "    (0): BasicBlock(\n",
       "      (conv1): Conv2d(128, 256, kernel_size=(3, 3), stride=(2, 2), padding=(1, 1), bias=False)\n",
       "      (bn1): BatchNorm2d(256, eps=1e-05, momentum=0.1, affine=True, track_running_stats=True)\n",
       "      (conv2): Conv2d(256, 256, kernel_size=(3, 3), stride=(1, 1), padding=(1, 1), bias=False)\n",
       "      (bn2): BatchNorm2d(256, eps=1e-05, momentum=0.1, affine=True, track_running_stats=True)\n",
       "      (shortcut): Sequential(\n",
       "        (0): Conv2d(128, 256, kernel_size=(1, 1), stride=(2, 2), bias=False)\n",
       "        (1): BatchNorm2d(256, eps=1e-05, momentum=0.1, affine=True, track_running_stats=True)\n",
       "      )\n",
       "    )\n",
       "    (1): BasicBlock(\n",
       "      (conv1): Conv2d(256, 256, kernel_size=(3, 3), stride=(1, 1), padding=(1, 1), bias=False)\n",
       "      (bn1): BatchNorm2d(256, eps=1e-05, momentum=0.1, affine=True, track_running_stats=True)\n",
       "      (conv2): Conv2d(256, 256, kernel_size=(3, 3), stride=(1, 1), padding=(1, 1), bias=False)\n",
       "      (bn2): BatchNorm2d(256, eps=1e-05, momentum=0.1, affine=True, track_running_stats=True)\n",
       "      (shortcut): Sequential()\n",
       "    )\n",
       "  )\n",
       "  (layer4): Sequential(\n",
       "    (0): BasicBlock(\n",
       "      (conv1): Conv2d(256, 512, kernel_size=(3, 3), stride=(2, 2), padding=(1, 1), bias=False)\n",
       "      (bn1): BatchNorm2d(512, eps=1e-05, momentum=0.1, affine=True, track_running_stats=True)\n",
       "      (conv2): Conv2d(512, 512, kernel_size=(3, 3), stride=(1, 1), padding=(1, 1), bias=False)\n",
       "      (bn2): BatchNorm2d(512, eps=1e-05, momentum=0.1, affine=True, track_running_stats=True)\n",
       "      (shortcut): Sequential(\n",
       "        (0): Conv2d(256, 512, kernel_size=(1, 1), stride=(2, 2), bias=False)\n",
       "        (1): BatchNorm2d(512, eps=1e-05, momentum=0.1, affine=True, track_running_stats=True)\n",
       "      )\n",
       "    )\n",
       "    (1): BasicBlock(\n",
       "      (conv1): Conv2d(512, 512, kernel_size=(3, 3), stride=(1, 1), padding=(1, 1), bias=False)\n",
       "      (bn1): BatchNorm2d(512, eps=1e-05, momentum=0.1, affine=True, track_running_stats=True)\n",
       "      (conv2): Conv2d(512, 512, kernel_size=(3, 3), stride=(1, 1), padding=(1, 1), bias=False)\n",
       "      (bn2): BatchNorm2d(512, eps=1e-05, momentum=0.1, affine=True, track_running_stats=True)\n",
       "      (shortcut): Sequential()\n",
       "    )\n",
       "  )\n",
       "  (linear): Linear(in_features=512, out_features=10, bias=True)\n",
       ")"
      ]
     },
     "execution_count": 5,
     "metadata": {},
     "output_type": "execute_result"
    }
   ],
   "source": [
    "# Load classifiers we trained on CIFAR-10 last section\n",
    "vgg16 = VGG('VGG16', num_classes=10)\n",
    "vgg16.load_state_dict(torch.load(os.path.join(MODEL_SAVES_DIR, 'vgg16.pth')))\n",
    "vgg16 = vgg16.to(DEVICE)\n",
    "vgg16.eval()\n",
    "\n",
    "mobilenet = MobileNetV2(num_classes=10)\n",
    "mobilenet.load_state_dict(torch.load(os.path.join(MODEL_SAVES_DIR, 'mobilenetv2.pth')))\n",
    "mobilenet = mobilenet.to(DEVICE)\n",
    "mobilenet.eval()\n",
    "\n",
    "resnet = ResNet18(num_classes=10)\n",
    "resnet.load_state_dict(torch.load(os.path.join(MODEL_SAVES_DIR, 'resnet18.pth')))\n",
    "resnet = resnet.to(DEVICE)\n",
    "resnet.eval()"
   ]
  },
  {
   "cell_type": "markdown",
   "metadata": {},
   "source": [
    "Now we load our testing set:"
   ]
  },
  {
   "cell_type": "code",
   "execution_count": 6,
   "metadata": {},
   "outputs": [
    {
     "name": "stdout",
     "output_type": "stream",
     "text": [
      "Files already downloaded and verified\n"
     ]
    }
   ],
   "source": [
    "# Load CIFAR-10\n",
    "mean, std = [-0.0541, -0.0127,  0.0265], [0.9868, 1.0000, 1.0029]\n",
    "\n",
    "transforms = vt.Compose([\n",
    "    vt.ToTensor(),\n",
    "    vt.Normalize(mean, std)\n",
    "])\n",
    "\n",
    "cifar10_dataset = CIFAR10(root='./data', train=False, download=True, transform=transforms)\n",
    "cifar10_loader = DataLoader(cifar10_dataset, batch_size=BATCH_SIZE, shuffle=False)"
   ]
  },
  {
   "cell_type": "markdown",
   "metadata": {},
   "source": [
    "We saw the performance of our classifiers on the testing set in the last section, but to reiterate:"
   ]
  },
  {
   "cell_type": "code",
   "execution_count": 11,
   "metadata": {},
   "outputs": [],
   "source": [
    "# Compare Models on testing dataset\n",
    "def test(model, loader, device):\n",
    "    model.eval()\n",
    "\n",
    "    correct = 0\n",
    "    total = 0 \n",
    "\n",
    "    with torch.no_grad(): \n",
    "         for data in loader:\n",
    "            inputs, labels = data\n",
    "            inputs, labels = inputs.to(device), labels.to(device)\n",
    "\n",
    "            # Forward pass\n",
    "            outputs = model(inputs)\n",
    "\n",
    "            # Get predictions and update counts\n",
    "            _, predicted = torch.max(outputs.data, 1)\n",
    "            total += labels.size(0)\n",
    "            correct += (predicted == labels).sum().item()\n",
    "\n",
    "    # Compute accuracy\n",
    "    accuracy = 100 * correct / total\n",
    "    return accuracy\n",
    "\n"
   ]
  },
  {
   "cell_type": "code",
   "execution_count": null,
   "metadata": {},
   "outputs": [],
   "source": [
    "print(f\"VGG16 Test Accuracy: {test(vgg16, cifar10_loader, DEVICE)}\")\n",
    "print(f'MobileNetV2 Test Accuracy: {test(mobilenet, cifar10_loader, DEVICE)}')\n",
    "print(f'ResNet18 Testing Accuracy: {test(resnet, cifar10_loader, DEVICE)}')"
   ]
  },
  {
   "cell_type": "code",
   "execution_count": 7,
   "metadata": {},
   "outputs": [
    {
     "name": "stdout",
     "output_type": "stream",
     "text": [
      "airplane, automobile, bird, cat, deer, dog, frog, horse, ship, truck, ...\n"
     ]
    }
   ],
   "source": [
    "# Load Labels\n",
    "labelType = b'label_names'\n",
    "\n",
    "meta_file = os.path.join(\"data\", \"cifar-10-batches-py\", \"batches.meta\")\n",
    "\n",
    "with open(meta_file, 'rb') as f:\n",
    "    meta_data = pickle.load(f, encoding='bytes')\n",
    "    # Extract label names\n",
    "    label_names = [label.decode('utf-8') for label in meta_data[labelType]]\n",
    "    f.close()\n",
    "\n",
    "print(*label_names[:11], '...', sep=', ')"
   ]
  },
  {
   "cell_type": "markdown",
   "metadata": {},
   "source": [
    "## **Attacking the Classifiers**"
   ]
  },
  {
   "cell_type": "code",
   "execution_count": 8,
   "metadata": {},
   "outputs": [],
   "source": [
    "DATA_SAVE_ROOT = os.path.join(\"data\", \"adversarial\")"
   ]
  },
  {
   "cell_type": "markdown",
   "metadata": {},
   "source": [
    "Before we begin our white-box attacks we define the general attack procedure"
   ]
  },
  {
   "cell_type": "code",
   "execution_count": 9,
   "metadata": {},
   "outputs": [],
   "source": [
    "# This expects batch size of 1\n",
    "def generate_adv_imgs(\n",
    "        model: nn.Module, \n",
    "        attack: foolbox.attacks.Attack, \n",
    "        loader: DataLoader, \n",
    "        save_path: str,\n",
    "        attack_kwargs = Dict[str, Any] \n",
    "    ) -> None: \n",
    "\n",
    "    fmodel = foolbox.models.PyTorchModel(model, bounds=(-0.27, 1.07), device=DEVICE)\n",
    "\n",
    "    adv_imgs, adv_idx, adv_label = [], [], []\n",
    "\n",
    "    for idx, (imgs, labels) in tqdm(enumerate(loader)): \n",
    "\n",
    "        imgs, labels = imgs.to(DEVICE), labels.to(DEVICE)\n",
    "\n",
    "        _, adv_sample, success = attack(fmodel, imgs, labels, **attack_kwargs)\n",
    "      \n",
    "        if not success: \n",
    "            continue\n",
    "\n",
    "        adv_imgs.append(adv_sample[0].cpu().squeeze(0))\n",
    "        adv_idx.append(idx)\n",
    "        adv_label.append(labels.cpu())\n",
    "    \n",
    "    print(f\"saving adv data to {os.path.join(DATA_SAVE_ROOT, save_path)}\")\n",
    "    with open(os.path.join(DATA_SAVE_ROOT, save_path, 'idx.pickle'), 'wb') as fp: \n",
    "        pickle.dump(adv_idx, fp)\n",
    "    \n",
    "    with open(os.path.join(DATA_SAVE_ROOT, save_path, 'imgs.pickle'), 'wb') as fp: \n",
    "        pickle.dump(adv_imgs, fp)\n",
    "\n",
    "    with open(os.path.join(DATA_SAVE_ROOT, save_path, 'labels.pickle'), 'wb') as fp: \n",
    "        pickle.dump(adv_label, fp)\n",
    "    fp.close()\n",
    "        "
   ]
  },
  {
   "cell_type": "markdown",
   "metadata": {},
   "source": [
    "### **FGSM**"
   ]
  },
  {
   "cell_type": "markdown",
   "metadata": {},
   "source": [
    "We generate three datasets of adversarial images one designed for each classifier. (The other attacks will follow a similar structure)"
   ]
  },
  {
   "cell_type": "code",
   "execution_count": 18,
   "metadata": {},
   "outputs": [
    {
     "name": "stderr",
     "output_type": "stream",
     "text": [
      "10000it [01:24, 117.72it/s]\n"
     ]
    },
    {
     "name": "stdout",
     "output_type": "stream",
     "text": [
      "saving adv data to data\\adversarial\\vgg16\\fgsm\n"
     ]
    },
    {
     "name": "stderr",
     "output_type": "stream",
     "text": [
      "10000it [03:41, 45.09it/s]\n"
     ]
    },
    {
     "name": "stdout",
     "output_type": "stream",
     "text": [
      "saving adv data to data\\adversarial\\mobilenetv2\\fgsm\n"
     ]
    },
    {
     "name": "stderr",
     "output_type": "stream",
     "text": [
      "10000it [01:48, 92.15it/s]\n"
     ]
    },
    {
     "name": "stdout",
     "output_type": "stream",
     "text": [
      "saving adv data to data\\adversarial\\resnet18\\fgsm\n"
     ]
    }
   ],
   "source": [
    "# VGG16\n",
    "generate_adv_imgs(\n",
    "    model=vgg16,\n",
    "    attack=foolbox.attacks.FGSM(), \n",
    "    loader=cifar10_loader,\n",
    "    save_path=os.path.join('vgg16', 'fgsm'),\n",
    "    attack_kwargs={'epsilons': [0.05]}\n",
    "    )\n",
    "\n",
    "\n",
    "# MobileNetV2 \n",
    "generate_adv_imgs(\n",
    "    model=mobilenet,\n",
    "    attack=foolbox.attacks.FGSM(), \n",
    "    loader=cifar10_loader, \n",
    "    save_path=os.path.join('mobilenetv2', 'fgsm'), \n",
    "    attack_kwargs={'epsilons': [0.05]}\n",
    ")\n",
    "\n",
    "# ResNet18\n",
    "generate_adv_imgs(\n",
    "    model=resnet, \n",
    "    attack=foolbox.attacks.FGSM(),\n",
    "    loader=cifar10_loader,\n",
    "    save_path=os.path.join('resnet18', 'fgsm'),\n",
    "    attack_kwargs={'epsilons': [0.05]}\n",
    ")"
   ]
  },
  {
   "cell_type": "markdown",
   "metadata": {},
   "source": [
    "**Visualization:**"
   ]
  },
  {
   "cell_type": "code",
   "execution_count": null,
   "metadata": {},
   "outputs": [
    {
     "name": "stderr",
     "output_type": "stream",
     "text": [
      "Clipping input data to the valid range for imshow with RGB data ([0..1] for floats or [0..255] for integers).\n",
      "Clipping input data to the valid range for imshow with RGB data ([0..1] for floats or [0..255] for integers).\n"
     ]
    },
    {
     "data": {
      "image/png": "[encoded data removed]",
      "text/plain": [
       "<Figure size 1200x500 with 2 Axes>"
      ]
     },
     "metadata": {},
     "output_type": "display_data"
    }
   ],
   "source": [
    "# Get CIFAR-10 sample\n",
    "cifar_img, cifar_label = next(iter(cifar10_loader))\n",
    "\n",
    "\n",
    "adv_transforms = vt.Compose([ \n",
    "    vt.Normalize(mean, std)\n",
    "])\n",
    "\n",
    "# Using MobileNetV2 as the sample\n",
    "adv_dataset_mobilenet = AdversarialDataset(os.path.join(DATA_SAVE_ROOT, 'mobilenetv2', 'fgsm'), transform=adv_transforms)\n",
    "adv_loader_mobilenet = DataLoader(adv_dataset_mobilenet, batch_size=BATCH_SIZE, shuffle=False)\n",
    "\n",
    "adv_img, adv_label = next(iter(adv_loader_mobilenet))\n",
    "\n",
    "fig, (ax1, ax2) = plt.subplots(1, 2, figsize=(12, 5))\n",
    "ax1.imshow(np.transpose(make_grid(cifar_img), (1, 2, 0)))\n",
    "ax1.set_title(\"CIFAR-10 Samples\")\n",
    "ax2.imshow(np.transpose(make_grid(adv_img.cpu().squeeze(0)), (1, 2, 0)))\n",
    "ax2.set_title('FGSM Samples')\n",
    "\n",
    "plt.show()\n",
    "\n"
   ]
  },
  {
   "cell_type": "markdown",
   "metadata": {},
   "source": [
    "**Testing Accuracy:**"
   ]
  },
  {
   "cell_type": "code",
   "execution_count": 17,
   "metadata": {},
   "outputs": [
    {
     "name": "stdout",
     "output_type": "stream",
     "text": [
      "VGG16 FGSM Accuracy: 1.5341495795840094\n",
      "MobileNetV2 FGSM Accuracy: 0.5423865006026517\n",
      "ResNet18 FGSM Accuracy: 1.7347838870920318\n"
     ]
    }
   ],
   "source": [
    "adv_dataset_vgg = AdversarialDataset(os.path.join(DATA_SAVE_ROOT, 'vgg16', 'fgsm'), transform=adv_transforms)\n",
    "adv_loader_vgg = DataLoader(adv_dataset_vgg, batch_size=BATCH_SIZE, shuffle=False)\n",
    "\n",
    "print(f\"VGG16 FGSM Accuracy: {test(vgg16, adv_loader_vgg, DEVICE)}\")\n",
    "\n",
    "print(f\"MobileNetV2 FGSM Accuracy: {test(mobilenet, adv_loader_mobilenet, DEVICE)}\")\n",
    "\n",
    "adv_dataset_resnet = AdversarialDataset(os.path.join(DATA_SAVE_ROOT, 'resnet18', 'fgsm'), transform=adv_transforms)\n",
    "adv_loader_resnet = DataLoader(adv_dataset_resnet, batch_size=BATCH_SIZE, shuffle=False)\n",
    "\n",
    "print(f\"ResNet18 FGSM Accuracy: {test(resnet, adv_loader_resnet, DEVICE)}\")"
   ]
  },
  {
   "cell_type": "markdown",
   "metadata": {},
   "source": [
    "### **$L_\\infty$**"
   ]
  },
  {
   "cell_type": "code",
   "execution_count": 25,
   "metadata": {},
   "outputs": [
    {
     "name": "stderr",
     "output_type": "stream",
     "text": [
      "10000it [44:50,  3.72it/s]\n"
     ]
    },
    {
     "name": "stdout",
     "output_type": "stream",
     "text": [
      "saving adv data to data\\adversarial\\vgg16\\linfty\n"
     ]
    },
    {
     "name": "stderr",
     "output_type": "stream",
     "text": [
      "10000it [2:31:42,  1.10it/s]\n"
     ]
    },
    {
     "name": "stdout",
     "output_type": "stream",
     "text": [
      "saving adv data to data\\adversarial\\mobilenetv2\\linfty\n"
     ]
    },
    {
     "name": "stderr",
     "output_type": "stream",
     "text": [
      "10000it [1:14:37,  2.23it/s]\n"
     ]
    },
    {
     "name": "stdout",
     "output_type": "stream",
     "text": [
      "saving adv data to data\\adversarial\\resnet18\\linfty\n"
     ]
    }
   ],
   "source": [
    "# VGG16\n",
    "generate_adv_imgs(\n",
    "    model=vgg16,\n",
    "    attack=foolbox.attacks.LinfPGD(), \n",
    "    loader=cifar10_loader,\n",
    "    save_path=os.path.join('vgg16', 'linfty'),\n",
    "    attack_kwargs={'epsilons': [0.01]}\n",
    "    )\n",
    "\n",
    "# MobileNetV2 \n",
    "generate_adv_imgs(\n",
    "    model=mobilenet,\n",
    "    attack=foolbox.attacks.LinfPGD(), \n",
    "    loader=cifar10_loader, \n",
    "    save_path=os.path.join('mobilenetv2', 'linfty'), \n",
    "    attack_kwargs={'epsilons': [0.01]}\n",
    ")\n",
    "\n",
    "# ResNet18\n",
    "generate_adv_imgs(\n",
    "    model=resnet, \n",
    "    attack=foolbox.attacks.LinfPGD(),\n",
    "    loader=cifar10_loader,\n",
    "    save_path=os.path.join('resnet18', 'linfty'),\n",
    "    attack_kwargs={'epsilons': [0.01]}\n",
    ")"
   ]
  },
  {
   "cell_type": "markdown",
   "metadata": {},
   "source": [
    "**Visualization:**"
   ]
  },
  {
   "cell_type": "code",
   "execution_count": 14,
   "metadata": {},
   "outputs": [
    {
     "name": "stderr",
     "output_type": "stream",
     "text": [
      "Clipping input data to the valid range for imshow with RGB data ([0..1] for floats or [0..255] for integers).\n",
      "Clipping input data to the valid range for imshow with RGB data ([0..1] for floats or [0..255] for integers).\n"
     ]
    },
    {
     "data": {
      "image/png": "[encoded data removed]",
      "text/plain": [
       "<Figure size 1200x500 with 2 Axes>"
      ]
     },
     "metadata": {},
     "output_type": "display_data"
    }
   ],
   "source": [
    "# Using MobileNetV2 as the sample\n",
    "adv_dataset_mobilenet = AdversarialDataset(os.path.join(DATA_SAVE_ROOT, 'mobilenetv2', 'linfty'), transform=adv_transforms)\n",
    "adv_loader_mobilenet = DataLoader(adv_dataset_mobilenet, batch_size=BATCH_SIZE, shuffle=False)\n",
    "\n",
    "adv_img, adv_label = next(iter(adv_loader_mobilenet))\n",
    "\n",
    "fig, (ax1, ax2) = plt.subplots(1, 2, figsize=(12, 5))\n",
    "ax1.imshow(np.transpose(make_grid(cifar_img), (1, 2, 0)))\n",
    "ax1.set_title(\"CIFAR-10 Samples\")\n",
    "ax2.imshow(np.transpose(make_grid(adv_img.cpu().squeeze(0)), (1, 2, 0)))\n",
    "ax2.set_title('L-infinity Samples')\n",
    "\n",
    "plt.show()\n"
   ]
  },
  {
   "cell_type": "markdown",
   "metadata": {},
   "source": [
    "**Testing Accuracy:**"
   ]
  },
  {
   "cell_type": "code",
   "execution_count": 18,
   "metadata": {},
   "outputs": [
    {
     "name": "stdout",
     "output_type": "stream",
     "text": [
      "VGG16 FGSM Accuracy: 2.1817676486937185\n",
      "MobileNetV2 FGSM Accuracy: 0.5423865006026517\n",
      "ResNet18 FGSM Accuracy: 1.1178388448998602\n"
     ]
    }
   ],
   "source": [
    "adv_dataset_vgg = AdversarialDataset(os.path.join(DATA_SAVE_ROOT, 'vgg16', 'linfty'), transform=adv_transforms)\n",
    "adv_loader_vgg = DataLoader(adv_dataset_vgg, batch_size=BATCH_SIZE, shuffle=False)\n",
    "\n",
    "print(f\"VGG16 FGSM Accuracy: {test(vgg16, adv_loader_vgg, DEVICE)}\")\n",
    "\n",
    "print(f\"MobileNetV2 FGSM Accuracy: {test(mobilenet, adv_loader_mobilenet, DEVICE)}\")\n",
    "\n",
    "adv_dataset_resnet = AdversarialDataset(os.path.join(DATA_SAVE_ROOT, 'resnet18', 'linfty'), transform=adv_transforms)\n",
    "adv_loader_resnet = DataLoader(adv_dataset_resnet, batch_size=BATCH_SIZE, shuffle=False)\n",
    "\n",
    "print(f\"ResNet18 FGSM Accuracy: {test(resnet, adv_loader_resnet, DEVICE)}\")"
   ]
  }
 ],
 "metadata": {
  "kernelspec": {
   "display_name": "venv",
   "language": "python",
   "name": "python3"
  },
  "language_info": {
   "codemirror_mode": {
    "name": "ipython",
    "version": 3
   },
   "file_extension": ".py",
   "mimetype": "text/x-python",
   "name": "python",
   "nbconvert_exporter": "python",
   "pygments_lexer": "ipython3",
   "version": "3.10.5"
  }
 },
 "nbformat": 4,
 "nbformat_minor": 2
}
