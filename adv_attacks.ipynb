{
 "cells": [
  {
   "cell_type": "markdown",
   "metadata": {},
   "source": [
    "# **Attacking Image Classifiers with FoolBox**\n",
    "\n",
    "* CS486: Robust Machine Learning \n",
    "* Drexel University - Spring 2023 \n",
    "* Luke Ingram\n"
   ]
  },
  {
   "cell_type": "code",
   "execution_count": 2,
   "metadata": {},
   "outputs": [],
   "source": [
    "import os \n",
    "import pickle\n",
    "from typing import Dict, Any\n",
    "\n",
    "from tqdm import tqdm\n",
    "import matplotlib.pyplot as plt\n",
    "import numpy as np\n",
    "\n",
    "import torch\n",
    "import torch.nn as nn\n",
    "from torchvision import transforms as vt\n",
    "from torchvision.utils import make_grid\n",
    "from torchvision.datasets import CIFAR10\n",
    "from torch.utils.data import DataLoader\n",
    "\n",
    "import foolbox \n",
    "\n",
    "from pytorch_cifar.models import VGG, MobileNetV2, ResNet18\n",
    "\n",
    "from AdversarialDataset import AdversarialDataset\n"
   ]
  },
  {
   "cell_type": "markdown",
   "metadata": {},
   "source": [
    "## **Loading Trained Models & Data**"
   ]
  },
  {
   "cell_type": "code",
   "execution_count": 4,
   "metadata": {},
   "outputs": [],
   "source": [
    "MODEL_SAVES_DIR = os.path.join('models', 'checkpoints', 'classifiers')\n",
    "DEVICE = torch.device('cuda')\n",
    "BATCH_SIZE = 1"
   ]
  },
  {
   "cell_type": "code",
   "execution_count": 5,
   "metadata": {},
   "outputs": [
    {
     "data": {
      "text/plain": [
       "ResNet(\n",
       "  (conv1): Conv2d(3, 64, kernel_size=(3, 3), stride=(1, 1), padding=(1, 1), bias=False)\n",
       "  (bn1): BatchNorm2d(64, eps=1e-05, momentum=0.1, affine=True, track_running_stats=True)\n",
       "  (layer1): Sequential(\n",
       "    (0): BasicBlock(\n",
       "      (conv1): Conv2d(64, 64, kernel_size=(3, 3), stride=(1, 1), padding=(1, 1), bias=False)\n",
       "      (bn1): BatchNorm2d(64, eps=1e-05, momentum=0.1, affine=True, track_running_stats=True)\n",
       "      (conv2): Conv2d(64, 64, kernel_size=(3, 3), stride=(1, 1), padding=(1, 1), bias=False)\n",
       "      (bn2): BatchNorm2d(64, eps=1e-05, momentum=0.1, affine=True, track_running_stats=True)\n",
       "      (shortcut): Sequential()\n",
       "    )\n",
       "    (1): BasicBlock(\n",
       "      (conv1): Conv2d(64, 64, kernel_size=(3, 3), stride=(1, 1), padding=(1, 1), bias=False)\n",
       "      (bn1): BatchNorm2d(64, eps=1e-05, momentum=0.1, affine=True, track_running_stats=True)\n",
       "      (conv2): Conv2d(64, 64, kernel_size=(3, 3), stride=(1, 1), padding=(1, 1), bias=False)\n",
       "      (bn2): BatchNorm2d(64, eps=1e-05, momentum=0.1, affine=True, track_running_stats=True)\n",
       "      (shortcut): Sequential()\n",
       "    )\n",
       "  )\n",
       "  (layer2): Sequential(\n",
       "    (0): BasicBlock(\n",
       "      (conv1): Conv2d(64, 128, kernel_size=(3, 3), stride=(2, 2), padding=(1, 1), bias=False)\n",
       "      (bn1): BatchNorm2d(128, eps=1e-05, momentum=0.1, affine=True, track_running_stats=True)\n",
       "      (conv2): Conv2d(128, 128, kernel_size=(3, 3), stride=(1, 1), padding=(1, 1), bias=False)\n",
       "      (bn2): BatchNorm2d(128, eps=1e-05, momentum=0.1, affine=True, track_running_stats=True)\n",
       "      (shortcut): Sequential(\n",
       "        (0): Conv2d(64, 128, kernel_size=(1, 1), stride=(2, 2), bias=False)\n",
       "        (1): BatchNorm2d(128, eps=1e-05, momentum=0.1, affine=True, track_running_stats=True)\n",
       "      )\n",
       "    )\n",
       "    (1): BasicBlock(\n",
       "      (conv1): Conv2d(128, 128, kernel_size=(3, 3), stride=(1, 1), padding=(1, 1), bias=False)\n",
       "      (bn1): BatchNorm2d(128, eps=1e-05, momentum=0.1, affine=True, track_running_stats=True)\n",
       "      (conv2): Conv2d(128, 128, kernel_size=(3, 3), stride=(1, 1), padding=(1, 1), bias=False)\n",
       "      (bn2): BatchNorm2d(128, eps=1e-05, momentum=0.1, affine=True, track_running_stats=True)\n",
       "      (shortcut): Sequential()\n",
       "    )\n",
       "  )\n",
       "  (layer3): Sequential(\n",
       "    (0): BasicBlock(\n",
       "      (conv1): Conv2d(128, 256, kernel_size=(3, 3), stride=(2, 2), padding=(1, 1), bias=False)\n",
       "      (bn1): BatchNorm2d(256, eps=1e-05, momentum=0.1, affine=True, track_running_stats=True)\n",
       "      (conv2): Conv2d(256, 256, kernel_size=(3, 3), stride=(1, 1), padding=(1, 1), bias=False)\n",
       "      (bn2): BatchNorm2d(256, eps=1e-05, momentum=0.1, affine=True, track_running_stats=True)\n",
       "      (shortcut): Sequential(\n",
       "        (0): Conv2d(128, 256, kernel_size=(1, 1), stride=(2, 2), bias=False)\n",
       "        (1): BatchNorm2d(256, eps=1e-05, momentum=0.1, affine=True, track_running_stats=True)\n",
       "      )\n",
       "    )\n",
       "    (1): BasicBlock(\n",
       "      (conv1): Conv2d(256, 256, kernel_size=(3, 3), stride=(1, 1), padding=(1, 1), bias=False)\n",
       "      (bn1): BatchNorm2d(256, eps=1e-05, momentum=0.1, affine=True, track_running_stats=True)\n",
       "      (conv2): Conv2d(256, 256, kernel_size=(3, 3), stride=(1, 1), padding=(1, 1), bias=False)\n",
       "      (bn2): BatchNorm2d(256, eps=1e-05, momentum=0.1, affine=True, track_running_stats=True)\n",
       "      (shortcut): Sequential()\n",
       "    )\n",
       "  )\n",
       "  (layer4): Sequential(\n",
       "    (0): BasicBlock(\n",
       "      (conv1): Conv2d(256, 512, kernel_size=(3, 3), stride=(2, 2), padding=(1, 1), bias=False)\n",
       "      (bn1): BatchNorm2d(512, eps=1e-05, momentum=0.1, affine=True, track_running_stats=True)\n",
       "      (conv2): Conv2d(512, 512, kernel_size=(3, 3), stride=(1, 1), padding=(1, 1), bias=False)\n",
       "      (bn2): BatchNorm2d(512, eps=1e-05, momentum=0.1, affine=True, track_running_stats=True)\n",
       "      (shortcut): Sequential(\n",
       "        (0): Conv2d(256, 512, kernel_size=(1, 1), stride=(2, 2), bias=False)\n",
       "        (1): BatchNorm2d(512, eps=1e-05, momentum=0.1, affine=True, track_running_stats=True)\n",
       "      )\n",
       "    )\n",
       "    (1): BasicBlock(\n",
       "      (conv1): Conv2d(512, 512, kernel_size=(3, 3), stride=(1, 1), padding=(1, 1), bias=False)\n",
       "      (bn1): BatchNorm2d(512, eps=1e-05, momentum=0.1, affine=True, track_running_stats=True)\n",
       "      (conv2): Conv2d(512, 512, kernel_size=(3, 3), stride=(1, 1), padding=(1, 1), bias=False)\n",
       "      (bn2): BatchNorm2d(512, eps=1e-05, momentum=0.1, affine=True, track_running_stats=True)\n",
       "      (shortcut): Sequential()\n",
       "    )\n",
       "  )\n",
       "  (linear): Linear(in_features=512, out_features=10, bias=True)\n",
       ")"
      ]
     },
     "execution_count": 5,
     "metadata": {},
     "output_type": "execute_result"
    }
   ],
   "source": [
    "# Load classifiers we trained on CIFAR-10 last section\n",
    "vgg16 = VGG('VGG16', num_classes=10)\n",
    "vgg16.load_state_dict(torch.load(os.path.join(MODEL_SAVES_DIR, 'vgg16.pth')))\n",
    "vgg16 = vgg16.to(DEVICE)\n",
    "vgg16.eval()\n",
    "\n",
    "mobilenet = MobileNetV2(num_classes=10)\n",
    "mobilenet.load_state_dict(torch.load(os.path.join(MODEL_SAVES_DIR, 'mobilenetv2.pth')))\n",
    "mobilenet = mobilenet.to(DEVICE)\n",
    "mobilenet.eval()\n",
    "\n",
    "resnet = ResNet18(num_classes=10)\n",
    "resnet.load_state_dict(torch.load(os.path.join(MODEL_SAVES_DIR, 'resnet18.pth')))\n",
    "resnet = resnet.to(DEVICE)\n",
    "resnet.eval()"
   ]
  },
  {
   "cell_type": "markdown",
   "metadata": {},
   "source": [
    "Now we load our testing set:"
   ]
  },
  {
   "cell_type": "code",
   "execution_count": 6,
   "metadata": {},
   "outputs": [
    {
     "name": "stdout",
     "output_type": "stream",
     "text": [
      "Files already downloaded and verified\n"
     ]
    }
   ],
   "source": [
    "# Load CIFAR-10\n",
    "mean, std = [-0.0541, -0.0127,  0.0265], [0.9868, 1.0000, 1.0029]\n",
    "\n",
    "transforms = vt.Compose([\n",
    "    vt.ToTensor(),\n",
    "    vt.Normalize(mean, std)\n",
    "])\n",
    "\n",
    "cifar10_dataset = CIFAR10(root='./data', train=False, download=True, transform=transforms)\n",
    "cifar10_loader = DataLoader(cifar10_dataset, batch_size=BATCH_SIZE, shuffle=False)"
   ]
  },
  {
   "cell_type": "markdown",
   "metadata": {},
   "source": [
    "We saw the performance of our classifiers on the testing set in the last section, but to reiterate:"
   ]
  },
  {
   "cell_type": "code",
   "execution_count": 7,
   "metadata": {},
   "outputs": [],
   "source": [
    "# Compare Models on testing dataset\n",
    "def test(model, loader, device):\n",
    "    model.eval()\n",
    "\n",
    "    correct = 0\n",
    "    total = 0 \n",
    "\n",
    "    with torch.no_grad(): \n",
    "         for data in loader:\n",
    "            inputs, labels = data\n",
    "            inputs, labels = inputs.to(device), labels.to(device)\n",
    "\n",
    "            # Forward pass\n",
    "            outputs = model(inputs)\n",
    "\n",
    "            # Get predictions and update counts\n",
    "            _, predicted = torch.max(outputs.data, 1)\n",
    "            total += labels.size(0)\n",
    "            correct += (predicted == labels).sum().item()\n",
    "\n",
    "    # Compute accuracy\n",
    "    accuracy = 100 * correct / total\n",
    "    return accuracy\n",
    "\n"
   ]
  },
  {
   "cell_type": "code",
   "execution_count": null,
   "metadata": {},
   "outputs": [],
   "source": [
    "print(f\"VGG16 Test Accuracy: {test(vgg16, cifar10_loader, DEVICE)}\")\n",
    "print(f'MobileNetV2 Test Accuracy: {test(mobilenet, cifar10_loader, DEVICE)}')\n",
    "print(f'ResNet18 Testing Accuracy: {test(resnet, cifar10_loader, DEVICE)}')"
   ]
  },
  {
   "cell_type": "code",
   "execution_count": 7,
   "metadata": {},
   "outputs": [
    {
     "name": "stdout",
     "output_type": "stream",
     "text": [
      "airplane, automobile, bird, cat, deer, dog, frog, horse, ship, truck, ...\n"
     ]
    }
   ],
   "source": [
    "# Load Labels\n",
    "labelType = b'label_names'\n",
    "\n",
    "meta_file = os.path.join(\"data\", \"cifar-10-batches-py\", \"batches.meta\")\n",
    "\n",
    "with open(meta_file, 'rb') as f:\n",
    "    meta_data = pickle.load(f, encoding='bytes')\n",
    "    # Extract label names\n",
    "    label_names = [label.decode('utf-8') for label in meta_data[labelType]]\n",
    "    f.close()\n",
    "\n",
    "print(*label_names[:11], '...', sep=', ')"
   ]
  },
  {
   "cell_type": "markdown",
   "metadata": {},
   "source": [
    "## **Attacking the Classifiers**"
   ]
  },
  {
   "cell_type": "code",
   "execution_count": 8,
   "metadata": {},
   "outputs": [],
   "source": [
    "DATA_SAVE_ROOT = os.path.join(\"data\", \"adversarial\")"
   ]
  },
  {
   "cell_type": "markdown",
   "metadata": {},
   "source": [
    "Before we begin our white-box attacks we define the general attack procedure"
   ]
  },
  {
   "cell_type": "code",
   "execution_count": 9,
   "metadata": {},
   "outputs": [],
   "source": [
    "# This expects batch size of 1\n",
    "def generate_adv_imgs(\n",
    "        model: nn.Module, \n",
    "        attack: foolbox.attacks.Attack, \n",
    "        loader: DataLoader, \n",
    "        save_path: str,\n",
    "        attack_kwargs = Dict[str, Any] \n",
    "    ) -> None: \n",
    "\n",
    "    fmodel = foolbox.models.PyTorchModel(model, bounds=(-0.27, 1.07), device=DEVICE)\n",
    "\n",
    "    adv_imgs, adv_idx, adv_label = [], [], []\n",
    "\n",
    "    for idx, (imgs, labels) in tqdm(enumerate(loader)): \n",
    "\n",
    "        imgs, labels = imgs.to(DEVICE), labels.to(DEVICE)\n",
    "\n",
    "        _, adv_sample, success = attack(fmodel, imgs, labels, **attack_kwargs)\n",
    "      \n",
    "        if not success: \n",
    "            continue\n",
    "\n",
    "        adv_imgs.append(adv_sample[0].cpu().squeeze(0))\n",
    "        adv_idx.append(idx)\n",
    "        adv_label.append(labels.cpu())\n",
    "    \n",
    "    print(f\"saving adv data to {os.path.join(DATA_SAVE_ROOT, save_path)}\")\n",
    "    with open(os.path.join(DATA_SAVE_ROOT, save_path, 'idx.pickle'), 'wb') as fp: \n",
    "        pickle.dump(adv_idx, fp)\n",
    "    \n",
    "    with open(os.path.join(DATA_SAVE_ROOT, save_path, 'imgs.pickle'), 'wb') as fp: \n",
    "        pickle.dump(adv_imgs, fp)\n",
    "\n",
    "    with open(os.path.join(DATA_SAVE_ROOT, save_path, 'labels.pickle'), 'wb') as fp: \n",
    "        pickle.dump(adv_label, fp)\n",
    "    fp.close()\n",
    "        "
   ]
  },
  {
   "cell_type": "markdown",
   "metadata": {},
   "source": [
    "### **FGSM**"
   ]
  },
  {
   "cell_type": "markdown",
   "metadata": {},
   "source": [
    "We generate three datasets of adversarial images one designed for each classifier. (The other attacks will follow a similar structure)"
   ]
  },
  {
   "cell_type": "code",
   "execution_count": 10,
   "metadata": {},
   "outputs": [
    {
     "name": "stderr",
     "output_type": "stream",
     "text": [
      "10000it [02:50, 58.61it/s]\n"
     ]
    },
    {
     "name": "stdout",
     "output_type": "stream",
     "text": [
      "saving adv data to data\\adversarial\\vgg16\\fgsm\n"
     ]
    },
    {
     "name": "stderr",
     "output_type": "stream",
     "text": [
      "10000it [06:33, 25.41it/s]\n"
     ]
    },
    {
     "name": "stdout",
     "output_type": "stream",
     "text": [
      "saving adv data to data\\adversarial\\mobilenetv2\\fgsm\n"
     ]
    },
    {
     "name": "stderr",
     "output_type": "stream",
     "text": [
      "10000it [03:18, 50.36it/s]\n"
     ]
    },
    {
     "name": "stdout",
     "output_type": "stream",
     "text": [
      "saving adv data to data\\adversarial\\resnet18\\fgsm\n"
     ]
    }
   ],
   "source": [
    "# VGG16\n",
    "generate_adv_imgs(\n",
    "    model=vgg16,\n",
    "    attack=foolbox.attacks.FGSM(), \n",
    "    loader=cifar10_loader,\n",
    "    save_path=os.path.join('vgg16', 'fgsm'),\n",
    "    attack_kwargs={'epsilons': [0.01]}\n",
    "    )\n",
    "\n",
    "\n",
    "# MobileNetV2 \n",
    "generate_adv_imgs(\n",
    "    model=mobilenet,\n",
    "    attack=foolbox.attacks.FGSM(), \n",
    "    loader=cifar10_loader, \n",
    "    save_path=os.path.join('mobilenetv2', 'fgsm'), \n",
    "    attack_kwargs={'epsilons': [0.01]}\n",
    ")\n",
    "\n",
    "# ResNet18\n",
    "generate_adv_imgs(\n",
    "    model=resnet, \n",
    "    attack=foolbox.attacks.FGSM(),\n",
    "    loader=cifar10_loader,\n",
    "    save_path=os.path.join('resnet18', 'fgsm'),\n",
    "    attack_kwargs={'epsilons': [0.01]}\n",
    ")"
   ]
  },
  {
   "cell_type": "markdown",
   "metadata": {},
   "source": [
    "**Visualization:**"
   ]
  },
  {
   "cell_type": "code",
   "execution_count": 14,
   "metadata": {},
   "outputs": [
    {
     "name": "stderr",
     "output_type": "stream",
     "text": [
      "Clipping input data to the valid range for imshow with RGB data ([0..1] for floats or [0..255] for integers).\n",
      "Clipping input data to the valid range for imshow with RGB data ([0..1] for floats or [0..255] for integers).\n"
     ]
    },
    {
     "data": {
      "image/png": "[encoded data removed]",
      "text/plain": [
       "<Figure size 1200x500 with 2 Axes>"
      ]
     },
     "metadata": {},
     "output_type": "display_data"
    }
   ],
   "source": [
    "# Get CIFAR-10 sample\n",
    "cifar10_iter = iter(cifar10_loader)\n",
    "next(cifar10_iter)\n",
    "cifar_img, cifar_label = next(iter(cifar10_iter))\n",
    "\n",
    "\n",
    "adv_transforms = vt.Compose([ \n",
    "    vt.Normalize(mean, std)\n",
    "])\n",
    "\n",
    "# Using MobileNetV2 as the sample\n",
    "adv_dataset_mobilenet = AdversarialDataset(os.path.join(DATA_SAVE_ROOT, 'mobilenetv2', 'fgsm'), transform=adv_transforms)\n",
    "adv_loader_mobilenet = DataLoader(adv_dataset_mobilenet, batch_size=BATCH_SIZE, shuffle=False)\n",
    "\n",
    "adv_img, adv_label = next(iter(adv_loader_mobilenet))\n",
    "\n",
    "fig, (ax1, ax2) = plt.subplots(1, 2, figsize=(12, 5))\n",
    "ax1.imshow(np.transpose(make_grid(cifar_img), (1, 2, 0)))\n",
    "ax1.set_title(\"CIFAR-10 Samples\")\n",
    "ax2.imshow(np.transpose(make_grid(adv_img.cpu().squeeze(0)), (1, 2, 0)))\n",
    "ax2.set_title('FGSM Samples')\n",
    "\n",
    "plt.show()\n",
    "\n"
   ]
  },
  {
   "cell_type": "markdown",
   "metadata": {},
   "source": [
    "**Testing Accuracy:**"
   ]
  },
  {
   "cell_type": "code",
   "execution_count": 16,
   "metadata": {},
   "outputs": [
    {
     "name": "stdout",
     "output_type": "stream",
     "text": [
      "VGG16 FGSM Accuracy: 1.9319227230910763\n",
      "MobileNetV2 FGSM Accuracy: 3.3637928751158785\n",
      "ResNet18 FGSM Accuracy: 2.5690430314707773\n"
     ]
    }
   ],
   "source": [
    "adv_dataset_vgg = AdversarialDataset(os.path.join(DATA_SAVE_ROOT, 'vgg16', 'fgsm'), transform=adv_transforms)\n",
    "adv_loader_vgg = DataLoader(adv_dataset_vgg, batch_size=BATCH_SIZE, shuffle=False)\n",
    "\n",
    "print(f\"VGG16 FGSM Accuracy: {test(vgg16, adv_loader_vgg, DEVICE)}\")\n",
    "\n",
    "print(f\"MobileNetV2 FGSM Accuracy: {test(mobilenet, adv_loader_mobilenet, DEVICE)}\")\n",
    "\n",
    "adv_dataset_resnet = AdversarialDataset(os.path.join(DATA_SAVE_ROOT, 'resnet18', 'fgsm'), transform=adv_transforms)\n",
    "adv_loader_resnet = DataLoader(adv_dataset_resnet, batch_size=BATCH_SIZE, shuffle=False)\n",
    "\n",
    "print(f\"ResNet18 FGSM Accuracy: {test(resnet, adv_loader_resnet, DEVICE)}\")"
   ]
  },
  {
   "cell_type": "markdown",
   "metadata": {},
   "source": [
    "### **$L_\\infty$**"
   ]
  },
  {
   "cell_type": "code",
   "execution_count": 15,
   "metadata": {},
   "outputs": [
    {
     "name": "stderr",
     "output_type": "stream",
     "text": [
      "0it [00:00, ?it/s]"
     ]
    },
    {
     "name": "stderr",
     "output_type": "stream",
     "text": [
      "3it [00:00,  3.06it/s]\n"
     ]
    },
    {
     "ename": "KeyboardInterrupt",
     "evalue": "",
     "output_type": "error",
     "traceback": [
      "\u001b[1;31m---------------------------------------------------------------------------\u001b[0m",
      "\u001b[1;31mKeyboardInterrupt\u001b[0m                         Traceback (most recent call last)",
      "\u001b[1;32me:\\GitHub\\CS-486-Final-Project\\adv_attacks.ipynb Cell 24\u001b[0m line \u001b[0;36m2\n\u001b[0;32m      <a href='vscode-notebook-cell:/e%3A/GitHub/CS-486-Final-Project/adv_attacks.ipynb#X32sZmlsZQ%3D%3D?line=0'>1</a>\u001b[0m \u001b[39m# VGG16\u001b[39;00m\n\u001b[1;32m----> <a href='vscode-notebook-cell:/e%3A/GitHub/CS-486-Final-Project/adv_attacks.ipynb#X32sZmlsZQ%3D%3D?line=1'>2</a>\u001b[0m generate_adv_imgs(\n\u001b[0;32m      <a href='vscode-notebook-cell:/e%3A/GitHub/CS-486-Final-Project/adv_attacks.ipynb#X32sZmlsZQ%3D%3D?line=2'>3</a>\u001b[0m     model\u001b[39m=\u001b[39;49mvgg16,\n\u001b[0;32m      <a href='vscode-notebook-cell:/e%3A/GitHub/CS-486-Final-Project/adv_attacks.ipynb#X32sZmlsZQ%3D%3D?line=3'>4</a>\u001b[0m     attack\u001b[39m=\u001b[39;49mfoolbox\u001b[39m.\u001b[39;49mattacks\u001b[39m.\u001b[39;49mLinfPGD(), \n\u001b[0;32m      <a href='vscode-notebook-cell:/e%3A/GitHub/CS-486-Final-Project/adv_attacks.ipynb#X32sZmlsZQ%3D%3D?line=4'>5</a>\u001b[0m     loader\u001b[39m=\u001b[39;49mcifar10_loader,\n\u001b[0;32m      <a href='vscode-notebook-cell:/e%3A/GitHub/CS-486-Final-Project/adv_attacks.ipynb#X32sZmlsZQ%3D%3D?line=5'>6</a>\u001b[0m     save_path\u001b[39m=\u001b[39;49mos\u001b[39m.\u001b[39;49mpath\u001b[39m.\u001b[39;49mjoin(\u001b[39m'\u001b[39;49m\u001b[39mvgg16\u001b[39;49m\u001b[39m'\u001b[39;49m, \u001b[39m'\u001b[39;49m\u001b[39mlinfty\u001b[39;49m\u001b[39m'\u001b[39;49m),\n\u001b[0;32m      <a href='vscode-notebook-cell:/e%3A/GitHub/CS-486-Final-Project/adv_attacks.ipynb#X32sZmlsZQ%3D%3D?line=6'>7</a>\u001b[0m     attack_kwargs\u001b[39m=\u001b[39;49m{\u001b[39m'\u001b[39;49m\u001b[39mepsilons\u001b[39;49m\u001b[39m'\u001b[39;49m: [\u001b[39m0.01\u001b[39;49m]}\n\u001b[0;32m      <a href='vscode-notebook-cell:/e%3A/GitHub/CS-486-Final-Project/adv_attacks.ipynb#X32sZmlsZQ%3D%3D?line=7'>8</a>\u001b[0m     )\n\u001b[0;32m     <a href='vscode-notebook-cell:/e%3A/GitHub/CS-486-Final-Project/adv_attacks.ipynb#X32sZmlsZQ%3D%3D?line=9'>10</a>\u001b[0m \u001b[39m# MobileNetV2 \u001b[39;00m\n\u001b[0;32m     <a href='vscode-notebook-cell:/e%3A/GitHub/CS-486-Final-Project/adv_attacks.ipynb#X32sZmlsZQ%3D%3D?line=10'>11</a>\u001b[0m generate_adv_imgs(\n\u001b[0;32m     <a href='vscode-notebook-cell:/e%3A/GitHub/CS-486-Final-Project/adv_attacks.ipynb#X32sZmlsZQ%3D%3D?line=11'>12</a>\u001b[0m     model\u001b[39m=\u001b[39mmobilenet,\n\u001b[0;32m     <a href='vscode-notebook-cell:/e%3A/GitHub/CS-486-Final-Project/adv_attacks.ipynb#X32sZmlsZQ%3D%3D?line=12'>13</a>\u001b[0m     attack\u001b[39m=\u001b[39mfoolbox\u001b[39m.\u001b[39mattacks\u001b[39m.\u001b[39mLinfPGD(), \n\u001b[1;32m   (...)\u001b[0m\n\u001b[0;32m     <a href='vscode-notebook-cell:/e%3A/GitHub/CS-486-Final-Project/adv_attacks.ipynb#X32sZmlsZQ%3D%3D?line=15'>16</a>\u001b[0m     attack_kwargs\u001b[39m=\u001b[39m{\u001b[39m'\u001b[39m\u001b[39mepsilons\u001b[39m\u001b[39m'\u001b[39m: [\u001b[39m0.01\u001b[39m]}\n\u001b[0;32m     <a href='vscode-notebook-cell:/e%3A/GitHub/CS-486-Final-Project/adv_attacks.ipynb#X32sZmlsZQ%3D%3D?line=16'>17</a>\u001b[0m )\n",
      "\u001b[1;32me:\\GitHub\\CS-486-Final-Project\\adv_attacks.ipynb Cell 24\u001b[0m line \u001b[0;36m1\n\u001b[0;32m     <a href='vscode-notebook-cell:/e%3A/GitHub/CS-486-Final-Project/adv_attacks.ipynb#X32sZmlsZQ%3D%3D?line=13'>14</a>\u001b[0m \u001b[39mfor\u001b[39;00m idx, (imgs, labels) \u001b[39min\u001b[39;00m tqdm(\u001b[39menumerate\u001b[39m(loader)): \n\u001b[0;32m     <a href='vscode-notebook-cell:/e%3A/GitHub/CS-486-Final-Project/adv_attacks.ipynb#X32sZmlsZQ%3D%3D?line=15'>16</a>\u001b[0m     imgs, labels \u001b[39m=\u001b[39m imgs\u001b[39m.\u001b[39mto(DEVICE), labels\u001b[39m.\u001b[39mto(DEVICE)\n\u001b[1;32m---> <a href='vscode-notebook-cell:/e%3A/GitHub/CS-486-Final-Project/adv_attacks.ipynb#X32sZmlsZQ%3D%3D?line=17'>18</a>\u001b[0m     _, adv_sample, success \u001b[39m=\u001b[39m attack(fmodel, imgs, labels, \u001b[39m*\u001b[39m\u001b[39m*\u001b[39mattack_kwargs)\n\u001b[0;32m     <a href='vscode-notebook-cell:/e%3A/GitHub/CS-486-Final-Project/adv_attacks.ipynb#X32sZmlsZQ%3D%3D?line=19'>20</a>\u001b[0m     \u001b[39mif\u001b[39;00m \u001b[39mnot\u001b[39;00m success: \n\u001b[0;32m     <a href='vscode-notebook-cell:/e%3A/GitHub/CS-486-Final-Project/adv_attacks.ipynb#X32sZmlsZQ%3D%3D?line=20'>21</a>\u001b[0m         \u001b[39mcontinue\u001b[39;00m\n",
      "File \u001b[1;32me:\\GitHub\\CS-486-Final-Project\\venv\\lib\\site-packages\\foolbox\\attacks\\base.py:283\u001b[0m, in \u001b[0;36mFixedEpsilonAttack.__call__\u001b[1;34m(***failed resolving arguments***)\u001b[0m\n\u001b[0;32m    281\u001b[0m success \u001b[39m=\u001b[39m []\n\u001b[0;32m    282\u001b[0m \u001b[39mfor\u001b[39;00m epsilon \u001b[39min\u001b[39;00m real_epsilons:\n\u001b[1;32m--> 283\u001b[0m     xp \u001b[39m=\u001b[39m \u001b[39mself\u001b[39m\u001b[39m.\u001b[39mrun(model, x, criterion, epsilon\u001b[39m=\u001b[39mepsilon, \u001b[39m*\u001b[39m\u001b[39m*\u001b[39mkwargs)\n\u001b[0;32m    285\u001b[0m     \u001b[39m# clip to epsilon because we don't really know what the attack returns;\u001b[39;00m\n\u001b[0;32m    286\u001b[0m     \u001b[39m# alternatively, we could check if the perturbation is at most epsilon,\u001b[39;00m\n\u001b[0;32m    287\u001b[0m     \u001b[39m# but then we would need to handle numerical violations;\u001b[39;00m\n\u001b[0;32m    288\u001b[0m     xpc \u001b[39m=\u001b[39m \u001b[39mself\u001b[39m\u001b[39m.\u001b[39mdistance\u001b[39m.\u001b[39mclip_perturbation(x, xp, epsilon)\n",
      "File \u001b[1;32me:\\GitHub\\CS-486-Final-Project\\venv\\lib\\site-packages\\foolbox\\attacks\\gradient_descent_base.py:155\u001b[0m, in \u001b[0;36mBaseGradientDescent.run\u001b[1;34m(***failed resolving arguments***)\u001b[0m\n\u001b[0;32m    152\u001b[0m     x \u001b[39m=\u001b[39m x0\n\u001b[0;32m    154\u001b[0m \u001b[39mfor\u001b[39;00m _ \u001b[39min\u001b[39;00m \u001b[39mrange\u001b[39m(\u001b[39mself\u001b[39m\u001b[39m.\u001b[39msteps):\n\u001b[1;32m--> 155\u001b[0m     _, gradients \u001b[39m=\u001b[39m \u001b[39mself\u001b[39;49m\u001b[39m.\u001b[39;49mvalue_and_grad(loss_fn, x)\n\u001b[0;32m    156\u001b[0m     gradients \u001b[39m=\u001b[39m \u001b[39mself\u001b[39m\u001b[39m.\u001b[39mnormalize(gradients, x\u001b[39m=\u001b[39mx, bounds\u001b[39m=\u001b[39mmodel\u001b[39m.\u001b[39mbounds)\n\u001b[0;32m    157\u001b[0m     x \u001b[39m=\u001b[39m x \u001b[39m+\u001b[39m gradient_step_sign \u001b[39m*\u001b[39m optimizer(gradients)\n",
      "File \u001b[1;32me:\\GitHub\\CS-486-Final-Project\\venv\\lib\\site-packages\\foolbox\\attacks\\gradient_descent_base.py:111\u001b[0m, in \u001b[0;36mBaseGradientDescent.value_and_grad\u001b[1;34m(self, loss_fn, x)\u001b[0m\n\u001b[0;32m    105\u001b[0m \u001b[39mdef\u001b[39;00m \u001b[39mvalue_and_grad\u001b[39m(\n\u001b[0;32m    106\u001b[0m     \u001b[39m# can be overridden by users\u001b[39;00m\n\u001b[0;32m    107\u001b[0m     \u001b[39mself\u001b[39m,\n\u001b[0;32m    108\u001b[0m     loss_fn: Callable[[ep\u001b[39m.\u001b[39mTensor], ep\u001b[39m.\u001b[39mTensor],\n\u001b[0;32m    109\u001b[0m     x: ep\u001b[39m.\u001b[39mTensor,\n\u001b[0;32m    110\u001b[0m ) \u001b[39m-\u001b[39m\u001b[39m>\u001b[39m Tuple[ep\u001b[39m.\u001b[39mTensor, ep\u001b[39m.\u001b[39mTensor]:\n\u001b[1;32m--> 111\u001b[0m     \u001b[39mreturn\u001b[39;00m ep\u001b[39m.\u001b[39;49mvalue_and_grad(loss_fn, x)\n",
      "File \u001b[1;32me:\\GitHub\\CS-486-Final-Project\\venv\\lib\\site-packages\\eagerpy\\framework.py:360\u001b[0m, in \u001b[0;36mvalue_and_grad\u001b[1;34m(f, t, *args, **kwargs)\u001b[0m\n\u001b[0;32m    357\u001b[0m \u001b[39mdef\u001b[39;00m \u001b[39mvalue_and_grad\u001b[39m(\n\u001b[0;32m    358\u001b[0m     f: Callable[\u001b[39m.\u001b[39m\u001b[39m.\u001b[39m\u001b[39m.\u001b[39m, TensorType], t: TensorType, \u001b[39m*\u001b[39margs: Any, \u001b[39m*\u001b[39m\u001b[39m*\u001b[39mkwargs: Any\n\u001b[0;32m    359\u001b[0m ) \u001b[39m-\u001b[39m\u001b[39m>\u001b[39m Tuple[TensorType, TensorType]:\n\u001b[1;32m--> 360\u001b[0m     \u001b[39mreturn\u001b[39;00m t\u001b[39m.\u001b[39mvalue_and_grad(f, \u001b[39m*\u001b[39margs, \u001b[39m*\u001b[39m\u001b[39m*\u001b[39mkwargs)\n",
      "File \u001b[1;32me:\\GitHub\\CS-486-Final-Project\\venv\\lib\\site-packages\\eagerpy\\tensor\\tensor.py:553\u001b[0m, in \u001b[0;36mTensor.value_and_grad\u001b[1;34m(self, f, *args, **kwargs)\u001b[0m\n\u001b[0;32m    549\u001b[0m \u001b[39m@final\u001b[39m\n\u001b[0;32m    550\u001b[0m \u001b[39mdef\u001b[39;00m \u001b[39mvalue_and_grad\u001b[39m(\n\u001b[0;32m    551\u001b[0m     \u001b[39mself\u001b[39m: TensorType, f: Callable[\u001b[39m.\u001b[39m\u001b[39m.\u001b[39m\u001b[39m.\u001b[39m, TensorType], \u001b[39m*\u001b[39margs: Any, \u001b[39m*\u001b[39m\u001b[39m*\u001b[39mkwargs: Any\n\u001b[0;32m    552\u001b[0m ) \u001b[39m-\u001b[39m\u001b[39m>\u001b[39m Tuple[TensorType, TensorType]:\n\u001b[1;32m--> 553\u001b[0m     \u001b[39mreturn\u001b[39;00m \u001b[39mself\u001b[39m\u001b[39m.\u001b[39m_value_and_grad_fn(f, has_aux\u001b[39m=\u001b[39m\u001b[39mFalse\u001b[39;00m)(\u001b[39mself\u001b[39m, \u001b[39m*\u001b[39margs, \u001b[39m*\u001b[39m\u001b[39m*\u001b[39mkwargs)\n",
      "File \u001b[1;32me:\\GitHub\\CS-486-Final-Project\\venv\\lib\\site-packages\\eagerpy\\tensor\\pytorch.py:505\u001b[0m, in \u001b[0;36mPyTorchTensor._value_and_grad_fn.<locals>.value_and_grad\u001b[1;34m(x, *args, **kwargs)\u001b[0m\n\u001b[0;32m    503\u001b[0m     loss, aux \u001b[39m=\u001b[39m f(x, \u001b[39m*\u001b[39margs, \u001b[39m*\u001b[39m\u001b[39m*\u001b[39mkwargs)\n\u001b[0;32m    504\u001b[0m \u001b[39melse\u001b[39;00m:\n\u001b[1;32m--> 505\u001b[0m     loss \u001b[39m=\u001b[39m f(x, \u001b[39m*\u001b[39margs, \u001b[39m*\u001b[39m\u001b[39m*\u001b[39mkwargs)\n\u001b[0;32m    506\u001b[0m loss \u001b[39m=\u001b[39m loss\u001b[39m.\u001b[39mraw\n\u001b[0;32m    507\u001b[0m loss\u001b[39m.\u001b[39mbackward()\n",
      "File \u001b[1;32me:\\GitHub\\CS-486-Final-Project\\venv\\lib\\site-packages\\foolbox\\attacks\\gradient_descent_base.py:96\u001b[0m, in \u001b[0;36mBaseGradientDescent.get_loss_fn.<locals>.loss_fn\u001b[1;34m(inputs)\u001b[0m\n\u001b[0;32m     95\u001b[0m \u001b[39mdef\u001b[39;00m \u001b[39mloss_fn\u001b[39m(inputs: ep\u001b[39m.\u001b[39mTensor) \u001b[39m-\u001b[39m\u001b[39m>\u001b[39m ep\u001b[39m.\u001b[39mTensor:\n\u001b[1;32m---> 96\u001b[0m     logits \u001b[39m=\u001b[39m model(inputs)\n\u001b[0;32m     97\u001b[0m     \u001b[39mreturn\u001b[39;00m ep\u001b[39m.\u001b[39mcrossentropy(logits, labels)\u001b[39m.\u001b[39msum()\n",
      "File \u001b[1;32me:\\GitHub\\CS-486-Final-Project\\venv\\lib\\site-packages\\foolbox\\models\\base.py:102\u001b[0m, in \u001b[0;36mModelWithPreprocessing.__call__\u001b[1;34m(self, inputs)\u001b[0m\n\u001b[0;32m    100\u001b[0m x, restore_type \u001b[39m=\u001b[39m ep\u001b[39m.\u001b[39mastensor_(inputs)\n\u001b[0;32m    101\u001b[0m y \u001b[39m=\u001b[39m \u001b[39mself\u001b[39m\u001b[39m.\u001b[39m_preprocess(x)\n\u001b[1;32m--> 102\u001b[0m z \u001b[39m=\u001b[39m ep\u001b[39m.\u001b[39mastensor(\u001b[39mself\u001b[39;49m\u001b[39m.\u001b[39;49m_model(y\u001b[39m.\u001b[39;49mraw))\n\u001b[0;32m    103\u001b[0m \u001b[39mreturn\u001b[39;00m restore_type(z)\n",
      "File \u001b[1;32me:\\GitHub\\CS-486-Final-Project\\venv\\lib\\site-packages\\foolbox\\models\\pytorch.py:49\u001b[0m, in \u001b[0;36mPyTorchModel.__init__.<locals>._model\u001b[1;34m(x)\u001b[0m\n\u001b[0;32m     47\u001b[0m \u001b[39mdef\u001b[39;00m \u001b[39m_model\u001b[39m(x: torch\u001b[39m.\u001b[39mTensor) \u001b[39m-\u001b[39m\u001b[39m>\u001b[39m torch\u001b[39m.\u001b[39mTensor:\n\u001b[0;32m     48\u001b[0m     \u001b[39mwith\u001b[39;00m torch\u001b[39m.\u001b[39mset_grad_enabled(x\u001b[39m.\u001b[39mrequires_grad):\n\u001b[1;32m---> 49\u001b[0m         result \u001b[39m=\u001b[39m cast(torch\u001b[39m.\u001b[39mTensor, model(x))\n\u001b[0;32m     50\u001b[0m     \u001b[39mreturn\u001b[39;00m result\n",
      "File \u001b[1;32me:\\GitHub\\CS-486-Final-Project\\venv\\lib\\site-packages\\torch\\nn\\modules\\module.py:1518\u001b[0m, in \u001b[0;36mModule._wrapped_call_impl\u001b[1;34m(self, *args, **kwargs)\u001b[0m\n\u001b[0;32m   1516\u001b[0m     \u001b[39mreturn\u001b[39;00m \u001b[39mself\u001b[39m\u001b[39m.\u001b[39m_compiled_call_impl(\u001b[39m*\u001b[39margs, \u001b[39m*\u001b[39m\u001b[39m*\u001b[39mkwargs)  \u001b[39m# type: ignore[misc]\u001b[39;00m\n\u001b[0;32m   1517\u001b[0m \u001b[39melse\u001b[39;00m:\n\u001b[1;32m-> 1518\u001b[0m     \u001b[39mreturn\u001b[39;00m \u001b[39mself\u001b[39m\u001b[39m.\u001b[39m_call_impl(\u001b[39m*\u001b[39margs, \u001b[39m*\u001b[39m\u001b[39m*\u001b[39mkwargs)\n",
      "File \u001b[1;32me:\\GitHub\\CS-486-Final-Project\\venv\\lib\\site-packages\\torch\\nn\\modules\\module.py:1527\u001b[0m, in \u001b[0;36mModule._call_impl\u001b[1;34m(self, *args, **kwargs)\u001b[0m\n\u001b[0;32m   1522\u001b[0m \u001b[39m# If we don't have any hooks, we want to skip the rest of the logic in\u001b[39;00m\n\u001b[0;32m   1523\u001b[0m \u001b[39m# this function, and just call forward.\u001b[39;00m\n\u001b[0;32m   1524\u001b[0m \u001b[39mif\u001b[39;00m \u001b[39mnot\u001b[39;00m (\u001b[39mself\u001b[39m\u001b[39m.\u001b[39m_backward_hooks \u001b[39mor\u001b[39;00m \u001b[39mself\u001b[39m\u001b[39m.\u001b[39m_backward_pre_hooks \u001b[39mor\u001b[39;00m \u001b[39mself\u001b[39m\u001b[39m.\u001b[39m_forward_hooks \u001b[39mor\u001b[39;00m \u001b[39mself\u001b[39m\u001b[39m.\u001b[39m_forward_pre_hooks\n\u001b[0;32m   1525\u001b[0m         \u001b[39mor\u001b[39;00m _global_backward_pre_hooks \u001b[39mor\u001b[39;00m _global_backward_hooks\n\u001b[0;32m   1526\u001b[0m         \u001b[39mor\u001b[39;00m _global_forward_hooks \u001b[39mor\u001b[39;00m _global_forward_pre_hooks):\n\u001b[1;32m-> 1527\u001b[0m     \u001b[39mreturn\u001b[39;00m forward_call(\u001b[39m*\u001b[39margs, \u001b[39m*\u001b[39m\u001b[39m*\u001b[39mkwargs)\n\u001b[0;32m   1529\u001b[0m \u001b[39mtry\u001b[39;00m:\n\u001b[0;32m   1530\u001b[0m     result \u001b[39m=\u001b[39m \u001b[39mNone\u001b[39;00m\n",
      "File \u001b[1;32me:\\GitHub\\CS-486-Final-Project\\pytorch_cifar\\models\\vgg.py:21\u001b[0m, in \u001b[0;36mVGG.forward\u001b[1;34m(self, x)\u001b[0m\n\u001b[0;32m     20\u001b[0m \u001b[39mdef\u001b[39;00m \u001b[39mforward\u001b[39m(\u001b[39mself\u001b[39m, x):\n\u001b[1;32m---> 21\u001b[0m     out \u001b[39m=\u001b[39m \u001b[39mself\u001b[39;49m\u001b[39m.\u001b[39;49mfeatures(x)\n\u001b[0;32m     22\u001b[0m     out \u001b[39m=\u001b[39m out\u001b[39m.\u001b[39mview(out\u001b[39m.\u001b[39msize(\u001b[39m0\u001b[39m), \u001b[39m-\u001b[39m\u001b[39m1\u001b[39m)\n\u001b[0;32m     23\u001b[0m     out \u001b[39m=\u001b[39m \u001b[39mself\u001b[39m\u001b[39m.\u001b[39mclassifier(out)\n",
      "File \u001b[1;32me:\\GitHub\\CS-486-Final-Project\\venv\\lib\\site-packages\\torch\\nn\\modules\\module.py:1518\u001b[0m, in \u001b[0;36mModule._wrapped_call_impl\u001b[1;34m(self, *args, **kwargs)\u001b[0m\n\u001b[0;32m   1516\u001b[0m     \u001b[39mreturn\u001b[39;00m \u001b[39mself\u001b[39m\u001b[39m.\u001b[39m_compiled_call_impl(\u001b[39m*\u001b[39margs, \u001b[39m*\u001b[39m\u001b[39m*\u001b[39mkwargs)  \u001b[39m# type: ignore[misc]\u001b[39;00m\n\u001b[0;32m   1517\u001b[0m \u001b[39melse\u001b[39;00m:\n\u001b[1;32m-> 1518\u001b[0m     \u001b[39mreturn\u001b[39;00m \u001b[39mself\u001b[39m\u001b[39m.\u001b[39m_call_impl(\u001b[39m*\u001b[39margs, \u001b[39m*\u001b[39m\u001b[39m*\u001b[39mkwargs)\n",
      "File \u001b[1;32me:\\GitHub\\CS-486-Final-Project\\venv\\lib\\site-packages\\torch\\nn\\modules\\module.py:1527\u001b[0m, in \u001b[0;36mModule._call_impl\u001b[1;34m(self, *args, **kwargs)\u001b[0m\n\u001b[0;32m   1522\u001b[0m \u001b[39m# If we don't have any hooks, we want to skip the rest of the logic in\u001b[39;00m\n\u001b[0;32m   1523\u001b[0m \u001b[39m# this function, and just call forward.\u001b[39;00m\n\u001b[0;32m   1524\u001b[0m \u001b[39mif\u001b[39;00m \u001b[39mnot\u001b[39;00m (\u001b[39mself\u001b[39m\u001b[39m.\u001b[39m_backward_hooks \u001b[39mor\u001b[39;00m \u001b[39mself\u001b[39m\u001b[39m.\u001b[39m_backward_pre_hooks \u001b[39mor\u001b[39;00m \u001b[39mself\u001b[39m\u001b[39m.\u001b[39m_forward_hooks \u001b[39mor\u001b[39;00m \u001b[39mself\u001b[39m\u001b[39m.\u001b[39m_forward_pre_hooks\n\u001b[0;32m   1525\u001b[0m         \u001b[39mor\u001b[39;00m _global_backward_pre_hooks \u001b[39mor\u001b[39;00m _global_backward_hooks\n\u001b[0;32m   1526\u001b[0m         \u001b[39mor\u001b[39;00m _global_forward_hooks \u001b[39mor\u001b[39;00m _global_forward_pre_hooks):\n\u001b[1;32m-> 1527\u001b[0m     \u001b[39mreturn\u001b[39;00m forward_call(\u001b[39m*\u001b[39margs, \u001b[39m*\u001b[39m\u001b[39m*\u001b[39mkwargs)\n\u001b[0;32m   1529\u001b[0m \u001b[39mtry\u001b[39;00m:\n\u001b[0;32m   1530\u001b[0m     result \u001b[39m=\u001b[39m \u001b[39mNone\u001b[39;00m\n",
      "File \u001b[1;32me:\\GitHub\\CS-486-Final-Project\\venv\\lib\\site-packages\\torch\\nn\\modules\\container.py:215\u001b[0m, in \u001b[0;36mSequential.forward\u001b[1;34m(self, input)\u001b[0m\n\u001b[0;32m    213\u001b[0m \u001b[39mdef\u001b[39;00m \u001b[39mforward\u001b[39m(\u001b[39mself\u001b[39m, \u001b[39minput\u001b[39m):\n\u001b[0;32m    214\u001b[0m     \u001b[39mfor\u001b[39;00m module \u001b[39min\u001b[39;00m \u001b[39mself\u001b[39m:\n\u001b[1;32m--> 215\u001b[0m         \u001b[39minput\u001b[39m \u001b[39m=\u001b[39m module(\u001b[39minput\u001b[39;49m)\n\u001b[0;32m    216\u001b[0m     \u001b[39mreturn\u001b[39;00m \u001b[39minput\u001b[39m\n",
      "File \u001b[1;32me:\\GitHub\\CS-486-Final-Project\\venv\\lib\\site-packages\\torch\\nn\\modules\\module.py:1518\u001b[0m, in \u001b[0;36mModule._wrapped_call_impl\u001b[1;34m(self, *args, **kwargs)\u001b[0m\n\u001b[0;32m   1516\u001b[0m     \u001b[39mreturn\u001b[39;00m \u001b[39mself\u001b[39m\u001b[39m.\u001b[39m_compiled_call_impl(\u001b[39m*\u001b[39margs, \u001b[39m*\u001b[39m\u001b[39m*\u001b[39mkwargs)  \u001b[39m# type: ignore[misc]\u001b[39;00m\n\u001b[0;32m   1517\u001b[0m \u001b[39melse\u001b[39;00m:\n\u001b[1;32m-> 1518\u001b[0m     \u001b[39mreturn\u001b[39;00m \u001b[39mself\u001b[39m\u001b[39m.\u001b[39m_call_impl(\u001b[39m*\u001b[39margs, \u001b[39m*\u001b[39m\u001b[39m*\u001b[39mkwargs)\n",
      "File \u001b[1;32me:\\GitHub\\CS-486-Final-Project\\venv\\lib\\site-packages\\torch\\nn\\modules\\module.py:1527\u001b[0m, in \u001b[0;36mModule._call_impl\u001b[1;34m(self, *args, **kwargs)\u001b[0m\n\u001b[0;32m   1522\u001b[0m \u001b[39m# If we don't have any hooks, we want to skip the rest of the logic in\u001b[39;00m\n\u001b[0;32m   1523\u001b[0m \u001b[39m# this function, and just call forward.\u001b[39;00m\n\u001b[0;32m   1524\u001b[0m \u001b[39mif\u001b[39;00m \u001b[39mnot\u001b[39;00m (\u001b[39mself\u001b[39m\u001b[39m.\u001b[39m_backward_hooks \u001b[39mor\u001b[39;00m \u001b[39mself\u001b[39m\u001b[39m.\u001b[39m_backward_pre_hooks \u001b[39mor\u001b[39;00m \u001b[39mself\u001b[39m\u001b[39m.\u001b[39m_forward_hooks \u001b[39mor\u001b[39;00m \u001b[39mself\u001b[39m\u001b[39m.\u001b[39m_forward_pre_hooks\n\u001b[0;32m   1525\u001b[0m         \u001b[39mor\u001b[39;00m _global_backward_pre_hooks \u001b[39mor\u001b[39;00m _global_backward_hooks\n\u001b[0;32m   1526\u001b[0m         \u001b[39mor\u001b[39;00m _global_forward_hooks \u001b[39mor\u001b[39;00m _global_forward_pre_hooks):\n\u001b[1;32m-> 1527\u001b[0m     \u001b[39mreturn\u001b[39;00m forward_call(\u001b[39m*\u001b[39margs, \u001b[39m*\u001b[39m\u001b[39m*\u001b[39mkwargs)\n\u001b[0;32m   1529\u001b[0m \u001b[39mtry\u001b[39;00m:\n\u001b[0;32m   1530\u001b[0m     result \u001b[39m=\u001b[39m \u001b[39mNone\u001b[39;00m\n",
      "File \u001b[1;32me:\\GitHub\\CS-486-Final-Project\\venv\\lib\\site-packages\\torch\\nn\\modules\\conv.py:460\u001b[0m, in \u001b[0;36mConv2d.forward\u001b[1;34m(self, input)\u001b[0m\n\u001b[0;32m    459\u001b[0m \u001b[39mdef\u001b[39;00m \u001b[39mforward\u001b[39m(\u001b[39mself\u001b[39m, \u001b[39minput\u001b[39m: Tensor) \u001b[39m-\u001b[39m\u001b[39m>\u001b[39m Tensor:\n\u001b[1;32m--> 460\u001b[0m     \u001b[39mreturn\u001b[39;00m \u001b[39mself\u001b[39;49m\u001b[39m.\u001b[39;49m_conv_forward(\u001b[39minput\u001b[39;49m, \u001b[39mself\u001b[39;49m\u001b[39m.\u001b[39;49mweight, \u001b[39mself\u001b[39;49m\u001b[39m.\u001b[39;49mbias)\n",
      "File \u001b[1;32me:\\GitHub\\CS-486-Final-Project\\venv\\lib\\site-packages\\torch\\nn\\modules\\conv.py:456\u001b[0m, in \u001b[0;36mConv2d._conv_forward\u001b[1;34m(self, input, weight, bias)\u001b[0m\n\u001b[0;32m    452\u001b[0m \u001b[39mif\u001b[39;00m \u001b[39mself\u001b[39m\u001b[39m.\u001b[39mpadding_mode \u001b[39m!=\u001b[39m \u001b[39m'\u001b[39m\u001b[39mzeros\u001b[39m\u001b[39m'\u001b[39m:\n\u001b[0;32m    453\u001b[0m     \u001b[39mreturn\u001b[39;00m F\u001b[39m.\u001b[39mconv2d(F\u001b[39m.\u001b[39mpad(\u001b[39minput\u001b[39m, \u001b[39mself\u001b[39m\u001b[39m.\u001b[39m_reversed_padding_repeated_twice, mode\u001b[39m=\u001b[39m\u001b[39mself\u001b[39m\u001b[39m.\u001b[39mpadding_mode),\n\u001b[0;32m    454\u001b[0m                     weight, bias, \u001b[39mself\u001b[39m\u001b[39m.\u001b[39mstride,\n\u001b[0;32m    455\u001b[0m                     _pair(\u001b[39m0\u001b[39m), \u001b[39mself\u001b[39m\u001b[39m.\u001b[39mdilation, \u001b[39mself\u001b[39m\u001b[39m.\u001b[39mgroups)\n\u001b[1;32m--> 456\u001b[0m \u001b[39mreturn\u001b[39;00m F\u001b[39m.\u001b[39;49mconv2d(\u001b[39minput\u001b[39;49m, weight, bias, \u001b[39mself\u001b[39;49m\u001b[39m.\u001b[39;49mstride,\n\u001b[0;32m    457\u001b[0m                 \u001b[39mself\u001b[39;49m\u001b[39m.\u001b[39;49mpadding, \u001b[39mself\u001b[39;49m\u001b[39m.\u001b[39;49mdilation, \u001b[39mself\u001b[39;49m\u001b[39m.\u001b[39;49mgroups)\n",
      "\u001b[1;31mKeyboardInterrupt\u001b[0m: "
     ]
    }
   ],
   "source": [
    "# VGG16\n",
    "generate_adv_imgs(\n",
    "    model=vgg16,\n",
    "    attack=foolbox.attacks.LinfPGD(), \n",
    "    loader=cifar10_loader,\n",
    "    save_path=os.path.join('vgg16', 'linfty'),\n",
    "    attack_kwargs={'epsilons': [0.01]}\n",
    "    )\n",
    "\n",
    "# MobileNetV2 \n",
    "generate_adv_imgs(\n",
    "    model=mobilenet,\n",
    "    attack=foolbox.attacks.LinfPGD(), \n",
    "    loader=cifar10_loader, \n",
    "    save_path=os.path.join('mobilenetv2', 'linfty'), \n",
    "    attack_kwargs={'epsilons': [0.01]}\n",
    ")\n",
    "\n",
    "# ResNet18\n",
    "generate_adv_imgs(\n",
    "    model=resnet, \n",
    "    attack=foolbox.attacks.LinfPGD(),\n",
    "    loader=cifar10_loader,\n",
    "    save_path=os.path.join('resnet18', 'linfty'),\n",
    "    attack_kwargs={'epsilons': [0.01]}\n",
    ")"
   ]
  },
  {
   "cell_type": "markdown",
   "metadata": {},
   "source": [
    "**Visualization:**"
   ]
  },
  {
   "cell_type": "code",
   "execution_count": 14,
   "metadata": {},
   "outputs": [
    {
     "name": "stderr",
     "output_type": "stream",
     "text": [
      "Clipping input data to the valid range for imshow with RGB data ([0..1] for floats or [0..255] for integers).\n",
      "Clipping input data to the valid range for imshow with RGB data ([0..1] for floats or [0..255] for integers).\n"
     ]
    },
    {
     "data": {
      "image/png": "[encoded data removed]",
      "text/plain": [
       "<Figure size 1200x500 with 2 Axes>"
      ]
     },
     "metadata": {},
     "output_type": "display_data"
    }
   ],
   "source": [
    "# Using MobileNetV2 as the sample\n",
    "adv_dataset_mobilenet = AdversarialDataset(os.path.join(DATA_SAVE_ROOT, 'mobilenetv2', 'linfty'), transform=adv_transforms)\n",
    "adv_loader_mobilenet = DataLoader(adv_dataset_mobilenet, batch_size=BATCH_SIZE, shuffle=False)\n",
    "\n",
    "adv_img, adv_label = next(iter(adv_loader_mobilenet))\n",
    "\n",
    "fig, (ax1, ax2) = plt.subplots(1, 2, figsize=(12, 5))\n",
    "ax1.imshow(np.transpose(make_grid(cifar_img), (1, 2, 0)))\n",
    "ax1.set_title(\"CIFAR-10 Samples\")\n",
    "ax2.imshow(np.transpose(make_grid(adv_img.cpu().squeeze(0)), (1, 2, 0)))\n",
    "ax2.set_title('L-infinity Samples')\n",
    "\n",
    "plt.show()\n"
   ]
  },
  {
   "cell_type": "markdown",
   "metadata": {},
   "source": [
    "**Testing Accuracy:**"
   ]
  },
  {
   "cell_type": "code",
   "execution_count": 18,
   "metadata": {},
   "outputs": [
    {
     "name": "stdout",
     "output_type": "stream",
     "text": [
      "VGG16 FGSM Accuracy: 2.1817676486937185\n",
      "MobileNetV2 FGSM Accuracy: 0.5423865006026517\n",
      "ResNet18 FGSM Accuracy: 1.1178388448998602\n"
     ]
    }
   ],
   "source": [
    "adv_dataset_vgg = AdversarialDataset(os.path.join(DATA_SAVE_ROOT, 'vgg16', 'linfty'), transform=adv_transforms)\n",
    "adv_loader_vgg = DataLoader(adv_dataset_vgg, batch_size=BATCH_SIZE, shuffle=False)\n",
    "\n",
    "print(f\"VGG16 FGSM Accuracy: {test(vgg16, adv_loader_vgg, DEVICE)}\")\n",
    "\n",
    "print(f\"MobileNetV2 FGSM Accuracy: {test(mobilenet, adv_loader_mobilenet, DEVICE)}\")\n",
    "\n",
    "adv_dataset_resnet = AdversarialDataset(os.path.join(DATA_SAVE_ROOT, 'resnet18', 'linfty'), transform=adv_transforms)\n",
    "adv_loader_resnet = DataLoader(adv_dataset_resnet, batch_size=BATCH_SIZE, shuffle=False)\n",
    "\n",
    "print(f\"ResNet18 FGSM Accuracy: {test(resnet, adv_loader_resnet, DEVICE)}\")"
   ]
  }
 ],
 "metadata": {
  "kernelspec": {
   "display_name": "venv",
   "language": "python",
   "name": "python3"
  },
  "language_info": {
   "codemirror_mode": {
    "name": "ipython",
    "version": 3
   },
   "file_extension": ".py",
   "mimetype": "text/x-python",
   "name": "python",
   "nbconvert_exporter": "python",
   "pygments_lexer": "ipython3",
   "version": "3.10.5"
  }
 },
 "nbformat": 4,
 "nbformat_minor": 2
}
