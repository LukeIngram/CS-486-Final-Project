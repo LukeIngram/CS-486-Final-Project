{
 "cells": [
  {
   "cell_type": "markdown",
   "metadata": {},
   "source": [
    "# **Attacking Image Classifiers with FoolBox**\n",
    "\n",
    "* CS486: Robust Machine Learning \n",
    "* Drexel University - Spring 2023 \n",
    "* Luke Ingram\n"
   ]
  },
  {
   "cell_type": "code",
   "execution_count": 2,
   "metadata": {},
   "outputs": [],
   "source": [
    "import os \n",
    "import pickle\n",
    "from typing import Dict, Any\n",
    "\n",
    "from tqdm import tqdm\n",
    "import matplotlib.pyplot as plt\n",
    "import numpy as np\n",
    "\n",
    "import torch\n",
    "import torch.nn as nn\n",
    "from torchvision import transforms as vt\n",
    "from torchvision.utils import make_grid\n",
    "from torchvision.datasets import CIFAR10\n",
    "from torch.utils.data import DataLoader\n",
    "\n",
    "import foolbox \n",
    "\n",
    "from pytorch_cifar.models import VGG, MobileNetV2, ResNet18\n",
    "\n",
    "from AdversarialDataset import AdversarialDataset\n"
   ]
  },
  {
   "cell_type": "markdown",
   "metadata": {},
   "source": [
    "## **Loading Trained Models & Data**"
   ]
  },
  {
   "cell_type": "code",
   "execution_count": 5,
   "metadata": {},
   "outputs": [],
   "source": [
    "MODEL_SAVES_DIR = os.path.join('models', 'checkpoints', 'classifiers')\n",
    "DEVICE = torch.device('cuda')\n",
    "BATCH_SIZE = 1"
   ]
  },
  {
   "cell_type": "code",
   "execution_count": 6,
   "metadata": {},
   "outputs": [
    {
     "data": {
      "text/plain": [
       "ResNet(\n",
       "  (conv1): Conv2d(3, 64, kernel_size=(3, 3), stride=(1, 1), padding=(1, 1), bias=False)\n",
       "  (bn1): BatchNorm2d(64, eps=1e-05, momentum=0.1, affine=True, track_running_stats=True)\n",
       "  (layer1): Sequential(\n",
       "    (0): BasicBlock(\n",
       "      (conv1): Conv2d(64, 64, kernel_size=(3, 3), stride=(1, 1), padding=(1, 1), bias=False)\n",
       "      (bn1): BatchNorm2d(64, eps=1e-05, momentum=0.1, affine=True, track_running_stats=True)\n",
       "      (conv2): Conv2d(64, 64, kernel_size=(3, 3), stride=(1, 1), padding=(1, 1), bias=False)\n",
       "      (bn2): BatchNorm2d(64, eps=1e-05, momentum=0.1, affine=True, track_running_stats=True)\n",
       "      (shortcut): Sequential()\n",
       "    )\n",
       "    (1): BasicBlock(\n",
       "      (conv1): Conv2d(64, 64, kernel_size=(3, 3), stride=(1, 1), padding=(1, 1), bias=False)\n",
       "      (bn1): BatchNorm2d(64, eps=1e-05, momentum=0.1, affine=True, track_running_stats=True)\n",
       "      (conv2): Conv2d(64, 64, kernel_size=(3, 3), stride=(1, 1), padding=(1, 1), bias=False)\n",
       "      (bn2): BatchNorm2d(64, eps=1e-05, momentum=0.1, affine=True, track_running_stats=True)\n",
       "      (shortcut): Sequential()\n",
       "    )\n",
       "  )\n",
       "  (layer2): Sequential(\n",
       "    (0): BasicBlock(\n",
       "      (conv1): Conv2d(64, 128, kernel_size=(3, 3), stride=(2, 2), padding=(1, 1), bias=False)\n",
       "      (bn1): BatchNorm2d(128, eps=1e-05, momentum=0.1, affine=True, track_running_stats=True)\n",
       "      (conv2): Conv2d(128, 128, kernel_size=(3, 3), stride=(1, 1), padding=(1, 1), bias=False)\n",
       "      (bn2): BatchNorm2d(128, eps=1e-05, momentum=0.1, affine=True, track_running_stats=True)\n",
       "      (shortcut): Sequential(\n",
       "        (0): Conv2d(64, 128, kernel_size=(1, 1), stride=(2, 2), bias=False)\n",
       "        (1): BatchNorm2d(128, eps=1e-05, momentum=0.1, affine=True, track_running_stats=True)\n",
       "      )\n",
       "    )\n",
       "    (1): BasicBlock(\n",
       "      (conv1): Conv2d(128, 128, kernel_size=(3, 3), stride=(1, 1), padding=(1, 1), bias=False)\n",
       "      (bn1): BatchNorm2d(128, eps=1e-05, momentum=0.1, affine=True, track_running_stats=True)\n",
       "      (conv2): Conv2d(128, 128, kernel_size=(3, 3), stride=(1, 1), padding=(1, 1), bias=False)\n",
       "      (bn2): BatchNorm2d(128, eps=1e-05, momentum=0.1, affine=True, track_running_stats=True)\n",
       "      (shortcut): Sequential()\n",
       "    )\n",
       "  )\n",
       "  (layer3): Sequential(\n",
       "    (0): BasicBlock(\n",
       "      (conv1): Conv2d(128, 256, kernel_size=(3, 3), stride=(2, 2), padding=(1, 1), bias=False)\n",
       "      (bn1): BatchNorm2d(256, eps=1e-05, momentum=0.1, affine=True, track_running_stats=True)\n",
       "      (conv2): Conv2d(256, 256, kernel_size=(3, 3), stride=(1, 1), padding=(1, 1), bias=False)\n",
       "      (bn2): BatchNorm2d(256, eps=1e-05, momentum=0.1, affine=True, track_running_stats=True)\n",
       "      (shortcut): Sequential(\n",
       "        (0): Conv2d(128, 256, kernel_size=(1, 1), stride=(2, 2), bias=False)\n",
       "        (1): BatchNorm2d(256, eps=1e-05, momentum=0.1, affine=True, track_running_stats=True)\n",
       "      )\n",
       "    )\n",
       "    (1): BasicBlock(\n",
       "      (conv1): Conv2d(256, 256, kernel_size=(3, 3), stride=(1, 1), padding=(1, 1), bias=False)\n",
       "      (bn1): BatchNorm2d(256, eps=1e-05, momentum=0.1, affine=True, track_running_stats=True)\n",
       "      (conv2): Conv2d(256, 256, kernel_size=(3, 3), stride=(1, 1), padding=(1, 1), bias=False)\n",
       "      (bn2): BatchNorm2d(256, eps=1e-05, momentum=0.1, affine=True, track_running_stats=True)\n",
       "      (shortcut): Sequential()\n",
       "    )\n",
       "  )\n",
       "  (layer4): Sequential(\n",
       "    (0): BasicBlock(\n",
       "      (conv1): Conv2d(256, 512, kernel_size=(3, 3), stride=(2, 2), padding=(1, 1), bias=False)\n",
       "      (bn1): BatchNorm2d(512, eps=1e-05, momentum=0.1, affine=True, track_running_stats=True)\n",
       "      (conv2): Conv2d(512, 512, kernel_size=(3, 3), stride=(1, 1), padding=(1, 1), bias=False)\n",
       "      (bn2): BatchNorm2d(512, eps=1e-05, momentum=0.1, affine=True, track_running_stats=True)\n",
       "      (shortcut): Sequential(\n",
       "        (0): Conv2d(256, 512, kernel_size=(1, 1), stride=(2, 2), bias=False)\n",
       "        (1): BatchNorm2d(512, eps=1e-05, momentum=0.1, affine=True, track_running_stats=True)\n",
       "      )\n",
       "    )\n",
       "    (1): BasicBlock(\n",
       "      (conv1): Conv2d(512, 512, kernel_size=(3, 3), stride=(1, 1), padding=(1, 1), bias=False)\n",
       "      (bn1): BatchNorm2d(512, eps=1e-05, momentum=0.1, affine=True, track_running_stats=True)\n",
       "      (conv2): Conv2d(512, 512, kernel_size=(3, 3), stride=(1, 1), padding=(1, 1), bias=False)\n",
       "      (bn2): BatchNorm2d(512, eps=1e-05, momentum=0.1, affine=True, track_running_stats=True)\n",
       "      (shortcut): Sequential()\n",
       "    )\n",
       "  )\n",
       "  (linear): Linear(in_features=512, out_features=10, bias=True)\n",
       ")"
      ]
     },
     "execution_count": 6,
     "metadata": {},
     "output_type": "execute_result"
    }
   ],
   "source": [
    "# Load classifiers we trained on CIFAR-10 last section\n",
    "vgg16 = VGG('VGG16', num_classes=10)\n",
    "vgg16.load_state_dict(torch.load(os.path.join(MODEL_SAVES_DIR, 'vgg16.pth')))\n",
    "vgg16 = vgg16.to(DEVICE)\n",
    "vgg16.eval()\n",
    "\n",
    "mobilenet = MobileNetV2(num_classes=10)\n",
    "mobilenet.load_state_dict(torch.load(os.path.join(MODEL_SAVES_DIR, 'mobilenetv2.pth')))\n",
    "mobilenet = mobilenet.to(DEVICE)\n",
    "mobilenet.eval()\n",
    "\n",
    "resnet = ResNet18(num_classes=10)\n",
    "resnet.load_state_dict(torch.load(os.path.join(MODEL_SAVES_DIR, 'resnet18.pth')))\n",
    "resnet = resnet.to(DEVICE)\n",
    "resnet.eval()"
   ]
  },
  {
   "cell_type": "markdown",
   "metadata": {},
   "source": [
    "Now we load our testing set:"
   ]
  },
  {
   "cell_type": "code",
   "execution_count": 4,
   "metadata": {},
   "outputs": [
    {
     "name": "stdout",
     "output_type": "stream",
     "text": [
      "Files already downloaded and verified\n"
     ]
    }
   ],
   "source": [
    "# Load CIFAR-10\n",
    "mean, std = [-0.0541, -0.0127,  0.0265], [0.9868, 1.0000, 1.0029]\n",
    "\n",
    "transforms = vt.Compose([\n",
    "    vt.ToTensor(),\n",
    "    vt.Normalize(mean, std)\n",
    "])\n",
    "\n",
    "cifar10_dataset = CIFAR10(root='./data', train=False, download=True, transform=transforms)\n",
    "cifar10_loader = DataLoader(cifar10_dataset, batch_size=BATCH_SIZE, shuffle=False)"
   ]
  },
  {
   "cell_type": "markdown",
   "metadata": {},
   "source": [
    "We saw the performance of our classifiers on the testing set in the last section, but to reiterate:"
   ]
  },
  {
   "cell_type": "code",
   "execution_count": 8,
   "metadata": {},
   "outputs": [
    {
     "ename": "KeyboardInterrupt",
     "evalue": "",
     "output_type": "error",
     "traceback": [
      "\u001b[0;31m---------------------------------------------------------------------------\u001b[0m",
      "\u001b[0;31mKeyboardInterrupt\u001b[0m                         Traceback (most recent call last)",
      "\u001b[1;32m/Users/luke/Documents/GitHub/CS-486-Final-Project/adv_attacks.ipynb Cell 9\u001b[0m line \u001b[0;36m2\n\u001b[1;32m     <a href='vscode-notebook-cell:/Users/luke/Documents/GitHub/CS-486-Final-Project/adv_attacks.ipynb#X11sZmlsZQ%3D%3D?line=21'>22</a>\u001b[0m     accuracy \u001b[39m=\u001b[39m \u001b[39m100\u001b[39m \u001b[39m*\u001b[39m correct \u001b[39m/\u001b[39m total\n\u001b[1;32m     <a href='vscode-notebook-cell:/Users/luke/Documents/GitHub/CS-486-Final-Project/adv_attacks.ipynb#X11sZmlsZQ%3D%3D?line=22'>23</a>\u001b[0m     \u001b[39mreturn\u001b[39;00m accuracy\n\u001b[0;32m---> <a href='vscode-notebook-cell:/Users/luke/Documents/GitHub/CS-486-Final-Project/adv_attacks.ipynb#X11sZmlsZQ%3D%3D?line=24'>25</a>\u001b[0m \u001b[39mprint\u001b[39m(\u001b[39mf\u001b[39m\u001b[39m\"\u001b[39m\u001b[39mVGG16 Test Accuracy: \u001b[39m\u001b[39m{\u001b[39;00mtest(vgg16,\u001b[39m \u001b[39;49mcifar10_loader,\u001b[39m \u001b[39;49mDEVICE)\u001b[39m}\u001b[39;00m\u001b[39m\"\u001b[39m)\n\u001b[1;32m     <a href='vscode-notebook-cell:/Users/luke/Documents/GitHub/CS-486-Final-Project/adv_attacks.ipynb#X11sZmlsZQ%3D%3D?line=25'>26</a>\u001b[0m \u001b[39mprint\u001b[39m(\u001b[39mf\u001b[39m\u001b[39m'\u001b[39m\u001b[39mMobileNetV2 Test Accuracy: \u001b[39m\u001b[39m{\u001b[39;00mtest(mobilenet,\u001b[39m \u001b[39mcifar10_loader,\u001b[39m \u001b[39mDEVICE)\u001b[39m}\u001b[39;00m\u001b[39m'\u001b[39m)\n\u001b[1;32m     <a href='vscode-notebook-cell:/Users/luke/Documents/GitHub/CS-486-Final-Project/adv_attacks.ipynb#X11sZmlsZQ%3D%3D?line=26'>27</a>\u001b[0m \u001b[39mprint\u001b[39m(\u001b[39mf\u001b[39m\u001b[39m'\u001b[39m\u001b[39mResNet18 Testing Accuracy: \u001b[39m\u001b[39m{\u001b[39;00mtest(resnet,\u001b[39m \u001b[39mcifar10_loader,\u001b[39m \u001b[39mDEVICE)\u001b[39m}\u001b[39;00m\u001b[39m'\u001b[39m)\n",
      "\u001b[1;32m/Users/luke/Documents/GitHub/CS-486-Final-Project/adv_attacks.ipynb Cell 9\u001b[0m line \u001b[0;36m1\n\u001b[1;32m     <a href='vscode-notebook-cell:/Users/luke/Documents/GitHub/CS-486-Final-Project/adv_attacks.ipynb#X11sZmlsZQ%3D%3D?line=16'>17</a>\u001b[0m         _, predicted \u001b[39m=\u001b[39m torch\u001b[39m.\u001b[39mmax(outputs\u001b[39m.\u001b[39mdata, \u001b[39m1\u001b[39m)\n\u001b[1;32m     <a href='vscode-notebook-cell:/Users/luke/Documents/GitHub/CS-486-Final-Project/adv_attacks.ipynb#X11sZmlsZQ%3D%3D?line=17'>18</a>\u001b[0m         total \u001b[39m+\u001b[39m\u001b[39m=\u001b[39m labels\u001b[39m.\u001b[39msize(\u001b[39m0\u001b[39m)\n\u001b[0;32m---> <a href='vscode-notebook-cell:/Users/luke/Documents/GitHub/CS-486-Final-Project/adv_attacks.ipynb#X11sZmlsZQ%3D%3D?line=18'>19</a>\u001b[0m         correct \u001b[39m+\u001b[39m\u001b[39m=\u001b[39m (predicted \u001b[39m==\u001b[39;49m labels)\u001b[39m.\u001b[39;49msum()\u001b[39m.\u001b[39;49mitem()\n\u001b[1;32m     <a href='vscode-notebook-cell:/Users/luke/Documents/GitHub/CS-486-Final-Project/adv_attacks.ipynb#X11sZmlsZQ%3D%3D?line=20'>21</a>\u001b[0m \u001b[39m# Compute accuracy\u001b[39;00m\n\u001b[1;32m     <a href='vscode-notebook-cell:/Users/luke/Documents/GitHub/CS-486-Final-Project/adv_attacks.ipynb#X11sZmlsZQ%3D%3D?line=21'>22</a>\u001b[0m accuracy \u001b[39m=\u001b[39m \u001b[39m100\u001b[39m \u001b[39m*\u001b[39m correct \u001b[39m/\u001b[39m total\n",
      "\u001b[0;31mKeyboardInterrupt\u001b[0m: "
     ]
    }
   ],
   "source": [
    "# Compare Models on testing dataset\n",
    "def test(model, loader, device):\n",
    "    model.eval()\n",
    "\n",
    "    correct = 0\n",
    "    total = 0 \n",
    "\n",
    "    with torch.no_grad(): \n",
    "         for data in loader:\n",
    "            inputs, labels = data\n",
    "            inputs, labels = inputs.to(device), labels.to(device)\n",
    "\n",
    "            # Forward pass\n",
    "            outputs = model(inputs)\n",
    "\n",
    "            # Get predictions and update counts\n",
    "            _, predicted = torch.max(outputs.data, 1)\n",
    "            total += labels.size(0)\n",
    "            correct += (predicted == labels).sum().item()\n",
    "\n",
    "    # Compute accuracy\n",
    "    accuracy = 100 * correct / total\n",
    "    return accuracy\n",
    "\n",
    "print(f\"VGG16 Test Accuracy: {test(vgg16, cifar10_loader, DEVICE)}\")\n",
    "print(f'MobileNetV2 Test Accuracy: {test(mobilenet, cifar10_loader, DEVICE)}')\n",
    "print(f'ResNet18 Testing Accuracy: {test(resnet, cifar10_loader, DEVICE)}')"
   ]
  },
  {
   "cell_type": "code",
   "execution_count": 5,
   "metadata": {},
   "outputs": [
    {
     "name": "stdout",
     "output_type": "stream",
     "text": [
      "airplane, automobile, bird, cat, deer, dog, frog, horse, ship, truck, ...\n"
     ]
    }
   ],
   "source": [
    "# Load Labels\n",
    "labelType = b'label_names'\n",
    "\n",
    "meta_file = os.path.join(\"data\", \"cifar-10-batches-py\", \"batches.meta\")\n",
    "\n",
    "with open(meta_file, 'rb') as f:\n",
    "    meta_data = pickle.load(f, encoding='bytes')\n",
    "    # Extract label names\n",
    "    label_names = [label.decode('utf-8') for label in meta_data[labelType]]\n",
    "    f.close()\n",
    "\n",
    "print(*label_names[:11], '...', sep=', ')"
   ]
  },
  {
   "cell_type": "markdown",
   "metadata": {},
   "source": [
    "## **Attacking the Classifiers**"
   ]
  },
  {
   "cell_type": "code",
   "execution_count": 6,
   "metadata": {},
   "outputs": [],
   "source": [
    "DATA_SAVE_ROOT = os.path.join(\"data\", \"adversarial\")"
   ]
  },
  {
   "cell_type": "markdown",
   "metadata": {},
   "source": [
    "Before we begin our white-box attacks we define the general attack procedure"
   ]
  },
  {
   "cell_type": "code",
   "execution_count": 7,
   "metadata": {},
   "outputs": [],
   "source": [
    "# This expects batch size of 1\n",
    "def generate_adv_imgs(\n",
    "        model: nn.Module, \n",
    "        attack: foolbox.attacks.Attack, \n",
    "        loader: DataLoader, \n",
    "        save_path: str,\n",
    "        attack_kwargs = Dict[str, Any] \n",
    "    ) -> None: \n",
    "\n",
    "    fmodel = foolbox.models.PyTorchModel(model, bounds=(-0.27, 1.07), device=DEVICE)\n",
    "\n",
    "    adv_imgs, adv_idx, adv_label = [], [], []\n",
    "\n",
    "    for idx, (imgs, labels) in tqdm(enumerate(loader)): \n",
    "\n",
    "        imgs, labels = imgs.to(DEVICE), labels.to(DEVICE)\n",
    "\n",
    "        _, adv_sample, success = attack(fmodel, imgs, labels, **attack_kwargs)\n",
    "      \n",
    "        if not success: \n",
    "            continue\n",
    "\n",
    "        adv_imgs.append(adv_sample[0].cpu().squeeze(0))\n",
    "        adv_idx.append(idx)\n",
    "        adv_label.append(labels.cpu())\n",
    "    \n",
    "    print(f\"saving adv data to {os.path.join(DATA_SAVE_ROOT, save_path)}\")\n",
    "    with open(os.path.join(DATA_SAVE_ROOT, save_path, 'idx.pickle'), 'wb') as fp: \n",
    "        pickle.dump(adv_idx, fp)\n",
    "    \n",
    "    with open(os.path.join(DATA_SAVE_ROOT, save_path, 'imgs.pickle'), 'wb') as fp: \n",
    "        pickle.dump(adv_imgs, fp)\n",
    "\n",
    "    with open(os.path.join(DATA_SAVE_ROOT, save_path, 'labels.pickle'), 'wb') as fp: \n",
    "        pickle.dump(adv_label, fp)\n",
    "    fp.close()\n",
    "        "
   ]
  },
  {
   "cell_type": "markdown",
   "metadata": {},
   "source": [
    "### **FGSM**"
   ]
  },
  {
   "cell_type": "markdown",
   "metadata": {},
   "source": [
    "We generate three datasets of adversarial images one designed for each classifier. (The other attacks will follow a similar structure)"
   ]
  },
  {
   "cell_type": "code",
   "execution_count": 34,
   "metadata": {},
   "outputs": [
    {
     "name": "stderr",
     "output_type": "stream",
     "text": [
      "10000it [02:34, 64.74it/s]\n"
     ]
    },
    {
     "name": "stdout",
     "output_type": "stream",
     "text": [
      "saving adv data to data\\adversarial\\vgg16\\fgsm\n"
     ]
    },
    {
     "name": "stderr",
     "output_type": "stream",
     "text": [
      "10000it [05:37, 29.67it/s]\n"
     ]
    },
    {
     "name": "stdout",
     "output_type": "stream",
     "text": [
      "saving adv data to data\\adversarial\\mobilenetv2\\fgsm\n"
     ]
    },
    {
     "name": "stderr",
     "output_type": "stream",
     "text": [
      "10000it [03:00, 55.50it/s]\n"
     ]
    },
    {
     "name": "stdout",
     "output_type": "stream",
     "text": [
      "saving adv data to data\\adversarial\\resnet18\\fgsm\n"
     ]
    }
   ],
   "source": [
    "# VGG16\n",
    "generate_adv_imgs(\n",
    "    model=vgg16,\n",
    "    attack=foolbox.attacks.FGSM(), \n",
    "    loader=cifar10_loader,\n",
    "    save_path=os.path.join('vgg16', 'fgsm'),\n",
    "    attack_kwargs={'epsilons': [0.1]}\n",
    "    )\n",
    "\n",
    "\n",
    "# MobileNetV2 \n",
    "generate_adv_imgs(\n",
    "    model=mobilenet,\n",
    "    attack=foolbox.attacks.FGSM(), \n",
    "    loader=cifar10_loader, \n",
    "    save_path=os.path.join('mobilenetv2', 'fgsm'), \n",
    "    attack_kwargs={'epsilons': [0.1]}\n",
    ")\n",
    "\n",
    "# ResNet18\n",
    "generate_adv_imgs(\n",
    "    model=resnet, \n",
    "    attack=foolbox.attacks.FGSM(),\n",
    "    loader=cifar10_loader,\n",
    "    save_path=os.path.join('resnet18', 'fgsm'),\n",
    "    attack_kwargs={'epsilons': [0.1]}\n",
    ")"
   ]
  },
  {
   "cell_type": "markdown",
   "metadata": {},
   "source": [
    "**Visualization:**"
   ]
  },
  {
   "cell_type": "code",
   "execution_count": 21,
   "metadata": {},
   "outputs": [
    {
     "name": "stderr",
     "output_type": "stream",
     "text": [
      "Clipping input data to the valid range for imshow with RGB data ([0..1] for floats or [0..255] for integers).\n",
      "Clipping input data to the valid range for imshow with RGB data ([0..1] for floats or [0..255] for integers).\n"
     ]
    },
    {
     "data": {
      "image/png": "[encoded data removed]",
      "text/plain": [
       "<Figure size 1200x500 with 2 Axes>"
      ]
     },
     "metadata": {},
     "output_type": "display_data"
    }
   ],
   "source": [
    "# Get CIFAR-10 sample\n",
    "cifar_img, cifar_label = next(iter(cifar10_loader)) \n",
    "\n",
    "adv_transforms = vt.Compose([ \n",
    "    vt.Normalize(mean, std)\n",
    "])\n",
    "\n",
    "# Using MobileNetV2 as the sample\n",
    "adv_dataset_mobilenet = AdversarialDataset(os.path.join(DATA_SAVE_ROOT, 'mobilenetv2', 'fgsm'), transform=adv_transforms)\n",
    "adv_loader_mobilenet = DataLoader(adv_dataset_mobilenet, batch_size=BATCH_SIZE, shuffle=False)\n",
    "\n",
    "adv_img, adv_label = next(iter(adv_loader_mobilenet))\n",
    "\n",
    "fig, (ax1, ax2) = plt.subplots(1, 2, figsize=(12, 5))\n",
    "ax1.imshow(np.transpose(make_grid(cifar_img), (1, 2, 0)))\n",
    "ax1.set_title(\"CIFAR-10 Samples\")\n",
    "ax2.imshow(np.transpose(make_grid(adv_img.cpu().squeeze(0)), (1, 2, 0)))\n",
    "ax2.set_title('FGSM Samples')\n",
    "\n",
    "plt.show()\n",
    "\n"
   ]
  },
  {
   "cell_type": "markdown",
   "metadata": {},
   "source": [
    "**Testing Accuracy:**"
   ]
  },
  {
   "cell_type": "code",
   "execution_count": 23,
   "metadata": {},
   "outputs": [
    {
     "name": "stdout",
     "output_type": "stream",
     "text": [
      "VGG16 FGSM Accuracy: 13.661264551472266\n",
      "MobileNetV2 FGSM Accuracy: 1.3809632503994522\n",
      "ResNet18 FGSM Accuracy: 14.12919424788861\n"
     ]
    }
   ],
   "source": [
    "adv_dataset_vgg = AdversarialDataset(os.path.join(DATA_SAVE_ROOT, 'vgg16', 'fgsm'), transform=adv_transforms)\n",
    "adv_loader_vgg = DataLoader(adv_dataset_vgg, batch_size=BATCH_SIZE, shuffle=False)\n",
    "\n",
    "print(f\"VGG16 FGSM Accuracy: {test(vgg16, adv_loader_vgg, DEVICE)}\")\n",
    "\n",
    "print(f\"MobileNetV2 FGSM Accuracy: {test(mobilenet, adv_loader_mobilenet, DEVICE)}\")\n",
    "\n",
    "adv_dataset_resnet = AdversarialDataset(os.path.join(DATA_SAVE_ROOT, 'resnet18', 'fgsm'), transform=adv_transforms)\n",
    "adv_loader_resnet = DataLoader(adv_dataset_resnet, batch_size=BATCH_SIZE, shuffle=False)\n",
    "\n",
    "print(f\"ResNet18 FGSM Accuracy: {test(resnet, adv_loader_resnet, DEVICE)}\")"
   ]
  },
  {
   "cell_type": "markdown",
   "metadata": {},
   "source": [
    "### **$L_\\infty$**"
   ]
  },
  {
   "cell_type": "code",
   "execution_count": 27,
   "metadata": {},
   "outputs": [
    {
     "name": "stderr",
     "output_type": "stream",
     "text": [
      "10000it [57:09,  2.92it/s]\n"
     ]
    },
    {
     "name": "stdout",
     "output_type": "stream",
     "text": [
      "saving adv data to data\\adversarial\\vgg16\\linfty\n"
     ]
    },
    {
     "name": "stderr",
     "output_type": "stream",
     "text": [
      "10000it [2:23:22,  1.16it/s]\n"
     ]
    },
    {
     "name": "stdout",
     "output_type": "stream",
     "text": [
      "saving adv data to data\\adversarial\\mobilenetv2\\linfty\n"
     ]
    },
    {
     "name": "stderr",
     "output_type": "stream",
     "text": [
      "10000it [1:08:39,  2.43it/s]\n"
     ]
    },
    {
     "name": "stdout",
     "output_type": "stream",
     "text": [
      "saving adv data to data\\adversarial\\resnet18\\linfty\n"
     ]
    }
   ],
   "source": [
    "# VGG16\n",
    "generate_adv_imgs(\n",
    "    model=vgg16,\n",
    "    attack=foolbox.attacks.LinfPGD(), \n",
    "    loader=cifar10_loader,\n",
    "    save_path=os.path.join('vgg16', 'linfty'),\n",
    "    attack_kwargs={'epsilons': [0.2]}\n",
    "    )\n",
    "\n",
    "\n",
    "# MobileNetV2 \n",
    "generate_adv_imgs(\n",
    "    model=mobilenet,\n",
    "    attack=foolbox.attacks.LinfPGD(), \n",
    "    loader=cifar10_loader, \n",
    "    save_path=os.path.join('mobilenetv2', 'linfty'), \n",
    "    attack_kwargs={'epsilons': [0.2]}\n",
    ")\n",
    "\n",
    "# ResNet18\n",
    "generate_adv_imgs(\n",
    "    model=resnet, \n",
    "    attack=foolbox.attacks.LinfPGD(),\n",
    "    loader=cifar10_loader,\n",
    "    save_path=os.path.join('resnet18', 'linfty'),\n",
    "    attack_kwargs={'epsilons': [0.2]}\n",
    ")"
   ]
  },
  {
   "cell_type": "markdown",
   "metadata": {},
   "source": [
    "**Visualization:**"
   ]
  },
  {
   "cell_type": "code",
   "execution_count": 9,
   "metadata": {},
   "outputs": [
    {
     "ename": "RuntimeError",
     "evalue": "Attempting to deserialize object on a CUDA device but torch.cuda.is_available() is False. If you are running on a CPU-only machine, please use torch.load with map_location=torch.device('cpu') to map your storages to the CPU.",
     "output_type": "error",
     "traceback": [
      "\u001b[0;31m---------------------------------------------------------------------------\u001b[0m",
      "\u001b[0;31mRuntimeError\u001b[0m                              Traceback (most recent call last)",
      "\u001b[1;32m/Users/luke/Documents/GitHub/CS-486-Final-Project/adv_attacks.ipynb Cell 25\u001b[0m line \u001b[0;36m9\n\u001b[1;32m      <a href='vscode-notebook-cell:/Users/luke/Documents/GitHub/CS-486-Final-Project/adv_attacks.ipynb#X36sZmlsZQ%3D%3D?line=3'>4</a>\u001b[0m adv_transforms \u001b[39m=\u001b[39m vt\u001b[39m.\u001b[39mCompose([ \n\u001b[1;32m      <a href='vscode-notebook-cell:/Users/luke/Documents/GitHub/CS-486-Final-Project/adv_attacks.ipynb#X36sZmlsZQ%3D%3D?line=4'>5</a>\u001b[0m     vt\u001b[39m.\u001b[39mNormalize(mean, std)\n\u001b[1;32m      <a href='vscode-notebook-cell:/Users/luke/Documents/GitHub/CS-486-Final-Project/adv_attacks.ipynb#X36sZmlsZQ%3D%3D?line=5'>6</a>\u001b[0m ])\n\u001b[1;32m      <a href='vscode-notebook-cell:/Users/luke/Documents/GitHub/CS-486-Final-Project/adv_attacks.ipynb#X36sZmlsZQ%3D%3D?line=7'>8</a>\u001b[0m \u001b[39m# Using MobileNetV2 as the sample\u001b[39;00m\n\u001b[0;32m----> <a href='vscode-notebook-cell:/Users/luke/Documents/GitHub/CS-486-Final-Project/adv_attacks.ipynb#X36sZmlsZQ%3D%3D?line=8'>9</a>\u001b[0m adv_dataset_mobilenet \u001b[39m=\u001b[39m AdversarialDataset(os\u001b[39m.\u001b[39;49mpath\u001b[39m.\u001b[39;49mjoin(DATA_SAVE_ROOT, \u001b[39m'\u001b[39;49m\u001b[39mmobilenetv2\u001b[39;49m\u001b[39m'\u001b[39;49m, \u001b[39m'\u001b[39;49m\u001b[39mlinfty\u001b[39;49m\u001b[39m'\u001b[39;49m), transform\u001b[39m=\u001b[39;49madv_transforms)\n\u001b[1;32m     <a href='vscode-notebook-cell:/Users/luke/Documents/GitHub/CS-486-Final-Project/adv_attacks.ipynb#X36sZmlsZQ%3D%3D?line=9'>10</a>\u001b[0m adv_loader_mobilenet \u001b[39m=\u001b[39m DataLoader(adv_dataset_mobilenet, batch_size\u001b[39m=\u001b[39mBATCH_SIZE, shuffle\u001b[39m=\u001b[39m\u001b[39mFalse\u001b[39;00m)\n\u001b[1;32m     <a href='vscode-notebook-cell:/Users/luke/Documents/GitHub/CS-486-Final-Project/adv_attacks.ipynb#X36sZmlsZQ%3D%3D?line=11'>12</a>\u001b[0m adv_img, adv_label \u001b[39m=\u001b[39m \u001b[39mnext\u001b[39m(\u001b[39miter\u001b[39m(adv_loader_mobilenet))\n",
      "File \u001b[0;32m~/Documents/GitHub/CS-486-Final-Project/AdversarialDataset.py:26\u001b[0m, in \u001b[0;36mAdversarialDataset.__init__\u001b[0;34m(self, data_root, transform)\u001b[0m\n\u001b[1;32m     23\u001b[0m     \u001b[39mself\u001b[39m\u001b[39m.\u001b[39mimages \u001b[39m=\u001b[39m pickle\u001b[39m.\u001b[39mload(fp)\n\u001b[1;32m     25\u001b[0m \u001b[39mwith\u001b[39;00m \u001b[39mopen\u001b[39m (labels_path, \u001b[39m'\u001b[39m\u001b[39mrb\u001b[39m\u001b[39m'\u001b[39m) \u001b[39mas\u001b[39;00m fp:\n\u001b[0;32m---> 26\u001b[0m     \u001b[39mself\u001b[39m\u001b[39m.\u001b[39mlabels \u001b[39m=\u001b[39m pickle\u001b[39m.\u001b[39;49mload(fp)\n",
      "File \u001b[0;32m~/Documents/GitHub/CS-486-Final-Project/venv/lib/python3.11/site-packages/torch/storage.py:337\u001b[0m, in \u001b[0;36m_load_from_bytes\u001b[0;34m(b)\u001b[0m\n\u001b[1;32m    336\u001b[0m \u001b[39mdef\u001b[39;00m \u001b[39m_load_from_bytes\u001b[39m(b):\n\u001b[0;32m--> 337\u001b[0m     \u001b[39mreturn\u001b[39;00m torch\u001b[39m.\u001b[39;49mload(io\u001b[39m.\u001b[39;49mBytesIO(b))\n",
      "File \u001b[0;32m~/Documents/GitHub/CS-486-Final-Project/venv/lib/python3.11/site-packages/torch/serialization.py:1028\u001b[0m, in \u001b[0;36mload\u001b[0;34m(f, map_location, pickle_module, weights_only, mmap, **pickle_load_args)\u001b[0m\n\u001b[1;32m   1026\u001b[0m     \u001b[39mexcept\u001b[39;00m \u001b[39mRuntimeError\u001b[39;00m \u001b[39mas\u001b[39;00m e:\n\u001b[1;32m   1027\u001b[0m         \u001b[39mraise\u001b[39;00m pickle\u001b[39m.\u001b[39mUnpicklingError(UNSAFE_MESSAGE \u001b[39m+\u001b[39m \u001b[39mstr\u001b[39m(e)) \u001b[39mfrom\u001b[39;00m \u001b[39mNone\u001b[39;00m\n\u001b[0;32m-> 1028\u001b[0m \u001b[39mreturn\u001b[39;00m _legacy_load(opened_file, map_location, pickle_module, \u001b[39m*\u001b[39;49m\u001b[39m*\u001b[39;49mpickle_load_args)\n",
      "File \u001b[0;32m~/Documents/GitHub/CS-486-Final-Project/venv/lib/python3.11/site-packages/torch/serialization.py:1256\u001b[0m, in \u001b[0;36m_legacy_load\u001b[0;34m(f, map_location, pickle_module, **pickle_load_args)\u001b[0m\n\u001b[1;32m   1254\u001b[0m unpickler \u001b[39m=\u001b[39m UnpicklerWrapper(f, \u001b[39m*\u001b[39m\u001b[39m*\u001b[39mpickle_load_args)\n\u001b[1;32m   1255\u001b[0m unpickler\u001b[39m.\u001b[39mpersistent_load \u001b[39m=\u001b[39m persistent_load\n\u001b[0;32m-> 1256\u001b[0m result \u001b[39m=\u001b[39m unpickler\u001b[39m.\u001b[39;49mload()\n\u001b[1;32m   1258\u001b[0m deserialized_storage_keys \u001b[39m=\u001b[39m pickle_module\u001b[39m.\u001b[39mload(f, \u001b[39m*\u001b[39m\u001b[39m*\u001b[39mpickle_load_args)\n\u001b[1;32m   1260\u001b[0m offset \u001b[39m=\u001b[39m f\u001b[39m.\u001b[39mtell() \u001b[39mif\u001b[39;00m f_should_read_directly \u001b[39melse\u001b[39;00m \u001b[39mNone\u001b[39;00m\n",
      "File \u001b[0;32m~/Documents/GitHub/CS-486-Final-Project/venv/lib/python3.11/site-packages/torch/serialization.py:1193\u001b[0m, in \u001b[0;36m_legacy_load.<locals>.persistent_load\u001b[0;34m(saved_id)\u001b[0m\n\u001b[1;32m   1189\u001b[0m     obj\u001b[39m.\u001b[39m_torch_load_uninitialized \u001b[39m=\u001b[39m \u001b[39mTrue\u001b[39;00m\n\u001b[1;32m   1190\u001b[0m     \u001b[39m# TODO: Once we decide to break serialization FC, we can\u001b[39;00m\n\u001b[1;32m   1191\u001b[0m     \u001b[39m# stop wrapping with TypedStorage\u001b[39;00m\n\u001b[1;32m   1192\u001b[0m     typed_storage \u001b[39m=\u001b[39m torch\u001b[39m.\u001b[39mstorage\u001b[39m.\u001b[39mTypedStorage(\n\u001b[0;32m-> 1193\u001b[0m         wrap_storage\u001b[39m=\u001b[39mrestore_location(obj, location),\n\u001b[1;32m   1194\u001b[0m         dtype\u001b[39m=\u001b[39mdtype,\n\u001b[1;32m   1195\u001b[0m         _internal\u001b[39m=\u001b[39m\u001b[39mTrue\u001b[39;00m)\n\u001b[1;32m   1196\u001b[0m     deserialized_objects[root_key] \u001b[39m=\u001b[39m typed_storage\n\u001b[1;32m   1197\u001b[0m \u001b[39melse\u001b[39;00m:\n",
      "File \u001b[0;32m~/Documents/GitHub/CS-486-Final-Project/venv/lib/python3.11/site-packages/torch/serialization.py:381\u001b[0m, in \u001b[0;36mdefault_restore_location\u001b[0;34m(storage, location)\u001b[0m\n\u001b[1;32m    379\u001b[0m \u001b[39mdef\u001b[39;00m \u001b[39mdefault_restore_location\u001b[39m(storage, location):\n\u001b[1;32m    380\u001b[0m     \u001b[39mfor\u001b[39;00m _, _, fn \u001b[39min\u001b[39;00m _package_registry:\n\u001b[0;32m--> 381\u001b[0m         result \u001b[39m=\u001b[39m fn(storage, location)\n\u001b[1;32m    382\u001b[0m         \u001b[39mif\u001b[39;00m result \u001b[39mis\u001b[39;00m \u001b[39mnot\u001b[39;00m \u001b[39mNone\u001b[39;00m:\n\u001b[1;32m    383\u001b[0m             \u001b[39mreturn\u001b[39;00m result\n",
      "File \u001b[0;32m~/Documents/GitHub/CS-486-Final-Project/venv/lib/python3.11/site-packages/torch/serialization.py:274\u001b[0m, in \u001b[0;36m_cuda_deserialize\u001b[0;34m(obj, location)\u001b[0m\n\u001b[1;32m    272\u001b[0m \u001b[39mdef\u001b[39;00m \u001b[39m_cuda_deserialize\u001b[39m(obj, location):\n\u001b[1;32m    273\u001b[0m     \u001b[39mif\u001b[39;00m location\u001b[39m.\u001b[39mstartswith(\u001b[39m'\u001b[39m\u001b[39mcuda\u001b[39m\u001b[39m'\u001b[39m):\n\u001b[0;32m--> 274\u001b[0m         device \u001b[39m=\u001b[39m validate_cuda_device(location)\n\u001b[1;32m    275\u001b[0m         \u001b[39mif\u001b[39;00m \u001b[39mgetattr\u001b[39m(obj, \u001b[39m\"\u001b[39m\u001b[39m_torch_load_uninitialized\u001b[39m\u001b[39m\"\u001b[39m, \u001b[39mFalse\u001b[39;00m):\n\u001b[1;32m    276\u001b[0m             \u001b[39mwith\u001b[39;00m torch\u001b[39m.\u001b[39mcuda\u001b[39m.\u001b[39mdevice(device):\n",
      "File \u001b[0;32m~/Documents/GitHub/CS-486-Final-Project/venv/lib/python3.11/site-packages/torch/serialization.py:258\u001b[0m, in \u001b[0;36mvalidate_cuda_device\u001b[0;34m(location)\u001b[0m\n\u001b[1;32m    255\u001b[0m device \u001b[39m=\u001b[39m torch\u001b[39m.\u001b[39mcuda\u001b[39m.\u001b[39m_utils\u001b[39m.\u001b[39m_get_device_index(location, \u001b[39mTrue\u001b[39;00m)\n\u001b[1;32m    257\u001b[0m \u001b[39mif\u001b[39;00m \u001b[39mnot\u001b[39;00m torch\u001b[39m.\u001b[39mcuda\u001b[39m.\u001b[39mis_available():\n\u001b[0;32m--> 258\u001b[0m     \u001b[39mraise\u001b[39;00m \u001b[39mRuntimeError\u001b[39;00m(\u001b[39m'\u001b[39m\u001b[39mAttempting to deserialize object on a CUDA \u001b[39m\u001b[39m'\u001b[39m\n\u001b[1;32m    259\u001b[0m                        \u001b[39m'\u001b[39m\u001b[39mdevice but torch.cuda.is_available() is False. \u001b[39m\u001b[39m'\u001b[39m\n\u001b[1;32m    260\u001b[0m                        \u001b[39m'\u001b[39m\u001b[39mIf you are running on a CPU-only machine, \u001b[39m\u001b[39m'\u001b[39m\n\u001b[1;32m    261\u001b[0m                        \u001b[39m'\u001b[39m\u001b[39mplease use torch.load with map_location=torch.device(\u001b[39m\u001b[39m\\'\u001b[39;00m\u001b[39mcpu\u001b[39m\u001b[39m\\'\u001b[39;00m\u001b[39m) \u001b[39m\u001b[39m'\u001b[39m\n\u001b[1;32m    262\u001b[0m                        \u001b[39m'\u001b[39m\u001b[39mto map your storages to the CPU.\u001b[39m\u001b[39m'\u001b[39m)\n\u001b[1;32m    263\u001b[0m device_count \u001b[39m=\u001b[39m torch\u001b[39m.\u001b[39mcuda\u001b[39m.\u001b[39mdevice_count()\n\u001b[1;32m    264\u001b[0m \u001b[39mif\u001b[39;00m device \u001b[39m>\u001b[39m\u001b[39m=\u001b[39m device_count:\n",
      "\u001b[0;31mRuntimeError\u001b[0m: Attempting to deserialize object on a CUDA device but torch.cuda.is_available() is False. If you are running on a CPU-only machine, please use torch.load with map_location=torch.device('cpu') to map your storages to the CPU."
     ]
    }
   ],
   "source": [
    "# Get CIFAR-10 sample\n",
    "cifar_img, cifar_label = next(iter(cifar10_loader)) \n",
    "\n",
    "adv_transforms = vt.Compose([ \n",
    "    vt.Normalize(mean, std)\n",
    "])\n",
    "\n",
    "# Using MobileNetV2 as the sample\n",
    "adv_dataset_mobilenet = AdversarialDataset(os.path.join(DATA_SAVE_ROOT, 'mobilenetv2', 'linfty'), transform=adv_transforms)\n",
    "adv_loader_mobilenet = DataLoader(adv_dataset_mobilenet, batch_size=BATCH_SIZE, shuffle=False)\n",
    "\n",
    "adv_img, adv_label = next(iter(adv_loader_mobilenet))\n",
    "\n",
    "fig, (ax1, ax2) = plt.subplots(1, 2, figsize=(12, 5))\n",
    "ax1.imshow(np.transpose(make_grid(cifar_img), (1, 2, 0)))\n",
    "ax1.set_title(\"CIFAR-10 Samples\")\n",
    "ax2.imshow(np.transpose(make_grid(adv_img.cpu().squeeze(0)), (1, 2, 0)))\n",
    "ax2.set_title('L-infinity Samples')\n",
    "\n",
    "plt.show()\n"
   ]
  },
  {
   "cell_type": "markdown",
   "metadata": {},
   "source": [
    "**Testing Accuracy:**"
   ]
  },
  {
   "cell_type": "code",
   "execution_count": null,
   "metadata": {},
   "outputs": [],
   "source": [
    "adv_dataset_vgg = AdversarialDataset(os.path.join(DATA_SAVE_ROOT, 'vgg16', 'linfty'), transform=adv_transforms)\n",
    "adv_loader_vgg = DataLoader(adv_dataset_vgg, batch_size=BATCH_SIZE, shuffle=False)\n",
    "\n",
    "print(f\"VGG16 FGSM Accuracy: {test(vgg16, adv_loader_vgg, DEVICE)}\")\n",
    "\n",
    "print(f\"MobileNetV2 FGSM Accuracy: {test(mobilenet, adv_loader_mobilenet, DEVICE)}\")\n",
    "\n",
    "adv_dataset_resnet = AdversarialDataset(os.path.join(DATA_SAVE_ROOT, 'resnet18', 'linfty'), transform=adv_transforms)\n",
    "adv_loader_resnet = DataLoader(adv_dataset_resnet, batch_size=BATCH_SIZE, shuffle=False)\n",
    "\n",
    "print(f\"ResNet18 FGSM Accuracy: {test(resnet, adv_loader_resnet, DEVICE)}\")"
   ]
  },
  {
   "cell_type": "markdown",
   "metadata": {},
   "source": [
    "### **Boundary Attack**"
   ]
  },
  {
   "cell_type": "markdown",
   "metadata": {},
   "source": [
    "Since the Boundary Attack is a black-box attack, only one run is needed. "
   ]
  },
  {
   "cell_type": "code",
   "execution_count": 8,
   "metadata": {},
   "outputs": [
    {
     "name": "stderr",
     "output_type": "stream",
     "text": [
      "0it [00:00, ?it/s]"
     ]
    },
    {
     "name": "stderr",
     "output_type": "stream",
     "text": [
      "0it [01:15, ?it/s]\n"
     ]
    },
    {
     "ename": "KeyboardInterrupt",
     "evalue": "",
     "output_type": "error",
     "traceback": [
      "\u001b[0;31m---------------------------------------------------------------------------\u001b[0m",
      "\u001b[0;31mKeyboardInterrupt\u001b[0m                         Traceback (most recent call last)",
      "\u001b[1;32m/Users/luke/Documents/GitHub/CS-486-Final-Project/adv_attacks.ipynb Cell 26\u001b[0m line \u001b[0;36m1\n\u001b[0;32m----> <a href='vscode-notebook-cell:/Users/luke/Documents/GitHub/CS-486-Final-Project/adv_attacks.ipynb#X33sZmlsZQ%3D%3D?line=0'>1</a>\u001b[0m generate_adv_imgs(\n\u001b[1;32m      <a href='vscode-notebook-cell:/Users/luke/Documents/GitHub/CS-486-Final-Project/adv_attacks.ipynb#X33sZmlsZQ%3D%3D?line=1'>2</a>\u001b[0m     model\u001b[39m=\u001b[39;49mvgg16,\n\u001b[1;32m      <a href='vscode-notebook-cell:/Users/luke/Documents/GitHub/CS-486-Final-Project/adv_attacks.ipynb#X33sZmlsZQ%3D%3D?line=2'>3</a>\u001b[0m     attack\u001b[39m=\u001b[39;49mfoolbox\u001b[39m.\u001b[39;49mattacks\u001b[39m.\u001b[39;49mBoundaryAttack(), \n\u001b[1;32m      <a href='vscode-notebook-cell:/Users/luke/Documents/GitHub/CS-486-Final-Project/adv_attacks.ipynb#X33sZmlsZQ%3D%3D?line=3'>4</a>\u001b[0m     loader\u001b[39m=\u001b[39;49mcifar10_loader,\n\u001b[1;32m      <a href='vscode-notebook-cell:/Users/luke/Documents/GitHub/CS-486-Final-Project/adv_attacks.ipynb#X33sZmlsZQ%3D%3D?line=4'>5</a>\u001b[0m     save_path\u001b[39m=\u001b[39;49mos\u001b[39m.\u001b[39;49mpath\u001b[39m.\u001b[39;49mjoin(\u001b[39m'\u001b[39;49m\u001b[39mboundary_attack\u001b[39;49m\u001b[39m'\u001b[39;49m),\n\u001b[1;32m      <a href='vscode-notebook-cell:/Users/luke/Documents/GitHub/CS-486-Final-Project/adv_attacks.ipynb#X33sZmlsZQ%3D%3D?line=5'>6</a>\u001b[0m     attack_kwargs\u001b[39m=\u001b[39;49m{\u001b[39m'\u001b[39;49m\u001b[39mepsilons\u001b[39;49m\u001b[39m'\u001b[39;49m: [\u001b[39m0.1\u001b[39;49m]}\n\u001b[1;32m      <a href='vscode-notebook-cell:/Users/luke/Documents/GitHub/CS-486-Final-Project/adv_attacks.ipynb#X33sZmlsZQ%3D%3D?line=6'>7</a>\u001b[0m     )\n",
      "\u001b[1;32m/Users/luke/Documents/GitHub/CS-486-Final-Project/adv_attacks.ipynb Cell 26\u001b[0m line \u001b[0;36m1\n\u001b[1;32m     <a href='vscode-notebook-cell:/Users/luke/Documents/GitHub/CS-486-Final-Project/adv_attacks.ipynb#X33sZmlsZQ%3D%3D?line=13'>14</a>\u001b[0m \u001b[39mfor\u001b[39;00m idx, (imgs, labels) \u001b[39min\u001b[39;00m tqdm(\u001b[39menumerate\u001b[39m(loader)): \n\u001b[1;32m     <a href='vscode-notebook-cell:/Users/luke/Documents/GitHub/CS-486-Final-Project/adv_attacks.ipynb#X33sZmlsZQ%3D%3D?line=15'>16</a>\u001b[0m     imgs, labels \u001b[39m=\u001b[39m imgs\u001b[39m.\u001b[39mto(DEVICE), labels\u001b[39m.\u001b[39mto(DEVICE)\n\u001b[0;32m---> <a href='vscode-notebook-cell:/Users/luke/Documents/GitHub/CS-486-Final-Project/adv_attacks.ipynb#X33sZmlsZQ%3D%3D?line=17'>18</a>\u001b[0m     _, adv_sample, success \u001b[39m=\u001b[39m attack(fmodel, imgs, labels, \u001b[39m*\u001b[39;49m\u001b[39m*\u001b[39;49mattack_kwargs)\n\u001b[1;32m     <a href='vscode-notebook-cell:/Users/luke/Documents/GitHub/CS-486-Final-Project/adv_attacks.ipynb#X33sZmlsZQ%3D%3D?line=19'>20</a>\u001b[0m     \u001b[39mif\u001b[39;00m \u001b[39mnot\u001b[39;00m success: \n\u001b[1;32m     <a href='vscode-notebook-cell:/Users/luke/Documents/GitHub/CS-486-Final-Project/adv_attacks.ipynb#X33sZmlsZQ%3D%3D?line=20'>21</a>\u001b[0m         \u001b[39mcontinue\u001b[39;00m\n",
      "File \u001b[0;32m~/Documents/GitHub/CS-486-Final-Project/venv/lib/python3.11/site-packages/foolbox/attacks/base.py:416\u001b[0m, in \u001b[0;36mMinimizationAttack.__call__\u001b[0;34m(***failed resolving arguments***)\u001b[0m\n\u001b[1;32m    413\u001b[0m     early_stop \u001b[39m=\u001b[39m \u001b[39mmin\u001b[39m(epsilons)  \u001b[39m# type: ignore\u001b[39;00m\n\u001b[1;32m    415\u001b[0m \u001b[39m# run the actual attack\u001b[39;00m\n\u001b[0;32m--> 416\u001b[0m xp \u001b[39m=\u001b[39m \u001b[39mself\u001b[39;49m\u001b[39m.\u001b[39;49mrun(model, x, criterion, early_stop\u001b[39m=\u001b[39;49mearly_stop, \u001b[39m*\u001b[39;49m\u001b[39m*\u001b[39;49mkwargs)\n\u001b[1;32m    418\u001b[0m xpcs \u001b[39m=\u001b[39m []\n\u001b[1;32m    419\u001b[0m success \u001b[39m=\u001b[39m []\n",
      "File \u001b[0;32m~/Documents/GitHub/CS-486-Final-Project/venv/lib/python3.11/site-packages/foolbox/attacks/boundary_attack.py:188\u001b[0m, in \u001b[0;36mBoundaryAttack.run\u001b[0;34m(***failed resolving arguments***)\u001b[0m\n\u001b[1;32m    185\u001b[0m candidates\u001b[39m.\u001b[39mdtype \u001b[39m==\u001b[39m originals\u001b[39m.\u001b[39mdtype\n\u001b[1;32m    186\u001b[0m spherical_candidates\u001b[39m.\u001b[39mdtype \u001b[39m==\u001b[39m spherical_candidates\u001b[39m.\u001b[39mdtype\n\u001b[0;32m--> 188\u001b[0m is_adv \u001b[39m=\u001b[39m is_adversarial(candidates)\n\u001b[1;32m    190\u001b[0m spherical_is_adv: Optional[ep\u001b[39m.\u001b[39mTensor]\n\u001b[1;32m    191\u001b[0m \u001b[39mif\u001b[39;00m check_spherical_and_update_stats:\n",
      "File \u001b[0;32m~/Documents/GitHub/CS-486-Final-Project/venv/lib/python3.11/site-packages/foolbox/attacks/base.py:463\u001b[0m, in \u001b[0;36mget_is_adversarial.<locals>.is_adversarial\u001b[0;34m(perturbed)\u001b[0m\n\u001b[1;32m    462\u001b[0m \u001b[39mdef\u001b[39;00m \u001b[39mis_adversarial\u001b[39m(perturbed: ep\u001b[39m.\u001b[39mTensor) \u001b[39m-\u001b[39m\u001b[39m>\u001b[39m ep\u001b[39m.\u001b[39mTensor:\n\u001b[0;32m--> 463\u001b[0m     outputs \u001b[39m=\u001b[39m model(perturbed)\n\u001b[1;32m    464\u001b[0m     \u001b[39mreturn\u001b[39;00m criterion(perturbed, outputs)\n",
      "File \u001b[0;32m~/Documents/GitHub/CS-486-Final-Project/venv/lib/python3.11/site-packages/foolbox/models/base.py:102\u001b[0m, in \u001b[0;36mModelWithPreprocessing.__call__\u001b[0;34m(self, inputs)\u001b[0m\n\u001b[1;32m    100\u001b[0m x, restore_type \u001b[39m=\u001b[39m ep\u001b[39m.\u001b[39mastensor_(inputs)\n\u001b[1;32m    101\u001b[0m y \u001b[39m=\u001b[39m \u001b[39mself\u001b[39m\u001b[39m.\u001b[39m_preprocess(x)\n\u001b[0;32m--> 102\u001b[0m z \u001b[39m=\u001b[39m ep\u001b[39m.\u001b[39mastensor(\u001b[39mself\u001b[39;49m\u001b[39m.\u001b[39;49m_model(y\u001b[39m.\u001b[39;49mraw))\n\u001b[1;32m    103\u001b[0m \u001b[39mreturn\u001b[39;00m restore_type(z)\n",
      "File \u001b[0;32m~/Documents/GitHub/CS-486-Final-Project/venv/lib/python3.11/site-packages/foolbox/models/pytorch.py:49\u001b[0m, in \u001b[0;36mPyTorchModel.__init__.<locals>._model\u001b[0;34m(x)\u001b[0m\n\u001b[1;32m     47\u001b[0m \u001b[39mdef\u001b[39;00m \u001b[39m_model\u001b[39m(x: torch\u001b[39m.\u001b[39mTensor) \u001b[39m-\u001b[39m\u001b[39m>\u001b[39m torch\u001b[39m.\u001b[39mTensor:\n\u001b[1;32m     48\u001b[0m     \u001b[39mwith\u001b[39;00m torch\u001b[39m.\u001b[39mset_grad_enabled(x\u001b[39m.\u001b[39mrequires_grad):\n\u001b[0;32m---> 49\u001b[0m         result \u001b[39m=\u001b[39m cast(torch\u001b[39m.\u001b[39mTensor, model(x))\n\u001b[1;32m     50\u001b[0m     \u001b[39mreturn\u001b[39;00m result\n",
      "File \u001b[0;32m~/Documents/GitHub/CS-486-Final-Project/venv/lib/python3.11/site-packages/torch/nn/modules/module.py:1518\u001b[0m, in \u001b[0;36mModule._wrapped_call_impl\u001b[0;34m(self, *args, **kwargs)\u001b[0m\n\u001b[1;32m   1516\u001b[0m     \u001b[39mreturn\u001b[39;00m \u001b[39mself\u001b[39m\u001b[39m.\u001b[39m_compiled_call_impl(\u001b[39m*\u001b[39margs, \u001b[39m*\u001b[39m\u001b[39m*\u001b[39mkwargs)  \u001b[39m# type: ignore[misc]\u001b[39;00m\n\u001b[1;32m   1517\u001b[0m \u001b[39melse\u001b[39;00m:\n\u001b[0;32m-> 1518\u001b[0m     \u001b[39mreturn\u001b[39;00m \u001b[39mself\u001b[39;49m\u001b[39m.\u001b[39;49m_call_impl(\u001b[39m*\u001b[39;49margs, \u001b[39m*\u001b[39;49m\u001b[39m*\u001b[39;49mkwargs)\n",
      "File \u001b[0;32m~/Documents/GitHub/CS-486-Final-Project/venv/lib/python3.11/site-packages/torch/nn/modules/module.py:1527\u001b[0m, in \u001b[0;36mModule._call_impl\u001b[0;34m(self, *args, **kwargs)\u001b[0m\n\u001b[1;32m   1522\u001b[0m \u001b[39m# If we don't have any hooks, we want to skip the rest of the logic in\u001b[39;00m\n\u001b[1;32m   1523\u001b[0m \u001b[39m# this function, and just call forward.\u001b[39;00m\n\u001b[1;32m   1524\u001b[0m \u001b[39mif\u001b[39;00m \u001b[39mnot\u001b[39;00m (\u001b[39mself\u001b[39m\u001b[39m.\u001b[39m_backward_hooks \u001b[39mor\u001b[39;00m \u001b[39mself\u001b[39m\u001b[39m.\u001b[39m_backward_pre_hooks \u001b[39mor\u001b[39;00m \u001b[39mself\u001b[39m\u001b[39m.\u001b[39m_forward_hooks \u001b[39mor\u001b[39;00m \u001b[39mself\u001b[39m\u001b[39m.\u001b[39m_forward_pre_hooks\n\u001b[1;32m   1525\u001b[0m         \u001b[39mor\u001b[39;00m _global_backward_pre_hooks \u001b[39mor\u001b[39;00m _global_backward_hooks\n\u001b[1;32m   1526\u001b[0m         \u001b[39mor\u001b[39;00m _global_forward_hooks \u001b[39mor\u001b[39;00m _global_forward_pre_hooks):\n\u001b[0;32m-> 1527\u001b[0m     \u001b[39mreturn\u001b[39;00m forward_call(\u001b[39m*\u001b[39;49margs, \u001b[39m*\u001b[39;49m\u001b[39m*\u001b[39;49mkwargs)\n\u001b[1;32m   1529\u001b[0m \u001b[39mtry\u001b[39;00m:\n\u001b[1;32m   1530\u001b[0m     result \u001b[39m=\u001b[39m \u001b[39mNone\u001b[39;00m\n",
      "File \u001b[0;32m~/Documents/GitHub/CS-486-Final-Project/pytorch_cifar/models/vgg.py:21\u001b[0m, in \u001b[0;36mVGG.forward\u001b[0;34m(self, x)\u001b[0m\n\u001b[1;32m     20\u001b[0m \u001b[39mdef\u001b[39;00m \u001b[39mforward\u001b[39m(\u001b[39mself\u001b[39m, x):\n\u001b[0;32m---> 21\u001b[0m     out \u001b[39m=\u001b[39m \u001b[39mself\u001b[39;49m\u001b[39m.\u001b[39;49mfeatures(x)\n\u001b[1;32m     22\u001b[0m     out \u001b[39m=\u001b[39m out\u001b[39m.\u001b[39mview(out\u001b[39m.\u001b[39msize(\u001b[39m0\u001b[39m), \u001b[39m-\u001b[39m\u001b[39m1\u001b[39m)\n\u001b[1;32m     23\u001b[0m     out \u001b[39m=\u001b[39m \u001b[39mself\u001b[39m\u001b[39m.\u001b[39mclassifier(out)\n",
      "File \u001b[0;32m~/Documents/GitHub/CS-486-Final-Project/venv/lib/python3.11/site-packages/torch/nn/modules/module.py:1518\u001b[0m, in \u001b[0;36mModule._wrapped_call_impl\u001b[0;34m(self, *args, **kwargs)\u001b[0m\n\u001b[1;32m   1516\u001b[0m     \u001b[39mreturn\u001b[39;00m \u001b[39mself\u001b[39m\u001b[39m.\u001b[39m_compiled_call_impl(\u001b[39m*\u001b[39margs, \u001b[39m*\u001b[39m\u001b[39m*\u001b[39mkwargs)  \u001b[39m# type: ignore[misc]\u001b[39;00m\n\u001b[1;32m   1517\u001b[0m \u001b[39melse\u001b[39;00m:\n\u001b[0;32m-> 1518\u001b[0m     \u001b[39mreturn\u001b[39;00m \u001b[39mself\u001b[39;49m\u001b[39m.\u001b[39;49m_call_impl(\u001b[39m*\u001b[39;49margs, \u001b[39m*\u001b[39;49m\u001b[39m*\u001b[39;49mkwargs)\n",
      "File \u001b[0;32m~/Documents/GitHub/CS-486-Final-Project/venv/lib/python3.11/site-packages/torch/nn/modules/module.py:1527\u001b[0m, in \u001b[0;36mModule._call_impl\u001b[0;34m(self, *args, **kwargs)\u001b[0m\n\u001b[1;32m   1522\u001b[0m \u001b[39m# If we don't have any hooks, we want to skip the rest of the logic in\u001b[39;00m\n\u001b[1;32m   1523\u001b[0m \u001b[39m# this function, and just call forward.\u001b[39;00m\n\u001b[1;32m   1524\u001b[0m \u001b[39mif\u001b[39;00m \u001b[39mnot\u001b[39;00m (\u001b[39mself\u001b[39m\u001b[39m.\u001b[39m_backward_hooks \u001b[39mor\u001b[39;00m \u001b[39mself\u001b[39m\u001b[39m.\u001b[39m_backward_pre_hooks \u001b[39mor\u001b[39;00m \u001b[39mself\u001b[39m\u001b[39m.\u001b[39m_forward_hooks \u001b[39mor\u001b[39;00m \u001b[39mself\u001b[39m\u001b[39m.\u001b[39m_forward_pre_hooks\n\u001b[1;32m   1525\u001b[0m         \u001b[39mor\u001b[39;00m _global_backward_pre_hooks \u001b[39mor\u001b[39;00m _global_backward_hooks\n\u001b[1;32m   1526\u001b[0m         \u001b[39mor\u001b[39;00m _global_forward_hooks \u001b[39mor\u001b[39;00m _global_forward_pre_hooks):\n\u001b[0;32m-> 1527\u001b[0m     \u001b[39mreturn\u001b[39;00m forward_call(\u001b[39m*\u001b[39;49margs, \u001b[39m*\u001b[39;49m\u001b[39m*\u001b[39;49mkwargs)\n\u001b[1;32m   1529\u001b[0m \u001b[39mtry\u001b[39;00m:\n\u001b[1;32m   1530\u001b[0m     result \u001b[39m=\u001b[39m \u001b[39mNone\u001b[39;00m\n",
      "File \u001b[0;32m~/Documents/GitHub/CS-486-Final-Project/venv/lib/python3.11/site-packages/torch/nn/modules/container.py:215\u001b[0m, in \u001b[0;36mSequential.forward\u001b[0;34m(self, input)\u001b[0m\n\u001b[1;32m    213\u001b[0m \u001b[39mdef\u001b[39;00m \u001b[39mforward\u001b[39m(\u001b[39mself\u001b[39m, \u001b[39minput\u001b[39m):\n\u001b[1;32m    214\u001b[0m     \u001b[39mfor\u001b[39;00m module \u001b[39min\u001b[39;00m \u001b[39mself\u001b[39m:\n\u001b[0;32m--> 215\u001b[0m         \u001b[39minput\u001b[39m \u001b[39m=\u001b[39m module(\u001b[39minput\u001b[39;49m)\n\u001b[1;32m    216\u001b[0m     \u001b[39mreturn\u001b[39;00m \u001b[39minput\u001b[39m\n",
      "File \u001b[0;32m~/Documents/GitHub/CS-486-Final-Project/venv/lib/python3.11/site-packages/torch/nn/modules/module.py:1518\u001b[0m, in \u001b[0;36mModule._wrapped_call_impl\u001b[0;34m(self, *args, **kwargs)\u001b[0m\n\u001b[1;32m   1516\u001b[0m     \u001b[39mreturn\u001b[39;00m \u001b[39mself\u001b[39m\u001b[39m.\u001b[39m_compiled_call_impl(\u001b[39m*\u001b[39margs, \u001b[39m*\u001b[39m\u001b[39m*\u001b[39mkwargs)  \u001b[39m# type: ignore[misc]\u001b[39;00m\n\u001b[1;32m   1517\u001b[0m \u001b[39melse\u001b[39;00m:\n\u001b[0;32m-> 1518\u001b[0m     \u001b[39mreturn\u001b[39;00m \u001b[39mself\u001b[39;49m\u001b[39m.\u001b[39;49m_call_impl(\u001b[39m*\u001b[39;49margs, \u001b[39m*\u001b[39;49m\u001b[39m*\u001b[39;49mkwargs)\n",
      "File \u001b[0;32m~/Documents/GitHub/CS-486-Final-Project/venv/lib/python3.11/site-packages/torch/nn/modules/module.py:1527\u001b[0m, in \u001b[0;36mModule._call_impl\u001b[0;34m(self, *args, **kwargs)\u001b[0m\n\u001b[1;32m   1522\u001b[0m \u001b[39m# If we don't have any hooks, we want to skip the rest of the logic in\u001b[39;00m\n\u001b[1;32m   1523\u001b[0m \u001b[39m# this function, and just call forward.\u001b[39;00m\n\u001b[1;32m   1524\u001b[0m \u001b[39mif\u001b[39;00m \u001b[39mnot\u001b[39;00m (\u001b[39mself\u001b[39m\u001b[39m.\u001b[39m_backward_hooks \u001b[39mor\u001b[39;00m \u001b[39mself\u001b[39m\u001b[39m.\u001b[39m_backward_pre_hooks \u001b[39mor\u001b[39;00m \u001b[39mself\u001b[39m\u001b[39m.\u001b[39m_forward_hooks \u001b[39mor\u001b[39;00m \u001b[39mself\u001b[39m\u001b[39m.\u001b[39m_forward_pre_hooks\n\u001b[1;32m   1525\u001b[0m         \u001b[39mor\u001b[39;00m _global_backward_pre_hooks \u001b[39mor\u001b[39;00m _global_backward_hooks\n\u001b[1;32m   1526\u001b[0m         \u001b[39mor\u001b[39;00m _global_forward_hooks \u001b[39mor\u001b[39;00m _global_forward_pre_hooks):\n\u001b[0;32m-> 1527\u001b[0m     \u001b[39mreturn\u001b[39;00m forward_call(\u001b[39m*\u001b[39;49margs, \u001b[39m*\u001b[39;49m\u001b[39m*\u001b[39;49mkwargs)\n\u001b[1;32m   1529\u001b[0m \u001b[39mtry\u001b[39;00m:\n\u001b[1;32m   1530\u001b[0m     result \u001b[39m=\u001b[39m \u001b[39mNone\u001b[39;00m\n",
      "File \u001b[0;32m~/Documents/GitHub/CS-486-Final-Project/venv/lib/python3.11/site-packages/torch/nn/modules/pooling.py:166\u001b[0m, in \u001b[0;36mMaxPool2d.forward\u001b[0;34m(self, input)\u001b[0m\n\u001b[1;32m    165\u001b[0m \u001b[39mdef\u001b[39;00m \u001b[39mforward\u001b[39m(\u001b[39mself\u001b[39m, \u001b[39minput\u001b[39m: Tensor):\n\u001b[0;32m--> 166\u001b[0m     \u001b[39mreturn\u001b[39;00m F\u001b[39m.\u001b[39;49mmax_pool2d(\u001b[39minput\u001b[39;49m, \u001b[39mself\u001b[39;49m\u001b[39m.\u001b[39;49mkernel_size, \u001b[39mself\u001b[39;49m\u001b[39m.\u001b[39;49mstride,\n\u001b[1;32m    167\u001b[0m                         \u001b[39mself\u001b[39;49m\u001b[39m.\u001b[39;49mpadding, \u001b[39mself\u001b[39;49m\u001b[39m.\u001b[39;49mdilation, ceil_mode\u001b[39m=\u001b[39;49m\u001b[39mself\u001b[39;49m\u001b[39m.\u001b[39;49mceil_mode,\n\u001b[1;32m    168\u001b[0m                         return_indices\u001b[39m=\u001b[39;49m\u001b[39mself\u001b[39;49m\u001b[39m.\u001b[39;49mreturn_indices)\n",
      "File \u001b[0;32m~/Documents/GitHub/CS-486-Final-Project/venv/lib/python3.11/site-packages/torch/_jit_internal.py:488\u001b[0m, in \u001b[0;36mboolean_dispatch.<locals>.fn\u001b[0;34m(*args, **kwargs)\u001b[0m\n\u001b[1;32m    486\u001b[0m     \u001b[39mreturn\u001b[39;00m if_true(\u001b[39m*\u001b[39margs, \u001b[39m*\u001b[39m\u001b[39m*\u001b[39mkwargs)\n\u001b[1;32m    487\u001b[0m \u001b[39melse\u001b[39;00m:\n\u001b[0;32m--> 488\u001b[0m     \u001b[39mreturn\u001b[39;00m if_false(\u001b[39m*\u001b[39;49margs, \u001b[39m*\u001b[39;49m\u001b[39m*\u001b[39;49mkwargs)\n",
      "File \u001b[0;32m~/Documents/GitHub/CS-486-Final-Project/venv/lib/python3.11/site-packages/torch/nn/functional.py:791\u001b[0m, in \u001b[0;36m_max_pool2d\u001b[0;34m(input, kernel_size, stride, padding, dilation, ceil_mode, return_indices)\u001b[0m\n\u001b[1;32m    789\u001b[0m \u001b[39mif\u001b[39;00m stride \u001b[39mis\u001b[39;00m \u001b[39mNone\u001b[39;00m:\n\u001b[1;32m    790\u001b[0m     stride \u001b[39m=\u001b[39m torch\u001b[39m.\u001b[39mjit\u001b[39m.\u001b[39mannotate(List[\u001b[39mint\u001b[39m], [])\n\u001b[0;32m--> 791\u001b[0m \u001b[39mreturn\u001b[39;00m torch\u001b[39m.\u001b[39;49mmax_pool2d(\u001b[39minput\u001b[39;49m, kernel_size, stride, padding, dilation, ceil_mode)\n",
      "\u001b[0;31mKeyboardInterrupt\u001b[0m: "
     ]
    }
   ],
   "source": [
    "generate_adv_imgs(\n",
    "    model=vgg16,\n",
    "    attack=foolbox.attacks.BoundaryAttack(), \n",
    "    loader=cifar10_loader,\n",
    "    save_path=os.path.join('boundary_attack'),\n",
    "    attack_kwargs={'epsilons': [0.1]}\n",
    "    )"
   ]
  },
  {
   "cell_type": "markdown",
   "metadata": {},
   "source": [
    "**Visualization:**"
   ]
  },
  {
   "cell_type": "code",
   "execution_count": 10,
   "metadata": {},
   "outputs": [
    {
     "ename": "FileNotFoundError",
     "evalue": "[Errno 2] No such file or directory: 'data/adversarial/boundary_attack/imgs.pickle'",
     "output_type": "error",
     "traceback": [
      "\u001b[0;31m---------------------------------------------------------------------------\u001b[0m",
      "\u001b[0;31mFileNotFoundError\u001b[0m                         Traceback (most recent call last)",
      "\u001b[1;32m/Users/luke/Documents/GitHub/CS-486-Final-Project/adv_attacks.ipynb Cell 32\u001b[0m line \u001b[0;36m9\n\u001b[1;32m      <a href='vscode-notebook-cell:/Users/luke/Documents/GitHub/CS-486-Final-Project/adv_attacks.ipynb#X34sZmlsZQ%3D%3D?line=3'>4</a>\u001b[0m adv_transforms \u001b[39m=\u001b[39m vt\u001b[39m.\u001b[39mCompose([ \n\u001b[1;32m      <a href='vscode-notebook-cell:/Users/luke/Documents/GitHub/CS-486-Final-Project/adv_attacks.ipynb#X34sZmlsZQ%3D%3D?line=4'>5</a>\u001b[0m     vt\u001b[39m.\u001b[39mNormalize(mean, std)\n\u001b[1;32m      <a href='vscode-notebook-cell:/Users/luke/Documents/GitHub/CS-486-Final-Project/adv_attacks.ipynb#X34sZmlsZQ%3D%3D?line=5'>6</a>\u001b[0m ])\n\u001b[1;32m      <a href='vscode-notebook-cell:/Users/luke/Documents/GitHub/CS-486-Final-Project/adv_attacks.ipynb#X34sZmlsZQ%3D%3D?line=7'>8</a>\u001b[0m \u001b[39m# Using MobileNetV2 as the sample\u001b[39;00m\n\u001b[0;32m----> <a href='vscode-notebook-cell:/Users/luke/Documents/GitHub/CS-486-Final-Project/adv_attacks.ipynb#X34sZmlsZQ%3D%3D?line=8'>9</a>\u001b[0m adv_dataset_mobilenet \u001b[39m=\u001b[39m AdversarialDataset(os\u001b[39m.\u001b[39;49mpath\u001b[39m.\u001b[39;49mjoin(DATA_SAVE_ROOT, \u001b[39m'\u001b[39;49m\u001b[39mboundary_attack\u001b[39;49m\u001b[39m'\u001b[39;49m), transform\u001b[39m=\u001b[39;49madv_transforms)\n\u001b[1;32m     <a href='vscode-notebook-cell:/Users/luke/Documents/GitHub/CS-486-Final-Project/adv_attacks.ipynb#X34sZmlsZQ%3D%3D?line=9'>10</a>\u001b[0m adv_loader_mobilenet \u001b[39m=\u001b[39m DataLoader(adv_dataset_mobilenet, batch_size\u001b[39m=\u001b[39mBATCH_SIZE, shuffle\u001b[39m=\u001b[39m\u001b[39mFalse\u001b[39;00m)\n\u001b[1;32m     <a href='vscode-notebook-cell:/Users/luke/Documents/GitHub/CS-486-Final-Project/adv_attacks.ipynb#X34sZmlsZQ%3D%3D?line=11'>12</a>\u001b[0m adv_img, adv_label \u001b[39m=\u001b[39m \u001b[39mnext\u001b[39m(\u001b[39miter\u001b[39m(adv_loader_mobilenet))\n",
      "File \u001b[0;32m~/Documents/GitHub/CS-486-Final-Project/AdversarialDataset.py:22\u001b[0m, in \u001b[0;36mAdversarialDataset.__init__\u001b[0;34m(self, data_root, transform)\u001b[0m\n\u001b[1;32m     18\u001b[0m imgs_path \u001b[39m=\u001b[39m os\u001b[39m.\u001b[39mpath\u001b[39m.\u001b[39mjoin(data_root, \u001b[39m'\u001b[39m\u001b[39mimgs.pickle\u001b[39m\u001b[39m'\u001b[39m)\n\u001b[1;32m     19\u001b[0m labels_path \u001b[39m=\u001b[39m os\u001b[39m.\u001b[39mpath\u001b[39m.\u001b[39mjoin(data_root, \u001b[39m'\u001b[39m\u001b[39mlabels.pickle\u001b[39m\u001b[39m'\u001b[39m)\n\u001b[0;32m---> 22\u001b[0m \u001b[39mwith\u001b[39;00m \u001b[39mopen\u001b[39;49m (imgs_path, \u001b[39m'\u001b[39;49m\u001b[39mrb\u001b[39;49m\u001b[39m'\u001b[39;49m) \u001b[39mas\u001b[39;00m fp:\n\u001b[1;32m     23\u001b[0m     \u001b[39mself\u001b[39m\u001b[39m.\u001b[39mimages \u001b[39m=\u001b[39m pickle\u001b[39m.\u001b[39mload(fp)\n\u001b[1;32m     25\u001b[0m \u001b[39mwith\u001b[39;00m \u001b[39mopen\u001b[39m (labels_path, \u001b[39m'\u001b[39m\u001b[39mrb\u001b[39m\u001b[39m'\u001b[39m) \u001b[39mas\u001b[39;00m fp:\n",
      "\u001b[0;31mFileNotFoundError\u001b[0m: [Errno 2] No such file or directory: 'data/adversarial/boundary_attack/imgs.pickle'"
     ]
    }
   ],
   "source": [
    "# Get CIFAR-10 sample\n",
    "cifar_img, cifar_label = next(iter(cifar10_loader)) \n",
    "\n",
    "adv_transforms = vt.Compose([ \n",
    "    vt.Normalize(mean, std)\n",
    "])\n",
    "\n",
    "# Using MobileNetV2 as the sample\n",
    "adv_dataset_mobilenet = AdversarialDataset(os.path.join(DATA_SAVE_ROOT, 'boundary_attack'), transform=adv_transforms)\n",
    "adv_loader_mobilenet = DataLoader(adv_dataset_mobilenet, batch_size=BATCH_SIZE, shuffle=False)\n",
    "\n",
    "adv_img, adv_label = next(iter(adv_loader_mobilenet))\n",
    "\n",
    "fig, (ax1, ax2) = plt.subplots(1, 2, figsize=(12, 5))\n",
    "ax1.imshow(np.transpose(make_grid(cifar_img), (1, 2, 0)))\n",
    "ax1.set_title(\"CIFAR-10 Samples\")\n",
    "ax2.imshow(np.transpose(make_grid(adv_img.cpu().squeeze(0)), (1, 2, 0)))\n",
    "ax2.set_title('L-infinity Samples')\n",
    "\n",
    "plt.show()\n"
   ]
  },
  {
   "cell_type": "markdown",
   "metadata": {},
   "source": [
    "**Testing Accuracy:**"
   ]
  },
  {
   "cell_type": "code",
   "execution_count": 11,
   "metadata": {},
   "outputs": [
    {
     "ename": "FileNotFoundError",
     "evalue": "[Errno 2] No such file or directory: 'data/adversarial/boundary_attack/imgs.pickle'",
     "output_type": "error",
     "traceback": [
      "\u001b[0;31m---------------------------------------------------------------------------\u001b[0m",
      "\u001b[0;31mFileNotFoundError\u001b[0m                         Traceback (most recent call last)",
      "\u001b[1;32m/Users/luke/Documents/GitHub/CS-486-Final-Project/adv_attacks.ipynb Cell 34\u001b[0m line \u001b[0;36m1\n\u001b[0;32m----> <a href='vscode-notebook-cell:/Users/luke/Documents/GitHub/CS-486-Final-Project/adv_attacks.ipynb#X45sZmlsZQ%3D%3D?line=0'>1</a>\u001b[0m adv_dataset \u001b[39m=\u001b[39m AdversarialDataset(os\u001b[39m.\u001b[39;49mpath\u001b[39m.\u001b[39;49mjoin(DATA_SAVE_ROOT, \u001b[39m'\u001b[39;49m\u001b[39mboundary_attack\u001b[39;49m\u001b[39m'\u001b[39;49m), transform\u001b[39m=\u001b[39;49madv_transforms)\n\u001b[1;32m      <a href='vscode-notebook-cell:/Users/luke/Documents/GitHub/CS-486-Final-Project/adv_attacks.ipynb#X45sZmlsZQ%3D%3D?line=1'>2</a>\u001b[0m adv_loader \u001b[39m=\u001b[39m DataLoader(adv_dataset, batch_size\u001b[39m=\u001b[39mBATCH_SIZE, shuffle\u001b[39m=\u001b[39m\u001b[39mFalse\u001b[39;00m)\n\u001b[1;32m      <a href='vscode-notebook-cell:/Users/luke/Documents/GitHub/CS-486-Final-Project/adv_attacks.ipynb#X45sZmlsZQ%3D%3D?line=3'>4</a>\u001b[0m \u001b[39mprint\u001b[39m(\u001b[39mf\u001b[39m\u001b[39m\"\u001b[39m\u001b[39mVGG16 FGSM Accuracy: \u001b[39m\u001b[39m{\u001b[39;00mtest(vgg16,\u001b[39m \u001b[39madv_loader,\u001b[39m \u001b[39mDEVICE)\u001b[39m}\u001b[39;00m\u001b[39m\"\u001b[39m)\n",
      "File \u001b[0;32m~/Documents/GitHub/CS-486-Final-Project/AdversarialDataset.py:22\u001b[0m, in \u001b[0;36mAdversarialDataset.__init__\u001b[0;34m(self, data_root, transform)\u001b[0m\n\u001b[1;32m     18\u001b[0m imgs_path \u001b[39m=\u001b[39m os\u001b[39m.\u001b[39mpath\u001b[39m.\u001b[39mjoin(data_root, \u001b[39m'\u001b[39m\u001b[39mimgs.pickle\u001b[39m\u001b[39m'\u001b[39m)\n\u001b[1;32m     19\u001b[0m labels_path \u001b[39m=\u001b[39m os\u001b[39m.\u001b[39mpath\u001b[39m.\u001b[39mjoin(data_root, \u001b[39m'\u001b[39m\u001b[39mlabels.pickle\u001b[39m\u001b[39m'\u001b[39m)\n\u001b[0;32m---> 22\u001b[0m \u001b[39mwith\u001b[39;00m \u001b[39mopen\u001b[39;49m (imgs_path, \u001b[39m'\u001b[39;49m\u001b[39mrb\u001b[39;49m\u001b[39m'\u001b[39;49m) \u001b[39mas\u001b[39;00m fp:\n\u001b[1;32m     23\u001b[0m     \u001b[39mself\u001b[39m\u001b[39m.\u001b[39mimages \u001b[39m=\u001b[39m pickle\u001b[39m.\u001b[39mload(fp)\n\u001b[1;32m     25\u001b[0m \u001b[39mwith\u001b[39;00m \u001b[39mopen\u001b[39m (labels_path, \u001b[39m'\u001b[39m\u001b[39mrb\u001b[39m\u001b[39m'\u001b[39m) \u001b[39mas\u001b[39;00m fp:\n",
      "\u001b[0;31mFileNotFoundError\u001b[0m: [Errno 2] No such file or directory: 'data/adversarial/boundary_attack/imgs.pickle'"
     ]
    }
   ],
   "source": [
    "adv_dataset = AdversarialDataset(os.path.join(DATA_SAVE_ROOT, 'boundary_attack'), transform=adv_transforms)\n",
    "adv_loader = DataLoader(adv_dataset, batch_size=BATCH_SIZE, shuffle=False)\n",
    "\n",
    "print(f\"VGG16 FGSM Accuracy: {test(vgg16, adv_loader, DEVICE)}\")\n",
    "print(f\"MobileNetV2 FGSM Accuracy: {test(mobilenet, adv_loader, DEVICE)}\")\n",
    "print(f\"ResNet18 FGSM Accuracy: {test(resnet, adv_loader, DEVICE)}\")"
   ]
  }
 ],
 "metadata": {
  "kernelspec": {
   "display_name": "venv",
   "language": "python",
   "name": "python3"
  },
  "language_info": {
   "codemirror_mode": {
    "name": "ipython",
    "version": 3
   },
   "file_extension": ".py",
   "mimetype": "text/x-python",
   "name": "python",
   "nbconvert_exporter": "python",
   "pygments_lexer": "ipython3",
   "version": "3.10.5"
  }
 },
 "nbformat": 4,
 "nbformat_minor": 2
}
